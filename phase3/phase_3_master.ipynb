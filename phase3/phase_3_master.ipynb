{
 "cells": [
  {
   "cell_type": "markdown",
   "metadata": {},
   "source": [
    "# Phase 4: Optimisation analysis of the logistic infrastructure\n",
    "\n",
    "##### Table of content:\n",
    "1. [Descriptive analysis](#part1)\n",
    "2. [Estimated delivery time](#part2)\n",
    "3. [Late delivery prediction (Classification)](#part3)\n",
    "4. [Conclusion](#part4)"
   ]
  },
  {
   "cell_type": "markdown",
   "metadata": {},
   "source": [
    "## <font color='blue'>Introduction</font>\n",
    "\n",
    "Customers does not only look for online shopping with the best variety of products and best user experience. They are also demanding fast delivery without delays. Throughout the project we have analyzed various hypotheses that might help Olist optimize business critical KPI's that focus on the cutomer, the sellers, and the process of purchasing products, keeping customers, getting the best sellers on the platform, etc. In this last part, we will analyze the potential of maximizing the latent but critical value in the process of delivering the products. Estimation of delivery is both important when the customer is choosing between products and potentially holding delivery date as a decisive factor, and when delivering the physical product to the customer by connecting logistics providers and various sellers. These operational tasks, which is not directly handled by Olist, are critical to Olist's image and how satisfied customers are after shopping on Olist. \n",
    "\n",
    "The goal with the following analysis is threefold. First, we are assessing whether there exist a problem in terms of delivering the products to the customers. The delivery performance is analyzed by looking at historical data and how many delays Olist has had thoughout the dataset. Second, we will optimize Olist's estimate of delivery resulting in better decision-making for the customers and higher convenience throughout the later part of the shopping experience. Lastly, we are going to predict whether an order will be delivered in time or too late by classifying an order upon purchase. "
   ]
  },
  {
   "cell_type": "markdown",
   "metadata": {},
   "source": [
    "## <font color='blue'>KPI's</font>\n",
    "\n",
    "\n",
    "Operational excellence is at the hart of an Ecommerce if customer satisfaction is a top priority. Optimization across both estimated delivery and potential delivery delay is helping Olist on several important KPI's. We can potentially increase Customer Acquisition and Customer Retention rates if Olist are able to proof a trackrecord of fast and exact delivery. Furthermore, if we are able to predict whether a package is late or not and use a set of tools to counteract a potential late delivery, the number of Late Deliveries is a KPI in itself that we would want to optimize. "
   ]
  },
  {
   "cell_type": "markdown",
   "metadata": {},
   "source": [
    "## <font color='blue'>Setup 1</font>: Load Libraries"
   ]
  },
  {
   "cell_type": "code",
   "execution_count": 1,
   "metadata": {},
   "outputs": [
    {
     "name": "stderr",
     "output_type": "stream",
     "text": [
      "Using TensorFlow backend.\n",
      "/anaconda3/lib/python3.7/site-packages/pysal/explore/segregation/network/network.py:16: UserWarning: You need pandana and urbanaccess to work with segregation's network module\n",
      "You can install them with  `pip install urbanaccess pandana` or `conda install -c udst pandana urbanaccess`\n",
      "  \"You need pandana and urbanaccess to work with segregation's network module\\n\"\n",
      "/anaconda3/lib/python3.7/site-packages/pysal/model/spvcm/abstracts.py:10: UserWarning: The `dill` module is required to use the sqlite backend fully.\n",
      "  from .sqlite import head_to_sql, start_sql\n"
     ]
    }
   ],
   "source": [
    "import numpy as np\n",
    "import pandas as pd\n",
    "import sys, os\n",
    "import seaborn as sns\n",
    "import matplotlib.pyplot as plt\n",
    "from scipy import stats\n",
    "from math import sin, cos, sqrt, atan2, radians\n",
    "from sklearn.linear_model import LinearRegression\n",
    "from sklearn.model_selection import KFold\n",
    "from sklearn.dummy import DummyRegressor\n",
    "from sklearn.model_selection import cross_val_predict\n",
    "from sklearn.metrics import mean_squared_error\n",
    "from sklearn.preprocessing import MinMaxScaler\n",
    "from sklearn.linear_model import LinearRegression\n",
    "from sklearn.metrics import mean_absolute_error, mean_squared_error\n",
    "from sklearn.model_selection import train_test_split\n",
    "from sklearn import preprocessing\n",
    "from keras.models import Sequential\n",
    "from keras.layers import Dense, Dropout\n",
    "from keras import backend as K\n",
    "%matplotlib inline\n",
    "import geopandas as gpd\n",
    "import pysal as ps\n",
    "from pysal.viz.splot import mapping as maps\n",
    "import warnings\n",
    "warnings.filterwarnings('ignore')\n",
    "%matplotlib inline\n",
    "sns.set()\n",
    "sns.color_palette(\"Paired\")\n",
    "plt.rcParams['figure.figsize'] = (15.0, 8.0)\n",
    "plt.style.use('ggplot')"
   ]
  },
  {
   "cell_type": "markdown",
   "metadata": {},
   "source": [
    "## <font color='blue'>Setup 2</font>: Load data"
   ]
  },
  {
   "cell_type": "markdown",
   "metadata": {},
   "source": [
    "The workbook will focus on the delivery and Geospatial part of the OLIST dataset. Therefore, the following datasets are loaded and joined:\n",
    "\n",
    "- olist_customers_dataset\n",
    "- olist_order_items_dataset\n",
    "- olist_customers_dataset\n",
    "- olist_sellers_dataset\n",
    "- olist_geolocation_dataset\n",
    "\n",
    "These are joined by the left-join operation and dataformat is set. "
   ]
  },
  {
   "cell_type": "code",
   "execution_count": 2,
   "metadata": {},
   "outputs": [],
   "source": [
    "def load_table(tablename):\n",
    "    \"\"\" Defining the current directory and path to where data are located. Joining path to\n",
    "    data folder and table name in order to read the table into a Pandas DataFrame\"\"\"\n",
    "    file_path = os.path.join ('../data/') \n",
    "    df = os.path.join(file_path, tablename) \n",
    "    df = pd.read_csv(df, sep=',', encoding=\"latin1\") \n",
    "    return df"
   ]
  },
  {
   "cell_type": "code",
   "execution_count": 3,
   "metadata": {},
   "outputs": [],
   "source": [
    "# Reading the olist_orders table\n",
    "orders = load_table('olist_orders_dataset.csv')\n",
    "order_items = load_table('olist_order_items_dataset.csv')\n",
    "customers = load_table('olist_customers_dataset.csv')\n",
    "customers.columns = ['customer_id','customer_unique_id','geolocation_zip_code_prefix',\n",
    "                     'customer_city','customer_state']\n",
    "sellers = load_table('olist_sellers_dataset.csv')\n",
    "sellers.columns = ['seller_id','geolocation_zip_code_prefix',\n",
    "                     'seller_city','seller_state']\n",
    "geo = load_table('olist_geolocation_dataset.csv')"
   ]
  },
  {
   "cell_type": "markdown",
   "metadata": {},
   "source": [
    "We want to investigate orders and their individual properties. An order can both have multiple products and multiple sellers. If an order has multiple sellers we the order as a unique order for each seller. In the following cell we first make sure to group orders by their order id, product id, seller id and respectively properties. Though we make sure only to keep the max of the quantity id. Thus, we can extract the total order value for each product id represented in a given order by multiplying the quantity and price. Now we can get rid of the product and group the data by the order id and seller id, their respective features and sum the price for each seller represented in the order."
   ]
  },
  {
   "cell_type": "code",
   "execution_count": 4,
   "metadata": {},
   "outputs": [],
   "source": [
    "order_items_filt = order_items.groupby(['order_id', 'product_id','seller_id','shipping_limit_date','freight_value','price'])['order_item_id'].agg({\"quantity\":\"max\"}).reset_index()\n",
    "order_items_filt['order_price'] = order_items_filt['price']*order_items_filt['quantity']\n",
    "order_items_filt = order_items_filt.groupby(['order_id','seller_id','shipping_limit_date','freight_value','quantity'])['order_price'].agg('sum').reset_index()"
   ]
  },
  {
   "cell_type": "code",
   "execution_count": 5,
   "metadata": {},
   "outputs": [],
   "source": [
    "# Removing outliers based on coordinates\n",
    "#Brazils most Northern spot is at 5 deg 16′ 27.8″ N latitude.;\n",
    "geo = geo[geo.geolocation_lat <= 5.27438888]\n",
    "#it’s most Western spot is at 73 deg, 58′ 58.19″W Long.\n",
    "geo = geo[geo.geolocation_lng >= -73.98283055]\n",
    "#It’s most southern spot is at 33 deg, 45′ 04.21″ S Latitude.\n",
    "geo = geo[geo.geolocation_lat >= -33.75116944]\n",
    "#It’s most Eastern spot is 34 deg, 47′ 35.33″ W Long.\n",
    "geo = geo[geo.geolocation_lng <=  -34.79314722]\n",
    "#source: https://www.kaggle.com/andresionek/geospatial-analysis-of-brazilian-e-commerce"
   ]
  },
  {
   "cell_type": "markdown",
   "metadata": {},
   "source": [
    "### Merge datasets"
   ]
  },
  {
   "cell_type": "markdown",
   "metadata": {},
   "source": [
    "First, we are taking a look at the geolocations "
   ]
  },
  {
   "cell_type": "code",
   "execution_count": 6,
   "metadata": {},
   "outputs": [
    {
     "data": {
      "text/html": [
       "<div>\n",
       "<style scoped>\n",
       "    .dataframe tbody tr th:only-of-type {\n",
       "        vertical-align: middle;\n",
       "    }\n",
       "\n",
       "    .dataframe tbody tr th {\n",
       "        vertical-align: top;\n",
       "    }\n",
       "\n",
       "    .dataframe thead th {\n",
       "        text-align: right;\n",
       "    }\n",
       "</style>\n",
       "<table border=\"1\" class=\"dataframe\">\n",
       "  <thead>\n",
       "    <tr style=\"text-align: right;\">\n",
       "      <th></th>\n",
       "      <th>geolocation_zip_code_prefix</th>\n",
       "      <th>geolocation_lat</th>\n",
       "      <th>geolocation_lng</th>\n",
       "      <th>geolocation_city</th>\n",
       "      <th>geolocation_state</th>\n",
       "    </tr>\n",
       "  </thead>\n",
       "  <tbody>\n",
       "    <tr>\n",
       "      <th>0</th>\n",
       "      <td>1037</td>\n",
       "      <td>-23.545621</td>\n",
       "      <td>-46.639292</td>\n",
       "      <td>sao paulo</td>\n",
       "      <td>SP</td>\n",
       "    </tr>\n",
       "    <tr>\n",
       "      <th>1</th>\n",
       "      <td>1046</td>\n",
       "      <td>-23.546081</td>\n",
       "      <td>-46.644820</td>\n",
       "      <td>sao paulo</td>\n",
       "      <td>SP</td>\n",
       "    </tr>\n",
       "    <tr>\n",
       "      <th>2</th>\n",
       "      <td>1046</td>\n",
       "      <td>-23.546129</td>\n",
       "      <td>-46.642951</td>\n",
       "      <td>sao paulo</td>\n",
       "      <td>SP</td>\n",
       "    </tr>\n",
       "    <tr>\n",
       "      <th>3</th>\n",
       "      <td>1041</td>\n",
       "      <td>-23.544392</td>\n",
       "      <td>-46.639499</td>\n",
       "      <td>sao paulo</td>\n",
       "      <td>SP</td>\n",
       "    </tr>\n",
       "    <tr>\n",
       "      <th>4</th>\n",
       "      <td>1035</td>\n",
       "      <td>-23.541578</td>\n",
       "      <td>-46.641607</td>\n",
       "      <td>sao paulo</td>\n",
       "      <td>SP</td>\n",
       "    </tr>\n",
       "  </tbody>\n",
       "</table>\n",
       "</div>"
      ],
      "text/plain": [
       "   geolocation_zip_code_prefix  geolocation_lat  geolocation_lng  \\\n",
       "0                         1037       -23.545621       -46.639292   \n",
       "1                         1046       -23.546081       -46.644820   \n",
       "2                         1046       -23.546129       -46.642951   \n",
       "3                         1041       -23.544392       -46.639499   \n",
       "4                         1035       -23.541578       -46.641607   \n",
       "\n",
       "  geolocation_city geolocation_state  \n",
       "0        sao paulo                SP  \n",
       "1        sao paulo                SP  \n",
       "2        sao paulo                SP  \n",
       "3        sao paulo                SP  \n",
       "4        sao paulo                SP  "
      ]
     },
     "execution_count": 6,
     "metadata": {},
     "output_type": "execute_result"
    }
   ],
   "source": [
    "geo.head()"
   ]
  },
  {
   "cell_type": "markdown",
   "metadata": {},
   "source": [
    "Since the zip-codes has several different geolocations very close to each other, we will aggregate those different locations into a mean location. Even though it is not geographically correct to take the mean of the longitude and latitude, especially is the distances are large, we assume that it is coorect in this example. Argualy, it does not make a difference in this example since the distances are very close. "
   ]
  },
  {
   "cell_type": "code",
   "execution_count": 7,
   "metadata": {},
   "outputs": [],
   "source": [
    "geo = geo.groupby('geolocation_zip_code_prefix')['geolocation_lat','geolocation_lng'].agg('mean').reset_index()"
   ]
  },
  {
   "cell_type": "markdown",
   "metadata": {},
   "source": [
    "Now that each zipcode has a unique geolocations, they are joined (left) on the customer and sellers dataset"
   ]
  },
  {
   "cell_type": "code",
   "execution_count": 8,
   "metadata": {},
   "outputs": [],
   "source": [
    "# Merging geo location to sellers and customers dataset\n",
    "customers_geo = customers.merge(geo, on = \"geolocation_zip_code_prefix\", how = \"left\")\n",
    "customers_geo = customers_geo[['customer_id', 'geolocation_lat','geolocation_lng']]\n",
    "customers_geo.columns = ['customer_id', 'customer_lat','customer_lon']\n",
    "\n",
    "sellers_geo = sellers.merge(geo, on = \"geolocation_zip_code_prefix\", how = \"left\")\n",
    "sellers_geo = sellers_geo[['seller_id', 'geolocation_lat','geolocation_lng']]\n",
    "sellers_geo.columns = ['seller_id', 'seller_lat','seller_lon']"
   ]
  },
  {
   "cell_type": "markdown",
   "metadata": {},
   "source": [
    "Each sellers geo location is then joined with the orders dataset."
   ]
  },
  {
   "cell_type": "code",
   "execution_count": 9,
   "metadata": {},
   "outputs": [],
   "source": [
    "# Merging geo location to orders dataset\n",
    "order_items_all = order_items_filt.merge(sellers_geo, on='seller_id', how='left')\n",
    "\n",
    "orders_all = orders.merge(customers_geo, on='customer_id', how='left')\n",
    "orders_all = orders_all.merge(order_items_all, on='order_id',how='left')\n",
    "\n",
    "orders_all = orders_all[['order_id','order_status', 'customer_id', 'seller_id', 'order_purchase_timestamp',\n",
    "                         'order_approved_at','order_delivered_carrier_date','shipping_limit_date',\n",
    "                         'order_delivered_customer_date','order_estimated_delivery_date','order_price',\n",
    "                         'quantity','freight_value','customer_lat','customer_lon','seller_lat', 'seller_lon']]"
   ]
  },
  {
   "cell_type": "markdown",
   "metadata": {},
   "source": [
    "In this analysis only the orders with an order status of \"delivered\" are considered. As seen from the list below several different order statuses exist. "
   ]
  },
  {
   "cell_type": "code",
   "execution_count": 10,
   "metadata": {
    "scrolled": true
   },
   "outputs": [
    {
     "name": "stdout",
     "output_type": "stream",
     "text": [
      "['canceled', 'approved', 'invoiced', 'processing', 'shipped', 'created', 'unavailable', 'delivered']\n"
     ]
    }
   ],
   "source": [
    "print(list(set(orders_all.order_status)))\n",
    "# Filter all orders that has been delivered\n",
    "delivered_orders = orders_all[orders_all['order_status']=='delivered']\n",
    "delivered_orders = delivered_orders.drop('order_status', axis=1)"
   ]
  },
  {
   "cell_type": "markdown",
   "metadata": {},
   "source": [
    "All the timestamp columns are changed to pandas datetime format"
   ]
  },
  {
   "cell_type": "code",
   "execution_count": 11,
   "metadata": {},
   "outputs": [],
   "source": [
    "delivered_orders.order_purchase_timestamp = pd.to_datetime(delivered_orders.order_purchase_timestamp)\n",
    "delivered_orders.order_approved_at = pd.to_datetime(delivered_orders.order_approved_at)\n",
    "delivered_orders.shipping_limit_date = pd.to_datetime(delivered_orders.shipping_limit_date)\n",
    "delivered_orders.order_delivered_carrier_date = pd.to_datetime(delivered_orders.order_delivered_carrier_date)\n",
    "delivered_orders.order_estimated_delivery_date = pd.to_datetime(delivered_orders.order_estimated_delivery_date)\n",
    "delivered_orders.order_delivered_customer_date = pd.to_datetime(delivered_orders.order_delivered_customer_date)"
   ]
  },
  {
   "cell_type": "markdown",
   "metadata": {},
   "source": [
    "First the number of missing values (NaN) are counted for each column and then they are removed"
   ]
  },
  {
   "cell_type": "code",
   "execution_count": 12,
   "metadata": {},
   "outputs": [
    {
     "name": "stdout",
     "output_type": "stream",
     "text": [
      "                               Number  Percentage\n",
      "order_id                            0      0.0000\n",
      "customer_id                         0      0.0000\n",
      "seller_id                           0      0.0000\n",
      "order_purchase_timestamp            0      0.0000\n",
      "order_approved_at                  14      0.0001\n",
      "order_delivered_carrier_date        2      0.0000\n",
      "shipping_limit_date                 0      0.0000\n",
      "order_delivered_customer_date       8      0.0001\n",
      "order_estimated_delivery_date       0      0.0000\n",
      "order_price                         0      0.0000\n",
      "quantity                            0      0.0000\n",
      "freight_value                       0      0.0000\n",
      "customer_lat                      274      0.0027\n",
      "customer_lon                      274      0.0027\n",
      "seller_lat                        222      0.0022\n",
      "seller_lon                        222      0.0022\n"
     ]
    }
   ],
   "source": [
    "def count_missing_values(df):\n",
    "    missing = df.isna()\n",
    "    num_missing = pd.DataFrame(missing.sum(),columns=['Number'])\n",
    "    num_missing['Percentage'] = round(num_missing / len(df),4)\n",
    "    print(num_missing)\n",
    "          \n",
    "count_missing_values(delivered_orders)\n",
    "delivered_orders = delivered_orders.dropna()"
   ]
  },
  {
   "cell_type": "markdown",
   "metadata": {},
   "source": [
    "## <font color='blue'>Part 1</font>: Descriptive analysis\n",
    "<a id=part1></a>\n"
   ]
  },
  {
   "cell_type": "markdown",
   "metadata": {},
   "source": [
    "When a purchase is approved, the seller is given a `shipping_limit_date` telling when they have to pass on the product to a third party logistic company. A customer is given an `order_estimated_delivery_date`.\n",
    "\n",
    "In the following we are trying to assess how many order are delivered later than estimated and why this might happen. We are considering purchase date, shipping limit date, order estimated delivery data and actual delivery date as relevant columns in regards to analyzing delivery times. "
   ]
  },
  {
   "cell_type": "code",
   "execution_count": 13,
   "metadata": {},
   "outputs": [],
   "source": [
    "#Calculating difference between order_estimated_delivery_date and the actual order_delivered_customer_date\n",
    "delivered_orders['delivery_difference'] = delivered_orders.order_estimated_delivery_date - delivered_orders.order_delivered_customer_date\n",
    "delivered_orders['delivery_difference'] = delivered_orders['delivery_difference'].dt.days"
   ]
  },
  {
   "cell_type": "code",
   "execution_count": 14,
   "metadata": {},
   "outputs": [
    {
     "data": {
      "text/plain": [
       "count    99678.000000\n",
       "mean        10.987720\n",
       "std         10.208975\n",
       "min       -189.000000\n",
       "25%          6.000000\n",
       "50%         12.000000\n",
       "75%         16.000000\n",
       "max        146.000000\n",
       "Name: delivery_difference, dtype: float64"
      ]
     },
     "execution_count": 14,
     "metadata": {},
     "output_type": "execute_result"
    }
   ],
   "source": [
    "delivered_orders['delivery_difference'].describe()"
   ]
  },
  {
   "cell_type": "markdown",
   "metadata": {},
   "source": [
    "The customer recieves the product 10,98 days ahead of the estimated delivery day on average."
   ]
  },
  {
   "cell_type": "code",
   "execution_count": 15,
   "metadata": {},
   "outputs": [
    {
     "name": "stdout",
     "output_type": "stream",
     "text": [
      "Number of orders delivered later than the estimated delivery data: 7943\n"
     ]
    }
   ],
   "source": [
    "print(\"Number of orders delivered later than the estimated delivery data:\",len(delivered_orders[delivered_orders['delivery_difference']<0]))"
   ]
  },
  {
   "cell_type": "markdown",
   "metadata": {},
   "source": [
    "Meaning ~8% of the orders was delivered later than the estimated delivery date."
   ]
  },
  {
   "cell_type": "markdown",
   "metadata": {},
   "source": [
    "In the olist_orders_dataset we have 95,978 unique orders and 99,678 total orders, i.e. ~4% procent of the orders includes multiple sellers. Thus, one product from one seller can be delivered on time, while the other are late.\n",
    "\n",
    "We want to see whether we are to blame the sellers or the logistic firm for the orders delivered late. Therefore, we plot all delivered orders with the shipping difference as the x-axis and delivery difference as the y-axis.\n",
    "\n",
    "- If X > 0 the order was delivered on time. \n",
    "- If X < 0 and Y > 0 the logistic firm is the one to blame\n",
    "- If X < 0 and Y >= X then the seller is the one to blame\n",
    "- If X < 0 and Y < 0 the both the seller and the logistic firm is to blame"
   ]
  },
  {
   "cell_type": "markdown",
   "metadata": {},
   "source": [
    "Before plotting the delivery times, we need to calculate the difference between the `shipping_limit_date` and `order_delivered_carrier_date`. "
   ]
  },
  {
   "cell_type": "code",
   "execution_count": 16,
   "metadata": {},
   "outputs": [],
   "source": [
    "#Calculating difference between shipping_limit_date and order_delivered_carrier_date\n",
    "delivered_orders['shipping_difference'] = delivered_orders.shipping_limit_date - delivered_orders.order_delivered_carrier_date\n",
    "delivered_orders['shipping_difference'] = delivered_orders['shipping_difference'].dt.days"
   ]
  },
  {
   "cell_type": "code",
   "execution_count": 17,
   "metadata": {},
   "outputs": [
    {
     "data": {
      "text/plain": [
       "count    99677.000000\n",
       "mean         2.832569\n",
       "std          3.747486\n",
       "min       -117.000000\n",
       "25%          1.000000\n",
       "50%          3.000000\n",
       "75%          5.000000\n",
       "max        175.000000\n",
       "Name: shipping_difference, dtype: float64"
      ]
     },
     "execution_count": 17,
     "metadata": {},
     "output_type": "execute_result"
    }
   ],
   "source": [
    "# Removing outlier\n",
    "delivered_orders = delivered_orders.drop(89664)\n",
    "delivered_orders['shipping_difference'].describe()"
   ]
  },
  {
   "cell_type": "markdown",
   "metadata": {},
   "source": [
    "As seen in the above table, a product is passed on to the logistic firm 2.8 days ahead on average, which indicates that sellers are proably not the error. However, we will se that below. "
   ]
  },
  {
   "cell_type": "code",
   "execution_count": 18,
   "metadata": {},
   "outputs": [],
   "source": [
    "def plot_late_order(df):\n",
    "    X = [x for x in df.delivery_difference]\n",
    "    X = np.array(X)\n",
    "    Y = [y for y in df.shipping_difference]\n",
    "    Y = np.array(Y)\n",
    "\n",
    "    col = np.where((X<0) & (Y<0) & (Y<X),'red',\n",
    "            np.where((X<0) & (Y<0) & (Y>=X),'yellow',\n",
    "                np.where((X<0) & (Y>=0),'orange','grey')))\n",
    "    \n",
    "    fig, ax = plt.subplots()\n",
    "    ax.scatter(X, Y, c=col)\n",
    "    ax.set_xlabel('Delivery difference')\n",
    "    ax.set_ylabel('Shipping difference')\n",
    "    ax.set_title('Orders')\n",
    "    ax.axhline(linewidth=1, color='black')\n",
    "    ax.axvline(linewidth=1, color='black')\n",
    "    plt.show()"
   ]
  },
  {
   "cell_type": "code",
   "execution_count": 19,
   "metadata": {},
   "outputs": [
    {
     "data": {
      "image/png": "[encoded data removed]",
      "text/plain": [
       "<Figure size 432x288 with 1 Axes>"
      ]
     },
     "metadata": {
      "needs_background": "light"
     },
     "output_type": "display_data"
    }
   ],
   "source": [
    "plot_late_order(delivered_orders)"
   ]
  },
  {
   "cell_type": "markdown",
   "metadata": {},
   "source": [
    "1. **Grey points**: order was delivered on time\n",
    "2. **Orange points**: order was late because of the logistic firm\n",
    "3. **Yellow points**: order was late because of the seller\n",
    "4. **Red points**: order was late because of both the seller and the logistic firm"
   ]
  },
  {
   "cell_type": "markdown",
   "metadata": {},
   "source": [
    "Counting the number of points in each category to find the distribution of the different causes of delay. "
   ]
  },
  {
   "cell_type": "code",
   "execution_count": 20,
   "metadata": {},
   "outputs": [],
   "source": [
    "X = [x for x in delivered_orders.delivery_difference]\n",
    "Y = [y for y in delivered_orders.shipping_difference]\n",
    "\n",
    "grey_points = [i for i, x in enumerate(X) if (X[i]>=0)]\n",
    "orange_points = [i for i, x in enumerate(X) if (X[i]<0) and (Y[i]>=0)]\n",
    "yellow_points = [i for i, x in enumerate(X) if (X[i]<0) and (Y[i]<0) and (Y[i]>=X[i])]\n",
    "red_points = [i for i, x in enumerate(X) if (X[i]<0) and (Y[i]<0) and (Y[i]<X[i])]"
   ]
  },
  {
   "cell_type": "code",
   "execution_count": 21,
   "metadata": {
    "scrolled": false
   },
   "outputs": [
    {
     "name": "stdout",
     "output_type": "stream",
     "text": [
      " 92.03 pct. of the orders was delivered on time\n",
      "  5.78 pct. of the orders was delivered late because of the logistic firm\n",
      "  1.34 pct. of the orders was delivered late because of the seller\n",
      "  0.85 pct. of the orders was delivered late because of both the seller and logistic firm\n"
     ]
    }
   ],
   "source": [
    "print(\" %5.2f pct. of the orders was delivered on time\" %((len(grey_points)/len(X))*100))\n",
    "print(\" %5.2f pct. of the orders was delivered late because of the logistic firm\" %((len(orange_points)/len(X))*100))\n",
    "print(\" %5.2f pct. of the orders was delivered late because of the seller\" %((len(yellow_points)/len(X))*100))\n",
    "print(\" %5.2f pct. of the orders was delivered late because of both the seller and logistic firm\" %((len(red_points)/len(X))*100))"
   ]
  },
  {
   "cell_type": "markdown",
   "metadata": {},
   "source": [
    "The data clearly suggests that the main problem with the late orders is the logistic provider not providing the service needed to deliver on time. This might already suggest improvements, such as better logisitcs deals and potentially contractual agreements about a minimum threshold for late deliveries. "
   ]
  },
  {
   "cell_type": "markdown",
   "metadata": {},
   "source": [
    "We would like to assess whether customers in specific regions of Brazil is more likely to recieve their packages late. In order to investigate that, we are using the customers longitude and latitude and information about whether they recieved their package late or not. "
   ]
  },
  {
   "cell_type": "code",
   "execution_count": 22,
   "metadata": {},
   "outputs": [],
   "source": [
    "delivered_orders['late'] = (delivered_orders.order_estimated_delivery_date > delivered_orders.order_delivered_customer_date).astype(int)"
   ]
  },
  {
   "cell_type": "code",
   "execution_count": 23,
   "metadata": {},
   "outputs": [],
   "source": [
    "# Defining a dataframe for the plot and the settings for the plot\n",
    "df_plot = delivered_orders.groupby(['customer_lat','customer_lon']).agg({'late':'mean', 'customer_lat':'count'})['late'].reset_index()\n",
    "bins = [-1, .85, .95, 1]\n",
    "names = [0,1,2]\n",
    "df_plot['cat'] = pd.cut(df_plot['late'], bins, labels=names)"
   ]
  },
  {
   "cell_type": "code",
   "execution_count": 24,
   "metadata": {},
   "outputs": [],
   "source": [
    "# Define color dictionary\n",
    "color_map = {0:\"#ff0000\", 1:\"#fef800\", 2:\"#398800\"}"
   ]
  },
  {
   "cell_type": "code",
   "execution_count": 25,
   "metadata": {},
   "outputs": [],
   "source": [
    "df_plot = df_plot[['customer_lat','customer_lon','cat']]\n",
    "gdf = gpd.GeoDataFrame(\n",
    "    df_plot, geometry=gpd.points_from_xy(df_plot.customer_lon, df_plot.customer_lat))"
   ]
  },
  {
   "cell_type": "code",
   "execution_count": 26,
   "metadata": {},
   "outputs": [
    {
     "data": {
      "text/plain": [
       "<matplotlib.axes._subplots.AxesSubplot at 0x1a3f802c18>"
      ]
     },
     "execution_count": 26,
     "metadata": {},
     "output_type": "execute_result"
    },
    {
     "data": {
      "image/png": "[encoded data removed]",
      "text/plain": [
       "<Figure size 720x720 with 1 Axes>"
      ]
     },
     "metadata": {
      "needs_background": "light"
     },
     "output_type": "display_data"
    }
   ],
   "source": [
    "#Plotting the customers that recieved package in time, just around the eatimated and too late. \n",
    "plt.rcParams['figure.figsize'] = [10, 10]\n",
    "world = gpd.read_file(gpd.datasets.get_path('naturalearth_lowres'))\n",
    "#world = gpd.read_file(gpd.datasets.get_path('naturalearth_cities'))\n",
    "\n",
    "# restrict to South America.\n",
    "#ax1 = world[world.continent == 'South America'].plot(\n",
    "ax1 = world[world.continent == 'South America'].plot(\n",
    "    color='white', edgecolor='black')\n",
    "\n",
    "colors = [color_map[x] for x in df_plot['cat']]\n",
    "gdf.plot(ax=ax1, color=colors, alpha=0.2, markersize=4)"
   ]
  },
  {
   "cell_type": "markdown",
   "metadata": {},
   "source": [
    "Earlier we found that around 8% of all packages are delivered late. The colors are indicating whether the given area is above, around or below this mean of recieving the packages late:\n",
    "- Green: density of packages delivered on time is below the global mean\n",
    "- Yellow: density of packages delivered on time is around the global mean (+/- 5%) \n",
    "- Red: density of packages delivered on time is abbove the global mean\n",
    "\n",
    "It is not immediately possible to detect any pattern in the geograohic data, many of the areas has very few datapoints which makes it difficult to assess patterns. However, In Rio de Janeiro a the red points seems to dominate, this could indicate that Olist have difficulties delivering wihtin the city. If Olist continues to collect data and continouesly update the geographic dashboard, there might be valueable insights in the future. "
   ]
  },
  {
   "cell_type": "markdown",
   "metadata": {},
   "source": [
    "## <font color='blue'>Part 2</font>: Estimated delivery time\n",
    "<a id=part2></a>"
   ]
  },
  {
   "cell_type": "markdown",
   "metadata": {},
   "source": [
    "In order to improve the estimated delivery time, we are investigating whether there exist an actual problem with the current estimate that Olist are providing the customer at the purchase moment. Before looking into the problem, we are creating some features necessary for the analysis. "
   ]
  },
  {
   "cell_type": "markdown",
   "metadata": {},
   "source": [
    "### 2.1 Creating features"
   ]
  },
  {
   "cell_type": "markdown",
   "metadata": {},
   "source": [
    "We can create some features relevant for the problem such as:\n",
    "- actual delivery date\n",
    "- distance from seller to customer\n",
    "\n",
    "Apart from that, we have features from the original datasets provided by Olist."
   ]
  },
  {
   "cell_type": "code",
   "execution_count": 27,
   "metadata": {},
   "outputs": [],
   "source": [
    "#Calculating the actual delivery time\n",
    "delivered_orders['actual'] = delivered_orders.order_delivered_customer_date - delivered_orders.order_purchase_timestamp\n",
    "delivered_orders['actual'] = delivered_orders['actual'].dt.days"
   ]
  },
  {
   "cell_type": "code",
   "execution_count": 28,
   "metadata": {},
   "outputs": [
    {
     "data": {
      "text/plain": [
       "count    99677.000000\n",
       "mean        12.021128\n",
       "std          9.530163\n",
       "min          0.000000\n",
       "25%          6.000000\n",
       "50%         10.000000\n",
       "75%         15.000000\n",
       "max        209.000000\n",
       "Name: actual, dtype: float64"
      ]
     },
     "execution_count": 28,
     "metadata": {},
     "output_type": "execute_result"
    }
   ],
   "source": [
    "#Displaying information about the actual delivery times on the products\n",
    "delivered_orders.actual.describe()"
   ]
  },
  {
   "cell_type": "code",
   "execution_count": 29,
   "metadata": {},
   "outputs": [],
   "source": [
    "#Creating a function for calculating distances from seller to customer. \n",
    "def geoDistance(lat0, lon0, lat1, lon1):\n",
    "    # Approx. radius of earth (km)\n",
    "    R = 6373.0 \n",
    "    # Convert to radians\n",
    "    lat0, lon0 = radians(lat0), radians(lon0)\n",
    "    lat1, lon1 = radians(lat1), radians(lon1)\n",
    "    \n",
    "    # Getting differences\n",
    "    dlon, dlat = lon1 - lon0, lat1 - lat0\n",
    "    \n",
    "    # Use haversine formula\n",
    "    a = sin(dlat / 2)**2 + cos(lat0) * cos(lat1) * sin(dlon / 2)**2\n",
    "    c = 2 * atan2(sqrt(a), sqrt(1 - a))\n",
    "    return R * c"
   ]
  },
  {
   "cell_type": "code",
   "execution_count": 30,
   "metadata": {},
   "outputs": [],
   "source": [
    "#Calling the function to create a distance measure for all orders\n",
    "delivered_orders['Distance'] = delivered_orders.apply(lambda row:\\\n",
    "    geoDistance(row['customer_lat'], row['customer_lon'], row['seller_lat'], row['seller_lon']), axis=1)"
   ]
  },
  {
   "cell_type": "code",
   "execution_count": 31,
   "metadata": {},
   "outputs": [],
   "source": [
    "#Calculating the estimated delivery in days\n",
    "delivered_orders[\"estimated_delivery\"] = (delivered_orders.order_estimated_delivery_date-delivered_orders.\\\n",
    "                                          order_purchase_timestamp).dt.total_seconds() / (24 * 60 * 60)"
   ]
  },
  {
   "cell_type": "code",
   "execution_count": 32,
   "metadata": {},
   "outputs": [],
   "source": [
    "#Defining the relevant features for the problem\n",
    "features = ['order_price','quantity','freight_value','customer_lat',\n",
    "           'customer_lon','seller_lat','seller_lon','Distance','estimated_delivery']\n",
    "target = ['actual']\n",
    "\n",
    "X = np.array(delivered_orders[features])\n",
    "y = np.array(delivered_orders['actual'])\n",
    "split_test_size = 0.30\n",
    "\n",
    "X_train, X_test, y_train, y_test = train_test_split(X, y, test_size = split_test_size, random_state=42)"
   ]
  },
  {
   "cell_type": "markdown",
   "metadata": {},
   "source": [
    "The distribution of the `actual delivery` feature created can be plotted with the distribution of the `estimated delivery` feature to get an idea about Olist's estimated deliveries versus their actual deliveries. "
   ]
  },
  {
   "cell_type": "code",
   "execution_count": 33,
   "metadata": {},
   "outputs": [],
   "source": [
    "#Creating variables for both actual and estimated deliveries\n",
    "actual_delivery = delivered_orders.actual\n",
    "estimated_delivery = delivered_orders.estimated_delivery"
   ]
  },
  {
   "cell_type": "code",
   "execution_count": 34,
   "metadata": {},
   "outputs": [
    {
     "data": {
      "image/png": "[encoded data removed]",
      "text/plain": [
       "<Figure size 720x720 with 1 Axes>"
      ]
     },
     "metadata": {
      "needs_background": "light"
     },
     "output_type": "display_data"
    }
   ],
   "source": [
    "#Plotting actual delivery times and estimated delivery times\n",
    "plt.hist(actual_delivery, bins= 100, alpha=0.5, label='Actual delivery')\n",
    "plt.hist(estimated_delivery, bins= 100, alpha=0.5, label='Estimated delivery')\n",
    "plt.legend(loc='upper right')\n",
    "plt.show()"
   ]
  },
  {
   "cell_type": "markdown",
   "metadata": {},
   "source": [
    "As can be seen from the plot above, Olist are systematically overestimating the delivery dates, which might give customers a motivation for shopping through another eCommerce, if they are estimating a faster delivery. \n",
    "Therefore, we want to enable a correct and much better estimated delivery time, so that the customer gets more correct information about the faster delivery of their products. "
   ]
  },
  {
   "cell_type": "markdown",
   "metadata": {},
   "source": [
    "### 2.2 Establish baseline"
   ]
  },
  {
   "cell_type": "markdown",
   "metadata": {},
   "source": [
    "The metrics that we are going to use for this task is both the mean absolute error (MAE) and the mean squared error (MSE). The reason for using these measures is that MAE gives an abosulte value which is easy to relate to. In our case, an error of 2 days is twice as large as an error of 1 day which makes it easy to relate to. On the other hand, MSE is good while it penalizes large deviations. This is relevant in our case, as we do not want to underestimate the delivery time while inconvenient for the customer. "
   ]
  },
  {
   "cell_type": "code",
   "execution_count": 35,
   "metadata": {},
   "outputs": [],
   "source": [
    "def metrics(y, yhat):\n",
    "    \"\"\" Defining the metrics to evaluate model performance. Using mean absolute error\n",
    "    and mean squared error from the sklearn library. \"\"\"\n",
    "    \n",
    "    mae = mean_absolute_error(y, yhat)\n",
    "    mse = mean_squared_error(y, yhat)\n",
    "    \n",
    "    print('Error in estimate for actual delivery date:')\n",
    "    print('Mean absolute error:', round(mae, 2), 'days.')\n",
    "    print('Mean squared error:', round(mse, 2), 'days.')"
   ]
  },
  {
   "cell_type": "markdown",
   "metadata": {},
   "source": [
    "##### Baseline: how much is Olist wrong at the current state\n",
    "\n",
    "In this cell, we are looking at the estimated time of delivery that Olist gives the customer upon purchase. We are then measuring what the error is on this estimate given to the customer by looking at the actual delivery date. "
   ]
  },
  {
   "cell_type": "code",
   "execution_count": 36,
   "metadata": {
    "scrolled": true
   },
   "outputs": [
    {
     "name": "stdout",
     "output_type": "stream",
     "text": [
      "Error in estimate for actual delivery date:\n",
      "Mean absolute error: 13.25 days.\n",
      "Mean squared error: 245.81 days.\n"
     ]
    }
   ],
   "source": [
    "#Defining an array consisting of the estimated delivery times and the actual delivery times\n",
    "Y_estimate = X_test[:,-1]\n",
    "#Calculating error\n",
    "metrics(y_test, Y_estimate)"
   ]
  },
  {
   "cell_type": "markdown",
   "metadata": {},
   "source": [
    "From assessing the error in delivery estimates on the test set we get a Mean Squared Error (MSE) is 245.8 days and the MAE is 13.25 days, which will be the baseline going forward. The hypothesis is, that are able to make more accurate models to predict delivery estimates, which can be used to increase business value. "
   ]
  },
  {
   "cell_type": "markdown",
   "metadata": {},
   "source": [
    "The last feature in the test and trining set was only included for the purpose of the above calculation and will this be removed."
   ]
  },
  {
   "cell_type": "code",
   "execution_count": 37,
   "metadata": {},
   "outputs": [],
   "source": [
    "#Removing the last column in x_train and x_test\n",
    "X_test = X_test[:,:-1]\n",
    "X_train = X_train[:,:-1]"
   ]
  },
  {
   "cell_type": "markdown",
   "metadata": {},
   "source": [
    "##### Mean prediction\n",
    "\n",
    "Predicting the average delivery time for all the orders. In this cell, we will look at how well a baseline model does, if we predict all the coming delivery times, to be the same as the average of all delivery times from our training set. This can act as a baseline, to see if the measure is actually a better prediction that the estimate Olist are currently able to provide."
   ]
  },
  {
   "cell_type": "code",
   "execution_count": 38,
   "metadata": {},
   "outputs": [
    {
     "name": "stdout",
     "output_type": "stream",
     "text": [
      "Error in estimate for actual delivery date:\n",
      "Mean absolute error: 6.39 days.\n",
      "Mean squared error: 93.39 days.\n"
     ]
    }
   ],
   "source": [
    "#Creating a baseline predicting the average delivery time\n",
    "Y_pred_baseline = y_train\n",
    "Y_pred_baseline = np.mean(Y_pred_baseline)\n",
    "Y_pred_baseline = [Y_pred_baseline] * len(y_test)\n",
    "#Calculating error\n",
    "metrics(y_test, Y_pred_baseline)"
   ]
  },
  {
   "cell_type": "markdown",
   "metadata": {},
   "source": [
    "The mean prediction model shows, that there is a potential to be significantly more correct in estimating the delivery times by estimating the delivery time as the average actual delivery time in the training set. This poses the question, if we can further improve the estimate from using more advanced models, which rely on some of the features that we have available when a customer places an order. "
   ]
  },
  {
   "cell_type": "markdown",
   "metadata": {},
   "source": [
    "##### Linear regression model"
   ]
  },
  {
   "cell_type": "markdown",
   "metadata": {},
   "source": [
    "At first, we will use a linear regression model to see if we can beat the baseline model. Furthermore, the linear regression model might indicate which features that has an impact on the estimated delivery time. "
   ]
  },
  {
   "cell_type": "code",
   "execution_count": 39,
   "metadata": {},
   "outputs": [],
   "source": [
    "#Normalizing features\n",
    "X_train = preprocessing.normalize(X_train)\n",
    "X_test = preprocessing.normalize(X_test)"
   ]
  },
  {
   "cell_type": "code",
   "execution_count": 40,
   "metadata": {},
   "outputs": [],
   "source": [
    "#Defining and fitting a linear regression model\n",
    "lr = LinearRegression()\n",
    "lr.fit(X_train, y_train);"
   ]
  },
  {
   "cell_type": "code",
   "execution_count": 41,
   "metadata": {
    "scrolled": true
   },
   "outputs": [
    {
     "name": "stdout",
     "output_type": "stream",
     "text": [
      "Error in estimate for actual delivery date:\n",
      "Mean absolute error: 5.66 days.\n",
      "Mean squared error: 80.18 days.\n"
     ]
    }
   ],
   "source": [
    "#Predicting the estimated delivery times and calculating the error\n",
    "predictions = lr.predict(X_test)\n",
    "\n",
    "metrics(y_test, predictions)"
   ]
  },
  {
   "cell_type": "code",
   "execution_count": 42,
   "metadata": {},
   "outputs": [
    {
     "name": "stdout",
     "output_type": "stream",
     "text": [
      "Feature: ' order_price ' has the following impact on the estimated delivery:  -7.911069869829461\n",
      "Feature: ' quantity ' has the following impact on the estimated delivery:  -28.291778977958355\n",
      "Feature: ' freight_value ' has the following impact on the estimated delivery:  18.649379773569493\n",
      "Feature: ' customer_lat ' has the following impact on the estimated delivery:  62.12760507542602\n",
      "Feature: ' customer_lon ' has the following impact on the estimated delivery:  63.23905866263827\n",
      "Feature: ' seller_lat ' has the following impact on the estimated delivery:  -62.601335132490355\n",
      "Feature: ' seller_lon ' has the following impact on the estimated delivery:  -35.39820853269129\n",
      "Feature: ' Distance ' has the following impact on the estimated delivery:  -4.754385526559439\n"
     ]
    }
   ],
   "source": [
    "for i in range(len(lr.coef_)):\n",
    "    print(\"Feature:\",\"'\",features[i],\"'\", \"has the following impact on the estimated delivery: \", lr.coef_[i])"
   ]
  },
  {
   "cell_type": "markdown",
   "metadata": {},
   "source": [
    "We see that this model performs slightly better than the mean prediction and significantly better than the baseline model. Furthermore, we get an idea about which features play an important role for the eatimate of the delivery. Given that we are using MAE as one of the metrics, we are able conclude an improvement of almost a day more in precision of our estimate. \n",
    "\n",
    "Here price and distance is the least important features, while seller latitude and customer latitude is the most important featuers. This is one of the main advantages of a linear regression model, namely, that we are able to know why some orders are predicted to have high and low estimated delivery times given the model coefficients. "
   ]
  },
  {
   "cell_type": "markdown",
   "metadata": {},
   "source": [
    "##### Feed Forward Neural Network"
   ]
  },
  {
   "cell_type": "markdown",
   "metadata": {},
   "source": [
    "Linar regression turned out to be quite successfull when estimating delivery times compared to the baseline. This is a verification of the hypothesis proposed about whether it is possible to catch a signal in the current data, and also demonstrates that we can provide business value using prediction models in this problem. To further assess if we can obtain even lower error rates we are using a Feed Forward Neural Network (FFNN) to try and make even better predictions about estimated delivery times. "
   ]
  },
  {
   "cell_type": "markdown",
   "metadata": {},
   "source": [
    "The FFNN used for this task has the following architechture:\n",
    "- Input size 8\n",
    "- Two hidden layers:\n",
    "    - first layer has 20 neurons\n",
    "    - second layer has 50 neurons\n",
    "- Applying ReLu activation function in both layers\n",
    "- Using a dropout rate of 0.5 between each layer\n",
    "- Output size 1 (the prediction)\n",
    "\n",
    "We are furthermore using a batch size of 64 and training the network for 15 epochs. These settings has been tested over several runs, and hence the hyperparameters are chosen from the performance yield. "
   ]
  },
  {
   "cell_type": "code",
   "execution_count": 43,
   "metadata": {
    "scrolled": true
   },
   "outputs": [
    {
     "name": "stdout",
     "output_type": "stream",
     "text": [
      "WARNING:tensorflow:From /anaconda3/lib/python3.7/site-packages/tensorflow/python/ops/resource_variable_ops.py:435: colocate_with (from tensorflow.python.framework.ops) is deprecated and will be removed in a future version.\n",
      "Instructions for updating:\n",
      "Colocations handled automatically by placer.\n",
      "WARNING:tensorflow:From /anaconda3/lib/python3.7/site-packages/tensorflow/python/ops/math_ops.py:3066: to_int32 (from tensorflow.python.ops.math_ops) is deprecated and will be removed in a future version.\n",
      "Instructions for updating:\n",
      "Use tf.cast instead.\n",
      "Train on 69773 samples, validate on 29904 samples\n",
      "Epoch 1/10\n",
      "69773/69773 [==============================] - 7s 103us/step - loss: 6.3239 - val_loss: 5.3530\n",
      "Epoch 2/10\n",
      "69773/69773 [==============================] - 6s 82us/step - loss: 5.5478 - val_loss: 5.2949\n",
      "Epoch 3/10\n",
      "69773/69773 [==============================] - 6s 83us/step - loss: 5.4592 - val_loss: 5.2586\n",
      "Epoch 4/10\n",
      "69773/69773 [==============================] - 5s 78us/step - loss: 5.4198 - val_loss: 5.2500\n",
      "Epoch 5/10\n",
      "69773/69773 [==============================] - 5s 77us/step - loss: 5.3917 - val_loss: 5.2482\n",
      "Epoch 6/10\n",
      "69773/69773 [==============================] - 6s 81us/step - loss: 5.3721 - val_loss: 5.2376\n",
      "Epoch 7/10\n",
      "69773/69773 [==============================] - 5s 77us/step - loss: 5.3489 - val_loss: 5.2287\n",
      "Epoch 8/10\n",
      "69773/69773 [==============================] - 5s 77us/step - loss: 5.3289 - val_loss: 5.2280\n",
      "Epoch 9/10\n",
      "69773/69773 [==============================] - 5s 77us/step - loss: 5.3191 - val_loss: 5.2242\n",
      "Epoch 10/10\n",
      "69773/69773 [==============================] - 5s 77us/step - loss: 5.3095 - val_loss: 5.2266\n"
     ]
    }
   ],
   "source": [
    "#Defining input size\n",
    "input_ = X_train.shape[1]\n",
    "\n",
    "#Defining model\n",
    "model = Sequential()\n",
    "model.add(Dense(20, input_dim=input_, activation='relu'))\n",
    "model.add(Dropout(rate=0.25))\n",
    "model.add(Dense(50, input_dim=20, activation='relu'))\n",
    "model.add(Dropout(rate=0.5))\n",
    "model.add(Dense(1, activation='linear'))\n",
    "#Specifying what type of loss function and optimizer to use:\n",
    "model.compile(loss=[\"mean_absolute_error\"], optimizer='adam')\n",
    "\n",
    "#model.fit(X_train, y_train, epochs=10, batch_size=16)\n",
    "history = model.fit(X_train, y_train, epochs=10, batch_size=64, validation_data=(X_test,y_test))"
   ]
  },
  {
   "cell_type": "code",
   "execution_count": 44,
   "metadata": {},
   "outputs": [
    {
     "data": {
      "image/png": "[encoded data removed]",
      "text/plain": [
       "<Figure size 720x720 with 1 Axes>"
      ]
     },
     "metadata": {
      "needs_background": "light"
     },
     "output_type": "display_data"
    }
   ],
   "source": [
    "#Plotting the train and validation error:\n",
    "plt.plot(history.history['loss'])\n",
    "plt.plot(history.history['val_loss'])\n",
    "plt.title('Model loss')\n",
    "plt.ylabel('Loss')\n",
    "plt.xlabel('Epochs')\n",
    "plt.legend(['Train error', 'Validation error'], loc='upper right')\n",
    "plt.show()"
   ]
  },
  {
   "cell_type": "code",
   "execution_count": 45,
   "metadata": {},
   "outputs": [
    {
     "name": "stdout",
     "output_type": "stream",
     "text": [
      "MAE of the FFNN model after the 10th epoch is: 5.226578566274138\n"
     ]
    }
   ],
   "source": [
    "print(\"MAE of the FFNN model after the 10th epoch is:\", history.history[\"val_loss\"][-1])"
   ]
  },
  {
   "cell_type": "code",
   "execution_count": 46,
   "metadata": {},
   "outputs": [],
   "source": [
    "#Predicting the loss\n",
    "y_pred = model.predict(X_test)"
   ]
  },
  {
   "cell_type": "code",
   "execution_count": 47,
   "metadata": {
    "scrolled": true
   },
   "outputs": [
    {
     "name": "stdout",
     "output_type": "stream",
     "text": [
      "Error in estimate for actual delivery date:\n",
      "Mean absolute error: 5.23 days.\n",
      "Mean squared error: 82.4 days.\n"
     ]
    }
   ],
   "source": [
    "#Assessing the error\n",
    "metrics(y_test, y_pred)"
   ]
  },
  {
   "cell_type": "markdown",
   "metadata": {},
   "source": [
    "As seen in the training history of the FFNN the model learns through the first ~10 epochs and ends up with a MAE validation error (which is performed on the test set) of 5.23. The learning process is also plotted above, and as we see there is no overfitting, since the validation error does not spike at any point. Dropout has the function of trying to prevent overfitting, which suggests a succesfull job in this regard. Note, however, that it might seem strange that the validation error is systematically below the training error, which seems counter intuitive. Online documentation suggest, that this is due to the dropout only being applied during training and not during prediction, which might enable the model to perform slightly better on test than train. \n",
    "\n",
    "Overall, the best model is the FFNN, which yields a slightly better estimate than the linear regression. There are pros and cons for using both models, especially in terms of explainability. The most important take is that we are able to confirm the hypothesis of being able to optimize delivery estimates. "
   ]
  },
  {
   "cell_type": "markdown",
   "metadata": {},
   "source": [
    "## <font color='blue'>Part 3</font>: Late delivery prediction (Classification)\n",
    "<a id=part3></a>"
   ]
  },
  {
   "cell_type": "markdown",
   "metadata": {},
   "source": [
    "This last analysis will seek to predict whether a delivery will be late or not. An online retailer platform like Olist can benefit from this analysis in several different ways: First, simply knowing which factors affect the delivery of orders is useful. Secondly, having this model deployed and in production, Olist would be able to warn sellers and customers when a order was predicted to be delivered late. "
   ]
  },
  {
   "cell_type": "markdown",
   "metadata": {},
   "source": [
    "This model will use logistic regression to perfrom the binary classification, where the the target variable $y$ is defined as: 1 if the order was delivered on time and 0 if it was late. First, the target variable `late` is created  by comparing the variables `order_estimated_delivery_date` and `order_delivered_customer_date`:"
   ]
  },
  {
   "cell_type": "code",
   "execution_count": 48,
   "metadata": {},
   "outputs": [],
   "source": [
    "df = delivered_orders\n",
    "df['late'] = (delivered_orders.order_estimated_delivery_date > delivered_orders.order_delivered_customer_date).astype(int)"
   ]
  },
  {
   "cell_type": "markdown",
   "metadata": {},
   "source": [
    "Secondly, the variable/features are selected, standardized and split into train and test "
   ]
  },
  {
   "cell_type": "code",
   "execution_count": 49,
   "metadata": {},
   "outputs": [],
   "source": [
    "from sklearn import preprocessing\n",
    "from sklearn.model_selection import train_test_split\n",
    "import numpy as np\n",
    "\n",
    "X = df[['quantity','order_price','freight_value','Distance','customer_lat','customer_lon','seller_lat', 'seller_lon']]\n",
    "y = df['late'].values\n",
    "\n",
    "X = preprocessing.MinMaxScaler().fit_transform(X)\n",
    "\n",
    "X_train, X_test, y_train, y_test = train_test_split(X, y, test_size=0.33, random_state=42)"
   ]
  },
  {
   "cell_type": "code",
   "execution_count": 50,
   "metadata": {},
   "outputs": [
    {
     "data": {
      "text/plain": [
       "1    91734\n",
       "0     7943\n",
       "Name: late, dtype: int64"
      ]
     },
     "execution_count": 50,
     "metadata": {},
     "output_type": "execute_result"
    }
   ],
   "source": [
    "df['late'].value_counts()"
   ]
  },
  {
   "cell_type": "markdown",
   "metadata": {},
   "source": [
    "The data is clearly imbalanced, and because of this the F1-measure will be used to score the model.\n",
    "First a dummy classifier is fitted to the data:"
   ]
  },
  {
   "cell_type": "code",
   "execution_count": 51,
   "metadata": {},
   "outputs": [
    {
     "name": "stdout",
     "output_type": "stream",
     "text": [
      "              precision    recall  f1-score   support\n",
      "\n",
      "           0       0.00      0.00      0.00      2619\n",
      "           1       0.92      1.00      0.96     30275\n",
      "\n",
      "    accuracy                           0.92     32894\n",
      "   macro avg       0.46      0.50      0.48     32894\n",
      "weighted avg       0.85      0.92      0.88     32894\n",
      "\n"
     ]
    }
   ],
   "source": [
    "from sklearn.metrics import classification_report\n",
    "from sklearn.dummy import DummyClassifier\n",
    "\n",
    "dummy_clf = DummyClassifier(strategy=\"most_frequent\")\n",
    "dummy_clf.fit(X_train, y_train)\n",
    "y_pred = dummy_clf.predict(X_test)\n",
    "print(classification_report(y_test, y_pred))"
   ]
  },
  {
   "cell_type": "markdown",
   "metadata": {},
   "source": [
    "It is clear that a high accuracy and high weighted avg F1 are achieved with even only a dummy classifier. However this dummy classifier only predicts the most frequent class 1 (delivered on-time). In this case we mostly interested in accuracy in class 0 i.e. predicting when a order is late. This means that we want to be aware of the False Negatives errors.  \n",
    "\n",
    "the problem of imbalance is dealt with by setting the argument `class_weight` to 'balanced'. This penalizes minority class mistakes by an amount proportional to how much under-represented it is.\n",
    "\n",
    "Gridsearch and Cross-validation is used to tune hyperparameters of the logistic regression model:"
   ]
  },
  {
   "cell_type": "code",
   "execution_count": 52,
   "metadata": {},
   "outputs": [
    {
     "name": "stdout",
     "output_type": "stream",
     "text": [
      "tuned hpyerparameters :(best parameters)  {'C': 0.001, 'penalty': 'l2'}\n",
      "accuracy : 0.701376098707755\n"
     ]
    }
   ],
   "source": [
    "from sklearn.linear_model import LogisticRegression\n",
    "from sklearn.model_selection import GridSearchCV\n",
    "\n",
    "grid={\"C\":np.logspace(-3,3,7), \"penalty\":[\"none\",\"l2\"]} # l1 lasso l2 ridge\n",
    "\n",
    "clf = LogisticRegression(random_state=0, solver='lbfgs',\n",
    "                          multi_class='multinomial', class_weight='balanced')\n",
    "\n",
    "logreg_cv=GridSearchCV(clf, grid, cv=10)\n",
    "logreg_cv.fit(X_train, y_train)\n",
    "\n",
    "print(\"tuned hpyerparameters :(best parameters) \",logreg_cv.best_params_)\n",
    "print(\"accuracy :\",logreg_cv.best_score_)"
   ]
  },
  {
   "cell_type": "markdown",
   "metadata": {},
   "source": [
    "The result of the gridsearch shows that a Regularization strength (C) of 0.001 and a l2-norm for penalization."
   ]
  },
  {
   "cell_type": "code",
   "execution_count": 53,
   "metadata": {},
   "outputs": [
    {
     "name": "stdout",
     "output_type": "stream",
     "text": [
      "              precision    recall  f1-score   support\n",
      "\n",
      "           0       0.11      0.40      0.17      2619\n",
      "           1       0.93      0.73      0.82     30275\n",
      "\n",
      "    accuracy                           0.70     32894\n",
      "   macro avg       0.52      0.56      0.50     32894\n",
      "weighted avg       0.87      0.70      0.77     32894\n",
      "\n"
     ]
    }
   ],
   "source": [
    "logreg2=LogisticRegression(C=0.001,penalty=\"l2\", solver='lbfgs',\n",
    "                          multi_class='multinomial', class_weight='balanced')\n",
    "logreg2.fit(X_train, y_train)\n",
    "\n",
    "y_pred = logreg2.predict(X_test)\n",
    "print(classification_report(y_test, y_pred))"
   ]
  },
  {
   "cell_type": "markdown",
   "metadata": {},
   "source": [
    "In terms of weighted avg F1 (0.77%) the model is worse than the dummy classifier. However the F1-score of class 0 is 17% (better than dummy). With this model, Olist would be able to predict only a small amount of the late deliveries. Given the very unbalanced data this was expected."
   ]
  },
  {
   "cell_type": "code",
   "execution_count": 54,
   "metadata": {},
   "outputs": [],
   "source": [
    "name = ['quantity','order_price','freight_value','Distance','customer_lat','customer_lon','seller_lat', 'seller_lon']\n",
    "coef = logreg2.coef_[0]"
   ]
  },
  {
   "cell_type": "markdown",
   "metadata": {},
   "source": [
    "We sort the coefficients produced by the model:"
   ]
  },
  {
   "cell_type": "code",
   "execution_count": 55,
   "metadata": {},
   "outputs": [
    {
     "data": {
      "text/plain": [
       "[(-0.27765383755774964, 'customer_lon'),\n",
       " (-0.2649618260325054, 'Distance'),\n",
       " (-0.1131999380801491, 'customer_lat'),\n",
       " (-0.09686063119387225, 'seller_lat'),\n",
       " (-0.05892331106645346, 'freight_value'),\n",
       " (0.02438032015589164, 'quantity'),\n",
       " (-0.009832480230176056, 'order_price'),\n",
       " (-0.003876767952622549, 'seller_lon')]"
      ]
     },
     "execution_count": 55,
     "metadata": {},
     "output_type": "execute_result"
    }
   ],
   "source": [
    "sorted((zip(coef,name)), key=lambda x: np.abs(x[0]), reverse = True)"
   ]
  },
  {
   "cell_type": "markdown",
   "metadata": {},
   "source": [
    "From the coefficients we see that Customer longitude ('customer_lon') and distance between seller and customer ('Distance') has the biggest impact. Since a prediction of 0 means \"late\" and a prediction of 1 menas \"on time\", both of the coefficients affects the prediction to go towards a \"late\" prediction. This makes sense intuitively while the longitude and distance are both coefficients indicating transportation over large distances. \n",
    "The only coefficient having a positive impact on a \"on time\" prediction is the quantity which might indicate that larger orders are prioritized, although it should be stated that it is of little importance to the model."
   ]
  },
  {
   "cell_type": "markdown",
   "metadata": {},
   "source": [
    "If the model has positive impact on business critical KPI's, Olist could consider start gathering the following features that could prove useful for the model: \n",
    "- Weather forcast data\n",
    "- Historical weather data\n",
    "- Real distance between seller and customer (on roads)\n",
    "- Seller track record (in terms of number of previously late deliveries. \n",
    "- Seller reviews (average)\n",
    "- Previously late delivery"
   ]
  },
  {
   "cell_type": "markdown",
   "metadata": {},
   "source": [
    "## <font color='blue'>Conclusion</font>\n",
    "<a id=part4></a>"
   ]
  },
  {
   "cell_type": "markdown",
   "metadata": {},
   "source": [
    "The short descriptive analysis and the two predictive analyses tells us the following:\n",
    "\n",
    "- 7.97% out of the total number of orders are delivered late. Two-thirds of those orders delivered late is caused by the logistic firm. Therefore, Olist need to optimise this part of the order-to-delivery process by figuring out what to do with the logistic firms.\n",
    "- The Mean Absolute Error on all delivery times is 13.25 days while if predicting the delivery time to be the global mean we get an error of 6.39 days. This means that we can improve the baseline subbstantially by just predicting the mean.\n",
    "- To approve the estimated delivery time, we have experimented with a few different prediction models. The linear regression model performs best being only 5.66 days off, which is slightly better than the mean prediction.\n",
    "- To see if it is possible to classify whether an order will run late before it happens, we have implemented a logistic regression model. The model performed a weighted average f1-score on 0.77, which is worse than a dummy classifier classifier the most frequent class. However, the logistic regression is able to flag a small amount of orders running late correctly.\n",
    "- In order to analyse the most important features explaining why an order is running late, the logistic regression produces interpretable coefficients. These tells us that the customer geo-location and the distance between a seller and a customer explains orders delivered late the most."
   ]
  }
 ],
 "metadata": {
  "kernelspec": {
   "display_name": "Python 3",
   "language": "python",
   "name": "python3"
  },
  "language_info": {
   "codemirror_mode": {
    "name": "ipython",
    "version": 3
   },
   "file_extension": ".py",
   "mimetype": "text/x-python",
   "name": "python",
   "nbconvert_exporter": "python",
   "pygments_lexer": "ipython3",
   "version": "3.7.1"
  }
 },
 "nbformat": 4,
 "nbformat_minor": 2
}
