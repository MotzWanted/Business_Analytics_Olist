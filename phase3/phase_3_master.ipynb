{
 "cells": [
  {
   "cell_type": "markdown",
   "metadata": {},
   "source": [
    "# Introduction\n",
    "\n",
    "Customers does not only look for online shopping with the best variety of products and best user experience. They are also demanding fast delivery without delays. Throughout the project we have analyzed various hypotheses that might help Olist optimize business critical KPI's that focus on the cutomer, the sellers, and the process of purchasing products, keeping customers, getting the best sellers on the platform, etc. In this last part, we will analyze the potential of maximizing the latent but critical value in the process of delivering the products. Estimation of delivery is both important when the customer is choosing between products and potentially holding delivery date as a decisive factor, and when delivering the physical product to the customer by connecting logistics providers and various sellers. These operational tasks, which is not directly handled by Olist, are critical to Olist's image and how satisfied customers are after shopping on Olist. \n",
    "\n",
    "The goal with the following analysis is threefold. First, we are assessing whether there exist a problem in terms of delivering the products to the customers. The delivery performance is analyzed by looking at historical data and how many delays Olist has had thoughout the dataset. Second, we will optimize Olist's estimate of delivery resulting in better decision-making for the customers and higher convenience throughout the later part of the shopping experience. Lastly, we are going to predict whether an order will be delivered in time or too late by classifying an order upon purchase. "
   ]
  },
  {
   "cell_type": "markdown",
   "metadata": {},
   "source": [
    "## KPI's\n",
    "\n",
    "Operational excellence is at the hart of an Ecommerce if customer satisfaction is a top priority. Optimization across both estimated delivery and potential delivery delay is helping Olist on several important KPI's. We can potentially increase Customer Acquisition and Customer Retention rates if Olist are able to proof a trackrecord of fast and exact delivery. Furthermore, if we are able to predict whether a package is late or not and use a set of tools to counteract a potential late delivery, the number of Late Deliveries is a KPI in itself that we would want to optimize. "
   ]
  },
  {
   "cell_type": "markdown",
   "metadata": {},
   "source": [
    "# <font color='blue'>Setup 1</font>: Load Libraries"
   ]
  },
  {
   "cell_type": "code",
   "execution_count": 48,
   "metadata": {
    "scrolled": true
   },
   "outputs": [],
   "source": [
    "import numpy as np\n",
    "import pandas as pd\n",
    "import sys, os\n",
    "import seaborn as sns\n",
    "import matplotlib.pyplot as plt\n",
    "from scipy import stats\n",
    "import matplotlib.pyplot as plt\n",
    "from math import sin, cos, sqrt, atan2, radians\n",
    "from sklearn.linear_model import LinearRegression\n",
    "from sklearn.model_selection import KFold\n",
    "from sklearn.dummy import DummyRegressor\n",
    "from sklearn.model_selection import cross_val_predict\n",
    "from sklearn.metrics import mean_squared_error\n",
    "from sklearn.preprocessing import MinMaxScaler\n",
    "from sklearn.linear_model import LinearRegression\n",
    "from keras.models import Sequential\n",
    "from keras.layers import Dense, Dropout\n",
    "from sklearn.model_selection import train_test_split\n",
    "from keras import backend as K\n",
    "from sklearn.metrics import mean_absolute_error\n",
    "from sklearn.metrics import mean_squared_error\n",
    "from sklearn.model_selection import train_test_split\n",
    "from sklearn import preprocessing\n",
    "%matplotlib inline\n",
    "sns.set()\n",
    "sns.color_palette(\"Paired\")\n",
    "plt.rcParams['figure.figsize'] = (15.0, 8.0)\n",
    "plt.style.use('ggplot')"
   ]
  },
  {
   "cell_type": "markdown",
   "metadata": {},
   "source": [
    "# <font color='blue'>Setup 2</font>: Load data"
   ]
  },
  {
   "cell_type": "markdown",
   "metadata": {},
   "source": [
    "The workbook will focus on the delivery and Geospatial part of the OLIST dataset. Therefore, the following datasets are loaded and joined:\n",
    "\n",
    "- olist_customers_dataset\n",
    "- olist_order_items_dataset\n",
    "- olist_customers_dataset\n",
    "- olist_sellers_dataset\n",
    "- olist_geolocation_dataset\n",
    "\n",
    "These are joined by the left-join operation and dataformat is set. "
   ]
  },
  {
   "cell_type": "code",
   "execution_count": 2,
   "metadata": {},
   "outputs": [],
   "source": [
    "def load_table(tablename):\n",
    "    \"\"\" Defining the current directory and path to where data are located. Joining path to\n",
    "    data folder and table name in order to read the table into a Pandas DataFrame\"\"\"\n",
    "    \n",
    "    file_path = os.path.join ('../data/') \n",
    "\n",
    "    df = os.path.join(file_path, tablename) \n",
    "    df = pd.read_csv(df, sep=',', encoding=\"latin1\") \n",
    "    \n",
    "    return df"
   ]
  },
  {
   "cell_type": "code",
   "execution_count": 3,
   "metadata": {},
   "outputs": [],
   "source": [
    "# Reading the olist_orders table\n",
    "orders = load_table('olist_orders_dataset.csv')\n",
    "order_items = load_table('olist_order_items_dataset.csv')\n",
    "customers = load_table('olist_customers_dataset.csv')\n",
    "customers.columns = ['customer_id','customer_unique_id','geolocation_zip_code_prefix',\n",
    "                     'customer_city','customer_state']\n",
    "sellers = load_table('olist_sellers_dataset.csv')\n",
    "sellers.columns = ['seller_id','geolocation_zip_code_prefix',\n",
    "                     'seller_city','seller_state']\n",
    "geo = load_table('olist_geolocation_dataset.csv')"
   ]
  },
  {
   "cell_type": "markdown",
   "metadata": {},
   "source": [
    "### Jensen kan måske forklare dette"
   ]
  },
  {
   "cell_type": "code",
   "execution_count": 4,
   "metadata": {},
   "outputs": [
    {
     "name": "stderr",
     "output_type": "stream",
     "text": [
      "/Users/MartinJohnsen/anaconda3/lib/python3.7/site-packages/ipykernel_launcher.py:1: FutureWarning: using a dict on a Series for aggregation\n",
      "is deprecated and will be removed in a future version\n",
      "  \"\"\"Entry point for launching an IPython kernel.\n"
     ]
    }
   ],
   "source": [
    "order_items_filt = order_items.groupby(['order_id', 'product_id','seller_id','shipping_limit_date','freight_value','price'])['order_item_id'].agg({\"quantity\":\"max\"}).reset_index()\n",
    "order_items_filt['order_price'] = order_items_filt['price']*order_items_filt['quantity']\n",
    "order_items_filt = order_items_filt.groupby(['order_id','seller_id','shipping_limit_date','freight_value','quantity'])['order_price'].agg('sum').reset_index()"
   ]
  },
  {
   "cell_type": "code",
   "execution_count": 5,
   "metadata": {},
   "outputs": [],
   "source": [
    "# Removing outliers based on coordinates\n",
    "#Brazils most Northern spot is at 5 deg 16′ 27.8″ N latitude.;\n",
    "geo = geo[geo.geolocation_lat <= 5.27438888]\n",
    "#it’s most Western spot is at 73 deg, 58′ 58.19″W Long.\n",
    "geo = geo[geo.geolocation_lng >= -73.98283055]\n",
    "#It’s most southern spot is at 33 deg, 45′ 04.21″ S Latitude.\n",
    "geo = geo[geo.geolocation_lat >= -33.75116944]\n",
    "#It’s most Eastern spot is 34 deg, 47′ 35.33″ W Long.\n",
    "geo = geo[geo.geolocation_lng <=  -34.79314722]\n",
    "#source: https://www.kaggle.com/andresionek/geospatial-analysis-of-brazilian-e-commerce"
   ]
  },
  {
   "cell_type": "markdown",
   "metadata": {},
   "source": [
    "## 1. Merge datasets"
   ]
  },
  {
   "cell_type": "markdown",
   "metadata": {},
   "source": [
    "First, we are taking a look at the geolocations "
   ]
  },
  {
   "cell_type": "code",
   "execution_count": 6,
   "metadata": {},
   "outputs": [
    {
     "data": {
      "text/html": [
       "<div>\n",
       "<style scoped>\n",
       "    .dataframe tbody tr th:only-of-type {\n",
       "        vertical-align: middle;\n",
       "    }\n",
       "\n",
       "    .dataframe tbody tr th {\n",
       "        vertical-align: top;\n",
       "    }\n",
       "\n",
       "    .dataframe thead th {\n",
       "        text-align: right;\n",
       "    }\n",
       "</style>\n",
       "<table border=\"1\" class=\"dataframe\">\n",
       "  <thead>\n",
       "    <tr style=\"text-align: right;\">\n",
       "      <th></th>\n",
       "      <th>geolocation_zip_code_prefix</th>\n",
       "      <th>geolocation_lat</th>\n",
       "      <th>geolocation_lng</th>\n",
       "      <th>geolocation_city</th>\n",
       "      <th>geolocation_state</th>\n",
       "    </tr>\n",
       "  </thead>\n",
       "  <tbody>\n",
       "    <tr>\n",
       "      <th>0</th>\n",
       "      <td>1037</td>\n",
       "      <td>-23.545621</td>\n",
       "      <td>-46.639292</td>\n",
       "      <td>sao paulo</td>\n",
       "      <td>SP</td>\n",
       "    </tr>\n",
       "    <tr>\n",
       "      <th>1</th>\n",
       "      <td>1046</td>\n",
       "      <td>-23.546081</td>\n",
       "      <td>-46.644820</td>\n",
       "      <td>sao paulo</td>\n",
       "      <td>SP</td>\n",
       "    </tr>\n",
       "    <tr>\n",
       "      <th>2</th>\n",
       "      <td>1046</td>\n",
       "      <td>-23.546129</td>\n",
       "      <td>-46.642951</td>\n",
       "      <td>sao paulo</td>\n",
       "      <td>SP</td>\n",
       "    </tr>\n",
       "    <tr>\n",
       "      <th>3</th>\n",
       "      <td>1041</td>\n",
       "      <td>-23.544392</td>\n",
       "      <td>-46.639499</td>\n",
       "      <td>sao paulo</td>\n",
       "      <td>SP</td>\n",
       "    </tr>\n",
       "    <tr>\n",
       "      <th>4</th>\n",
       "      <td>1035</td>\n",
       "      <td>-23.541578</td>\n",
       "      <td>-46.641607</td>\n",
       "      <td>sao paulo</td>\n",
       "      <td>SP</td>\n",
       "    </tr>\n",
       "  </tbody>\n",
       "</table>\n",
       "</div>"
      ],
      "text/plain": [
       "   geolocation_zip_code_prefix  geolocation_lat  geolocation_lng  \\\n",
       "0                         1037       -23.545621       -46.639292   \n",
       "1                         1046       -23.546081       -46.644820   \n",
       "2                         1046       -23.546129       -46.642951   \n",
       "3                         1041       -23.544392       -46.639499   \n",
       "4                         1035       -23.541578       -46.641607   \n",
       "\n",
       "  geolocation_city geolocation_state  \n",
       "0        sao paulo                SP  \n",
       "1        sao paulo                SP  \n",
       "2        sao paulo                SP  \n",
       "3        sao paulo                SP  \n",
       "4        sao paulo                SP  "
      ]
     },
     "execution_count": 6,
     "metadata": {},
     "output_type": "execute_result"
    }
   ],
   "source": [
    "geo.head()"
   ]
  },
  {
   "cell_type": "markdown",
   "metadata": {},
   "source": [
    "Since the zip-codes has several different geolocations very close to each other, we will aggregate those different locations into a mean location. Even though it is not geographically correct to take the mean of the longitude and latitude, especially is the distances are large, we assume that it is coorect in this example. Argualy, it does not make a difference in this example since the distances are very close. "
   ]
  },
  {
   "cell_type": "code",
   "execution_count": 7,
   "metadata": {},
   "outputs": [],
   "source": [
    "geo = geo.groupby('geolocation_zip_code_prefix')['geolocation_lat','geolocation_lng'].agg('mean').reset_index()"
   ]
  },
  {
   "cell_type": "markdown",
   "metadata": {},
   "source": [
    "Now that each zipcode has a unique geolocations, they are joined (left) on the customer and sellers dataset"
   ]
  },
  {
   "cell_type": "code",
   "execution_count": 8,
   "metadata": {},
   "outputs": [],
   "source": [
    "# Merging geo location to sellers and customers dataset\n",
    "customers_geo = customers.merge(geo, on = \"geolocation_zip_code_prefix\", how = \"left\")\n",
    "customers_geo = customers_geo[['customer_id', 'geolocation_lat','geolocation_lng']]\n",
    "customers_geo.columns = ['customer_id', 'customer_lat','customer_lon']\n",
    "\n",
    "sellers_geo = sellers.merge(geo, on = \"geolocation_zip_code_prefix\", how = \"left\")\n",
    "sellers_geo = sellers_geo[['seller_id', 'geolocation_lat','geolocation_lng']]\n",
    "sellers_geo.columns = ['seller_id', 'seller_lat','seller_lon']"
   ]
  },
  {
   "cell_type": "markdown",
   "metadata": {},
   "source": [
    "Each sellers geo location is then joined with the orders dataset."
   ]
  },
  {
   "cell_type": "code",
   "execution_count": 10,
   "metadata": {},
   "outputs": [],
   "source": [
    "# Merging geo location to orders dataset\n",
    "order_items_all = order_items_filt.merge(sellers_geo, on='seller_id', how='left')\n",
    "\n",
    "orders_all = orders.merge(customers_geo, on='customer_id', how='left')\n",
    "orders_all = orders_all.merge(order_items_all, on='order_id',how='left')\n",
    "\n",
    "orders_all = orders_all[['order_id','order_status', 'customer_id', 'seller_id', 'order_purchase_timestamp',\n",
    "                         'order_approved_at','order_delivered_carrier_date','shipping_limit_date',\n",
    "                         'order_delivered_customer_date','order_estimated_delivery_date','order_price',\n",
    "                         'quantity','freight_value','customer_lat','customer_lon','seller_lat', 'seller_lon']]"
   ]
  },
  {
   "cell_type": "markdown",
   "metadata": {},
   "source": [
    "In this analysis only the orders with an order status of \"delivered\" are considered. As seen from the list below several different order statuses exist. "
   ]
  },
  {
   "cell_type": "code",
   "execution_count": 11,
   "metadata": {
    "scrolled": true
   },
   "outputs": [
    {
     "name": "stdout",
     "output_type": "stream",
     "text": [
      "['unavailable', 'processing', 'delivered', 'approved', 'canceled', 'invoiced', 'shipped', 'created']\n"
     ]
    }
   ],
   "source": [
    "print(list(set(orders_all.order_status)))\n",
    "# Filter all orders that has been delivered\n",
    "delivered_orders = orders_all[orders_all['order_status']=='delivered']\n",
    "delivered_orders = delivered_orders.drop('order_status', axis=1)"
   ]
  },
  {
   "cell_type": "markdown",
   "metadata": {},
   "source": [
    "All the timestamp columns are changed to pandas datetime format"
   ]
  },
  {
   "cell_type": "code",
   "execution_count": 12,
   "metadata": {},
   "outputs": [],
   "source": [
    "delivered_orders.order_purchase_timestamp = pd.to_datetime(delivered_orders.order_purchase_timestamp)\n",
    "delivered_orders.order_approved_at = pd.to_datetime(delivered_orders.order_approved_at)\n",
    "delivered_orders.shipping_limit_date = pd.to_datetime(delivered_orders.shipping_limit_date)\n",
    "delivered_orders.order_delivered_carrier_date = pd.to_datetime(delivered_orders.order_delivered_carrier_date)\n",
    "delivered_orders.order_estimated_delivery_date = pd.to_datetime(delivered_orders.order_estimated_delivery_date)\n",
    "delivered_orders.order_delivered_customer_date = pd.to_datetime(delivered_orders.order_delivered_customer_date)"
   ]
  },
  {
   "cell_type": "markdown",
   "metadata": {},
   "source": [
    "First the number of missing values (NaN) are counted for each column and then they are removed"
   ]
  },
  {
   "cell_type": "code",
   "execution_count": 13,
   "metadata": {},
   "outputs": [
    {
     "name": "stdout",
     "output_type": "stream",
     "text": [
      "                               Number  Percentage\n",
      "order_id                            0      0.0000\n",
      "customer_id                         0      0.0000\n",
      "seller_id                           0      0.0000\n",
      "order_purchase_timestamp            0      0.0000\n",
      "order_approved_at                  14      0.0001\n",
      "order_delivered_carrier_date        2      0.0000\n",
      "shipping_limit_date                 0      0.0000\n",
      "order_delivered_customer_date       8      0.0001\n",
      "order_estimated_delivery_date       0      0.0000\n",
      "order_price                         0      0.0000\n",
      "quantity                            0      0.0000\n",
      "freight_value                       0      0.0000\n",
      "customer_lat                      274      0.0027\n",
      "customer_lon                      274      0.0027\n",
      "seller_lat                        222      0.0022\n",
      "seller_lon                        222      0.0022\n"
     ]
    }
   ],
   "source": [
    "def count_missing_values(df):\n",
    "    missing = df.isna()\n",
    "    num_missing = pd.DataFrame(missing.sum(),columns=['Number'])\n",
    "    num_missing['Percentage'] = round(num_missing / len(df),4)\n",
    "    print(num_missing)\n",
    "          \n",
    "count_missing_values(delivered_orders)\n",
    "delivered_orders = delivered_orders.dropna()"
   ]
  },
  {
   "cell_type": "markdown",
   "metadata": {},
   "source": [
    "## 2. Descriptive analysis"
   ]
  },
  {
   "cell_type": "markdown",
   "metadata": {},
   "source": [
    "When a purchase is approved, the seller is given a `shipping_limit_date` telling when they have to pass on the product to a third party logistic company. A customer is given an `order_estimated_delivery_date`.\n",
    "\n",
    "In the following we are trying to assess how many order are delivered later than estimated and why this might happen. We are considering purchase date, shipping limit date, order estimated delivery data and actual delivery date as relevant columns in regards to analyzing delivery times. "
   ]
  },
  {
   "cell_type": "code",
   "execution_count": 14,
   "metadata": {},
   "outputs": [],
   "source": [
    "#Calculating difference between order_estimated_delivery_date and the actual order_delivered_customer_date\n",
    "delivered_orders['delivery_difference'] = delivered_orders.order_estimated_delivery_date - delivered_orders.order_delivered_customer_date\n",
    "delivered_orders['delivery_difference'] = delivered_orders['delivery_difference'].dt.days"
   ]
  },
  {
   "cell_type": "code",
   "execution_count": 15,
   "metadata": {},
   "outputs": [
    {
     "data": {
      "text/plain": [
       "count    99678.000000\n",
       "mean        10.987720\n",
       "std         10.208975\n",
       "min       -189.000000\n",
       "25%          6.000000\n",
       "50%         12.000000\n",
       "75%         16.000000\n",
       "max        146.000000\n",
       "Name: delivery_difference, dtype: float64"
      ]
     },
     "execution_count": 15,
     "metadata": {},
     "output_type": "execute_result"
    }
   ],
   "source": [
    "delivered_orders['delivery_difference'].describe()"
   ]
  },
  {
   "cell_type": "markdown",
   "metadata": {},
   "source": [
    "The customer recieves the product 10,98 days ahead of the estimated delivery day on average."
   ]
  },
  {
   "cell_type": "code",
   "execution_count": 16,
   "metadata": {},
   "outputs": [
    {
     "name": "stdout",
     "output_type": "stream",
     "text": [
      "Number of orders delivered later than the estimated delivery data: 7943\n"
     ]
    }
   ],
   "source": [
    "print(\"Number of orders delivered later than the estimated delivery data:\",len(delivered_orders[delivered_orders['delivery_difference']<0]))"
   ]
  },
  {
   "cell_type": "markdown",
   "metadata": {},
   "source": [
    "Meaning ~8% of the orders was delivered later than the estimated delivery date."
   ]
  },
  {
   "cell_type": "markdown",
   "metadata": {},
   "source": [
    "In the olist_orders_dataset we have 95,978 unique orders and 99,678 total orders, i.e. ~4% procent of the orders includes multiple sellers. Thus, one product from one seller can be delivered on time, while the other are late.\n",
    "\n",
    "We want to see whether we are to blame the sellers or the logistic firm for the orders delivered late. Therefore, we plot all delivered orders with the shipping difference as the x-axis and delivery difference as the y-axis.\n",
    "\n",
    "- If X > 0 the order was delivered on time. \n",
    "- If X < 0 and Y > 0 the logistic firm is the one to blame\n",
    "- If X < 0 and Y >= X then the seller is the one to blame\n",
    "- If X < 0 and Y < 0 the both the seller and the logistic firm is to blame"
   ]
  },
  {
   "cell_type": "markdown",
   "metadata": {},
   "source": [
    "Before plotting the delivery times, we need to calculate the difference between the `shipping_limit_date` and `order_delivered_carrier_date`. "
   ]
  },
  {
   "cell_type": "code",
   "execution_count": 17,
   "metadata": {},
   "outputs": [],
   "source": [
    "#Calculating difference between shipping_limit_date and order_delivered_carrier_date\n",
    "delivered_orders['shipping_difference'] = delivered_orders.shipping_limit_date - delivered_orders.order_delivered_carrier_date\n",
    "delivered_orders['shipping_difference'] = delivered_orders['shipping_difference'].dt.days"
   ]
  },
  {
   "cell_type": "code",
   "execution_count": 18,
   "metadata": {},
   "outputs": [
    {
     "data": {
      "text/plain": [
       "count    99677.000000\n",
       "mean         2.832569\n",
       "std          3.747486\n",
       "min       -117.000000\n",
       "25%          1.000000\n",
       "50%          3.000000\n",
       "75%          5.000000\n",
       "max        175.000000\n",
       "Name: shipping_difference, dtype: float64"
      ]
     },
     "execution_count": 18,
     "metadata": {},
     "output_type": "execute_result"
    }
   ],
   "source": [
    "# Removing outlier\n",
    "delivered_orders = delivered_orders.drop(89664)\n",
    "delivered_orders['shipping_difference'].describe()"
   ]
  },
  {
   "cell_type": "markdown",
   "metadata": {},
   "source": [
    "As seen in the above table, a product is passed on to the logistic firm 2.8 days ahead on average, which indicates that sellers are proably not the error. However, we will se that below. "
   ]
  },
  {
   "cell_type": "code",
   "execution_count": 19,
   "metadata": {},
   "outputs": [],
   "source": [
    "def plot_late_order(df):\n",
    "    X = [x for x in df.delivery_difference]\n",
    "    X = np.array(X)\n",
    "    Y = [y for y in df.shipping_difference]\n",
    "    Y = np.array(Y)\n",
    "\n",
    "    col = np.where((X<0) & (Y<0) & (Y<X),'red',\n",
    "            np.where((X<0) & (Y<0) & (Y>=X),'yellow',\n",
    "                np.where((X<0) & (Y>=0),'orange','grey')))\n",
    "    \n",
    "    fig, ax = plt.subplots()\n",
    "    ax.scatter(X, Y, c=col)\n",
    "    ax.set_xlabel('Delivery difference')\n",
    "    ax.set_ylabel('Shipping difference')\n",
    "    ax.set_title('Orders')\n",
    "    ax.axhline(linewidth=1, color='black')\n",
    "    ax.axvline(linewidth=1, color='black')\n",
    "    plt.show()"
   ]
  },
  {
   "cell_type": "code",
   "execution_count": 20,
   "metadata": {},
   "outputs": [
    {
     "data": {
      "image/png": "[encoded data removed]",
      "text/plain": [
       "<Figure size 432x288 with 1 Axes>"
      ]
     },
     "metadata": {
      "needs_background": "light"
     },
     "output_type": "display_data"
    }
   ],
   "source": [
    "plot_late_order(delivered_orders)"
   ]
  },
  {
   "cell_type": "markdown",
   "metadata": {},
   "source": [
    "1. **Grey points**: order was delivered on time\n",
    "2. **Orange points**: order was late because of the logistic firm\n",
    "3. **Yellow points**: order was late because of the seller\n",
    "4. **Red points**: order was late because of both the seller and the logistic firm"
   ]
  },
  {
   "cell_type": "markdown",
   "metadata": {},
   "source": [
    "Counting the number of points in each category to find the distribution of the different causes of delay. "
   ]
  },
  {
   "cell_type": "code",
   "execution_count": 21,
   "metadata": {},
   "outputs": [],
   "source": [
    "X = [x for x in delivered_orders.delivery_difference]\n",
    "Y = [y for y in delivered_orders.shipping_difference]\n",
    "\n",
    "grey_points = [i for i, x in enumerate(X) if (X[i]>=0)]\n",
    "orange_points = [i for i, x in enumerate(X) if (X[i]<0) and (Y[i]>=0)]\n",
    "yellow_points = [i for i, x in enumerate(X) if (X[i]<0) and (Y[i]<0) and (Y[i]>=X[i])]\n",
    "red_points = [i for i, x in enumerate(X) if (X[i]<0) and (Y[i]<0) and (Y[i]<X[i])]"
   ]
  },
  {
   "cell_type": "code",
   "execution_count": 22,
   "metadata": {
    "scrolled": false
   },
   "outputs": [
    {
     "name": "stdout",
     "output_type": "stream",
     "text": [
      " 92.03 pct. of the orders was delivered on time\n",
      "  5.78 pct. of the orders was delivered late because of the logistic firm\n",
      "  1.34 pct. of the orders was delivered late because of the seller\n",
      "  0.85 pct. of the orders was delivered late because of both the seller and logistic firm\n"
     ]
    }
   ],
   "source": [
    "print(\" %5.2f pct. of the orders was delivered on time\" %((len(grey_points)/len(X))*100))\n",
    "print(\" %5.2f pct. of the orders was delivered late because of the logistic firm\" %((len(orange_points)/len(X))*100))\n",
    "print(\" %5.2f pct. of the orders was delivered late because of the seller\" %((len(yellow_points)/len(X))*100))\n",
    "print(\" %5.2f pct. of the orders was delivered late because of both the seller and logistic firm\" %((len(red_points)/len(X))*100))"
   ]
  },
  {
   "cell_type": "markdown",
   "metadata": {},
   "source": [
    "The data clearly suggests that the main problem with the late orders is the logistic provider not providing the service needed to deliver on time. This might already suggest improvements, such as better logisitcs deals and potentially contractual agreements about a minimum threshold for late deliveries. "
   ]
  },
  {
   "cell_type": "markdown",
   "metadata": {},
   "source": [
    "## 3. Estimated delivery time"
   ]
  },
  {
   "cell_type": "markdown",
   "metadata": {},
   "source": [
    "In order to improve the estimated delivery time, we are investigating whether there exist an actual problem with the current estimate that Olist are providing the customer at the purchase moment. Before looking into the problem, we are creating some features necessary for the analysis. "
   ]
  },
  {
   "cell_type": "markdown",
   "metadata": {},
   "source": [
    "### 3.1 Creating features"
   ]
  },
  {
   "cell_type": "markdown",
   "metadata": {},
   "source": [
    "We can create some features relevant for the problem such as:\n",
    "- actual delivery date\n",
    "- distance from seller to customer\n",
    "\n",
    "Apart from that, we have features from the original datasets provided by Olist."
   ]
  },
  {
   "cell_type": "code",
   "execution_count": 23,
   "metadata": {},
   "outputs": [],
   "source": [
    "#Calculating the actual delivery time\n",
    "delivered_orders['actual'] = delivered_orders.order_delivered_customer_date - delivered_orders.order_purchase_timestamp\n",
    "delivered_orders['actual'] = delivered_orders['actual'].dt.days"
   ]
  },
  {
   "cell_type": "code",
   "execution_count": 24,
   "metadata": {},
   "outputs": [
    {
     "data": {
      "text/plain": [
       "count    99677.000000\n",
       "mean        12.021128\n",
       "std          9.530163\n",
       "min          0.000000\n",
       "25%          6.000000\n",
       "50%         10.000000\n",
       "75%         15.000000\n",
       "max        209.000000\n",
       "Name: actual, dtype: float64"
      ]
     },
     "execution_count": 24,
     "metadata": {},
     "output_type": "execute_result"
    }
   ],
   "source": [
    "#Displaying information about the actual delivery times on the products\n",
    "delivered_orders.actual.describe()"
   ]
  },
  {
   "cell_type": "code",
   "execution_count": 26,
   "metadata": {},
   "outputs": [],
   "source": [
    "#Creating a function for calculating distances from seller to customer. \n",
    "def geoDistance(lat0, lon0, lat1, lon1):\n",
    "    # Approx. radius of earth (km)\n",
    "    R = 6373.0 \n",
    "    # Convert to radians\n",
    "    lat0, lon0 = radians(lat0), radians(lon0)\n",
    "    lat1, lon1 = radians(lat1), radians(lon1)\n",
    "    \n",
    "    # Getting differences\n",
    "    dlon, dlat = lon1 - lon0, lat1 - lat0\n",
    "    \n",
    "    # Use haversine formula\n",
    "    a = sin(dlat / 2)**2 + cos(lat0) * cos(lat1) * sin(dlon / 2)**2\n",
    "    c = 2 * atan2(sqrt(a), sqrt(1 - a))\n",
    "    return R * c"
   ]
  },
  {
   "cell_type": "code",
   "execution_count": 27,
   "metadata": {},
   "outputs": [],
   "source": [
    "#Calling the function to create a distance measure for all orders\n",
    "delivered_orders['Distance'] = delivered_orders.apply(lambda row:\\\n",
    "    geoDistance(row['customer_lat'], row['customer_lon'], row['seller_lat'], row['seller_lon']), axis=1)"
   ]
  },
  {
   "cell_type": "code",
   "execution_count": 28,
   "metadata": {},
   "outputs": [],
   "source": [
    "#Calculating the estimated delivery in days\n",
    "delivered_orders[\"estimated_delivery\"] = (delivered_orders.order_estimated_delivery_date-delivered_orders.\\\n",
    "                                          order_purchase_timestamp).dt.total_seconds() / (24 * 60 * 60)"
   ]
  },
  {
   "cell_type": "code",
   "execution_count": 29,
   "metadata": {},
   "outputs": [],
   "source": [
    "#Defining the relevant features for the problem\n",
    "features = ['order_price','quantity','freight_value','customer_lat',\n",
    "           'customer_lon','seller_lat','seller_lon','Distance','estimated_delivery']\n",
    "target = ['actual']\n",
    "\n",
    "X = np.array(delivered_orders[features])\n",
    "y = np.array(delivered_orders['actual'])\n",
    "split_test_size = 0.30\n",
    "\n",
    "X_train, X_test, y_train, y_test = train_test_split(X, y, test_size = split_test_size, random_state=42)"
   ]
  },
  {
   "cell_type": "markdown",
   "metadata": {},
   "source": [
    "The distribution of the `actual delivery` feature created can be plotted with the distribution of the `estimated delivery` feature to get an idea about Olist's estimated deliveries versus their actual deliveries. "
   ]
  },
  {
   "cell_type": "code",
   "execution_count": 30,
   "metadata": {},
   "outputs": [],
   "source": [
    "#Creating variables for both actual and estimated deliveries\n",
    "actual_delivery = delivered_orders.actual\n",
    "estimated_delivery = delivered_orders.estimated_delivery"
   ]
  },
  {
   "cell_type": "code",
   "execution_count": 31,
   "metadata": {},
   "outputs": [
    {
     "data": {
      "image/png": "[encoded data removed]",
      "text/plain": [
       "<Figure size 432x288 with 1 Axes>"
      ]
     },
     "metadata": {
      "needs_background": "light"
     },
     "output_type": "display_data"
    }
   ],
   "source": [
    "#Plotting actual delivery times and estimated delivery times\n",
    "plt.hist(actual_delivery, bins= 100, alpha=0.5, label='Actual delivery')\n",
    "plt.hist(estimated_delivery, bins= 100, alpha=0.5, label='Estimated delivery')\n",
    "plt.legend(loc='upper right')\n",
    "plt.show()"
   ]
  },
  {
   "cell_type": "markdown",
   "metadata": {},
   "source": [
    "As can be seen from the plot above, Olist are systematically overestimating the delivery dates, which might give customers a motivation for shopping through another eCommerce, if they are estimating a faster delivery. \n",
    "Therefore, we want to enable a correct and much better estimated delivery time, so that the customer gets more correct information about the faster delivery of their products. "
   ]
  },
  {
   "cell_type": "markdown",
   "metadata": {},
   "source": [
    "### 3.2 Establish baseline"
   ]
  },
  {
   "cell_type": "markdown",
   "metadata": {},
   "source": [
    "# --------- Use the  following ---------"
   ]
  },
  {
   "cell_type": "markdown",
   "metadata": {},
   "source": [
    "The metrics that we are going to use for this task is both the mean absolute error (MAE) and the mean squared error (MSE). The reason for using these measures is that MAE gives an abosulte value which is easy to relate to. In our case, an error of 2 days is twice as large as an error of 1 day which makes it easy to relate to. On the other hand, MSE is good while it penalizes large deviations. This is relevant in our case, as we do not want to underestimate the delivery time while inconvenient for the customer. "
   ]
  },
  {
   "cell_type": "code",
   "execution_count": 47,
   "metadata": {},
   "outputs": [],
   "source": [
    "def metrics(y, yhat):\n",
    "    \"\"\" Defining the metrics to evaluate model performance. Using mean absolute error\n",
    "    and mean squared error from the sklearn library. \"\"\"\n",
    "    \n",
    "    mae = mean_absolute_error(y, yhat)\n",
    "    mse = mean_squared_error(y, yhat)\n",
    "    \n",
    "    print('Mean absolute error:', round(mae, 2), 'days.')\n",
    "    print('Mean squared error:', round(mse, 2), 'days.')"
   ]
  },
  {
   "cell_type": "markdown",
   "metadata": {},
   "source": [
    "--> tjek average hvis vi elelinerer fejl fra logistik firmaet ved at fjerne fejlene fra datasættet"
   ]
  },
  {
   "cell_type": "markdown",
   "metadata": {},
   "source": [
    "# --------- Use the  following ---------"
   ]
  },
  {
   "cell_type": "markdown",
   "metadata": {},
   "source": [
    "##### Baseline: how much is Olist wrong at the current state\n",
    "\n",
    "In this cell, we are looking at the estimated time of delivery that Olist gives the customer upon purchase. We are then measuring what the error is on this estimate given to the customer by looking at the actual delivery date. "
   ]
  },
  {
   "cell_type": "code",
   "execution_count": 32,
   "metadata": {
    "scrolled": true
   },
   "outputs": [
    {
     "name": "stdout",
     "output_type": "stream",
     "text": [
      "Error in estimate to actual delivery:  15.68 days\n"
     ]
    }
   ],
   "source": [
    "#Defining an array consisting of the estimated delivery times and the actual delivery times\n",
    "Y_estimate = X_test[:,-1]\n",
    "baseline_errors = np.sqrt(((Y_estimate - y_test) ** 2).mean())\n",
    "\n",
    "print('Error in estimate to actual delivery: ', round(np.mean(baseline_errors), 2), 'days')"
   ]
  },
  {
   "cell_type": "markdown",
   "metadata": {},
   "source": [
    "From assessing the error in delivery estimates on the test set we get a Root Mean Squared Error (RMSE) on 15.68 days, which will be the baseline going forward. The hypothesis is, that are able to make more accurate models to predict delivery estimates, which can be used to increase business value. "
   ]
  },
  {
   "cell_type": "markdown",
   "metadata": {},
   "source": [
    "The last feature in the test and trining set was only included for the purpose of the above calculation and will this be removed."
   ]
  },
  {
   "cell_type": "code",
   "execution_count": 33,
   "metadata": {},
   "outputs": [],
   "source": [
    "#Removing the last column in x_train and x_test\n",
    "X_test = X_test[:,:-1]\n",
    "X_train = X_train[:,:-1]"
   ]
  },
  {
   "cell_type": "markdown",
   "metadata": {},
   "source": [
    "##### Mean prediction\n",
    "\n",
    "Predicting the average delivery time for all the orders. In this cell, we will look at how well a baseline model does, if we predict all the coming delivery times, to be the same as the average of all delivery times from our training set. This can act as a baseline, to see if the measure is actually a better prediction that the estimate Olist are currently able to provide."
   ]
  },
  {
   "cell_type": "code",
   "execution_count": 34,
   "metadata": {},
   "outputs": [
    {
     "name": "stdout",
     "output_type": "stream",
     "text": [
      "Baseline RMSE error: 9.66 days\n"
     ]
    }
   ],
   "source": [
    "#Creating a baseline predicting the average delivery time\n",
    "Y_pred_baseline = y_train\n",
    "Y_pred_baseline = np.mean(Y_pred_baseline)\n",
    "\n",
    "baseline_errors = np.sqrt(((Y_pred_baseline - y_test) ** 2).mean())\n",
    "\n",
    "print('Baseline RMSE error:', round(np.mean(baseline_errors), 2, 'days'))"
   ]
  },
  {
   "cell_type": "markdown",
   "metadata": {},
   "source": [
    "The mean prediction model shows, that there is a potential to be significantly more correct in estimating the delivery times by estimating the delivery time as the average actual delivery time in the training set. This poses the question, if we can significantly improve the estimate from using more advanced models, which rely on some of the features that we have available when a customer places an order. "
   ]
  },
  {
   "cell_type": "markdown",
   "metadata": {},
   "source": [
    "##### Linear regression model"
   ]
  },
  {
   "cell_type": "markdown",
   "metadata": {},
   "source": [
    "At first, we will use a linear regression model to see if we can beat the baseline model. Furthermore, the linear regression model might indicate which features that has an impact on the estimated delivery time. "
   ]
  },
  {
   "cell_type": "code",
   "execution_count": 35,
   "metadata": {},
   "outputs": [],
   "source": [
    "#Normalizing features\n",
    "X_train = preprocessing.normalize(X_train)\n",
    "X_test = preprocessing.normalize(X_test)"
   ]
  },
  {
   "cell_type": "code",
   "execution_count": 36,
   "metadata": {},
   "outputs": [],
   "source": [
    "#Defining and fitting a linear regression model\n",
    "lr = LinearRegression()\n",
    "lr.fit(X_train, y_train);"
   ]
  },
  {
   "cell_type": "code",
   "execution_count": 37,
   "metadata": {},
   "outputs": [
    {
     "name": "stdout",
     "output_type": "stream",
     "text": [
      "RMSE for linear regression model:  8.95 days\n"
     ]
    }
   ],
   "source": [
    "#Predicting the estimated delivery times and calculating the error\n",
    "predictions = lr.predict(X_test)\n",
    "errors = np.sqrt(((predictions - y_test) ** 2).mean())\n",
    "\n",
    "print('RMSE for linear regression model: ', round(np.mean(errors), 2), 'days')"
   ]
  },
  {
   "cell_type": "code",
   "execution_count": 38,
   "metadata": {},
   "outputs": [
    {
     "name": "stdout",
     "output_type": "stream",
     "text": [
      "Feature: ' order_price ' has the following impact on the estimate:  -7.911069869829461\n",
      "Feature: ' quantity ' has the following impact on the estimate:  -28.29177897795816\n",
      "Feature: ' freight_value ' has the following impact on the estimate:  18.649379773569493\n",
      "Feature: ' customer_lat ' has the following impact on the estimate:  62.12760507542604\n",
      "Feature: ' customer_lon ' has the following impact on the estimate:  63.23905866263833\n",
      "Feature: ' seller_lat ' has the following impact on the estimate:  -62.60133513249039\n",
      "Feature: ' seller_lon ' has the following impact on the estimate:  -35.398208532691335\n",
      "Feature: ' Distance ' has the following impact on the estimate:  -4.754385526559439\n"
     ]
    }
   ],
   "source": [
    "for i in range(len(lr.coef_)):\n",
    "    print(\"Feature:\",\"'\",features[i],\"'\", \"has the following impact on the estimated delivery: \", lr.coef_[i])"
   ]
  },
  {
   "cell_type": "markdown",
   "metadata": {},
   "source": [
    "We see that this model performs slightly better than the mean prediction and significantly better than the baseline model. Furthermore, we get an idea about which features play an important role for the eatimate of the delivery. Here price and distance is the least important features, while seller latitude and customer latitude is the most important featuers. This is one of the main advantages of a linear regression model, namely, that we are able to know why some orders are predicted to have high and low estimated delivery times given the model coefficients. "
   ]
  },
  {
   "cell_type": "markdown",
   "metadata": {},
   "source": [
    "# Mangler: beskrivelse af FFNN samt kort opsamling op betydning af features"
   ]
  },
  {
   "cell_type": "markdown",
   "metadata": {},
   "source": [
    "##### Feed Forward Neural Network"
   ]
  },
  {
   "cell_type": "markdown",
   "metadata": {},
   "source": [
    "Linar regression turned out to be quite successfull when estimating delivery times compared to the baseline. This is a verification of the hypothesis proposed about whether it is possible to catch a signal in the current data, and also demonstrates that we can provide business value using prediction models in this problem. To further assess if we can obtain even lower error rates we are using a Feed Forward Neural Network (FFNN) to try and make even better predictions about estimated delivery times. "
   ]
  },
  {
   "cell_type": "code",
   "execution_count": 39,
   "metadata": {},
   "outputs": [],
   "source": [
    "#Defining a helper function so that the FFNN are evaluating the problem on the RMSE as the linear regression \n",
    "# and baseline\n",
    "def root_mean_squared_error(y_true, y_pred):\n",
    "        return K.sqrt(K.mean(K.square(y_pred - y_true))) "
   ]
  },
  {
   "cell_type": "markdown",
   "metadata": {},
   "source": [
    "The FFNN used for this task has the following architechture:\n",
    "- Input size 8\n",
    "- Two hidden layers:\n",
    "    - first layer has 20 neurons\n",
    "    - second layer has 50 neurons\n",
    "- Applying ReLu activation function in both layers\n",
    "- Using a dropout rate of 0.5 between each layer\n",
    "- Output size 1 (the prediction)\n",
    "\n",
    "We are furthermore using a batch size of 64 and training the network for 15 epochs. These settings has been tested over several runs, and hence the hyperparameters are chosen from the performance yield. "
   ]
  },
  {
   "cell_type": "code",
   "execution_count": 44,
   "metadata": {
    "scrolled": true
   },
   "outputs": [
    {
     "name": "stdout",
     "output_type": "stream",
     "text": [
      "Train on 69773 samples, validate on 29904 samples\n",
      "Epoch 1/50\n",
      "69773/69773 [==============================] - 3s 41us/step - loss: 9.3981 - val_loss: 8.4260\n",
      "Epoch 2/50\n",
      "69773/69773 [==============================] - 4s 51us/step - loss: 8.6298 - val_loss: 8.3653\n",
      "Epoch 3/50\n",
      "69773/69773 [==============================] - 4s 50us/step - loss: 8.5486 - val_loss: 8.3272\n",
      "Epoch 4/50\n",
      "69773/69773 [==============================] - 2s 26us/step - loss: 8.4815 - val_loss: 8.3092\n",
      "Epoch 5/50\n",
      "69773/69773 [==============================] - 2s 30us/step - loss: 8.4352 - val_loss: 8.2970\n",
      "Epoch 6/50\n",
      "69773/69773 [==============================] - 2s 30us/step - loss: 8.4016 - val_loss: 8.2899\n",
      "Epoch 7/50\n",
      "69773/69773 [==============================] - 2s 29us/step - loss: 8.3957 - val_loss: 8.2719\n",
      "Epoch 8/50\n",
      "69773/69773 [==============================] - 2s 28us/step - loss: 8.3845 - val_loss: 8.2769- ETA: 0s \n",
      "Epoch 9/50\n",
      "69773/69773 [==============================] - 2s 33us/step - loss: 8.3491 - val_loss: 8.2739- ETA: 0s - loss: 8. - ETA: \n",
      "Epoch 10/50\n",
      "69773/69773 [==============================] - 2s 31us/step - loss: 8.3434 - val_loss: 8.3014\n",
      "Epoch 11/50\n",
      "69773/69773 [==============================] - 2s 31us/step - loss: 8.3297 - val_loss: 8.2807\n",
      "Epoch 12/50\n",
      "69773/69773 [==============================] - 2s 32us/step - loss: 8.3205 - val_loss: 8.2749\n",
      "Epoch 13/50\n",
      "69773/69773 [==============================] - 2s 28us/step - loss: 8.3008 - val_loss: 8.2582\n",
      "Epoch 14/50\n",
      "69773/69773 [==============================] - 2s 24us/step - loss: 8.2974 - val_loss: 8.2633\n",
      "Epoch 15/50\n",
      "69773/69773 [==============================] - 2s 22us/step - loss: 8.2825 - val_loss: 8.2616\n",
      "Epoch 16/50\n",
      "69773/69773 [==============================] - 2s 22us/step - loss: 8.2901 - val_loss: 8.2789\n",
      "Epoch 17/50\n",
      "69773/69773 [==============================] - 2s 22us/step - loss: 8.2766 - val_loss: 8.2686\n",
      "Epoch 18/50\n",
      "69773/69773 [==============================] - 2s 24us/step - loss: 8.2722 - val_loss: 8.2584\n",
      "Epoch 19/50\n",
      "69773/69773 [==============================] - 2s 22us/step - loss: 8.2750 - val_loss: 8.2887\n",
      "Epoch 20/50\n",
      "69773/69773 [==============================] - 2s 27us/step - loss: 8.2719 - val_loss: 8.2560\n",
      "Epoch 21/50\n",
      "69773/69773 [==============================] - 2s 29us/step - loss: 8.2585 - val_loss: 8.2552\n",
      "Epoch 22/50\n",
      "69773/69773 [==============================] - 2s 22us/step - loss: 8.2584 - val_loss: 8.2660\n",
      "Epoch 23/50\n",
      "69773/69773 [==============================] - 2s 22us/step - loss: 8.2259 - val_loss: 8.2562\n",
      "Epoch 24/50\n",
      "69773/69773 [==============================] - 2s 23us/step - loss: 8.2487 - val_loss: 8.2508\n",
      "Epoch 25/50\n",
      "69773/69773 [==============================] - 2s 22us/step - loss: 8.2282 - val_loss: 8.2512\n",
      "Epoch 26/50\n",
      "69773/69773 [==============================] - 2s 24us/step - loss: 8.2235 - val_loss: 8.2507\n",
      "Epoch 27/50\n",
      "69773/69773 [==============================] - 2s 23us/step - loss: 8.2132 - val_loss: 8.2570\n",
      "Epoch 28/50\n",
      "69773/69773 [==============================] - 2s 24us/step - loss: 8.2148 - val_loss: 8.2509\n",
      "Epoch 29/50\n",
      "69773/69773 [==============================] - 2s 24us/step - loss: 8.2029 - val_loss: 8.2721\n",
      "Epoch 30/50\n",
      "69773/69773 [==============================] - 2s 23us/step - loss: 8.2192 - val_loss: 8.2585\n",
      "Epoch 31/50\n",
      "69773/69773 [==============================] - 2s 31us/step - loss: 8.2095 - val_loss: 8.2666\n",
      "Epoch 32/50\n",
      "69773/69773 [==============================] - 3s 41us/step - loss: 8.2151 - val_loss: 8.2481\n",
      "Epoch 33/50\n",
      "69773/69773 [==============================] - 2s 27us/step - loss: 8.1985 - val_loss: 8.2502\n",
      "Epoch 34/50\n",
      "69773/69773 [==============================] - 1s 21us/step - loss: 8.2187 - val_loss: 8.2539\n",
      "Epoch 35/50\n",
      "69773/69773 [==============================] - 1s 21us/step - loss: 8.2060 - val_loss: 8.2814\n",
      "Epoch 36/50\n",
      "69773/69773 [==============================] - 2s 22us/step - loss: 8.2059 - val_loss: 8.2711\n",
      "Epoch 37/50\n",
      "69773/69773 [==============================] - 2s 22us/step - loss: 8.2148 - val_loss: 8.2527\n",
      "Epoch 38/50\n",
      "69773/69773 [==============================] - 2s 27us/step - loss: 8.1835 - val_loss: 8.2709\n",
      "Epoch 39/50\n",
      "69773/69773 [==============================] - 2s 32us/step - loss: 8.2054 - val_loss: 8.2512\n",
      "Epoch 40/50\n",
      "69773/69773 [==============================] - 3s 38us/step - loss: 8.1923 - val_loss: 8.2513\n",
      "Epoch 41/50\n",
      "69773/69773 [==============================] - 2s 36us/step - loss: 8.2055 - val_loss: 8.2484\n",
      "Epoch 42/50\n",
      "69773/69773 [==============================] - 2s 22us/step - loss: 8.2050 - val_loss: 8.2560 loss: \n",
      "Epoch 43/50\n",
      "69773/69773 [==============================] - 1s 21us/step - loss: 8.2201 - val_loss: 8.2541\n",
      "Epoch 44/50\n",
      "69773/69773 [==============================] - 1s 21us/step - loss: 8.1993 - val_loss: 8.2479\n",
      "Epoch 45/50\n",
      "69773/69773 [==============================] - 2s 35us/step - loss: 8.2002 - val_loss: 8.2475\n",
      "Epoch 46/50\n",
      "69773/69773 [==============================] - 2s 26us/step - loss: 8.1846 - val_loss: 8.2608\n",
      "Epoch 47/50\n",
      "69773/69773 [==============================] - 2s 24us/step - loss: 8.2092 - val_loss: 8.2517 ETA: 0s - loss: 8 - ETA: 0s - loss:\n",
      "Epoch 48/50\n",
      "69773/69773 [==============================] - 1s 21us/step - loss: 8.1958 - val_loss: 8.2448\n",
      "Epoch 49/50\n",
      "69773/69773 [==============================] - 1s 21us/step - loss: 8.1912 - val_loss: 8.2580\n",
      "Epoch 50/50\n",
      "69773/69773 [==============================] - 2s 24us/step - loss: 8.2004 - val_loss: 8.2540\n"
     ]
    }
   ],
   "source": [
    "#Defining input size\n",
    "input_ = X_train.shape[1]\n",
    "\n",
    "#Defining model\n",
    "model = Sequential()\n",
    "model.add(Dense(20, input_dim=input_, activation='relu'))\n",
    "model.add(Dropout(rate=0.25))\n",
    "model.add(Dense(50, input_dim=20, activation='relu'))\n",
    "model.add(Dropout(rate=0.5))\n",
    "model.add(Dense(1, activation='linear'))\n",
    "#Specifying what type of loss function and optimizer to use:\n",
    "model.compile(loss=root_mean_squared_error, optimizer='adam')\n",
    "\n",
    "#model.fit(X_train, y_train, epochs=10, batch_size=16)\n",
    "history = model.fit(X_train, y_train, epochs=50, batch_size=64, validation_data=(X_test,y_test))"
   ]
  },
  {
   "cell_type": "code",
   "execution_count": 45,
   "metadata": {},
   "outputs": [
    {
     "data": {
      "image/png": "[encoded data removed]",
      "text/plain": [
       "<Figure size 432x288 with 1 Axes>"
      ]
     },
     "metadata": {
      "needs_background": "light"
     },
     "output_type": "display_data"
    }
   ],
   "source": [
    "#Plotting the train and validation error:\n",
    "plt.plot(history.history['loss'])\n",
    "plt.plot(history.history['val_loss'])\n",
    "plt.title('Model loss')\n",
    "plt.ylabel('Loss')\n",
    "plt.xlabel('Epochs')\n",
    "plt.legend(['Train error', 'Validation error'], loc='upper right')\n",
    "plt.show()"
   ]
  },
  {
   "cell_type": "code",
   "execution_count": 46,
   "metadata": {},
   "outputs": [
    {
     "name": "stdout",
     "output_type": "stream",
     "text": [
      "The RMSE of the FFNN model after 15th epoch is: 8.254007229006437\n"
     ]
    }
   ],
   "source": [
    "print(\"The RMSE of the FFNN model after 15th epoch is:\", history.history[\"val_loss\"][-1])"
   ]
  },
  {
   "cell_type": "markdown",
   "metadata": {},
   "source": [
    "As seen in the training history of the FFNN the model learns through the first ~10 epochs and ends up with a validation error (which is performed on the test set) of 8.25. The learning process is also plotted above, and as we see there is no overfitting, since the validation error does not spike at any point. Dropout has the function of trying to prevent overfitting, which suggests a succesfull job in this regard. "
   ]
  },
  {
   "cell_type": "markdown",
   "metadata": {},
   "source": [
    "# Jens-------------"
   ]
  },
  {
   "cell_type": "markdown",
   "metadata": {},
   "source": [
    "Spørg jensen:\n",
    "- nedenstående tager laver en y_baseline, der er lige så lang som y_train. Men denne Y_baseline består af tallene fra \"delivery difference\" - dette skal vel være actual, når vi prøver at forudsige den faktiske delivery dato. "
   ]
  },
  {
   "cell_type": "code",
   "execution_count": null,
   "metadata": {},
   "outputs": [],
   "source": [
    "baseline_preds = delivered_orders['delivery_difference'].values\n",
    "X_baseline = baseline_preds[:69774]\n",
    "Y_baseline = baseline_preds[69774:]\n",
    "\n",
    "baseline_errors = abs(Y_baseline - y_test)\n",
    "\n",
    "print('Average baseline error: ', round(np.mean(baseline_errors), 2), 'days')"
   ]
  },
  {
   "cell_type": "code",
   "execution_count": null,
   "metadata": {},
   "outputs": [],
   "source": [
    "\n",
    "\n",
    "lr = LinearRegression()\n",
    "\n",
    "lr.fit(X_train, y_train)"
   ]
  },
  {
   "cell_type": "code",
   "execution_count": null,
   "metadata": {},
   "outputs": [],
   "source": [
    "predictions = lr.predict(X_test)\n",
    "\n",
    "errors = abs(predictions - y_test)\n",
    "\n",
    "print('Average baseline error: ', round(np.mean(errors), 2), 'days')"
   ]
  },
  {
   "cell_type": "code",
   "execution_count": null,
   "metadata": {},
   "outputs": [],
   "source": [
    "mape = 100 * (errors/y_test)\n",
    "\n",
    "accuracy = 100 - np.mean(mape)\n",
    "\n",
    "print('Accuracy: ', round(accuracy, 2), '%')"
   ]
  },
  {
   "cell_type": "code",
   "execution_count": null,
   "metadata": {},
   "outputs": [],
   "source": [
    "errors"
   ]
  },
  {
   "cell_type": "code",
   "execution_count": null,
   "metadata": {},
   "outputs": [],
   "source": [
    "mape"
   ]
  },
  {
   "cell_type": "markdown",
   "metadata": {},
   "source": [
    "# Jens-------------"
   ]
  },
  {
   "cell_type": "markdown",
   "metadata": {},
   "source": [
    "# <font color='blue'>Part 3</font>: Prediction - Late delivery (yes or no)"
   ]
  },
  {
   "cell_type": "markdown",
   "metadata": {},
   "source": [
    "This last analysis will seek to predict whether a delivery will be late or not. An online retailer platform like Olist can benefit from this analysis in several different ways: First, simply knowing which factors affect the delivery of orders is useful. Secondly, having this model deployed Olist would be able to warn sellers and customers when a order was predicted to be delivered late. "
   ]
  },
  {
   "cell_type": "markdown",
   "metadata": {},
   "source": [
    "his parameter setting means that the penalties for false predictions in the loss function will be weighted with inverse proportions to the frequencies of the classes. This can solve the problem you describe"
   ]
  },
  {
   "cell_type": "markdown",
   "metadata": {},
   "source": [
    "This model will use logistic regression to perfrom the binary classification, where the the target variable $y$ is defined as: 1 if the order was delivered on time and 0 if it was late. T"
   ]
  },
  {
   "cell_type": "code",
   "execution_count": null,
   "metadata": {},
   "outputs": [],
   "source": [
    "from sklearn import preprocessing\n",
    "from sklearn.model_selection import train_test_split\n",
    "import numpy as np\n",
    "\n",
    "X = delivered_orders[['quantity','order_price','freight_value','Distance','customer_lat','customer_lon','seller_lat', 'seller_lon']]\n",
    "X = preprocessing.StandardScaler().fit_transform(X)\n",
    "\n",
    "y = (delivered_orders.order_estimated_delivery_date > delivered_orders.order_delivered_customer_date).astype(int)\n",
    "\n",
    "X_train, X_test, y_train, y_test = train_test_split(X, y, test_size=0.33, random_state=42)"
   ]
  },
  {
   "cell_type": "code",
   "execution_count": null,
   "metadata": {},
   "outputs": [],
   "source": [
    "y.value_counts()"
   ]
  },
  {
   "cell_type": "code",
   "execution_count": null,
   "metadata": {},
   "outputs": [],
   "source": [
    "from sklearn.linear_model import LogisticRegression\n",
    "from sklearn.metrics import classification_report\n",
    "\n",
    "clf = LogisticRegression(random_state=0, solver='lbfgs',\n",
    "                          multi_class='multinomial', class_weight='balanced').fit(X_train, y_train)\n",
    "y_pred = clf.predict(X_test)\n",
    "print(classification_report(y_test, y_pred))"
   ]
  },
  {
   "cell_type": "code",
   "execution_count": null,
   "metadata": {},
   "outputs": [],
   "source": [
    "name = ['quantity','order_price','freight_value','Distance','customer_lat','customer_lon','seller_lat', 'seller_lon']\n",
    "coef = clf.coef_[0]"
   ]
  },
  {
   "cell_type": "code",
   "execution_count": null,
   "metadata": {},
   "outputs": [],
   "source": [
    "list(zip(name,coef))"
   ]
  },
  {
   "cell_type": "markdown",
   "metadata": {},
   "source": [
    "Interpretation of coefficients: \n",
    "- Orders with larger quantity are more likely to be delivered on time. \n",
    "- Orders with longer distance between seller and customer are less likely to be delivered on time.\n",
    "- Orders with a high customer longitude coordinate are less likely to be delivered on time.\n",
    "close to coast "
   ]
  },
  {
   "cell_type": "markdown",
   "metadata": {},
   "source": [
    "Features that could prove useful to this model, but has not yet been implemented:\n",
    "- Weather forcast data\n",
    "- Historical weather data\n",
    "- Real distance between seller and customer (on roads)\n",
    "- Seller track record (in terms of number of previously late deliveries. \n",
    "- Seller reviews (average)\n",
    "\n",
    "\n",
    "- Previously late delivery"
   ]
  },
  {
   "cell_type": "code",
   "execution_count": null,
   "metadata": {},
   "outputs": [],
   "source": [
    "%matplotlib inline\n",
    "\n",
    "import matplotlib.pyplot as plt\n",
    "import geopandas as gpd\n",
    "import pysal as ps\n",
    "from pysal.viz.splot import mapping as maps"
   ]
  },
  {
   "cell_type": "code",
   "execution_count": null,
   "metadata": {},
   "outputs": [],
   "source": [
    "delivered_orders['late'] = y\n",
    "\n",
    "late_orders = delivered_orders[delivered_orders.late == 0]\n",
    "df = late_orders[['customer_lat','customer_lon']]\n",
    "gdf = gpd.GeoDataFrame(\n",
    "    df, geometry=gpd.points_from_xy(df.customer_lon, df.customer_lat))\n",
    "\n",
    "orders = delivered_orders[delivered_orders.late == 1]\n",
    "df1 = orders[['customer_lat','customer_lon']]\n",
    "gdf1 = gpd.GeoDataFrame(\n",
    "    df1, geometry=gpd.points_from_xy(df1.customer_lon, df1.customer_lat))"
   ]
  },
  {
   "cell_type": "code",
   "execution_count": null,
   "metadata": {},
   "outputs": [],
   "source": [
    "delivered_orders.groupby(['customer_lat','customer_lon']).agg({'late':'sum', 'customer_lat':'count'})"
   ]
  },
  {
   "cell_type": "code",
   "execution_count": null,
   "metadata": {},
   "outputs": [],
   "source": [
    "# define color dictionary\n",
    "color_map = {1:\"blue\", 0:'red'}"
   ]
  },
  {
   "cell_type": "code",
   "execution_count": null,
   "metadata": {},
   "outputs": [],
   "source": [
    "plt.rcParams['figure.figsize'] = [14, 6]\n",
    "world = gpd.read_file(gpd.datasets.get_path('naturalearth_lowres'))\n",
    "\n",
    "# restrict to South America.\n",
    "ax1 = world[world.continent == 'South America'].plot(\n",
    "    color='white', edgecolor='black')\n",
    "\n",
    "ax2 = world[world.continent == 'South America'].plot(\n",
    "    color='white', edgecolor='black')\n",
    "\n",
    "\n",
    "colors_late = [color_map[x] for x in late_orders['late']]\n",
    "gdf.plot(ax=ax1, color=colors_late, alpha=0.3, markersize=.1)\n",
    "\n",
    "colors = [color_map[x] for x in orders['late']]\n",
    "gdf1.plot(ax=ax2, color=colors, alpha=0.1, markersize=.1)\n",
    "plt.show()\n"
   ]
  },
  {
   "cell_type": "code",
   "execution_count": null,
   "metadata": {},
   "outputs": [],
   "source": []
  },
  {
   "cell_type": "code",
   "execution_count": null,
   "metadata": {},
   "outputs": [],
   "source": []
  },
  {
   "cell_type": "markdown",
   "metadata": {},
   "source": [
    "# <font color='blue'>Part 4</font>: Clustering - Warehouse locations"
   ]
  },
  {
   "cell_type": "code",
   "execution_count": null,
   "metadata": {},
   "outputs": [],
   "source": []
  },
  {
   "cell_type": "code",
   "execution_count": null,
   "metadata": {},
   "outputs": [],
   "source": []
  },
  {
   "cell_type": "markdown",
   "metadata": {},
   "source": [
    "# Conclusion\n",
    "\n",
    "- Operationelle vi går ind og optimere på for at sikre god oplevelse under og efter køb\n",
    "- Der er et problem givet at 8% forsinkelser over alle ordre\n",
    "- Går ind og kigger på hvad vi deskriptivt kan udlede af årsager til forsinkelserne, finder at: (1) det i høj grad er logistikudbyderens skyld at varerne er forsinket. (2) I mindre del at tilfældene er det seller som ikke har varen parat når logistikudbyderen skal 'tage over' \n",
    "- Derefter kigger vi på den estimerede tid til delivery, som informeres om efter køb. Her kan vi se at Olist systematisk informerer om en langt højere leveringstid end den tid de faktisk bruger på at levere. Vi finder frem til at vi godt kan lære af data, og at de kan give langt mere præcise leveringsestimater ved brug af de modeller, som er lavet. \n",
    "- Sidst går vi ind og ser om vi kan flagge potentielt forsinkede ordre inden det sker. Her påvises også at forskellige modeller kan fange et signal om, om en ordre leveres til tiden. --> fremtidigt arbejde hertil kan være at prediktere den faktiske forsinkelse, såfremt modellen prediktere at en vare bliver forsinket. \n",
    "\n",
    "\n",
    "- (1) --> bedre forhandling af logistikaftaler, fx som pålægning af bøder ved for sen levering fra 3. part. \n",
    "- (2) --> kan løses ved eksempelvis varelagre og på\n",
    "- (3) --> de nye og bedre estimater af leverancer kan både bruges til at tiltrække kunder og til at fastholde kunder \n",
    "- (4) --> beredskabspakke som ved flagget ordre kan tages i brug for at ændre udfaldet, samtidig med at kunden bliver informeret hurtigst muligt, med et nyt og præcist estimat for levering --> bliver dette gjort korrekt, så forbedre det også den første KPI (antal forsinkelser). \n",
    "\n",
    "\n"
   ]
  },
  {
   "cell_type": "markdown",
   "metadata": {},
   "source": [
    "Estimated time of delivery\n",
    "- her kan vi følge to KPI'er, hhv. Customer attention og Customer retention hvis vi kan begynde og reklamere med en hurtig og præcis leveringstid --> så dvs. vi giver dem information om deres leverance inden de køber frem for efter --> øget tilfredshed\n",
    "\n",
    "Prediction late yes/no\n",
    "- antallet af forsinkelser er en KPI i sig selv\n",
    "- deskriptivt forarbejde, som viser hvad der oftest går galt \n",
    "- videre arbejde er derefter at kunne gå ind og sige: hvor meget er pakken forsinket\n",
    "- --> så når vi får et signal om en forsinkelse så skal der SKE NOGET --> betydende faktorer kunne sige noget om.\n",
    "- ideen er at vi på en eller anden måde skal kunne flagge en ordre og derefter have en toolbox som kan hjælpe med at undgå eller mindske denne forsinkelse, samt informere kunden så snart det opdaget og give dem en præcis prædiktion på en ny leveringsdag. "
   ]
  },
  {
   "cell_type": "code",
   "execution_count": null,
   "metadata": {},
   "outputs": [],
   "source": []
  }
 ],
 "metadata": {
  "kernelspec": {
   "display_name": "Python 3",
   "language": "python",
   "name": "python3"
  },
  "language_info": {
   "codemirror_mode": {
    "name": "ipython",
    "version": 3
   },
   "file_extension": ".py",
   "mimetype": "text/x-python",
   "name": "python",
   "nbconvert_exporter": "python",
   "pygments_lexer": "ipython3",
   "version": "3.7.3"
  }
 },
 "nbformat": 4,
 "nbformat_minor": 2
}
