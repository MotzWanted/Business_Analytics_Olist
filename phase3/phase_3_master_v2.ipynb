{
 "cells": [
  {
   "cell_type": "markdown",
   "metadata": {},
   "source": [
    "\n",
    "\n",
    "a customer segmentation analysis and a customer life time value prediction. A customer segmentation analysis is crucial for business in order to identify and understand their customers needs and behaviors. If Olist wants to take direct actions in order to increase the revenue of customers then it needs to take different actions based on the different needs the customers might have. "
   ]
  },
  {
   "cell_type": "markdown",
   "metadata": {},
   "source": [
    "# Overview\n",
    "This workbook consist of three parts; a discriptive analysis, a prediction of estimated delivery time (regression) and a prediction of late deliveries (classification).\n",
    "\n",
    "This notebook got three purposes:\n",
    "1. Explore the delivery data provided by Olist.\n",
    "2. Improve the estimated delivery date given to customers at the purchase moment.\n",
    "3. Predict whether a delivery is going to be late."
   ]
  },
  {
   "cell_type": "code",
   "execution_count": 234,
   "metadata": {},
   "outputs": [],
   "source": [
    "#3. Use clustering (k-means) to sugest where and how many warehouses to construct"
   ]
  },
  {
   "cell_type": "markdown",
   "metadata": {},
   "source": [
    "## KPI\n",
    "\n",
    "TODO"
   ]
  },
  {
   "cell_type": "markdown",
   "metadata": {},
   "source": [
    "# <font color='blue'>Setup 1</font>: Load Libraries"
   ]
  },
  {
   "cell_type": "code",
   "execution_count": 278,
   "metadata": {
    "scrolled": true
   },
   "outputs": [
    {
     "data": {
      "image/png": "[encoded data removed]",
      "text/plain": [
       "<Figure size 864x72 with 1 Axes>"
      ]
     },
     "metadata": {},
     "output_type": "display_data"
    }
   ],
   "source": [
    "import numpy as np\n",
    "import pandas as pd\n",
    "import sys, os\n",
    "import seaborn as sns\n",
    "import matplotlib.pyplot as plt\n",
    "from scipy import stats\n",
    "import random\n",
    "\n",
    "%matplotlib inline\n",
    "sns.set()\n",
    "sns.palplot(sns.color_palette(\"Paired\"))\n",
    "plt.rcParams['figure.figsize'] = (10.0, 5.0)\n",
    "plt.style.use('ggplot')\n",
    "import warnings\n",
    "warnings.filterwarnings('ignore')"
   ]
  },
  {
   "cell_type": "markdown",
   "metadata": {},
   "source": [
    "# <font color='blue'>Setup 2</font>: Load data\n",
    "\n",
    "The workbook will focus on the delivery and Geospatial part of the OLIST dataset. Therefore, the following datasets are loaded and joined:\n",
    "\n",
    "- olist_customers_dataset\n",
    "- olist_order_items_dataset\n",
    "- olist_customers_dataset\n",
    "- olist_sellers_dataset\n",
    "- olist_geolocation_dataset\n",
    "\n",
    "These are joined by the left-join operation and dataformat is set. "
   ]
  },
  {
   "cell_type": "code",
   "execution_count": 140,
   "metadata": {},
   "outputs": [],
   "source": [
    "def load_table(tablename):\n",
    "    \"\"\" Defining the current directory and path to where data are located. Joining path to\n",
    "    data folder and table name in order to read the table into a Pandas DataFrame\"\"\"\n",
    "    file_path = os.path.join ('../data/') \n",
    "    df = os.path.join(file_path, tablename) \n",
    "    df = pd.read_csv(df, sep=',', encoding=\"latin1\")\n",
    "    return df"
   ]
  },
  {
   "cell_type": "code",
   "execution_count": 238,
   "metadata": {},
   "outputs": [],
   "source": [
    "# Reading the olist_orders tables\n",
    "orders = load_table('olist_orders_dataset.csv')\n",
    "order_items = load_table('olist_order_items_dataset.csv')\n",
    "customers = load_table('olist_customers_dataset.csv')\n",
    "sellers = load_table('olist_sellers_dataset.csv')\n",
    "geo = load_table('olist_geolocation_dataset.csv')\n",
    "\n",
    "# Rename column names\n",
    "customers.columns = ['customer_id','customer_unique_id','geolocation_zip_code_prefix',\n",
    "                     'customer_city','customer_state']\n",
    "sellers.columns = ['seller_id','geolocation_zip_code_prefix',\n",
    "                     'seller_city','seller_state']"
   ]
  },
  {
   "cell_type": "markdown",
   "metadata": {},
   "source": [
    "### Jensen kan måske forklare dette"
   ]
  },
  {
   "cell_type": "code",
   "execution_count": 240,
   "metadata": {},
   "outputs": [],
   "source": [
    "order_items_filt = order_items.groupby(['order_id', 'product_id','seller_id','shipping_limit_date','freight_value','price'])['order_item_id'].agg({\"quantity\":\"max\"}).reset_index()\n",
    "order_items_filt['order_price'] = order_items_filt['price']*order_items_filt['quantity']\n",
    "order_items_filt = order_items_filt.groupby(['order_id','seller_id','shipping_limit_date','freight_value','quantity'])['order_price'].agg('sum').reset_index()"
   ]
  },
  {
   "cell_type": "code",
   "execution_count": null,
   "metadata": {},
   "outputs": [],
   "source": [
    "# Removing outliers based on coordinates\n",
    "#Brazils most Northern spot is at 5 deg 16′ 27.8″ N latitude.;\n",
    "geo = geo[geo.geolocation_lat <= 5.27438888]\n",
    "#it’s most Western spot is at 73 deg, 58′ 58.19″W Long.\n",
    "geo = geo[geo.geolocation_lng >= -73.98283055]\n",
    "#It’s most southern spot is at 33 deg, 45′ 04.21″ S Latitude.\n",
    "geo = geo[geo.geolocation_lat >= -33.75116944]\n",
    "#It’s most Eastern spot is 34 deg, 47′ 35.33″ W Long.\n",
    "geo = geo[geo.geolocation_lng <=  -34.79314722]\n",
    "#source: https://www.kaggle.com/andresionek/geospatial-analysis-of-brazilian-e-commerce"
   ]
  },
  {
   "cell_type": "markdown",
   "metadata": {},
   "source": [
    "# <font color='blue'>Setup 3</font>: Merge datasets and clean"
   ]
  },
  {
   "cell_type": "markdown",
   "metadata": {},
   "source": [
    "Looking at the geolocations"
   ]
  },
  {
   "cell_type": "code",
   "execution_count": 145,
   "metadata": {},
   "outputs": [
    {
     "data": {
      "text/html": [
       "<div>\n",
       "<style scoped>\n",
       "    .dataframe tbody tr th:only-of-type {\n",
       "        vertical-align: middle;\n",
       "    }\n",
       "\n",
       "    .dataframe tbody tr th {\n",
       "        vertical-align: top;\n",
       "    }\n",
       "\n",
       "    .dataframe thead th {\n",
       "        text-align: right;\n",
       "    }\n",
       "</style>\n",
       "<table border=\"1\" class=\"dataframe\">\n",
       "  <thead>\n",
       "    <tr style=\"text-align: right;\">\n",
       "      <th></th>\n",
       "      <th>geolocation_zip_code_prefix</th>\n",
       "      <th>geolocation_lat</th>\n",
       "      <th>geolocation_lng</th>\n",
       "      <th>geolocation_city</th>\n",
       "      <th>geolocation_state</th>\n",
       "    </tr>\n",
       "  </thead>\n",
       "  <tbody>\n",
       "    <tr>\n",
       "      <th>0</th>\n",
       "      <td>1037</td>\n",
       "      <td>-23.545621</td>\n",
       "      <td>-46.639292</td>\n",
       "      <td>sao paulo</td>\n",
       "      <td>SP</td>\n",
       "    </tr>\n",
       "    <tr>\n",
       "      <th>1</th>\n",
       "      <td>1046</td>\n",
       "      <td>-23.546081</td>\n",
       "      <td>-46.644820</td>\n",
       "      <td>sao paulo</td>\n",
       "      <td>SP</td>\n",
       "    </tr>\n",
       "    <tr>\n",
       "      <th>2</th>\n",
       "      <td>1046</td>\n",
       "      <td>-23.546129</td>\n",
       "      <td>-46.642951</td>\n",
       "      <td>sao paulo</td>\n",
       "      <td>SP</td>\n",
       "    </tr>\n",
       "    <tr>\n",
       "      <th>3</th>\n",
       "      <td>1041</td>\n",
       "      <td>-23.544392</td>\n",
       "      <td>-46.639499</td>\n",
       "      <td>sao paulo</td>\n",
       "      <td>SP</td>\n",
       "    </tr>\n",
       "    <tr>\n",
       "      <th>4</th>\n",
       "      <td>1035</td>\n",
       "      <td>-23.541578</td>\n",
       "      <td>-46.641607</td>\n",
       "      <td>sao paulo</td>\n",
       "      <td>SP</td>\n",
       "    </tr>\n",
       "  </tbody>\n",
       "</table>\n",
       "</div>"
      ],
      "text/plain": [
       "   geolocation_zip_code_prefix  geolocation_lat  geolocation_lng  \\\n",
       "0                         1037       -23.545621       -46.639292   \n",
       "1                         1046       -23.546081       -46.644820   \n",
       "2                         1046       -23.546129       -46.642951   \n",
       "3                         1041       -23.544392       -46.639499   \n",
       "4                         1035       -23.541578       -46.641607   \n",
       "\n",
       "  geolocation_city geolocation_state  \n",
       "0        sao paulo                SP  \n",
       "1        sao paulo                SP  \n",
       "2        sao paulo                SP  \n",
       "3        sao paulo                SP  \n",
       "4        sao paulo                SP  "
      ]
     },
     "execution_count": 145,
     "metadata": {},
     "output_type": "execute_result"
    }
   ],
   "source": [
    "geo.head()"
   ]
  },
  {
   "cell_type": "markdown",
   "metadata": {},
   "source": [
    "Since the zip-codes has several different geolocations very close to each other, we will aggregate those different locations into a mean location. explain.... "
   ]
  },
  {
   "cell_type": "code",
   "execution_count": 146,
   "metadata": {},
   "outputs": [],
   "source": [
    "geo = geo.groupby('geolocation_zip_code_prefix')['geolocation_lat','geolocation_lng'].agg('mean').reset_index()"
   ]
  },
  {
   "cell_type": "markdown",
   "metadata": {},
   "source": [
    "Now that each zipcode has a unique geolocations, they are joined (left) on the customer and sellers dataset"
   ]
  },
  {
   "cell_type": "code",
   "execution_count": 147,
   "metadata": {},
   "outputs": [],
   "source": [
    "# Merging geo location to sellers and customers dataset\n",
    "customers_geo = customers.merge(geo, on = \"geolocation_zip_code_prefix\", how = \"left\")\n",
    "customers_geo = customers_geo[['customer_id', 'geolocation_lat','geolocation_lng']]\n",
    "customers_geo.columns = ['customer_id', 'customer_lat','customer_lon']\n",
    "\n",
    "sellers_geo = sellers.merge(geo, on = \"geolocation_zip_code_prefix\", how = \"left\")\n",
    "sellers_geo = sellers_geo[['seller_id', 'geolocation_lat','geolocation_lng']]\n",
    "sellers_geo.columns = ['seller_id', 'seller_lat','seller_lon']"
   ]
  },
  {
   "cell_type": "markdown",
   "metadata": {},
   "source": [
    "jensen forklar kort"
   ]
  },
  {
   "cell_type": "code",
   "execution_count": 148,
   "metadata": {},
   "outputs": [],
   "source": [
    "# Merging geo location to orders dataset\n",
    "order_items_all = order_items_filt.merge(sellers_geo, on='seller_id', how='left')\n",
    "\n",
    "orders_all = orders.merge(customers_geo, on='customer_id', how='left')\n",
    "orders_all = orders_all.merge(order_items_all, on='order_id',how='left')\n",
    "\n",
    "orders_all = orders_all[['order_id','order_status', 'customer_id', 'seller_id', 'order_purchase_timestamp',\n",
    "                         'order_approved_at','order_delivered_carrier_date','shipping_limit_date',\n",
    "                         'order_delivered_customer_date','order_estimated_delivery_date','order_price',\n",
    "                         'quantity','freight_value','customer_lat','customer_lon','seller_lat', 'seller_lon']]"
   ]
  },
  {
   "cell_type": "markdown",
   "metadata": {},
   "source": [
    "In this analysis only the orders with an order status of \"delivered\" are considered. As seen from the list below several different order statuses exist. "
   ]
  },
  {
   "cell_type": "code",
   "execution_count": 268,
   "metadata": {
    "scrolled": true
   },
   "outputs": [
    {
     "name": "stdout",
     "output_type": "stream",
     "text": [
      "['delivered', 'unavailable', 'created', 'shipped', 'approved', 'processing', 'invoiced', 'canceled']\n"
     ]
    }
   ],
   "source": [
    "print(list(set(orders_all.order_status)))\n",
    "# Filter all orders that has been delivered\n",
    "delivered_orders = orders_all[orders_all['order_status']=='delivered']\n",
    "delivered_orders = delivered_orders.drop('order_status', axis=1)"
   ]
  },
  {
   "cell_type": "markdown",
   "metadata": {},
   "source": [
    "All the timestamp columns are changed to pandas datetime format"
   ]
  },
  {
   "cell_type": "code",
   "execution_count": 269,
   "metadata": {},
   "outputs": [],
   "source": [
    "delivered_orders.order_purchase_timestamp = pd.to_datetime(delivered_orders.order_purchase_timestamp)\n",
    "delivered_orders.order_approved_at = pd.to_datetime(delivered_orders.order_approved_at)\n",
    "delivered_orders.shipping_limit_date = pd.to_datetime(delivered_orders.shipping_limit_date)\n",
    "delivered_orders.order_delivered_carrier_date = pd.to_datetime(delivered_orders.order_delivered_carrier_date)\n",
    "delivered_orders.order_estimated_delivery_date = pd.to_datetime(delivered_orders.order_estimated_delivery_date)\n",
    "delivered_orders.order_delivered_customer_date = pd.to_datetime(delivered_orders.order_delivered_customer_date)"
   ]
  },
  {
   "cell_type": "markdown",
   "metadata": {},
   "source": [
    "First the number of missing values (NaN) are counted for each column and then they are removed"
   ]
  },
  {
   "cell_type": "code",
   "execution_count": 273,
   "metadata": {},
   "outputs": [
    {
     "name": "stdout",
     "output_type": "stream",
     "text": [
      "                               Number  Percentage\n",
      "order_id                            0      0.0000\n",
      "customer_id                         0      0.0000\n",
      "seller_id                           0      0.0000\n",
      "order_purchase_timestamp            0      0.0000\n",
      "order_approved_at                  14      0.0001\n",
      "order_delivered_carrier_date        2      0.0000\n",
      "shipping_limit_date                 0      0.0000\n",
      "order_delivered_customer_date       8      0.0001\n",
      "order_estimated_delivery_date       0      0.0000\n",
      "order_price                         0      0.0000\n",
      "quantity                            0      0.0000\n",
      "freight_value                       0      0.0000\n",
      "customer_lat                      274      0.0027\n",
      "customer_lon                      274      0.0027\n",
      "seller_lat                        222      0.0022\n",
      "seller_lon                        222      0.0022\n"
     ]
    }
   ],
   "source": [
    "def count_missing_values(df):\n",
    "    missing = df.isna()\n",
    "    num_missing = pd.DataFrame(missing.sum(),columns=['Number'])\n",
    "    num_missing['Percentage'] = round(num_missing / len(df),4)\n",
    "    print(num_missing)\n",
    "          \n",
    "count_missing_values(delivered_orders)\n",
    "delivered_orders = delivered_orders.dropna()"
   ]
  },
  {
   "cell_type": "markdown",
   "metadata": {},
   "source": [
    "# <font color='blue'>Part 1</font>: Descriptive analysis"
   ]
  },
  {
   "cell_type": "markdown",
   "metadata": {},
   "source": [
    "When a purchase is approved, the seller is given a `shipping_limit_date` telling when they have to pass on the product to a third party logistic company. While the customer is given a `order_estimated_delivery_date`."
   ]
  },
  {
   "cell_type": "code",
   "execution_count": 154,
   "metadata": {},
   "outputs": [],
   "source": [
    "#Calculating difference between order_estimated_delivery_date and the actual order_delivered_customer_date\n",
    "delivered_orders['delivery_difference'] = delivered_orders.order_estimated_delivery_date - delivered_orders.order_delivered_customer_date\n",
    "delivered_orders['delivery_difference'] = delivered_orders['delivery_difference'].dt.days"
   ]
  },
  {
   "cell_type": "code",
   "execution_count": 155,
   "metadata": {},
   "outputs": [
    {
     "data": {
      "text/plain": [
       "count    99678.000000\n",
       "mean        10.987720\n",
       "std         10.208975\n",
       "min       -189.000000\n",
       "25%          6.000000\n",
       "50%         12.000000\n",
       "75%         16.000000\n",
       "max        146.000000\n",
       "Name: delivery_difference, dtype: float64"
      ]
     },
     "execution_count": 155,
     "metadata": {},
     "output_type": "execute_result"
    }
   ],
   "source": [
    "delivered_orders['delivery_difference'].describe()"
   ]
  },
  {
   "cell_type": "markdown",
   "metadata": {},
   "source": [
    "The product is recieved by the customer 10,98 days ahead of the estimated delivery day."
   ]
  },
  {
   "cell_type": "code",
   "execution_count": 157,
   "metadata": {},
   "outputs": [
    {
     "name": "stdout",
     "output_type": "stream",
     "text": [
      "Number of orders delivered later than the estimated delivery data: 7943\n"
     ]
    }
   ],
   "source": [
    "print(\"Number of orders delivered later than the estimated delivery data:\",len(delivered_orders[delivered_orders['delivery_difference']<0]))"
   ]
  },
  {
   "cell_type": "markdown",
   "metadata": {},
   "source": [
    "Meaning ~8% of the orders was delivered later than the estimated delivery date."
   ]
  },
  {
   "cell_type": "markdown",
   "metadata": {},
   "source": [
    "In the olist_orders_dataset we have 95978 unique orders. I.e. ~4% procent of the orders includes multiple sellers. Thus, one product from one seller can be delivered on time, while the other are late.\n",
    "\n",
    "We want to see whether we are to blame the sellers or the logistic firm for the orders delivered late. Therefor we plot all delivered orders with the shipping difference as the x-axis and delivery difference as the y-axis.\n",
    "\n",
    "- If Y > 0 the order was delivered on time. \n",
    "- If Y < 0 and X > 0 the logistic firm is the one to blame\n",
    "- If Y < 0 and X >= Y then the seller is the one to blame\n",
    "- If Y < 0 and X < 0 the both the seller and the logistic firm is to blame"
   ]
  },
  {
   "cell_type": "code",
   "execution_count": 158,
   "metadata": {},
   "outputs": [],
   "source": [
    "#Calculating difference between shipping_limit_date and order_delivered_carrier_date\n",
    "delivered_orders['shipping_difference'] = delivered_orders.shipping_limit_date - delivered_orders.order_delivered_carrier_date\n",
    "delivered_orders['shipping_difference'] = delivered_orders['shipping_difference'].dt.days"
   ]
  },
  {
   "cell_type": "markdown",
   "metadata": {},
   "source": []
  },
  {
   "cell_type": "code",
   "execution_count": 264,
   "metadata": {},
   "outputs": [
    {
     "ename": "KeyError",
     "evalue": "'[89664] not found in axis'",
     "output_type": "error",
     "traceback": [
      "\u001b[0;31m---------------------------------------------------------------------------\u001b[0m",
      "\u001b[0;31mKeyError\u001b[0m                                  Traceback (most recent call last)",
      "\u001b[0;32m<ipython-input-264-fc1c2262444e>\u001b[0m in \u001b[0;36m<module>\u001b[0;34m\u001b[0m\n\u001b[1;32m      1\u001b[0m \u001b[0;31m# Removing outlier\u001b[0m\u001b[0;34m\u001b[0m\u001b[0;34m\u001b[0m\u001b[0;34m\u001b[0m\u001b[0m\n\u001b[0;32m----> 2\u001b[0;31m \u001b[0mdelivered_orders\u001b[0m \u001b[0;34m=\u001b[0m \u001b[0mdelivered_orders\u001b[0m\u001b[0;34m.\u001b[0m\u001b[0mdrop\u001b[0m\u001b[0;34m(\u001b[0m\u001b[0;36m89664\u001b[0m\u001b[0;34m)\u001b[0m\u001b[0;34m\u001b[0m\u001b[0;34m\u001b[0m\u001b[0m\n\u001b[0m\u001b[1;32m      3\u001b[0m \u001b[0mdelivered_orders\u001b[0m\u001b[0;34m[\u001b[0m\u001b[0;34m'shipping_difference'\u001b[0m\u001b[0;34m]\u001b[0m\u001b[0;34m.\u001b[0m\u001b[0mdescribe\u001b[0m\u001b[0;34m(\u001b[0m\u001b[0;34m)\u001b[0m\u001b[0;34m\u001b[0m\u001b[0;34m\u001b[0m\u001b[0m\n",
      "\u001b[0;32m/anaconda3/lib/python3.7/site-packages/pandas/core/frame.py\u001b[0m in \u001b[0;36mdrop\u001b[0;34m(self, labels, axis, index, columns, level, inplace, errors)\u001b[0m\n\u001b[1;32m   4115\u001b[0m             \u001b[0mlevel\u001b[0m\u001b[0;34m=\u001b[0m\u001b[0mlevel\u001b[0m\u001b[0;34m,\u001b[0m\u001b[0;34m\u001b[0m\u001b[0;34m\u001b[0m\u001b[0m\n\u001b[1;32m   4116\u001b[0m             \u001b[0minplace\u001b[0m\u001b[0;34m=\u001b[0m\u001b[0minplace\u001b[0m\u001b[0;34m,\u001b[0m\u001b[0;34m\u001b[0m\u001b[0;34m\u001b[0m\u001b[0m\n\u001b[0;32m-> 4117\u001b[0;31m             \u001b[0merrors\u001b[0m\u001b[0;34m=\u001b[0m\u001b[0merrors\u001b[0m\u001b[0;34m,\u001b[0m\u001b[0;34m\u001b[0m\u001b[0;34m\u001b[0m\u001b[0m\n\u001b[0m\u001b[1;32m   4118\u001b[0m         )\n\u001b[1;32m   4119\u001b[0m \u001b[0;34m\u001b[0m\u001b[0m\n",
      "\u001b[0;32m/anaconda3/lib/python3.7/site-packages/pandas/core/generic.py\u001b[0m in \u001b[0;36mdrop\u001b[0;34m(self, labels, axis, index, columns, level, inplace, errors)\u001b[0m\n\u001b[1;32m   3912\u001b[0m         \u001b[0;32mfor\u001b[0m \u001b[0maxis\u001b[0m\u001b[0;34m,\u001b[0m \u001b[0mlabels\u001b[0m \u001b[0;32min\u001b[0m \u001b[0maxes\u001b[0m\u001b[0;34m.\u001b[0m\u001b[0mitems\u001b[0m\u001b[0;34m(\u001b[0m\u001b[0;34m)\u001b[0m\u001b[0;34m:\u001b[0m\u001b[0;34m\u001b[0m\u001b[0;34m\u001b[0m\u001b[0m\n\u001b[1;32m   3913\u001b[0m             \u001b[0;32mif\u001b[0m \u001b[0mlabels\u001b[0m \u001b[0;32mis\u001b[0m \u001b[0;32mnot\u001b[0m \u001b[0;32mNone\u001b[0m\u001b[0;34m:\u001b[0m\u001b[0;34m\u001b[0m\u001b[0;34m\u001b[0m\u001b[0m\n\u001b[0;32m-> 3914\u001b[0;31m                 \u001b[0mobj\u001b[0m \u001b[0;34m=\u001b[0m \u001b[0mobj\u001b[0m\u001b[0;34m.\u001b[0m\u001b[0m_drop_axis\u001b[0m\u001b[0;34m(\u001b[0m\u001b[0mlabels\u001b[0m\u001b[0;34m,\u001b[0m \u001b[0maxis\u001b[0m\u001b[0;34m,\u001b[0m \u001b[0mlevel\u001b[0m\u001b[0;34m=\u001b[0m\u001b[0mlevel\u001b[0m\u001b[0;34m,\u001b[0m \u001b[0merrors\u001b[0m\u001b[0;34m=\u001b[0m\u001b[0merrors\u001b[0m\u001b[0;34m)\u001b[0m\u001b[0;34m\u001b[0m\u001b[0;34m\u001b[0m\u001b[0m\n\u001b[0m\u001b[1;32m   3915\u001b[0m \u001b[0;34m\u001b[0m\u001b[0m\n\u001b[1;32m   3916\u001b[0m         \u001b[0;32mif\u001b[0m \u001b[0minplace\u001b[0m\u001b[0;34m:\u001b[0m\u001b[0;34m\u001b[0m\u001b[0;34m\u001b[0m\u001b[0m\n",
      "\u001b[0;32m/anaconda3/lib/python3.7/site-packages/pandas/core/generic.py\u001b[0m in \u001b[0;36m_drop_axis\u001b[0;34m(self, labels, axis, level, errors)\u001b[0m\n\u001b[1;32m   3944\u001b[0m                 \u001b[0mnew_axis\u001b[0m \u001b[0;34m=\u001b[0m \u001b[0maxis\u001b[0m\u001b[0;34m.\u001b[0m\u001b[0mdrop\u001b[0m\u001b[0;34m(\u001b[0m\u001b[0mlabels\u001b[0m\u001b[0;34m,\u001b[0m \u001b[0mlevel\u001b[0m\u001b[0;34m=\u001b[0m\u001b[0mlevel\u001b[0m\u001b[0;34m,\u001b[0m \u001b[0merrors\u001b[0m\u001b[0;34m=\u001b[0m\u001b[0merrors\u001b[0m\u001b[0;34m)\u001b[0m\u001b[0;34m\u001b[0m\u001b[0;34m\u001b[0m\u001b[0m\n\u001b[1;32m   3945\u001b[0m             \u001b[0;32melse\u001b[0m\u001b[0;34m:\u001b[0m\u001b[0;34m\u001b[0m\u001b[0;34m\u001b[0m\u001b[0m\n\u001b[0;32m-> 3946\u001b[0;31m                 \u001b[0mnew_axis\u001b[0m \u001b[0;34m=\u001b[0m \u001b[0maxis\u001b[0m\u001b[0;34m.\u001b[0m\u001b[0mdrop\u001b[0m\u001b[0;34m(\u001b[0m\u001b[0mlabels\u001b[0m\u001b[0;34m,\u001b[0m \u001b[0merrors\u001b[0m\u001b[0;34m=\u001b[0m\u001b[0merrors\u001b[0m\u001b[0;34m)\u001b[0m\u001b[0;34m\u001b[0m\u001b[0;34m\u001b[0m\u001b[0m\n\u001b[0m\u001b[1;32m   3947\u001b[0m             \u001b[0mresult\u001b[0m \u001b[0;34m=\u001b[0m \u001b[0mself\u001b[0m\u001b[0;34m.\u001b[0m\u001b[0mreindex\u001b[0m\u001b[0;34m(\u001b[0m\u001b[0;34m**\u001b[0m\u001b[0;34m{\u001b[0m\u001b[0maxis_name\u001b[0m\u001b[0;34m:\u001b[0m \u001b[0mnew_axis\u001b[0m\u001b[0;34m}\u001b[0m\u001b[0;34m)\u001b[0m\u001b[0;34m\u001b[0m\u001b[0;34m\u001b[0m\u001b[0m\n\u001b[1;32m   3948\u001b[0m \u001b[0;34m\u001b[0m\u001b[0m\n",
      "\u001b[0;32m/anaconda3/lib/python3.7/site-packages/pandas/core/indexes/base.py\u001b[0m in \u001b[0;36mdrop\u001b[0;34m(self, labels, errors)\u001b[0m\n\u001b[1;32m   5338\u001b[0m         \u001b[0;32mif\u001b[0m \u001b[0mmask\u001b[0m\u001b[0;34m.\u001b[0m\u001b[0many\u001b[0m\u001b[0;34m(\u001b[0m\u001b[0;34m)\u001b[0m\u001b[0;34m:\u001b[0m\u001b[0;34m\u001b[0m\u001b[0;34m\u001b[0m\u001b[0m\n\u001b[1;32m   5339\u001b[0m             \u001b[0;32mif\u001b[0m \u001b[0merrors\u001b[0m \u001b[0;34m!=\u001b[0m \u001b[0;34m\"ignore\"\u001b[0m\u001b[0;34m:\u001b[0m\u001b[0;34m\u001b[0m\u001b[0;34m\u001b[0m\u001b[0m\n\u001b[0;32m-> 5340\u001b[0;31m                 \u001b[0;32mraise\u001b[0m \u001b[0mKeyError\u001b[0m\u001b[0;34m(\u001b[0m\u001b[0;34m\"{} not found in axis\"\u001b[0m\u001b[0;34m.\u001b[0m\u001b[0mformat\u001b[0m\u001b[0;34m(\u001b[0m\u001b[0mlabels\u001b[0m\u001b[0;34m[\u001b[0m\u001b[0mmask\u001b[0m\u001b[0;34m]\u001b[0m\u001b[0;34m)\u001b[0m\u001b[0;34m)\u001b[0m\u001b[0;34m\u001b[0m\u001b[0;34m\u001b[0m\u001b[0m\n\u001b[0m\u001b[1;32m   5341\u001b[0m             \u001b[0mindexer\u001b[0m \u001b[0;34m=\u001b[0m \u001b[0mindexer\u001b[0m\u001b[0;34m[\u001b[0m\u001b[0;34m~\u001b[0m\u001b[0mmask\u001b[0m\u001b[0;34m]\u001b[0m\u001b[0;34m\u001b[0m\u001b[0;34m\u001b[0m\u001b[0m\n\u001b[1;32m   5342\u001b[0m         \u001b[0;32mreturn\u001b[0m \u001b[0mself\u001b[0m\u001b[0;34m.\u001b[0m\u001b[0mdelete\u001b[0m\u001b[0;34m(\u001b[0m\u001b[0mindexer\u001b[0m\u001b[0;34m)\u001b[0m\u001b[0;34m\u001b[0m\u001b[0;34m\u001b[0m\u001b[0m\n",
      "\u001b[0;31mKeyError\u001b[0m: '[89664] not found in axis'"
     ]
    }
   ],
   "source": [
    "# Removing outlier\n",
    "delivered_orders = delivered_orders.drop(89664)\n",
    "delivered_orders['shipping_difference'].describe()"
   ]
  },
  {
   "cell_type": "markdown",
   "metadata": {},
   "source": [
    "A product is passed on to the logistic firm 2.8 days ahead on average."
   ]
  },
  {
   "cell_type": "code",
   "execution_count": 160,
   "metadata": {},
   "outputs": [],
   "source": [
    "def plot_late_order(df):\n",
    "    X = [x for x in df.delivery_difference]\n",
    "    X = np.array(X)\n",
    "    Y = [y for y in df.shipping_difference]\n",
    "    Y = np.array(Y)\n",
    "\n",
    "    col = np.where((X<0) & (Y<0) & (Y<X),'red',\n",
    "            np.where((X<0) & (Y<0) & (Y>=X),'yellow',\n",
    "                np.where((X<0) & (Y>=0),'orange','grey')))\n",
    "    \n",
    "    fig, ax = plt.subplots()\n",
    "    ax.scatter(X, Y, c=col)\n",
    "    ax.set_xlabel('Delivery difference')\n",
    "    ax.set_ylabel('Shipping difference')\n",
    "    ax.set_title('Orders')\n",
    "    ax.axhline(linewidth=1, color='black')\n",
    "    ax.axvline(linewidth=1, color='black')\n",
    "    plt.show()"
   ]
  },
  {
   "cell_type": "code",
   "execution_count": 176,
   "metadata": {},
   "outputs": [
    {
     "data": {
      "image/png": "[encoded data removed]",
      "text/plain": [
       "<Figure size 720x360 with 1 Axes>"
      ]
     },
     "metadata": {},
     "output_type": "display_data"
    }
   ],
   "source": [
    "plot_late_order(delivered_orders)"
   ]
  },
  {
   "cell_type": "markdown",
   "metadata": {},
   "source": [
    "1. **Grey points**: order was delivered on time\n",
    "2. **Orange points**: order was late because of the logistic firm\n",
    "3. **Yellow points**: order was late because of the seller\n",
    "4. **Red points**: order was late because of both the seller and the logistic firm"
   ]
  },
  {
   "cell_type": "code",
   "execution_count": 177,
   "metadata": {},
   "outputs": [],
   "source": [
    "X = [x for x in delivered_orders.delivery_difference]\n",
    "Y = [y for y in delivered_orders.shipping_difference]\n",
    "\n",
    "grey_points = [i for i, x in enumerate(X) if (X[i]>=0)]\n",
    "orange_points = [i for i, x in enumerate(X) if (X[i]<0) and (Y[i]>=0)]\n",
    "yellow_points = [i for i, x in enumerate(X) if (X[i]<0) and (Y[i]<0) and (Y[i]>=X[i])]\n",
    "red_points = [i for i, x in enumerate(X) if (X[i]<0) and (Y[i]<0) and (Y[i]<X[i])]"
   ]
  },
  {
   "cell_type": "code",
   "execution_count": 178,
   "metadata": {
    "scrolled": true
   },
   "outputs": [
    {
     "name": "stdout",
     "output_type": "stream",
     "text": [
      " 92.03 pct. of the orders was delivered on time\n",
      "  5.78 pct. of the orders was delivered late because of the logistic firm\n",
      "  1.34 pct. of the orders was delivered late because of the seller\n",
      "  0.85 pct. of the orders was delivered late because of both the seller and logistic firm\n"
     ]
    }
   ],
   "source": [
    "print(\" %5.2f pct. of the orders was delivered on time\" %((len(grey_points)/len(X))*100))\n",
    "print(\" %5.2f pct. of the orders was delivered late because of the logistic firm\" %((len(orange_points)/len(X))*100))\n",
    "print(\" %5.2f pct. of the orders was delivered late because of the seller\" %((len(yellow_points)/len(X))*100))\n",
    "print(\" %5.2f pct. of the orders was delivered late because of both the seller and logistic firm\" %((len(red_points)/len(X))*100))"
   ]
  },
  {
   "cell_type": "markdown",
   "metadata": {},
   "source": [
    "# <font color='blue'>Part 2</font>: Prediction - Estimated delivery time"
   ]
  },
  {
   "cell_type": "code",
   "execution_count": 179,
   "metadata": {},
   "outputs": [],
   "source": [
    "delivered_orders['actual'] = delivered_orders.order_delivered_customer_date - delivered_orders.order_purchase_timestamp\n",
    "delivered_orders['actual'] = delivered_orders['actual'].dt.days"
   ]
  },
  {
   "cell_type": "code",
   "execution_count": 180,
   "metadata": {},
   "outputs": [
    {
     "data": {
      "text/plain": [
       "count    99677.000000\n",
       "mean        12.021128\n",
       "std          9.530163\n",
       "min          0.000000\n",
       "25%          6.000000\n",
       "50%         10.000000\n",
       "75%         15.000000\n",
       "max        209.000000\n",
       "Name: actual, dtype: float64"
      ]
     },
     "execution_count": 180,
     "metadata": {},
     "output_type": "execute_result"
    }
   ],
   "source": [
    "delivered_orders.actual.describe()"
   ]
  },
  {
   "cell_type": "markdown",
   "metadata": {},
   "source": [
    "# -------adding features--------"
   ]
  },
  {
   "cell_type": "code",
   "execution_count": 181,
   "metadata": {},
   "outputs": [],
   "source": [
    "from math import sin, cos, sqrt, atan2, radians\n",
    "\n",
    "def geoDistance(lat0, lon0, lat1, lon1):\n",
    "    # Approx. radius of earth (km)\n",
    "    R = 6373.0 \n",
    "    # Convert to radians\n",
    "    lat0, lon0 = radians(lat0), radians(lon0)\n",
    "    lat1, lon1 = radians(lat1), radians(lon1)\n",
    "    \n",
    "    # Getting differences\n",
    "    dlon, dlat = lon1 - lon0, lat1 - lat0\n",
    "    \n",
    "    # Use haversine formula\n",
    "    a = sin(dlat / 2)**2 + cos(lat0) * cos(lat1) * sin(dlon / 2)**2\n",
    "    c = 2 * atan2(sqrt(a), sqrt(1 - a))\n",
    "    return R * c"
   ]
  },
  {
   "cell_type": "code",
   "execution_count": 182,
   "metadata": {},
   "outputs": [],
   "source": [
    "delivered_orders['Distance'] = delivered_orders.apply(lambda row:\\\n",
    "    geoDistance(row['customer_lat'], row['customer_lon'], row['seller_lat'], row['seller_lon']), axis=1)"
   ]
  },
  {
   "cell_type": "code",
   "execution_count": 183,
   "metadata": {},
   "outputs": [],
   "source": [
    "#https://www.weatherbit.io/api/weather-history-hourly"
   ]
  },
  {
   "cell_type": "markdown",
   "metadata": {},
   "source": [
    "# -------adding features end--------"
   ]
  },
  {
   "cell_type": "markdown",
   "metadata": {},
   "source": [
    "- take a look at what the actual delivery - the forecasted delivery was (have this as an error measure\n",
    "- the forecast should be trained from the actual delivery time, and have this as the ideal model. If we can forecast exactly how much time it takes. \n",
    "- "
   ]
  },
  {
   "cell_type": "code",
   "execution_count": 184,
   "metadata": {},
   "outputs": [],
   "source": [
    "from sklearn.model_selection import train_test_split\n",
    "\n",
    "features = ['order_price','quantity','freight_value','customer_lat',\n",
    "           'customer_lon','seller_lat','seller_lon','Distance']\n",
    "target = ['actual']\n",
    "\n",
    "X = np.array(delivered_orders[features])\n",
    "y = np.array(delivered_orders['actual'])\n",
    "split_test_size = 0.30\n",
    "\n",
    "X_train, X_test, y_train, y_test = train_test_split(X, y, test_size = split_test_size, random_state=42)"
   ]
  },
  {
   "cell_type": "markdown",
   "metadata": {},
   "source": [
    "# <font color='blue'>2.2</font>: Establish baseline"
   ]
  },
  {
   "cell_type": "code",
   "execution_count": 185,
   "metadata": {},
   "outputs": [
    {
     "data": {
      "image/png": "[encoded data removed]",
      "text/plain": [
       "<Figure size 720x360 with 1 Axes>"
      ]
     },
     "metadata": {},
     "output_type": "display_data"
    }
   ],
   "source": [
    "x = delivered_orders.actual\n",
    "sns.distplot(x,bins=100);"
   ]
  },
  {
   "cell_type": "code",
   "execution_count": 186,
   "metadata": {},
   "outputs": [
    {
     "data": {
      "image/png": "[encoded data removed]",
      "text/plain": [
       "<Figure size 720x360 with 1 Axes>"
      ]
     },
     "metadata": {},
     "output_type": "display_data"
    }
   ],
   "source": [
    "estimated_delivery = delivered_orders.order_estimated_delivery_date-delivered_orders.order_purchase_timestamp\n",
    "estimated_delivery = estimated_delivery.dt.total_seconds() / (24 * 60 * 60)\n",
    "sns.distplot(estimated_delivery,bins=100);"
   ]
  },
  {
   "cell_type": "code",
   "execution_count": 187,
   "metadata": {},
   "outputs": [
    {
     "data": {
      "image/png": "[encoded data removed]",
      "text/plain": [
       "<Figure size 720x360 with 1 Axes>"
      ]
     },
     "metadata": {},
     "output_type": "display_data"
    }
   ],
   "source": [
    "bins = np.linspace(-10, 10, 100)\n",
    "\n",
    "plt.hist(x, bins, alpha=0.5, label='x')\n",
    "plt.hist(estimated_delivery, bins, alpha=0.5, label='y')\n",
    "plt.legend(loc='upper right')\n",
    "plt.show()"
   ]
  },
  {
   "cell_type": "markdown",
   "metadata": {},
   "source": [
    "##### Baseline model\n",
    "\n",
    "Predicting the average delivery time for all the orders"
   ]
  },
  {
   "cell_type": "code",
   "execution_count": 188,
   "metadata": {},
   "outputs": [
    {
     "name": "stdout",
     "output_type": "stream",
     "text": [
      "Baseline RMSE error: 9.66 days\n"
     ]
    }
   ],
   "source": [
    "#Creating a baseline predicting the average delivery time\n",
    "baseline_preds = delivered_orders['actual'].values\n",
    "X_baseline = baseline_preds[:len(X_train)]\n",
    "Y_baseline = baseline_preds[len(X_train):]\n",
    "\n",
    "Y_baseline = np.mean(Y_baseline)\n",
    "baseline_errors = np.sqrt(((Y_baseline - y_test) ** 2).mean())\n",
    "print('Baseline RMSE error:', round(np.mean(baseline_errors), 2), 'days')"
   ]
  },
  {
   "cell_type": "code",
   "execution_count": 189,
   "metadata": {},
   "outputs": [],
   "source": [
    "from sklearn.linear_model import LinearRegression\n",
    "lr = LinearRegression()\n",
    "lr.fit(X_train, y_train);"
   ]
  },
  {
   "cell_type": "code",
   "execution_count": 190,
   "metadata": {},
   "outputs": [
    {
     "name": "stdout",
     "output_type": "stream",
     "text": [
      "RMSE for linear regression model:  8.88 days\n"
     ]
    }
   ],
   "source": [
    "predictions = lr.predict(X_test)\n",
    "errors = np.sqrt(((predictions - y_test) ** 2).mean())\n",
    "print('RMSE for linear regression model: ', round(np.mean(errors), 2), 'days')"
   ]
  },
  {
   "cell_type": "markdown",
   "metadata": {},
   "source": [
    "We see that this model performs slightly better. However, we could perform better on this prediction "
   ]
  },
  {
   "cell_type": "markdown",
   "metadata": {},
   "source": [
    "# Jens-------------"
   ]
  },
  {
   "cell_type": "markdown",
   "metadata": {},
   "source": [
    "Spørg jensen:\n",
    "- nedenstående tager laver en y_baseline, der er lige så lang som y_train. Men denne Y_baseline består af tallene fra \"delivery difference\" - dette skal vel være actual, når vi prøver at forudsige den faktiske delivery dato. "
   ]
  },
  {
   "cell_type": "code",
   "execution_count": 191,
   "metadata": {},
   "outputs": [
    {
     "ename": "ValueError",
     "evalue": "operands could not be broadcast together with shapes (29903,) (29904,) ",
     "output_type": "error",
     "traceback": [
      "\u001b[0;31m---------------------------------------------------------------------------\u001b[0m",
      "\u001b[0;31mValueError\u001b[0m                                Traceback (most recent call last)",
      "\u001b[0;32m<ipython-input-191-5006d1348b2d>\u001b[0m in \u001b[0;36m<module>\u001b[0;34m\u001b[0m\n\u001b[1;32m      3\u001b[0m \u001b[0mY_baseline\u001b[0m \u001b[0;34m=\u001b[0m \u001b[0mbaseline_preds\u001b[0m\u001b[0;34m[\u001b[0m\u001b[0;36m69774\u001b[0m\u001b[0;34m:\u001b[0m\u001b[0;34m]\u001b[0m\u001b[0;34m\u001b[0m\u001b[0;34m\u001b[0m\u001b[0m\n\u001b[1;32m      4\u001b[0m \u001b[0;34m\u001b[0m\u001b[0m\n\u001b[0;32m----> 5\u001b[0;31m \u001b[0mbaseline_errors\u001b[0m \u001b[0;34m=\u001b[0m \u001b[0mabs\u001b[0m\u001b[0;34m(\u001b[0m\u001b[0mY_baseline\u001b[0m \u001b[0;34m-\u001b[0m \u001b[0my_test\u001b[0m\u001b[0;34m)\u001b[0m\u001b[0;34m\u001b[0m\u001b[0;34m\u001b[0m\u001b[0m\n\u001b[0m\u001b[1;32m      6\u001b[0m \u001b[0;34m\u001b[0m\u001b[0m\n\u001b[1;32m      7\u001b[0m \u001b[0mprint\u001b[0m\u001b[0;34m(\u001b[0m\u001b[0;34m'Average baseline error: '\u001b[0m\u001b[0;34m,\u001b[0m \u001b[0mround\u001b[0m\u001b[0;34m(\u001b[0m\u001b[0mnp\u001b[0m\u001b[0;34m.\u001b[0m\u001b[0mmean\u001b[0m\u001b[0;34m(\u001b[0m\u001b[0mbaseline_errors\u001b[0m\u001b[0;34m)\u001b[0m\u001b[0;34m,\u001b[0m \u001b[0;36m2\u001b[0m\u001b[0;34m)\u001b[0m\u001b[0;34m,\u001b[0m \u001b[0;34m'days'\u001b[0m\u001b[0;34m)\u001b[0m\u001b[0;34m\u001b[0m\u001b[0;34m\u001b[0m\u001b[0m\n",
      "\u001b[0;31mValueError\u001b[0m: operands could not be broadcast together with shapes (29903,) (29904,) "
     ]
    }
   ],
   "source": [
    "baseline_preds = delivered_orders['delivery_difference'].values\n",
    "X_baseline = baseline_preds[:69774]\n",
    "Y_baseline = baseline_preds[69774:]\n",
    "\n",
    "baseline_errors = abs(Y_baseline - y_test)\n",
    "\n",
    "print('Average baseline error: ', round(np.mean(baseline_errors), 2), 'days')"
   ]
  },
  {
   "cell_type": "code",
   "execution_count": 192,
   "metadata": {},
   "outputs": [
    {
     "data": {
      "text/plain": [
       "LinearRegression(copy_X=True, fit_intercept=True, n_jobs=None, normalize=False)"
      ]
     },
     "execution_count": 192,
     "metadata": {},
     "output_type": "execute_result"
    }
   ],
   "source": [
    "from sklearn.linear_model import LinearRegression\n",
    "lr = LinearRegression()\n",
    "lr.fit(X_train, y_train)"
   ]
  },
  {
   "cell_type": "code",
   "execution_count": 193,
   "metadata": {},
   "outputs": [
    {
     "name": "stdout",
     "output_type": "stream",
     "text": [
      "Average baseline error:  5.61 days\n"
     ]
    }
   ],
   "source": [
    "predictions = lr.predict(X_test)\n",
    "errors = abs(predictions - y_test)\n",
    "print('Average baseline error: ', round(np.mean(errors), 2), 'days')"
   ]
  },
  {
   "cell_type": "code",
   "execution_count": 194,
   "metadata": {},
   "outputs": [
    {
     "name": "stdout",
     "output_type": "stream",
     "text": [
      "Accuracy:  -inf %\n"
     ]
    }
   ],
   "source": [
    "mape = 100 * (errors/y_test)\n",
    "accuracy = 100 - np.mean(mape)\n",
    "print('Accuracy: ', round(accuracy, 2), '%')"
   ]
  },
  {
   "cell_type": "code",
   "execution_count": 195,
   "metadata": {},
   "outputs": [
    {
     "data": {
      "text/plain": [
       "array([1.31057074, 3.35053825, 0.48730779, ..., 3.28417878, 2.75941449,\n",
       "       2.089771  ])"
      ]
     },
     "execution_count": 195,
     "metadata": {},
     "output_type": "execute_result"
    }
   ],
   "source": [
    "errors"
   ]
  },
  {
   "cell_type": "code",
   "execution_count": 196,
   "metadata": {},
   "outputs": [
    {
     "data": {
      "text/plain": [
       "array([14.56189713, 47.86483215,  3.74852148, ..., 23.45841989,\n",
       "       39.42020695, 10.99879476])"
      ]
     },
     "execution_count": 196,
     "metadata": {},
     "output_type": "execute_result"
    }
   ],
   "source": [
    "mape"
   ]
  },
  {
   "cell_type": "markdown",
   "metadata": {},
   "source": [
    "# Jens-------------"
   ]
  },
  {
   "cell_type": "markdown",
   "metadata": {},
   "source": [
    "# <font color='blue'>Part 3</font>: Prediction - Late delivery (classification)"
   ]
  },
  {
   "cell_type": "markdown",
   "metadata": {},
   "source": [
    "This last analysis will seek to predict whether a delivery will be late or not. An online retailer platform like Olist can benefit from this analysis in several different ways: First, simply knowing which factors affect the delivery of orders is useful. Secondly, having this model deployed Olist would be able to warn sellers and customers when a order was predicted to be delivered late. "
   ]
  },
  {
   "cell_type": "markdown",
   "metadata": {},
   "source": [
    "his parameter setting means that the penalties for false predictions in the loss function will be weighted with inverse proportions to the frequencies of the classes. This can solve the problem you describe"
   ]
  },
  {
   "cell_type": "markdown",
   "metadata": {},
   "source": [
    "This model will use logistic regression to perfrom the binary classification, where the the target variable $y$ is defined as: 1 if the order was delivered on time and 0 if it was late. T"
   ]
  },
  {
   "cell_type": "code",
   "execution_count": 197,
   "metadata": {},
   "outputs": [],
   "source": [
    "from sklearn import preprocessing\n",
    "from sklearn.model_selection import train_test_split\n",
    "import numpy as np\n",
    "\n",
    "X = delivered_orders[['quantity','order_price','freight_value','Distance','customer_lat','customer_lon','seller_lat', 'seller_lon']]\n",
    "X = preprocessing.StandardScaler().fit_transform(X)\n",
    "\n",
    "y = (delivered_orders.order_estimated_delivery_date > delivered_orders.order_delivered_customer_date).astype(int)\n",
    "\n",
    "X_train, X_test, y_train, y_test = train_test_split(X, y, test_size=0.33, random_state=42)"
   ]
  },
  {
   "cell_type": "code",
   "execution_count": 198,
   "metadata": {},
   "outputs": [
    {
     "data": {
      "text/plain": [
       "1    91734\n",
       "0     7943\n",
       "dtype: int64"
      ]
     },
     "execution_count": 198,
     "metadata": {},
     "output_type": "execute_result"
    }
   ],
   "source": [
    "y.value_counts()"
   ]
  },
  {
   "cell_type": "code",
   "execution_count": 199,
   "metadata": {},
   "outputs": [
    {
     "name": "stdout",
     "output_type": "stream",
     "text": [
      "              precision    recall  f1-score   support\n",
      "\n",
      "           0       0.11      0.49      0.19      2619\n",
      "           1       0.94      0.67      0.79     30275\n",
      "\n",
      "    accuracy                           0.66     32894\n",
      "   macro avg       0.53      0.58      0.49     32894\n",
      "weighted avg       0.87      0.66      0.74     32894\n",
      "\n"
     ]
    }
   ],
   "source": [
    "from sklearn.linear_model import LogisticRegression\n",
    "from sklearn.metrics import classification_report\n",
    "\n",
    "clf = LogisticRegression(random_state=0, solver='lbfgs',\n",
    "                          multi_class='multinomial', class_weight='balanced').fit(X_train, y_train)\n",
    "y_pred = clf.predict(X_test)\n",
    "print(classification_report(y_test, y_pred))"
   ]
  },
  {
   "cell_type": "code",
   "execution_count": 200,
   "metadata": {},
   "outputs": [],
   "source": [
    "name = ['quantity','order_price','freight_value','Distance','customer_lat','customer_lon','seller_lat', 'seller_lon']\n",
    "coef = clf.coef_[0]"
   ]
  },
  {
   "cell_type": "code",
   "execution_count": 201,
   "metadata": {},
   "outputs": [
    {
     "data": {
      "text/plain": [
       "[('quantity', 0.028618855909278738),\n",
       " ('order_price', -0.011055484519004453),\n",
       " ('freight_value', -0.027559249760767204),\n",
       " ('Distance', -0.10019226193750153),\n",
       " ('customer_lat', 0.04987851673761936),\n",
       " ('customer_lon', -0.117464442040911),\n",
       " ('seller_lat', -0.03160464092741305),\n",
       " ('seller_lon', 0.0053219905992225635)]"
      ]
     },
     "execution_count": 201,
     "metadata": {},
     "output_type": "execute_result"
    }
   ],
   "source": [
    "list(zip(name,coef))"
   ]
  },
  {
   "cell_type": "markdown",
   "metadata": {},
   "source": [
    "Interpretation of coefficients: \n",
    "- Orders with larger quantity are more likely to be delivered on time. \n",
    "- Orders with longer distance between seller and customer are less likely to be delivered on time.\n",
    "- Orders with a high customer longitude coordinate are less likely to be delivered on time.\n",
    "close to coast "
   ]
  },
  {
   "cell_type": "markdown",
   "metadata": {},
   "source": [
    "Features that could prove useful to this model, but has not yet been implemented:\n",
    "- Weather forcast data\n",
    "- Historical weather data\n",
    "- Real distance between seller and customer (on roads)\n",
    "- Seller track record (in terms of number of previously late deliveries. \n",
    "- Seller reviews (average)\n",
    "\n",
    "\n",
    "- Previously late delivery"
   ]
  },
  {
   "cell_type": "code",
   "execution_count": 202,
   "metadata": {},
   "outputs": [],
   "source": [
    "%matplotlib inline\n",
    "\n",
    "import matplotlib.pyplot as plt\n",
    "import geopandas as gpd\n",
    "import pysal as ps\n",
    "from pysal.viz.splot import mapping as maps"
   ]
  },
  {
   "cell_type": "code",
   "execution_count": 280,
   "metadata": {},
   "outputs": [],
   "source": [
    "delivered_orders['late'] = y\n",
    "\n",
    "late_orders = delivered_orders[delivered_orders.late == 0]\n",
    "df = late_orders[['customer_lat','customer_lon']]\n",
    "gdf = gpd.GeoDataFrame(\n",
    "    df, geometry=gpd.points_from_xy(df.customer_lon, df.customer_lat))\n",
    "\n",
    "orders = delivered_orders[delivered_orders.late == 1]\n",
    "df1 = orders[['customer_lat','customer_lon']]\n",
    "gdf1 = gpd.GeoDataFrame(\n",
    "    df1, geometry=gpd.points_from_xy(df1.customer_lon, df1.customer_lat))"
   ]
  },
  {
   "cell_type": "code",
   "execution_count": 288,
   "metadata": {},
   "outputs": [
    {
     "data": {
      "text/html": [
       "<div>\n",
       "<style scoped>\n",
       "    .dataframe tbody tr th:only-of-type {\n",
       "        vertical-align: middle;\n",
       "    }\n",
       "\n",
       "    .dataframe tbody tr th {\n",
       "        vertical-align: top;\n",
       "    }\n",
       "\n",
       "    .dataframe thead th {\n",
       "        text-align: right;\n",
       "    }\n",
       "</style>\n",
       "<table border=\"1\" class=\"dataframe\">\n",
       "  <thead>\n",
       "    <tr style=\"text-align: right;\">\n",
       "      <th></th>\n",
       "      <th></th>\n",
       "      <th>late</th>\n",
       "      <th>customer_lat</th>\n",
       "    </tr>\n",
       "    <tr>\n",
       "      <th>customer_lat</th>\n",
       "      <th>customer_lon</th>\n",
       "      <th></th>\n",
       "      <th></th>\n",
       "    </tr>\n",
       "  </thead>\n",
       "  <tbody>\n",
       "    <tr>\n",
       "      <th>-33.689948</th>\n",
       "      <th>-53.460183</th>\n",
       "      <td>5.0</td>\n",
       "      <td>5</td>\n",
       "    </tr>\n",
       "    <tr>\n",
       "      <th>-33.512901</th>\n",
       "      <th>-53.349748</th>\n",
       "      <td>13.0</td>\n",
       "      <td>13</td>\n",
       "    </tr>\n",
       "    <tr>\n",
       "      <th>-32.561057</th>\n",
       "      <th>-53.378114</th>\n",
       "      <td>8.0</td>\n",
       "      <td>8</td>\n",
       "    </tr>\n",
       "    <tr>\n",
       "      <th>-32.235661</th>\n",
       "      <th>-53.078851</th>\n",
       "      <td>2.0</td>\n",
       "      <td>3</td>\n",
       "    </tr>\n",
       "    <tr>\n",
       "      <th>-32.195805</th>\n",
       "      <th>-52.180033</th>\n",
       "      <td>1.0</td>\n",
       "      <td>1</td>\n",
       "    </tr>\n",
       "    <tr>\n",
       "      <th>...</th>\n",
       "      <th>...</th>\n",
       "      <td>...</td>\n",
       "      <td>...</td>\n",
       "    </tr>\n",
       "    <tr>\n",
       "      <th>2.835272</th>\n",
       "      <th>-60.673422</th>\n",
       "      <td>3.0</td>\n",
       "      <td>3</td>\n",
       "    </tr>\n",
       "    <tr>\n",
       "      <th>2.846929</th>\n",
       "      <th>-60.712952</th>\n",
       "      <td>1.0</td>\n",
       "      <td>1</td>\n",
       "    </tr>\n",
       "    <tr>\n",
       "      <th>2.855558</th>\n",
       "      <th>-60.660713</th>\n",
       "      <td>3.0</td>\n",
       "      <td>3</td>\n",
       "    </tr>\n",
       "    <tr>\n",
       "      <th>3.362115</th>\n",
       "      <th>-59.833222</th>\n",
       "      <td>1.0</td>\n",
       "      <td>1</td>\n",
       "    </tr>\n",
       "    <tr>\n",
       "      <th>3.842508</th>\n",
       "      <th>-51.833958</th>\n",
       "      <td>0.0</td>\n",
       "      <td>1</td>\n",
       "    </tr>\n",
       "  </tbody>\n",
       "</table>\n",
       "<p>14727 rows × 2 columns</p>\n",
       "</div>"
      ],
      "text/plain": [
       "                           late  customer_lat\n",
       "customer_lat customer_lon                    \n",
       "-33.689948   -53.460183     5.0             5\n",
       "-33.512901   -53.349748    13.0            13\n",
       "-32.561057   -53.378114     8.0             8\n",
       "-32.235661   -53.078851     2.0             3\n",
       "-32.195805   -52.180033     1.0             1\n",
       "...                         ...           ...\n",
       " 2.835272    -60.673422     3.0             3\n",
       " 2.846929    -60.712952     1.0             1\n",
       " 2.855558    -60.660713     3.0             3\n",
       " 3.362115    -59.833222     1.0             1\n",
       " 3.842508    -51.833958     0.0             1\n",
       "\n",
       "[14727 rows x 2 columns]"
      ]
     },
     "execution_count": 288,
     "metadata": {},
     "output_type": "execute_result"
    }
   ],
   "source": [
    "delivered_orders.groupby(['customer_lat','customer_lon']).agg({'late':'sum', 'customer_lat':'count'})"
   ]
  },
  {
   "cell_type": "code",
   "execution_count": 253,
   "metadata": {},
   "outputs": [],
   "source": [
    "# define color dictionary\n",
    "color_map = {1:\"blue\", 0:'red'}"
   ]
  },
  {
   "cell_type": "code",
   "execution_count": 257,
   "metadata": {},
   "outputs": [
    {
     "data": {
      "image/png": "[encoded data removed]",
      "text/plain": [
       "<Figure size 1008x432 with 1 Axes>"
      ]
     },
     "metadata": {
      "needs_background": "light"
     },
     "output_type": "display_data"
    },
    {
     "data": {
      "image/png": "[encoded data removed]",
      "text/plain": [
       "<Figure size 1008x432 with 1 Axes>"
      ]
     },
     "metadata": {
      "needs_background": "light"
     },
     "output_type": "display_data"
    }
   ],
   "source": [
    "plt.rcParams['figure.figsize'] = [14, 6]\n",
    "world = gpd.read_file(gpd.datasets.get_path('naturalearth_lowres'))\n",
    "\n",
    "# restrict to South America.\n",
    "ax1 = world[world.continent == 'South America'].plot(\n",
    "    color='white', edgecolor='black')\n",
    "\n",
    "ax2 = world[world.continent == 'South America'].plot(\n",
    "    color='white', edgecolor='black')\n",
    "\n",
    "\n",
    "colors_late = [color_map[x] for x in late_orders['late']]\n",
    "gdf.plot(ax=ax1, color=colors_late, alpha=0.3, markersize=.1)\n",
    "\n",
    "colors = [color_map[x] for x in orders['late']]\n",
    "gdf1.plot(ax=ax2, color=colors, alpha=0.1, markersize=.1)\n",
    "plt.show()\n"
   ]
  },
  {
   "cell_type": "code",
   "execution_count": null,
   "metadata": {},
   "outputs": [],
   "source": []
  }
 ],
 "metadata": {
  "kernelspec": {
   "display_name": "Python 3",
   "language": "python",
   "name": "python3"
  },
  "language_info": {
   "codemirror_mode": {
    "name": "ipython",
    "version": 3
   },
   "file_extension": ".py",
   "mimetype": "text/x-python",
   "name": "python",
   "nbconvert_exporter": "python",
   "pygments_lexer": "ipython3",
   "version": "3.7.3"
  }
 },
 "nbformat": 4,
 "nbformat_minor": 2
}
