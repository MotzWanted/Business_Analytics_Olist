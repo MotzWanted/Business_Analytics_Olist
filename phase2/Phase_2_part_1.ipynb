{
 "cells": [
  {
   "cell_type": "markdown",
   "metadata": {},
   "source": [
    "# Phase 2: Deriving value from Customer Analytics\n",
    "\n",
    "##### Table of content:\n",
    "1. [Data exploring and visualisation](#part1)\n",
    "2. [Customer segmentation](#part2)\n",
    "3. [Customer Lifetime Value](#part3)\n",
    "4. [Conclusion](#part4)"
   ]
  },
  {
   "cell_type": "markdown",
   "metadata": {},
   "source": [
    "## <font color='blue'>Introduction</font>\n",
    "\n",
    "This workbook consist of two parts; a customer segmentation analysis and a customer life time value prediction. \n",
    "A customer segmentation analysis is crucial for business in order to identify and understand their customers needs and behaviors. If Olist wants to take direct actions in order to increase the revenue of customers then it needs to take different actions based on the different needs the customers might have. \n"
   ]
  },
  {
   "cell_type": "markdown",
   "metadata": {},
   "source": [
    "## <font color='blue'>KPI and metrics</font>\n",
    "\n",
    "A range of Key Performance Indicators (KPIs) are defined for Olist to directly measure the value of the analysis and keep track of performance. The following three KPIs are identified iteratively through the analysis and are relevant for Olist when analysing customer segments and customer life time value.\n",
    "\n",
    "- `Monthly revenue` For an online retailer, the most important metric to keep track of is the monthly revenue. If the revenue decreases over months then it suggest that Olist are losing customers and they need to take action asap. If the Revenue is increasing over months then Olist should seek to understand what underlying factors in the business are driving the revenue and how can this be further maximised.\n",
    "\n",
    "- `Customer Lifetime Value` In this analysis customers are clustered into three categories high, mid, and low, in terms of their Customer Lifetime Value (CLV). Keeping track of the amount of customers in each of the categories is crucial for Olist. In the end Olist might want to change this distribution i.e. move customers from low and mid to high CLV. Which they can set targets for using a CLV KPI. This will be further explained later in the notebook.\n",
    "\n",
    "- `Repeat Customer Rate` Number of returning customers on Olist i.e. customers who make multiple purchases."
   ]
  },
  {
   "cell_type": "markdown",
   "metadata": {},
   "source": [
    "## <font color='blue'>Setup 1</font>: Load Libraries"
   ]
  },
  {
   "cell_type": "code",
   "execution_count": 1,
   "metadata": {},
   "outputs": [],
   "source": [
    "import warnings\n",
    "import pandas as pd\n",
    "import matplotlib.pyplot as plt\n",
    "import seaborn as sns\n",
    "from sklearn.cluster import KMeans\n",
    "import datetime as dt\n",
    "warnings.filterwarnings('ignore')\n",
    "%matplotlib inline\n",
    "\n",
    "dirpath = '../data/'"
   ]
  },
  {
   "cell_type": "markdown",
   "metadata": {},
   "source": [
    "## <font color='blue'>Setup 2</font>: Load data\n",
    "\n",
    "The workbook will focus on the customer part of the OLIST dataset. Therefore, only the following datasets are joined:\n",
    "\n",
    "- olist_customers_dataset\n",
    "- olist_order_payments_dataset\n",
    "- olist_orders_dataset\n",
    "\n",
    "These are joined by the left-join operation and dataformat is set. "
   ]
  },
  {
   "cell_type": "code",
   "execution_count": 4,
   "metadata": {},
   "outputs": [
    {
     "data": {
      "text/html": [
       "<div>\n",
       "<style scoped>\n",
       "    .dataframe tbody tr th:only-of-type {\n",
       "        vertical-align: middle;\n",
       "    }\n",
       "\n",
       "    .dataframe tbody tr th {\n",
       "        vertical-align: top;\n",
       "    }\n",
       "\n",
       "    .dataframe thead th {\n",
       "        text-align: right;\n",
       "    }\n",
       "</style>\n",
       "<table border=\"1\" class=\"dataframe\">\n",
       "  <thead>\n",
       "    <tr style=\"text-align: right;\">\n",
       "      <th></th>\n",
       "      <th>customer_id</th>\n",
       "      <th>customer_unique_id</th>\n",
       "      <th>customer_zip_code_prefix</th>\n",
       "      <th>customer_city</th>\n",
       "      <th>customer_state</th>\n",
       "      <th>order_id</th>\n",
       "      <th>order_status</th>\n",
       "      <th>order_purchase_timestamp</th>\n",
       "      <th>order_approved_at</th>\n",
       "      <th>order_delivered_carrier_date</th>\n",
       "      <th>order_delivered_customer_date</th>\n",
       "      <th>order_estimated_delivery_date</th>\n",
       "      <th>payment_value</th>\n",
       "    </tr>\n",
       "  </thead>\n",
       "  <tbody>\n",
       "    <tr>\n",
       "      <th>0</th>\n",
       "      <td>06b8999e2fba1a1fbc88172c00ba8bc7</td>\n",
       "      <td>861eff4711a542e4b93843c6dd7febb0</td>\n",
       "      <td>14409</td>\n",
       "      <td>franca</td>\n",
       "      <td>SP</td>\n",
       "      <td>00e7ee1b050b8499577073aeb2a297a1</td>\n",
       "      <td>delivered</td>\n",
       "      <td>2017-05-16 15:05:35</td>\n",
       "      <td>2017-05-16 15:22:12</td>\n",
       "      <td>2017-05-23 10:47:57</td>\n",
       "      <td>2017-05-25 10:35:35</td>\n",
       "      <td>2017-06-05 00:00:00</td>\n",
       "      <td>146.87</td>\n",
       "    </tr>\n",
       "    <tr>\n",
       "      <th>1</th>\n",
       "      <td>18955e83d337fd6b2def6b18a428ac77</td>\n",
       "      <td>290c77bc529b7ac935b93aa66c333dc3</td>\n",
       "      <td>9790</td>\n",
       "      <td>sao bernardo do campo</td>\n",
       "      <td>SP</td>\n",
       "      <td>29150127e6685892b6eab3eec79f59c7</td>\n",
       "      <td>delivered</td>\n",
       "      <td>2018-01-12 20:48:24</td>\n",
       "      <td>2018-01-12 20:58:32</td>\n",
       "      <td>2018-01-15 17:14:59</td>\n",
       "      <td>2018-01-29 12:41:19</td>\n",
       "      <td>2018-02-06 00:00:00</td>\n",
       "      <td>335.48</td>\n",
       "    </tr>\n",
       "    <tr>\n",
       "      <th>2</th>\n",
       "      <td>4e7b3e00288586ebd08712fdd0374a03</td>\n",
       "      <td>060e732b5b29e8181a18229c7b0b2b5e</td>\n",
       "      <td>1151</td>\n",
       "      <td>sao paulo</td>\n",
       "      <td>SP</td>\n",
       "      <td>b2059ed67ce144a36e2aa97d2c9e9ad2</td>\n",
       "      <td>delivered</td>\n",
       "      <td>2018-05-19 16:07:45</td>\n",
       "      <td>2018-05-20 16:19:10</td>\n",
       "      <td>2018-06-11 14:31:00</td>\n",
       "      <td>2018-06-14 17:58:51</td>\n",
       "      <td>2018-06-13 00:00:00</td>\n",
       "      <td>157.73</td>\n",
       "    </tr>\n",
       "    <tr>\n",
       "      <th>3</th>\n",
       "      <td>b2b6027bc5c5109e529d4dc6358b12c3</td>\n",
       "      <td>259dac757896d24d7702b9acbbff3f3c</td>\n",
       "      <td>8775</td>\n",
       "      <td>mogi das cruzes</td>\n",
       "      <td>SP</td>\n",
       "      <td>951670f92359f4fe4a63112aa7306eba</td>\n",
       "      <td>delivered</td>\n",
       "      <td>2018-03-13 16:06:38</td>\n",
       "      <td>2018-03-13 17:29:19</td>\n",
       "      <td>2018-03-27 23:22:42</td>\n",
       "      <td>2018-03-28 16:04:25</td>\n",
       "      <td>2018-04-10 00:00:00</td>\n",
       "      <td>173.30</td>\n",
       "    </tr>\n",
       "    <tr>\n",
       "      <th>4</th>\n",
       "      <td>4f2d8ab171c80ec8364f7c12e35b23ad</td>\n",
       "      <td>345ecd01c38d18a9036ed96c73b8d066</td>\n",
       "      <td>13056</td>\n",
       "      <td>campinas</td>\n",
       "      <td>SP</td>\n",
       "      <td>6b7d50bd145f6fc7f33cebabd7e49d0f</td>\n",
       "      <td>delivered</td>\n",
       "      <td>2018-07-29 09:51:30</td>\n",
       "      <td>2018-07-29 10:10:09</td>\n",
       "      <td>2018-07-30 15:16:00</td>\n",
       "      <td>2018-08-09 20:55:48</td>\n",
       "      <td>2018-08-15 00:00:00</td>\n",
       "      <td>252.25</td>\n",
       "    </tr>\n",
       "  </tbody>\n",
       "</table>\n",
       "</div>"
      ],
      "text/plain": [
       "                        customer_id                customer_unique_id  \\\n",
       "0  06b8999e2fba1a1fbc88172c00ba8bc7  861eff4711a542e4b93843c6dd7febb0   \n",
       "1  18955e83d337fd6b2def6b18a428ac77  290c77bc529b7ac935b93aa66c333dc3   \n",
       "2  4e7b3e00288586ebd08712fdd0374a03  060e732b5b29e8181a18229c7b0b2b5e   \n",
       "3  b2b6027bc5c5109e529d4dc6358b12c3  259dac757896d24d7702b9acbbff3f3c   \n",
       "4  4f2d8ab171c80ec8364f7c12e35b23ad  345ecd01c38d18a9036ed96c73b8d066   \n",
       "\n",
       "   customer_zip_code_prefix          customer_city customer_state  \\\n",
       "0                     14409                 franca             SP   \n",
       "1                      9790  sao bernardo do campo             SP   \n",
       "2                      1151              sao paulo             SP   \n",
       "3                      8775        mogi das cruzes             SP   \n",
       "4                     13056               campinas             SP   \n",
       "\n",
       "                           order_id order_status order_purchase_timestamp  \\\n",
       "0  00e7ee1b050b8499577073aeb2a297a1    delivered      2017-05-16 15:05:35   \n",
       "1  29150127e6685892b6eab3eec79f59c7    delivered      2018-01-12 20:48:24   \n",
       "2  b2059ed67ce144a36e2aa97d2c9e9ad2    delivered      2018-05-19 16:07:45   \n",
       "3  951670f92359f4fe4a63112aa7306eba    delivered      2018-03-13 16:06:38   \n",
       "4  6b7d50bd145f6fc7f33cebabd7e49d0f    delivered      2018-07-29 09:51:30   \n",
       "\n",
       "     order_approved_at order_delivered_carrier_date  \\\n",
       "0  2017-05-16 15:22:12          2017-05-23 10:47:57   \n",
       "1  2018-01-12 20:58:32          2018-01-15 17:14:59   \n",
       "2  2018-05-20 16:19:10          2018-06-11 14:31:00   \n",
       "3  2018-03-13 17:29:19          2018-03-27 23:22:42   \n",
       "4  2018-07-29 10:10:09          2018-07-30 15:16:00   \n",
       "\n",
       "  order_delivered_customer_date order_estimated_delivery_date  payment_value  \n",
       "0           2017-05-25 10:35:35           2017-06-05 00:00:00         146.87  \n",
       "1           2018-01-29 12:41:19           2018-02-06 00:00:00         335.48  \n",
       "2           2018-06-14 17:58:51           2018-06-13 00:00:00         157.73  \n",
       "3           2018-03-28 16:04:25           2018-04-10 00:00:00         173.30  \n",
       "4           2018-08-09 20:55:48           2018-08-15 00:00:00         252.25  "
      ]
     },
     "execution_count": 4,
     "metadata": {},
     "output_type": "execute_result"
    }
   ],
   "source": [
    "# Load data\n",
    "customers = pd.read_csv(dirpath+\"olist_customers_dataset.csv\")\n",
    "order_payments = pd.read_csv(dirpath+\"olist_order_payments_dataset.csv\")\n",
    "orders = pd.read_csv(dirpath+\"olist_orders_dataset.csv\")\n",
    "\n",
    "# Join\n",
    "customer_order = customers.merge(orders, on='customer_id', how='left')\n",
    "order_payments = order_payments.groupby('order_id').sum().reset_index()[['order_id','payment_value']]\n",
    "cop = customer_order.merge(order_payments, on='order_id', how='left')\n",
    "\n",
    "# clean and format\n",
    "cop['order_purchase_timestamp'] = pd.to_datetime(cop['order_purchase_timestamp'])\n",
    "cop = cop[cop['order_status']!='canceled']\n",
    "\n",
    "cop.head()"
   ]
  },
  {
   "cell_type": "markdown",
   "metadata": {},
   "source": [
    "## <font color='blue'>Part 1</font>: Data exploring and visualisation\n",
    "<a id=part1></a>\n",
    "For an online reatiler, the most important metric to keep track of is the monthly revenue. If the revenue decreases over months then it suggest that Olist are losing customers and they need to take action asap. If the Revenue is increasing over months then Olist should seek to understand what underlying factors in the business are driving the revenue and how can this be further maximised.\n",
    "\n",
    "In the following section, a couple of plots and tables are defined in order to understand the current performance of Olist. These are defined in the list below:\n",
    "\n",
    "- Monthly revenue \n",
    "- Monthy growth rate\n",
    "- Number of active customers each month\n",
    "- Number of returning customers each month/quarter\n",
    "\n"
   ]
  },
  {
   "cell_type": "code",
   "execution_count": 10,
   "metadata": {
    "scrolled": true
   },
   "outputs": [
    {
     "data": {
      "text/html": [
       "<div>\n",
       "<style scoped>\n",
       "    .dataframe tbody tr th:only-of-type {\n",
       "        vertical-align: middle;\n",
       "    }\n",
       "\n",
       "    .dataframe tbody tr th {\n",
       "        vertical-align: top;\n",
       "    }\n",
       "\n",
       "    .dataframe thead th {\n",
       "        text-align: right;\n",
       "    }\n",
       "</style>\n",
       "<table border=\"1\" class=\"dataframe\">\n",
       "  <thead>\n",
       "    <tr style=\"text-align: right;\">\n",
       "      <th></th>\n",
       "      <th>PurchaseMonth</th>\n",
       "      <th>payment_value</th>\n",
       "    </tr>\n",
       "  </thead>\n",
       "  <tbody>\n",
       "    <tr>\n",
       "      <th>0</th>\n",
       "      <td>2016-09</td>\n",
       "      <td>136.23</td>\n",
       "    </tr>\n",
       "    <tr>\n",
       "      <th>1</th>\n",
       "      <td>2016-10</td>\n",
       "      <td>53915.50</td>\n",
       "    </tr>\n",
       "    <tr>\n",
       "      <th>2</th>\n",
       "      <td>2016-12</td>\n",
       "      <td>19.62</td>\n",
       "    </tr>\n",
       "    <tr>\n",
       "      <th>3</th>\n",
       "      <td>2017-01</td>\n",
       "      <td>138119.76</td>\n",
       "    </tr>\n",
       "    <tr>\n",
       "      <th>4</th>\n",
       "      <td>2017-02</td>\n",
       "      <td>289081.01</td>\n",
       "    </tr>\n",
       "  </tbody>\n",
       "</table>\n",
       "</div>"
      ],
      "text/plain": [
       "  PurchaseMonth  payment_value\n",
       "0       2016-09         136.23\n",
       "1       2016-10       53915.50\n",
       "2       2016-12          19.62\n",
       "3       2017-01      138119.76\n",
       "4       2017-02      289081.01"
      ]
     },
     "execution_count": 10,
     "metadata": {},
     "output_type": "execute_result"
    }
   ],
   "source": [
    "#Monthly revenue\n",
    "cop['PurchaseMonth'] = pd.PeriodIndex(cop.order_purchase_timestamp, freq='M')\n",
    "cop_revenue  = cop.groupby(['PurchaseMonth'])['payment_value'].sum().reset_index()\n",
    "cop_revenue.head()"
   ]
  },
  {
   "cell_type": "code",
   "execution_count": 11,
   "metadata": {},
   "outputs": [
    {
     "data": {
      "text/html": [
       "<div>\n",
       "<style scoped>\n",
       "    .dataframe tbody tr th:only-of-type {\n",
       "        vertical-align: middle;\n",
       "    }\n",
       "\n",
       "    .dataframe tbody tr th {\n",
       "        vertical-align: top;\n",
       "    }\n",
       "\n",
       "    .dataframe thead th {\n",
       "        text-align: right;\n",
       "    }\n",
       "</style>\n",
       "<table border=\"1\" class=\"dataframe\">\n",
       "  <thead>\n",
       "    <tr style=\"text-align: right;\">\n",
       "      <th></th>\n",
       "      <th>quarter</th>\n",
       "      <th>payment_value</th>\n",
       "    </tr>\n",
       "  </thead>\n",
       "  <tbody>\n",
       "    <tr>\n",
       "      <th>0</th>\n",
       "      <td>2016Q3</td>\n",
       "      <td>136.23</td>\n",
       "    </tr>\n",
       "    <tr>\n",
       "      <th>1</th>\n",
       "      <td>2016Q4</td>\n",
       "      <td>53935.12</td>\n",
       "    </tr>\n",
       "    <tr>\n",
       "      <th>2</th>\n",
       "      <td>2017Q1</td>\n",
       "      <td>869607.14</td>\n",
       "    </tr>\n",
       "    <tr>\n",
       "      <th>3</th>\n",
       "      <td>2017Q2</td>\n",
       "      <td>1505678.59</td>\n",
       "    </tr>\n",
       "    <tr>\n",
       "      <th>4</th>\n",
       "      <td>2017Q3</td>\n",
       "      <td>1976337.10</td>\n",
       "    </tr>\n",
       "  </tbody>\n",
       "</table>\n",
       "</div>"
      ],
      "text/plain": [
       "  quarter  payment_value\n",
       "0  2016Q3         136.23\n",
       "1  2016Q4       53935.12\n",
       "2  2017Q1      869607.14\n",
       "3  2017Q2     1505678.59\n",
       "4  2017Q3     1976337.10"
      ]
     },
     "execution_count": 11,
     "metadata": {},
     "output_type": "execute_result"
    }
   ],
   "source": [
    "#Finding the quarterly revenue and plotting that (fewer datapoints to visualise)\n",
    "cop['quarter'] = pd.PeriodIndex(cop.order_purchase_timestamp, freq='Q')\n",
    "cop_revenue  = cop.groupby(['quarter'])['payment_value'].sum().reset_index()\n",
    "cop_revenue.head()"
   ]
  },
  {
   "cell_type": "code",
   "execution_count": 12,
   "metadata": {
    "scrolled": true
   },
   "outputs": [
    {
     "data": {
      "image/png": "[encoded data removed]",
      "text/plain": [
       "<Figure size 720x360 with 1 Axes>"
      ]
     },
     "metadata": {
      "needs_background": "light"
     },
     "output_type": "display_data"
    }
   ],
   "source": [
    "ax = cop_revenue.plot.bar(x='quarter', y='payment_value', rot=0, figsize=(10,5),color=(0.2, 0.4, 0.6, 0.6) )#color='blue')\n",
    "plt.xlabel('Quarter-Year')\n",
    "plt.ylabel('Quarterly Revenue')\n",
    "plt.show()"
   ]
  },
  {
   "cell_type": "markdown",
   "metadata": {},
   "source": [
    "The quarterly revenue has been growing throughout the period except in the lastest quarter. \n",
    "Below the growth rate is calculated by calculating the difference between the previous month and current month."
   ]
  },
  {
   "cell_type": "code",
   "execution_count": 13,
   "metadata": {
    "scrolled": true
   },
   "outputs": [
    {
     "data": {
      "image/png": "[encoded data removed]",
      "text/plain": [
       "<Figure size 720x360 with 1 Axes>"
      ]
     },
     "metadata": {
      "needs_background": "light"
     },
     "output_type": "display_data"
    }
   ],
   "source": [
    "#calculating the quarterly growthrate and plotting it\n",
    "cop_revenue['QuarterlyGrowth'] = cop_revenue['payment_value'].pct_change()\n",
    "\n",
    "cop_revenue[2:].plot(x='quarter',y='QuarterlyGrowth',figsize=(10,5))\n",
    "plt.xlabel('Quarter-Year')\n",
    "plt.ylabel('Quarterly Growth rate (%)')\n",
    "plt.show()"
   ]
  },
  {
   "cell_type": "code",
   "execution_count": 14,
   "metadata": {},
   "outputs": [
    {
     "data": {
      "text/plain": [
       "0           NaN\n",
       "1    394.912207\n",
       "2     15.123208\n",
       "3      0.731447\n",
       "4      0.312589\n",
       "5      0.434619\n",
       "6      0.146442\n",
       "7      0.023855\n",
       "8     -0.385196\n",
       "Name: QuarterlyGrowth, dtype: float64"
      ]
     },
     "execution_count": 14,
     "metadata": {},
     "output_type": "execute_result"
    }
   ],
   "source": [
    "cop_revenue['QuarterlyGrowth']"
   ]
  },
  {
   "cell_type": "markdown",
   "metadata": {},
   "source": [
    "The growth rate is declining for Olist throughout the observed period."
   ]
  },
  {
   "cell_type": "code",
   "execution_count": 15,
   "metadata": {},
   "outputs": [
    {
     "data": {
      "text/plain": [
       "96096"
      ]
     },
     "execution_count": 15,
     "metadata": {},
     "output_type": "execute_result"
    }
   ],
   "source": [
    "customer_order.groupby('customer_unique_id').size().count()"
   ]
  },
  {
   "cell_type": "code",
   "execution_count": 16,
   "metadata": {
    "scrolled": true
   },
   "outputs": [
    {
     "data": {
      "text/plain": [
       "1     93099\n",
       "2      2745\n",
       "3       203\n",
       "4        30\n",
       "5         8\n",
       "6         6\n",
       "7         3\n",
       "17        1\n",
       "9         1\n",
       "dtype: int64"
      ]
     },
     "execution_count": 16,
     "metadata": {},
     "output_type": "execute_result"
    }
   ],
   "source": [
    "# Distribution of how many times customers are returning to buy at Olist\n",
    "customer_order.groupby('customer_unique_id').size().value_counts()"
   ]
  },
  {
   "cell_type": "code",
   "execution_count": 17,
   "metadata": {},
   "outputs": [
    {
     "data": {
      "text/plain": [
       "96.88124375624375"
      ]
     },
     "execution_count": 17,
     "metadata": {},
     "output_type": "execute_result"
    }
   ],
   "source": [
    "#Percent of non-returning customers in the dataset\n",
    "(93099/customer_order.groupby('customer_unique_id').size().count())*100"
   ]
  },
  {
   "cell_type": "markdown",
   "metadata": {},
   "source": [
    "This suggest that Olist has a huge problem with non-returning customers. \n",
    "Returning customers are essential for a business to create growth and stay above water. \n",
    "As described in the KPI section in the start of the notebook, we can calculate a repeat customer rate, RCR , which is a metric Olist can measure their performance with.\n",
    "\n",
    "This is calculated by $RCR =\\frac{\\sum_{p \\in P}Unique \\ Customers}{All \\ unique \\ Customers} $, where $P$ is the number of customers with a frequency higher or equal to 2 purchases. "
   ]
  },
  {
   "cell_type": "code",
   "execution_count": 98,
   "metadata": {},
   "outputs": [
    {
     "name": "stdout",
     "output_type": "stream",
     "text": [
      "The RCR is:  6.25404792746114\n"
     ]
    }
   ],
   "source": [
    "Sum_Customer_P = len(cop[cop.customer_unique_id.isin(list(unique_id[unique_id.customer_id > 1].index))])\n",
    "AllUniqueCustomers = cop.customer_unique_id.count()\n",
    "\n",
    "RCF = (Sum_Customer_P/AllUniqueCustomers)*100\n",
    "print(\"The RCR is: \",RCF)"
   ]
  },
  {
   "cell_type": "markdown",
   "metadata": {},
   "source": [
    "As expected the current RCR rate is extremely low at 6.25%. \n",
    "Lastly, before beginning the Customer Segmentation the distribution of customer orders and returning customer orders (excluding on-time customer orders). "
   ]
  },
  {
   "cell_type": "code",
   "execution_count": 99,
   "metadata": {
    "scrolled": true
   },
   "outputs": [
    {
     "data": {
      "image/png": "[encoded data removed]",
      "text/plain": [
       "<Figure size 1224x288 with 2 Axes>"
      ]
     },
     "metadata": {
      "needs_background": "light"
     },
     "output_type": "display_data"
    }
   ],
   "source": [
    "# The total customer order per monthand the amount of returning orders are visualised in the two plots below. \n",
    "plt.figure(figsize=(17, 4))\n",
    "\n",
    "plt.subplot(1, 2, 1)\n",
    "plt.title('Total customer orders')\n",
    "plt.ylabel('Num of orders')\n",
    "cop.order_purchase_timestamp.hist(bins=40)\n",
    "\n",
    "plt.subplot(1, 2, 2)\n",
    "plt.ylabel('Num of orders')\n",
    "plt.title('Returning customer orders')\n",
    "unique_id = cop.groupby('customer_unique_id').count()\n",
    "later_purchase = cop[cop.customer_unique_id.isin(list(unique_id[unique_id.customer_id > 1].index))]\n",
    "later_purchase.order_purchase_timestamp.hist(bins=40)\n",
    "plt.show()\n",
    "\n",
    "#savefig('subplotCust',bbox_inches='tight')"
   ]
  },
  {
   "cell_type": "markdown",
   "metadata": {},
   "source": [
    "The distributions show that the orders are fairly well distributed across the whole time period. This information is useful when data spilt into train and test later."
   ]
  },
  {
   "cell_type": "markdown",
   "metadata": {},
   "source": [
    "## <font color='blue'>Part 2</font>: Customer Segmentation\n",
    "<a id=part2></a>\n",
    "\n",
    "In this report, the Recency-Frequency-Monetary (RFM) - clustering method has been chosen. The RFM method is used to analyse the value of a customer by the following three dimensions :\n",
    "\n",
    " - Recency: How recently did the customer purchase?  This is measured as number of days since the customer last     bought an item on Olist \n",
    " \n",
    " - Frequency: How often do they purchase? The higher value, the more engaged the customers are on Olist\n",
    " \n",
    " - Monetary: How much do they spend? This is the total amount of money that the customers have spend on Olist\n",
    " \n",
    "Each customer will get a combined RFM score.\n",
    "\n",
    "\n",
    "\n",
    "The three parts of RFM is calculated now. The data is grouped by the unique customer id.\n",
    "Recency is calculated with the difference between the lastest purchasing date in the data set subtracted with the purchase date of the observation.\n",
    "Frequency is calculated by counting the amount of purchase timestamps each customer have. \n",
    "Revenue is calculated by summing each customer's payment_value. \n"
   ]
  },
  {
   "cell_type": "code",
   "execution_count": 102,
   "metadata": {},
   "outputs": [],
   "source": [
    "# Recency\n",
    "df_recency = cop.groupby('customer_unique_id').order_purchase_timestamp.max().reset_index()\n",
    "df_recency.columns = ['customer_unique_id','last_purchase_date']\n",
    "df_recency['Recency'] = (df_recency['last_purchase_date'].max() - df_recency['last_purchase_date']).dt.days\n",
    "df_recency = df_recency[['customer_unique_id','Recency']]\n",
    "\n",
    "# Frequency\n",
    "df_frequency = cop.groupby('customer_unique_id').order_purchase_timestamp.count().reset_index()\n",
    "df_frequency.columns = ['customer_unique_id','Frequency']\n",
    "\n",
    "# Revenue\n",
    "df_revenue = cop.groupby('customer_unique_id').payment_value.sum().reset_index()\n",
    "df_revenue.columns = ['customer_unique_id','Revenue']\n",
    "\n",
    "df = pd.DataFrame(cop['customer_unique_id'].unique())\n",
    "df.columns = ['customer_unique_id']"
   ]
  },
  {
   "cell_type": "markdown",
   "metadata": {},
   "source": [
    "### K-Means clustering\n",
    "We are going to apply K-means clustering to assign a score for each dimension in RFM. \n",
    "K-means clustering is a type of unsupervised machine learning algorithms which gives K clusters based on distance. Distance is measured by two factors. \n",
    " - _Within clusters sums of squares_ (WSS) is the sum of distances between each point in the cluster and the corresponding centroid. Given by the formula: $WSS = \\sum_{i}^{N_c} \\sum_{x\\in C_i} d(x,\\overline{x}_{C_i})^2$\n",
    " - _Between clusters sum of squares_ (BSS) is the sum of distances between the centroids and the total sample mean mulitplied by the number of points within each cluster. Given by the formula: $BSS = \\sum_{i}^{N_c} |C_{i}| \\cdot d(\\overline{x}_{C_i},\\overline{x})^2$\n",
    " \n",
    "where $C_{i}=Cluster_i, N_c = N\\ \\#\\ Clusters,\\ \\overline{x}_{C_i}\\ and\\ \\overline{x} = Sample\\ mean$ \n",
    "\n",
    "K-means algorithm seeks to get the optimised points for the centorid by moving and iterating the cluster centroids to minimise the value of WSS and maximise the value of BSS.\n",
    "\n",
    "\n",
    "\n",
    "K-means require that we specify K clusters. This can be done from the Elbow method which tells us the optimal number of clusters. First we define a function named plot_cluster which creates a for loop and calculate the a kmeans clustering for $K=\\{1..10\\}$. The function is called below and shows the optimal number of clusters is 4 for 'Recency'. For simplicity, it is assumed that the same number of optimal clusters applies to 'Frequency' and 'Revenue'. In the Elbow plot below, it is seen that as number of clusters increases the WSS value decreases. As we add more clusters the sum of distances within each cluster will decrease. \n"
   ]
  },
  {
   "cell_type": "code",
   "execution_count": 103,
   "metadata": {},
   "outputs": [],
   "source": [
    "def plot_cluster(data, name):\n",
    "    sse={}\n",
    "    for k in range(1, 10):\n",
    "        kmeans = KMeans(n_clusters=k, max_iter=1000).fit(data)\n",
    "        sse[k] = kmeans.inertia_ \n",
    "    plt.figure()\n",
    "    plt.plot(list(sse.keys()), list(sse.values()))\n",
    "    plt.title('Optimal number of clusters via Elbow of: ' + name)\n",
    "    plt.xlabel(\"Number of k-cluster\")\n",
    "    plt.ylabel(\"WCSS\")\n",
    "    plt.show()"
   ]
  },
  {
   "cell_type": "code",
   "execution_count": 104,
   "metadata": {},
   "outputs": [],
   "source": [
    "# Helper functions\n",
    "def order_cluster(cluster_field_name, target_field_name,df,ascending):\n",
    "    new_cluster_field_name = 'new_' + cluster_field_name\n",
    "    df_new = df.groupby(cluster_field_name)[target_field_name].mean().reset_index()\n",
    "    df_new = df_new.sort_values(by=target_field_name,ascending=ascending).reset_index(drop=True)\n",
    "    df_new['index'] = df_new.index\n",
    "    df_final = pd.merge(df,df_new[[cluster_field_name,'index']], on=cluster_field_name)\n",
    "    df_final = df_final.drop([cluster_field_name],axis=1)\n",
    "    df_final = df_final.rename(columns={\"index\":cluster_field_name})\n",
    "    return df_final"
   ]
  },
  {
   "cell_type": "markdown",
   "metadata": {},
   "source": [
    "Now the K-mean is performed with 4 clusters for each of the three dimensions. A new dataframe is defined where the values for each of the dimension is paried with the belonging unique customer id."
   ]
  },
  {
   "cell_type": "code",
   "execution_count": 105,
   "metadata": {},
   "outputs": [
    {
     "data": {
      "image/png": "[encoded data removed]",
      "text/plain": [
       "<Figure size 432x288 with 1 Axes>"
      ]
     },
     "metadata": {
      "needs_background": "light"
     },
     "output_type": "display_data"
    }
   ],
   "source": [
    "sort_orders = [False, True, True]\n",
    "names = ['Recency','Frequency','Revenue']\n",
    "dfs = [df_recency, df_frequency, df_revenue]\n",
    "\n",
    "for i in range(len(['Recency','Frequency','Revenue'])):\n",
    "    df = pd.merge(df, dfs[i], on='customer_unique_id')\n",
    "    kmeans = KMeans(n_clusters=4)\n",
    "    \n",
    "    if names[i] == \"Recency\":\n",
    "        plot_cluster(df[[names[i]]], names[i])\n",
    "        \n",
    "    kmeans.fit(df[[names[i]]])\n",
    "    df['cluster_' + names[i]] = kmeans.predict(df[[names[i]]])\n",
    "    df = order_cluster('cluster_' + names[i], names[i], df, sort_orders[i])\n",
    "    \n",
    "#df['OverallScore'] = df['cluster_Recency'] + df['cluster_Frequency'] + df['cluster_Revenue']"
   ]
  },
  {
   "cell_type": "markdown",
   "metadata": {},
   "source": [
    "The overall score is now calculated by adding the three dimensions together."
   ]
  },
  {
   "cell_type": "code",
   "execution_count": 106,
   "metadata": {},
   "outputs": [
    {
     "data": {
      "text/plain": [
       "array([0, 2, 3, 1, 4, 5, 6, 7, 8])"
      ]
     },
     "execution_count": 106,
     "metadata": {},
     "output_type": "execute_result"
    }
   ],
   "source": [
    "df['OverallScore'] = df['cluster_Recency'] + df['cluster_Frequency'] + df['cluster_Revenue']\n",
    "df['OverallScore'].unique()"
   ]
  },
  {
   "cell_type": "markdown",
   "metadata": {},
   "source": [
    "Now the final table is made where there is grouped by OverallScore by taking the mean value for the three dimensions.\n",
    "Furthermore, a count columns is added to see the distribution of customers for each score."
   ]
  },
  {
   "cell_type": "code",
   "execution_count": 107,
   "metadata": {
    "scrolled": true
   },
   "outputs": [
    {
     "data": {
      "text/html": [
       "<div>\n",
       "<style scoped>\n",
       "    .dataframe tbody tr th:only-of-type {\n",
       "        vertical-align: middle;\n",
       "    }\n",
       "\n",
       "    .dataframe tbody tr th {\n",
       "        vertical-align: top;\n",
       "    }\n",
       "\n",
       "    .dataframe thead th {\n",
       "        text-align: right;\n",
       "    }\n",
       "</style>\n",
       "<table border=\"1\" class=\"dataframe\">\n",
       "  <thead>\n",
       "    <tr style=\"text-align: right;\">\n",
       "      <th></th>\n",
       "      <th>Recency</th>\n",
       "      <th>Frequency</th>\n",
       "      <th>Revenue</th>\n",
       "      <th>Count</th>\n",
       "    </tr>\n",
       "    <tr>\n",
       "      <th>OverallScore</th>\n",
       "      <th></th>\n",
       "      <th></th>\n",
       "      <th></th>\n",
       "      <th></th>\n",
       "    </tr>\n",
       "  </thead>\n",
       "  <tbody>\n",
       "    <tr>\n",
       "      <th>0</th>\n",
       "      <td>488.055551</td>\n",
       "      <td>1.000000</td>\n",
       "      <td>91.185454</td>\n",
       "      <td>13249</td>\n",
       "    </tr>\n",
       "    <tr>\n",
       "      <th>1</th>\n",
       "      <td>341.763967</td>\n",
       "      <td>1.008581</td>\n",
       "      <td>120.303820</td>\n",
       "      <td>22374</td>\n",
       "    </tr>\n",
       "    <tr>\n",
       "      <th>2</th>\n",
       "      <td>217.295825</td>\n",
       "      <td>1.019138</td>\n",
       "      <td>142.351835</td>\n",
       "      <td>26492</td>\n",
       "    </tr>\n",
       "    <tr>\n",
       "      <th>3</th>\n",
       "      <td>101.804480</td>\n",
       "      <td>1.028899</td>\n",
       "      <td>167.278107</td>\n",
       "      <td>25849</td>\n",
       "    </tr>\n",
       "    <tr>\n",
       "      <th>4</th>\n",
       "      <td>97.550596</td>\n",
       "      <td>1.147005</td>\n",
       "      <td>401.337845</td>\n",
       "      <td>5959</td>\n",
       "    </tr>\n",
       "    <tr>\n",
       "      <th>5</th>\n",
       "      <td>88.361749</td>\n",
       "      <td>1.438844</td>\n",
       "      <td>779.572431</td>\n",
       "      <td>1349</td>\n",
       "    </tr>\n",
       "    <tr>\n",
       "      <th>6</th>\n",
       "      <td>76.930894</td>\n",
       "      <td>1.841463</td>\n",
       "      <td>1525.675244</td>\n",
       "      <td>246</td>\n",
       "    </tr>\n",
       "    <tr>\n",
       "      <th>7</th>\n",
       "      <td>104.666667</td>\n",
       "      <td>3.545455</td>\n",
       "      <td>1140.622424</td>\n",
       "      <td>33</td>\n",
       "    </tr>\n",
       "    <tr>\n",
       "      <th>8</th>\n",
       "      <td>52.888889</td>\n",
       "      <td>6.666667</td>\n",
       "      <td>1610.453333</td>\n",
       "      <td>9</td>\n",
       "    </tr>\n",
       "  </tbody>\n",
       "</table>\n",
       "</div>"
      ],
      "text/plain": [
       "                 Recency  Frequency      Revenue  Count\n",
       "OverallScore                                           \n",
       "0             488.055551   1.000000    91.185454  13249\n",
       "1             341.763967   1.008581   120.303820  22374\n",
       "2             217.295825   1.019138   142.351835  26492\n",
       "3             101.804480   1.028899   167.278107  25849\n",
       "4              97.550596   1.147005   401.337845   5959\n",
       "5              88.361749   1.438844   779.572431   1349\n",
       "6              76.930894   1.841463  1525.675244    246\n",
       "7             104.666667   3.545455  1140.622424     33\n",
       "8              52.888889   6.666667  1610.453333      9"
      ]
     },
     "execution_count": 107,
     "metadata": {},
     "output_type": "execute_result"
    }
   ],
   "source": [
    "overview = df.groupby('OverallScore')['Recency','Frequency','Revenue'].mean()\n",
    "overview['Count'] = df.groupby('OverallScore')['customer_unique_id'].count()\n",
    "\n",
    "overview"
   ]
  },
  {
   "cell_type": "markdown",
   "metadata": {},
   "source": [
    "It can be seen from the table that the 9 score numbers have a very imbalanced amount of customers between them. As the customers are receiving a higher score, the fewer and fewer amount of customers there is. The customers achieving the best possible score, 8, are only 9 out of 95560 customers. In the distribution of returning customers in the data visualisation part of the notebook, we saw that Olist was really struggling with non having enough returning customers. This is also outlines in the table above where it is first after score 6 where we have customers who all are returning more than 1 time. \n",
    "\n",
    "The segments are divided into three categories: \n",
    "\n",
    "- Low Value: 0\n",
    "- Mid Value: 1,2,3\n",
    "- High Value: 4,5,6,7,8\n",
    "\n"
   ]
  },
  {
   "cell_type": "code",
   "execution_count": 118,
   "metadata": {},
   "outputs": [],
   "source": [
    "df['Segment'] = 'Low-Value'\n",
    "df.loc[df['OverallScore']>1,'Segment'] = 'Mid-Value' \n",
    "df.loc[df['OverallScore']>3,'Segment'] = 'High-Value' "
   ]
  },
  {
   "cell_type": "markdown",
   "metadata": {},
   "source": [
    "Now the segments are distributed on a scatter plot below.\n"
   ]
  },
  {
   "cell_type": "code",
   "execution_count": 119,
   "metadata": {},
   "outputs": [
    {
     "data": {
      "image/png": "[encoded data removed]",
      "text/plain": [
       "<Figure size 936x288 with 3 Axes>"
      ]
     },
     "metadata": {
      "needs_background": "light"
     },
     "output_type": "display_data"
    }
   ],
   "source": [
    "plot = df[(df['Revenue']<7000) & (df['Frequency']<6)]\n",
    "\n",
    "plt.figure(figsize=(13, 4))\n",
    "    \n",
    "ax0_names = ['Recency','Frequency','Frequency']\n",
    "ax1_names = ['Revenue','Revenue','Recency']\n",
    "\n",
    "for i in range(3):\n",
    "    plt.subplot(1, 3, i+1)\n",
    "    sns.scatterplot(ax0_names[i], ax1_names[i], hue='Segment', data=plot)\n",
    "\n",
    "plt.tight_layout()\n",
    "plt.show()"
   ]
  },
  {
   "cell_type": "markdown",
   "metadata": {},
   "source": [
    "The high-value customers and mid-value customers are quite seperated when looking at the three scatterplots. However, it seems like the low-value customers are very close to the mid-value customers. By taking a look at the scatter plot with Revenue and Recency, it can be seen that that the high and mid-value customers are seperated but the low-value customers seems to lie around the mid-value.\n",
    "Furthermore, it is seen that for both of the frequency plots, the data lies on vertical lines which is due to frequency is an integer number ranging from 1 to 5. Again, the low-value customers are hard to seperate from the other categories in both of the plots. \n",
    "\n",
    "\n",
    "In the above part of the notebook, a RFM segmentation has been performed with K-means clustering. With this analysis, Olist can identify their most profitable customers. But more than that, it also tells Olist which customers to focus on keeping as loyal customers by for example giving them promotions and special offers. Furthermore, Olist can also use this analysis to identify their not so good customers, and use targeted marketing strategies to turn these customers to become more profitable. This can also be through special offers but also incentive programs to increase the amount of returning customers. With the defined RCF KPI, Olist can track their performance for the amount of retunring customers they have. Furthermore, they can set time dependent targets for when the business should have a RCF=10% and so on.\n"
   ]
  },
  {
   "cell_type": "markdown",
   "metadata": {},
   "source": [
    "## <font color='blue'>Part 3</font>: Customer Lifetime Value\n",
    "<a id=part3></a>"
   ]
  },
  {
   "cell_type": "markdown",
   "metadata": {},
   "source": [
    "Now we know who our best customers are from our segmentation. Therefore, it is relevant to dive deeper into our customers and get an idea of how much value they are creating for Olist. \n",
    "Therefore we can use use the method, Customer Lifetime Value (CLV), which is  a prediction of the net profit attributed to a future relationship with a customer.\n",
    "In this part of the workbook, we will go through the following path:\n",
    "\n",
    "- Define a timeframe for CLV\n",
    "- Identify relevant features used for modelling \n",
    "- Calculate the CLV to train the models\n",
    "- Build a baseline model, and suggest more advanced model\n",
    "- Evaluate the proposed models\n",
    "\n",
    "\n",
    "\n",
    "\n",
    "Note: Since we do not have the net profit for each customer available in the data, we will use the revenue instead.\n",
    "\n",
    "\n",
    "\n",
    "\n"
   ]
  },
  {
   "cell_type": "markdown",
   "metadata": {},
   "source": [
    "### Defining the timeframe for CLV and relevant features\n",
    "We have chosen to predict the CLV for the next 8 months so the period will be from 01/10/2017 - 01/06/2018. \n",
    "\n",
    "We can use the RFM clustering for each customer as a feature to our prediction model. Therefore, we take 10 months of data to calculate the RFM and use it to predict the next 8 month CLV. The 10 months will stretch from 01/01/2017-01/10/2017. \n",
    "\n",
    "First, we will split the dataframe into two dataframes and append the RFM scores after."
   ]
  },
  {
   "cell_type": "code",
   "execution_count": 120,
   "metadata": {},
   "outputs": [],
   "source": [
    "from datetime import datetime, timedelta, date\n",
    "from sklearn.metrics import classification_report,confusion_matrix\n",
    "from sklearn.cluster import KMeans\n",
    "from sklearn.model_selection import train_test_split"
   ]
  },
  {
   "cell_type": "code",
   "execution_count": 121,
   "metadata": {},
   "outputs": [],
   "source": [
    "# Create 10m and 8m dataframes\n",
    "df_10m = cop[(cop.order_purchase_timestamp < pd.Timestamp(2017,10,1))\\\n",
    "             & (cop.order_purchase_timestamp >= pd.Timestamp(2017,1,1))].reset_index(drop=True)\n",
    "\n",
    "df_8m = cop[(cop.order_purchase_timestamp >= pd.Timestamp(2017,10,1))\\\n",
    "            & (cop.order_purchase_timestamp < pd.Timestamp(2018,6,1))].reset_index(drop=True)"
   ]
  },
  {
   "cell_type": "markdown",
   "metadata": {},
   "source": [
    "Calculating the RFM scores with the code from the segmentation for the 10-month period."
   ]
  },
  {
   "cell_type": "code",
   "execution_count": 122,
   "metadata": {},
   "outputs": [],
   "source": [
    "# Recency 10m\n",
    "df_recency = df_10m.groupby('customer_unique_id').order_purchase_timestamp.max().reset_index()\n",
    "df_recency.columns = ['customer_unique_id','last_purchase_date']\n",
    "df_recency['Recency'] = (df_recency['last_purchase_date'].max() - df_recency['last_purchase_date']).dt.days\n",
    "df_recency = df_recency[['customer_unique_id','Recency']]\n",
    "\n",
    "# Frequency 10m\n",
    "df_frequency = df_10m.groupby('customer_unique_id').order_purchase_timestamp.count().reset_index()\n",
    "df_frequency.columns = ['customer_unique_id','Frequency']\n",
    "\n",
    "# Revenue 10m\n",
    "df_revenue = df_10m.groupby('customer_unique_id').payment_value.sum().reset_index()\n",
    "df_revenue.columns = ['customer_unique_id','Revenue']\n",
    "\n",
    "df_10 = pd.DataFrame(df_10m['customer_unique_id'].unique())\n",
    "df_10.columns = ['customer_unique_id']\n",
    "\n",
    "sort_orders = [False, True, True]\n",
    "names = ['Recency','Frequency','Revenue']\n",
    "dfs = [df_recency, df_frequency, df_revenue]\n",
    "\n",
    "# Performing Kmeans clustering on recency, frequency and revenue\n",
    "for i in range(len(['Recency','Frequency','Revenue'])):\n",
    "    df_10 = pd.merge(df_10, dfs[i], on='customer_unique_id')\n",
    "    kmeans = KMeans(n_clusters=4)        \n",
    "    kmeans.fit(df_10[[names[i]]])\n",
    "    df_10['cluster_' + names[i]] = kmeans.predict(df_10[[names[i]]])\n",
    "    df_10 = order_cluster('cluster_' + names[i], names[i], df_10, sort_orders[i])\n",
    "    \n",
    "df_10['OverallScore'] = df_10['cluster_Recency'] + df_10['cluster_Frequency'] + df_10['cluster_Revenue']"
   ]
  },
  {
   "cell_type": "code",
   "execution_count": 123,
   "metadata": {},
   "outputs": [],
   "source": [
    "df_10['Segment'] = 'Low-CLV'\n",
    "df_10.loc[df['OverallScore']>1,'Segment'] = 'Mid-CLV' \n",
    "df_10.loc[df['OverallScore']>3,'Segment'] = 'High-CLV' \n",
    "\n",
    "# Removing outliers\n",
    "df_plot = df_10[(df_10['Revenue']<7000) & (df_10['Frequency']<6)]"
   ]
  },
  {
   "cell_type": "markdown",
   "metadata": {},
   "source": [
    "### 8 month CLV\n",
    "\n",
    "Now the 8 month CLV is calculated for each customer. We use the 8 month dataframe and groupby the unique customers and sum the value of their payments. The distribution for revenue is shown with a histogram. \n",
    "The histogram shows, as expected, that most of the customers are creating a low amount of revenue and it is a very small part of the customers that creating a total revenue above 300 BRL. "
   ]
  },
  {
   "cell_type": "code",
   "execution_count": 124,
   "metadata": {},
   "outputs": [
    {
     "data": {
      "image/png": "[encoded data removed]",
      "text/plain": [
       "<Figure size 432x288 with 1 Axes>"
      ]
     },
     "metadata": {
      "needs_background": "light"
     },
     "output_type": "display_data"
    }
   ],
   "source": [
    "# Calculate revenue and create a new dataframe for it\n",
    "df_8 = df_8m.groupby('customer_unique_id')['payment_value'].sum().reset_index()\n",
    "df_8.columns = ['customer_unique_id','m8_Revenue']\n",
    "\n",
    "# Plotting\n",
    "df_8['m8_Revenue'][df_8['m8_Revenue']<600].hist()\n",
    "plt.ylabel('Frequency')\n",
    "plt.xlabel('Sum of revenue')\n",
    "plt.title('Revenue of 8 months')\n",
    "plt.show()"
   ]
  },
  {
   "cell_type": "markdown",
   "metadata": {},
   "source": [
    "Now the target variabel, CLV, has been calculated for the 8-month dataset and the RFM features for the 10-month dataset. The two dataframes will now be merged so the correlation between the CLV and the features can be investigated. The CLV is continous variabel now which will be transformed to a categorial variabel by predicting three groups based on the CLV value. K-Means is again used for this segmentation."
   ]
  },
  {
   "cell_type": "code",
   "execution_count": 125,
   "metadata": {
    "scrolled": true
   },
   "outputs": [
    {
     "data": {
      "text/html": [
       "<div>\n",
       "<style scoped>\n",
       "    .dataframe tbody tr th:only-of-type {\n",
       "        vertical-align: middle;\n",
       "    }\n",
       "\n",
       "    .dataframe tbody tr th {\n",
       "        vertical-align: top;\n",
       "    }\n",
       "\n",
       "    .dataframe thead th {\n",
       "        text-align: right;\n",
       "    }\n",
       "</style>\n",
       "<table border=\"1\" class=\"dataframe\">\n",
       "  <thead>\n",
       "    <tr style=\"text-align: right;\">\n",
       "      <th></th>\n",
       "      <th>customer_unique_id</th>\n",
       "      <th>Recency</th>\n",
       "      <th>cluster_Recency</th>\n",
       "      <th>Frequency</th>\n",
       "      <th>cluster_Frequency</th>\n",
       "      <th>Revenue</th>\n",
       "      <th>cluster_Revenue</th>\n",
       "      <th>OverallScore</th>\n",
       "      <th>Segment</th>\n",
       "      <th>m8_Revenue</th>\n",
       "    </tr>\n",
       "  </thead>\n",
       "  <tbody>\n",
       "    <tr>\n",
       "      <th>0</th>\n",
       "      <td>861eff4711a542e4b93843c6dd7febb0</td>\n",
       "      <td>137</td>\n",
       "      <td>1</td>\n",
       "      <td>1</td>\n",
       "      <td>0</td>\n",
       "      <td>146.87</td>\n",
       "      <td>0</td>\n",
       "      <td>1</td>\n",
       "      <td>Low-CLV</td>\n",
       "      <td>NaN</td>\n",
       "    </tr>\n",
       "    <tr>\n",
       "      <th>1</th>\n",
       "      <td>7f3a72e8f988c6e735ba118d54f47458</td>\n",
       "      <td>142</td>\n",
       "      <td>1</td>\n",
       "      <td>1</td>\n",
       "      <td>0</td>\n",
       "      <td>102.03</td>\n",
       "      <td>0</td>\n",
       "      <td>1</td>\n",
       "      <td>Low-CLV</td>\n",
       "      <td>NaN</td>\n",
       "    </tr>\n",
       "    <tr>\n",
       "      <th>2</th>\n",
       "      <td>4390ddbb6276a66ff1736a6710205dca</td>\n",
       "      <td>169</td>\n",
       "      <td>1</td>\n",
       "      <td>1</td>\n",
       "      <td>0</td>\n",
       "      <td>94.63</td>\n",
       "      <td>0</td>\n",
       "      <td>1</td>\n",
       "      <td>Low-CLV</td>\n",
       "      <td>NaN</td>\n",
       "    </tr>\n",
       "    <tr>\n",
       "      <th>3</th>\n",
       "      <td>2e6a42a9b5cbb0da62988694f18ee295</td>\n",
       "      <td>138</td>\n",
       "      <td>1</td>\n",
       "      <td>1</td>\n",
       "      <td>0</td>\n",
       "      <td>47.59</td>\n",
       "      <td>0</td>\n",
       "      <td>1</td>\n",
       "      <td>Low-CLV</td>\n",
       "      <td>NaN</td>\n",
       "    </tr>\n",
       "    <tr>\n",
       "      <th>4</th>\n",
       "      <td>fd2d5fdb84e65fa6b54b98b0e2df5645</td>\n",
       "      <td>131</td>\n",
       "      <td>1</td>\n",
       "      <td>1</td>\n",
       "      <td>0</td>\n",
       "      <td>80.57</td>\n",
       "      <td>0</td>\n",
       "      <td>1</td>\n",
       "      <td>Low-CLV</td>\n",
       "      <td>NaN</td>\n",
       "    </tr>\n",
       "  </tbody>\n",
       "</table>\n",
       "</div>"
      ],
      "text/plain": [
       "                 customer_unique_id  Recency  cluster_Recency  Frequency  \\\n",
       "0  861eff4711a542e4b93843c6dd7febb0      137                1          1   \n",
       "1  7f3a72e8f988c6e735ba118d54f47458      142                1          1   \n",
       "2  4390ddbb6276a66ff1736a6710205dca      169                1          1   \n",
       "3  2e6a42a9b5cbb0da62988694f18ee295      138                1          1   \n",
       "4  fd2d5fdb84e65fa6b54b98b0e2df5645      131                1          1   \n",
       "\n",
       "   cluster_Frequency  Revenue  cluster_Revenue  OverallScore  Segment  \\\n",
       "0                  0   146.87                0             1  Low-CLV   \n",
       "1                  0   102.03                0             1  Low-CLV   \n",
       "2                  0    94.63                0             1  Low-CLV   \n",
       "3                  0    47.59                0             1  Low-CLV   \n",
       "4                  0    80.57                0             1  Low-CLV   \n",
       "\n",
       "   m8_Revenue  \n",
       "0         NaN  \n",
       "1         NaN  \n",
       "2         NaN  \n",
       "3         NaN  \n",
       "4         NaN  "
      ]
     },
     "execution_count": 125,
     "metadata": {},
     "output_type": "execute_result"
    }
   ],
   "source": [
    "df_merge = pd.merge(df_10, df_8, on='customer_unique_id', how='left')\n",
    "#df_merge = df_merge.fillna(0)\n",
    "\n",
    "df_merge.head()\n",
    "#insert scatter plot her af RFM score vs 8m LTV"
   ]
  },
  {
   "cell_type": "code",
   "execution_count": 126,
   "metadata": {
    "scrolled": false
   },
   "outputs": [
    {
     "data": {
      "text/html": [
       "<div>\n",
       "<style scoped>\n",
       "    .dataframe tbody tr th:only-of-type {\n",
       "        vertical-align: middle;\n",
       "    }\n",
       "\n",
       "    .dataframe tbody tr th {\n",
       "        vertical-align: top;\n",
       "    }\n",
       "\n",
       "    .dataframe thead th {\n",
       "        text-align: right;\n",
       "    }\n",
       "</style>\n",
       "<table border=\"1\" class=\"dataframe\">\n",
       "  <thead>\n",
       "    <tr style=\"text-align: right;\">\n",
       "      <th></th>\n",
       "      <th>count</th>\n",
       "      <th>mean</th>\n",
       "      <th>std</th>\n",
       "      <th>min</th>\n",
       "      <th>25%</th>\n",
       "      <th>50%</th>\n",
       "      <th>75%</th>\n",
       "      <th>max</th>\n",
       "    </tr>\n",
       "    <tr>\n",
       "      <th>cluster_CLV</th>\n",
       "      <th></th>\n",
       "      <th></th>\n",
       "      <th></th>\n",
       "      <th></th>\n",
       "      <th></th>\n",
       "      <th></th>\n",
       "      <th></th>\n",
       "      <th></th>\n",
       "    </tr>\n",
       "  </thead>\n",
       "  <tbody>\n",
       "    <tr>\n",
       "      <th>0</th>\n",
       "      <td>388.0</td>\n",
       "      <td>93.216366</td>\n",
       "      <td>43.829355</td>\n",
       "      <td>15.89</td>\n",
       "      <td>55.3075</td>\n",
       "      <td>88.655</td>\n",
       "      <td>130.8775</td>\n",
       "      <td>180.51</td>\n",
       "    </tr>\n",
       "    <tr>\n",
       "      <th>1</th>\n",
       "      <td>100.0</td>\n",
       "      <td>273.550100</td>\n",
       "      <td>63.001244</td>\n",
       "      <td>184.73</td>\n",
       "      <td>220.8700</td>\n",
       "      <td>267.305</td>\n",
       "      <td>314.3375</td>\n",
       "      <td>435.95</td>\n",
       "    </tr>\n",
       "    <tr>\n",
       "      <th>2</th>\n",
       "      <td>22.0</td>\n",
       "      <td>610.989091</td>\n",
       "      <td>98.363437</td>\n",
       "      <td>453.80</td>\n",
       "      <td>543.2925</td>\n",
       "      <td>616.970</td>\n",
       "      <td>665.2375</td>\n",
       "      <td>785.24</td>\n",
       "    </tr>\n",
       "  </tbody>\n",
       "</table>\n",
       "</div>"
      ],
      "text/plain": [
       "             count        mean        std     min       25%      50%  \\\n",
       "cluster_CLV                                                            \n",
       "0            388.0   93.216366  43.829355   15.89   55.3075   88.655   \n",
       "1            100.0  273.550100  63.001244  184.73  220.8700  267.305   \n",
       "2             22.0  610.989091  98.363437  453.80  543.2925  616.970   \n",
       "\n",
       "                  75%     max  \n",
       "cluster_CLV                    \n",
       "0            130.8775  180.51  \n",
       "1            314.3375  435.95  \n",
       "2            665.2375  785.24  "
      ]
     },
     "execution_count": 126,
     "metadata": {},
     "output_type": "execute_result"
    }
   ],
   "source": [
    "#remove outliers\n",
    "df_merge = df_merge[df_merge['m8_Revenue']<df_merge['m8_Revenue'].quantile(0.99)]\n",
    "\n",
    "#creating 3 clusters\n",
    "km = KMeans(n_clusters=3)\n",
    "km.fit(df_merge[['m8_Revenue']])\n",
    "df_merge['cluster_CLV'] = km.predict(df_merge[['m8_Revenue']])\n",
    "\n",
    "#order cluster number based on LTV\n",
    "df_merge = order_cluster('cluster_CLV', 'm8_Revenue', df_merge, True)\n",
    "\n",
    "#creating a new cluster dataset\n",
    "df_cluster = df_merge.copy()\n",
    "\n",
    "#basic statistics for the clusters\n",
    "df_cluster.groupby('cluster_CLV')['m8_Revenue'].describe()\n",
    "\n",
    "\n"
   ]
  },
  {
   "cell_type": "code",
   "execution_count": 135,
   "metadata": {},
   "outputs": [
    {
     "name": "stdout",
     "output_type": "stream",
     "text": [
      "\\begin{tabular}{lrrrrrrrr}\n",
      "\\toprule\n",
      "{} &  count &        mean &        std &     min &       25\\% &      50\\% &       75\\% &     max \\\\\n",
      "cluster\\_CLV &        &             &            &         &           &          &           &         \\\\\n",
      "\\midrule\n",
      "0           &  388.0 &   93.216366 &  43.829355 &   15.89 &   55.3075 &   88.655 &  130.8775 &  180.51 \\\\\n",
      "1           &  100.0 &  273.550100 &  63.001244 &  184.73 &  220.8700 &  267.305 &  314.3375 &  435.95 \\\\\n",
      "2           &   22.0 &  610.989091 &  98.363437 &  453.80 &  543.2925 &  616.970 &  665.2375 &  785.24 \\\\\n",
      "\\bottomrule\n",
      "\\end{tabular}\n",
      "\n"
     ]
    }
   ],
   "source": [
    "#print to latex\n",
    "print(df_cluster.groupby('cluster_CLV')['m8_Revenue'].describe().to_latex())"
   ]
  },
  {
   "cell_type": "markdown",
   "metadata": {},
   "source": [
    "Above the three CLV clusters are described. The problem with non-occuring customers are clearly seen here where the combined count of the clusters are 510. What is intersting to see is the distribution of customers in each category which is very imbalanced. The customers that are expected to give the least revenue, cluster 0, in the next 8 months accounts for 76% of the customers, cluster 1 acounts 19% and cluster 2 for 5%. \n",
    "In order to maximise revenue, Olist could use the `Customer Lifetime Value` KPI to set targets for the distribution to gain more high value customers e.g. set a target that by a certain date 10% of their customers should be in the best cluster. \n",
    "\n",
    "\n",
    "This is much to little data to use for a prediction model in order for it to create results which can be actually used in a business setting. \n",
    "However, we will still apply some basic predition models and a more advanced one. The results from these models might be useless but the concept of tracking the CLV for a customer and predicting a new customer's CLV can create a lot of value for Olist in the future. "
   ]
  },
  {
   "cell_type": "code",
   "execution_count": 30,
   "metadata": {
    "scrolled": true
   },
   "outputs": [
    {
     "data": {
      "text/html": [
       "<div>\n",
       "<style scoped>\n",
       "    .dataframe tbody tr th:only-of-type {\n",
       "        vertical-align: middle;\n",
       "    }\n",
       "\n",
       "    .dataframe tbody tr th {\n",
       "        vertical-align: top;\n",
       "    }\n",
       "\n",
       "    .dataframe thead th {\n",
       "        text-align: right;\n",
       "    }\n",
       "</style>\n",
       "<table border=\"1\" class=\"dataframe\">\n",
       "  <thead>\n",
       "    <tr style=\"text-align: right;\">\n",
       "      <th></th>\n",
       "      <th>customer_unique_id</th>\n",
       "      <th>Recency</th>\n",
       "      <th>cluster_Recency</th>\n",
       "      <th>Frequency</th>\n",
       "      <th>cluster_Frequency</th>\n",
       "      <th>Revenue</th>\n",
       "      <th>cluster_Revenue</th>\n",
       "      <th>OverallScore</th>\n",
       "      <th>Segment</th>\n",
       "      <th>m8_Revenue</th>\n",
       "      <th>cluster_CLV</th>\n",
       "    </tr>\n",
       "  </thead>\n",
       "  <tbody>\n",
       "    <tr>\n",
       "      <th>0</th>\n",
       "      <td>18e3d276253780b44b5b7bf83f6785ec</td>\n",
       "      <td>150</td>\n",
       "      <td>1</td>\n",
       "      <td>1</td>\n",
       "      <td>0</td>\n",
       "      <td>96.88</td>\n",
       "      <td>0</td>\n",
       "      <td>1</td>\n",
       "      <td>Low-CLV</td>\n",
       "      <td>71.97</td>\n",
       "      <td>0</td>\n",
       "    </tr>\n",
       "    <tr>\n",
       "      <th>1</th>\n",
       "      <td>49d1599dd80dedc213037342bbe43fd7</td>\n",
       "      <td>120</td>\n",
       "      <td>1</td>\n",
       "      <td>1</td>\n",
       "      <td>0</td>\n",
       "      <td>40.77</td>\n",
       "      <td>0</td>\n",
       "      <td>1</td>\n",
       "      <td>Low-CLV</td>\n",
       "      <td>77.80</td>\n",
       "      <td>0</td>\n",
       "    </tr>\n",
       "    <tr>\n",
       "      <th>2</th>\n",
       "      <td>2b952792a20f6076f6e7a9c6a27ade02</td>\n",
       "      <td>117</td>\n",
       "      <td>1</td>\n",
       "      <td>1</td>\n",
       "      <td>0</td>\n",
       "      <td>47.54</td>\n",
       "      <td>0</td>\n",
       "      <td>1</td>\n",
       "      <td>Low-CLV</td>\n",
       "      <td>82.60</td>\n",
       "      <td>0</td>\n",
       "    </tr>\n",
       "    <tr>\n",
       "      <th>3</th>\n",
       "      <td>f7d2fc6f0a2778f53d2a6bfc27bd0e8c</td>\n",
       "      <td>137</td>\n",
       "      <td>1</td>\n",
       "      <td>1</td>\n",
       "      <td>0</td>\n",
       "      <td>190.33</td>\n",
       "      <td>0</td>\n",
       "      <td>1</td>\n",
       "      <td>Low-CLV</td>\n",
       "      <td>179.86</td>\n",
       "      <td>0</td>\n",
       "    </tr>\n",
       "    <tr>\n",
       "      <th>4</th>\n",
       "      <td>cb4253d36367737b6baa4f8ca58fac62</td>\n",
       "      <td>108</td>\n",
       "      <td>1</td>\n",
       "      <td>1</td>\n",
       "      <td>0</td>\n",
       "      <td>83.14</td>\n",
       "      <td>0</td>\n",
       "      <td>1</td>\n",
       "      <td>Low-CLV</td>\n",
       "      <td>59.66</td>\n",
       "      <td>0</td>\n",
       "    </tr>\n",
       "  </tbody>\n",
       "</table>\n",
       "</div>"
      ],
      "text/plain": [
       "                 customer_unique_id  Recency  cluster_Recency  Frequency  \\\n",
       "0  18e3d276253780b44b5b7bf83f6785ec      150                1          1   \n",
       "1  49d1599dd80dedc213037342bbe43fd7      120                1          1   \n",
       "2  2b952792a20f6076f6e7a9c6a27ade02      117                1          1   \n",
       "3  f7d2fc6f0a2778f53d2a6bfc27bd0e8c      137                1          1   \n",
       "4  cb4253d36367737b6baa4f8ca58fac62      108                1          1   \n",
       "\n",
       "   cluster_Frequency  Revenue  cluster_Revenue  OverallScore  Segment  \\\n",
       "0                  0    96.88                0             1  Low-CLV   \n",
       "1                  0    40.77                0             1  Low-CLV   \n",
       "2                  0    47.54                0             1  Low-CLV   \n",
       "3                  0   190.33                0             1  Low-CLV   \n",
       "4                  0    83.14                0             1  Low-CLV   \n",
       "\n",
       "   m8_Revenue  cluster_CLV  \n",
       "0       71.97            0  \n",
       "1       77.80            0  \n",
       "2       82.60            0  \n",
       "3      179.86            0  \n",
       "4       59.66            0  "
      ]
     },
     "execution_count": 30,
     "metadata": {},
     "output_type": "execute_result"
    }
   ],
   "source": [
    "df_cluster.head()"
   ]
  },
  {
   "cell_type": "markdown",
   "metadata": {},
   "source": [
    "The categorial variables are converted into dummy/indicator variables using pandas get_dummies()-function. \n",
    "Furthermore, the correlation between the features and the target variables are shown in a list."
   ]
  },
  {
   "cell_type": "code",
   "execution_count": 31,
   "metadata": {},
   "outputs": [
    {
     "data": {
      "text/plain": [
       "cluster_CLV          1.000000\n",
       "m8_Revenue           0.903187\n",
       "cluster_Revenue      0.233570\n",
       "Revenue              0.232252\n",
       "cluster_Frequency    0.181156\n",
       "Frequency            0.171613\n",
       "OverallScore         0.147613\n",
       "Segment_Mid-CLV      0.097847\n",
       "cluster_Recency      0.045234\n",
       "Recency             -0.048607\n",
       "Segment_Low-CLV     -0.097847\n",
       "Name: cluster_CLV, dtype: float64"
      ]
     },
     "execution_count": 31,
     "metadata": {},
     "output_type": "execute_result"
    }
   ],
   "source": [
    "#convert categorical columns to numerical\n",
    "df_dummies = pd.get_dummies(df_cluster, columns=['Segment'])\n",
    "\n",
    "#calculate and show correlations\n",
    "corr_matrix = df_dummies.corr()\n",
    "corr_matrix['cluster_CLV'].sort_values(ascending=False)"
   ]
  },
  {
   "cell_type": "markdown",
   "metadata": {},
   "source": [
    "Before we fit the prediction model, our data is scaled using the MinMaxScaler from sklearn. After the data is splitted into a test and train set. "
   ]
  },
  {
   "cell_type": "code",
   "execution_count": 35,
   "metadata": {},
   "outputs": [],
   "source": [
    "from sklearn.preprocessing import MinMaxScaler\n",
    "\n",
    "#create X and y, X will be feature set and y is the label - LTV\n",
    "X = df_dummies.drop(['customer_unique_id','cluster_CLV','m8_Revenue'],axis=1)\n",
    "y = df_dummies['cluster_CLV']\n",
    "\n",
    "scaler = MinMaxScaler()\n",
    "X = scaler.fit_transform(X)\n",
    "\n",
    "#split training and test sets\n",
    "X_train, X_test, y_train, y_test = train_test_split(X, y, test_size=0.15, random_state=56)"
   ]
  },
  {
   "cell_type": "markdown",
   "metadata": {},
   "source": [
    "### Dummy baseline\n",
    "\n",
    "Having a high class imbalance we first create a baseline \"dummy\" classifier to later compare with a more advanced model. The dummy classifier predicts classes by using simple rules. The default setting is \"stratified\" meaning that the model makes predictions by respecting the training datas class disitrbution."
   ]
  },
  {
   "cell_type": "code",
   "execution_count": 36,
   "metadata": {},
   "outputs": [
    {
     "name": "stdout",
     "output_type": "stream",
     "text": [
      "              precision    recall  f1-score   support\n",
      "\n",
      "           0       0.70      0.78      0.74        55\n",
      "           1       0.14      0.12      0.13        16\n",
      "           2       0.50      0.17      0.25         6\n",
      "\n",
      "   micro avg       0.60      0.60      0.60        77\n",
      "   macro avg       0.45      0.36      0.37        77\n",
      "weighted avg       0.57      0.60      0.58        77\n",
      "\n"
     ]
    }
   ],
   "source": [
    "from sklearn.dummy import DummyClassifier\n",
    "from sklearn.metrics import classification_report\n",
    "\n",
    "clf = DummyClassifier(random_state=0).fit(X_train, y_train)\n",
    "y_pred = clf.predict(X_test)\n",
    "print(classification_report(y_test, y_pred))"
   ]
  },
  {
   "cell_type": "markdown",
   "metadata": {},
   "source": [
    "The dummy classifier performs well on the first cluster 0 but are struggling alot with cluster 1 and a bit with cluster 2. "
   ]
  },
  {
   "cell_type": "markdown",
   "metadata": {},
   "source": [
    "### Logistic regression \n",
    "\n",
    "A logistic regression model is also tried on the dataset. "
   ]
  },
  {
   "cell_type": "code",
   "execution_count": 37,
   "metadata": {
    "scrolled": true
   },
   "outputs": [
    {
     "name": "stdout",
     "output_type": "stream",
     "text": [
      "              precision    recall  f1-score   support\n",
      "\n",
      "           0       0.75      0.49      0.59        55\n",
      "           1       0.28      0.44      0.34        16\n",
      "           2       0.25      0.67      0.36         6\n",
      "\n",
      "   micro avg       0.49      0.49      0.49        77\n",
      "   macro avg       0.43      0.53      0.43        77\n",
      "weighted avg       0.61      0.49      0.52        77\n",
      "\n"
     ]
    }
   ],
   "source": [
    "#class_weight='balanced' er til, skal vendes med Stannislav \n",
    "from sklearn.linear_model import LogisticRegression\n",
    "\n",
    "clf = LogisticRegression(random_state=0, solver='lbfgs',\n",
    "                          multi_class='multinomial',class_weight='balanced').fit(X_train, y_train)\n",
    "y_pred = clf.predict(X_test)\n",
    "print(classification_report(y_test, y_pred))"
   ]
  },
  {
   "cell_type": "markdown",
   "metadata": {},
   "source": [
    "The overall performance level is similar to the dummy classifier. The Precision is twice as high for cluster 1 in logistic regression compared to the dummy classifier. However, the precision for cluster 2 is at the same time half as low compared to the dummy. "
   ]
  },
  {
   "cell_type": "code",
   "execution_count": 38,
   "metadata": {},
   "outputs": [
    {
     "data": {
      "text/plain": [
       "array([[ 0.58808132,  0.23549216, -0.21882155, -0.33255199, -1.38009096,\n",
       "        -0.59043405, -0.21029251, -0.0119123 ,  0.01167866],\n",
       "       [ 0.81625171, -0.10422958,  0.81272001,  1.30622988, -0.85634008,\n",
       "         0.41354052,  0.63329742,  0.18885057, -0.18949584],\n",
       "       [-1.40433303, -0.13126258, -0.59389847, -0.97367789,  2.23643104,\n",
       "         0.17689353, -0.42300491, -0.17693827,  0.17781718]])"
      ]
     },
     "execution_count": 38,
     "metadata": {},
     "output_type": "execute_result"
    }
   ],
   "source": [
    "clf.coef_"
   ]
  },
  {
   "cell_type": "markdown",
   "metadata": {},
   "source": [
    "### ANN Classifier\n",
    "\n",
    "With two simple models implemented, a more advanced model is proposed. The model is a feed-forward neural network with 2 layers with 20 hidden units in each layer. Relu is used as the non-linear activation function in both layers. A softmax function is applied to the outputlayer and categorical crossentropy is used as loss function. \n",
    "The model is trained with 100 epochs. "
   ]
  },
  {
   "cell_type": "code",
   "execution_count": 41,
   "metadata": {},
   "outputs": [
    {
     "name": "stdout",
     "output_type": "stream",
     "text": [
      "Model: \"sequential_2\"\n",
      "_________________________________________________________________\n",
      "Layer (type)                 Output Shape              Param #   \n",
      "=================================================================\n",
      "dense_4 (Dense)              (None, 20)                200       \n",
      "_________________________________________________________________\n",
      "dense_5 (Dense)              (None, 20)                420       \n",
      "_________________________________________________________________\n",
      "dense_6 (Dense)              (None, 3)                 63        \n",
      "=================================================================\n",
      "Total params: 683\n",
      "Trainable params: 683\n",
      "Non-trainable params: 0\n",
      "_________________________________________________________________\n",
      "Epoch 1/10\n",
      "433/433 [==============================] - 1s 3ms/step - loss: 1.2489 - accuracy: 0.0577\n",
      "Epoch 2/10\n",
      "433/433 [==============================] - 0s 243us/step - loss: 1.1392 - accuracy: 0.1778\n",
      "Epoch 3/10\n",
      "433/433 [==============================] - 0s 217us/step - loss: 1.0535 - accuracy: 0.6374\n",
      "Epoch 4/10\n",
      "433/433 [==============================] - 0s 308us/step - loss: 0.9842 - accuracy: 0.7691\n",
      "Epoch 5/10\n",
      "433/433 [==============================] - 0s 256us/step - loss: 0.9116 - accuracy: 0.7691\n",
      "Epoch 6/10\n",
      "433/433 [==============================] - 0s 174us/step - loss: 0.8419 - accuracy: 0.7691\n",
      "Epoch 7/10\n",
      "433/433 [==============================] - 0s 303us/step - loss: 0.7784 - accuracy: 0.7691\n",
      "Epoch 8/10\n",
      "433/433 [==============================] - 0s 224us/step - loss: 0.7264 - accuracy: 0.7691\n",
      "Epoch 9/10\n",
      "433/433 [==============================] - 0s 266us/step - loss: 0.6936 - accuracy: 0.7691\n",
      "Epoch 10/10\n",
      "433/433 [==============================] - 0s 328us/step - loss: 0.6743 - accuracy: 0.7691\n"
     ]
    }
   ],
   "source": [
    "# multi-class classification with Keras\n",
    "from keras.models import Sequential\n",
    "from keras.layers import Dense\n",
    "from keras.layers import Dropout\n",
    "from keras.utils import np_utils\n",
    "\n",
    "train_cat_y = np_utils.to_categorical(y_train)\n",
    "\n",
    "# define baseline model\n",
    "model = Sequential()\n",
    "model.add(Dense(20, input_dim=X_train.shape[1], activation='relu'))\n",
    "#model.add(Dropout(0.5))\n",
    "model.add(Dense(20, activation='relu'))\n",
    "model.add(Dense(3, activation='softmax'))\n",
    "\n",
    "model.compile(loss='categorical_crossentropy', optimizer='adam', metrics=['accuracy'])\n",
    " \n",
    "model.summary()\n",
    "    \n",
    "model.fit(X_train, train_cat_y, epochs = 10)    \n",
    "y_pred = model.predict_classes(X_test)"
   ]
  },
  {
   "cell_type": "code",
   "execution_count": 42,
   "metadata": {
    "scrolled": true
   },
   "outputs": [
    {
     "name": "stdout",
     "output_type": "stream",
     "text": [
      "              precision    recall  f1-score   support\n",
      "\n",
      "           0       0.71      1.00      0.83        55\n",
      "           1       0.00      0.00      0.00        16\n",
      "           2       0.00      0.00      0.00         6\n",
      "\n",
      "   micro avg       0.71      0.71      0.71        77\n",
      "   macro avg       0.24      0.33      0.28        77\n",
      "weighted avg       0.51      0.71      0.60        77\n",
      "\n"
     ]
    }
   ],
   "source": [
    "print(classification_report(y_test, y_pred))"
   ]
  },
  {
   "cell_type": "markdown",
   "metadata": {},
   "source": [
    "## <font color='blue'>Conclusion</font>\n",
    "<a id=part4></a>\n",
    "From the classification report, it is clear that the advanced model are performning very poorly compared to the baseline models. The model is extremely naive and only prediciting the most frequent class (cluster 0) which results in a precision on 0 for both cluster 1 and 2. \n",
    "However, as stated above the results cannot be used in any business setting due to the low amount of data points. If Olist were to get more recurrent customers, this analysis could create a lot of value for the business because Olist would get an idea of which customers will create the most revenue in the future. \n",
    "\n",
    "When applying machine learning and deep learning methods, it is important to use cross validation in order to get a more accuratly result of how the model is going to perform in practice. Furthermore, methods such as Neural networks have a lot of hyper paramters that should be extensively optimised - which can be done either using premade functions such as gridsearch from Sklearn or writing functions that can do it. \n",
    "None of these things are done in this notebook which is again due to the low amount of data points. But it is worth mentioning because it would be much relevant for Olist Data science team to use if they were to gain more recurrent customers and use the above analysis.\n",
    "\n",
    "\n",
    "\n",
    "This analysis has worked as a proof-of-concept for what actions Olist can do to become a more data-driven company that utilises the valuable data to take informed decisions. \n",
    "The analysis shows that using a customer segementation method such as RFM with K-means, clusters can be found seperating high-value, mid-value and low-value customers. This analysis can be used as a basis for new marketing campaigns where Olist can target customers at a more personal level.\n",
    "Furthermore, by appling a customer lifetime value prediction model in a Olist business context enables Olist to focus their spending and staff ressources accordingly. \n"
   ]
  },
  {
   "cell_type": "code",
   "execution_count": null,
   "metadata": {},
   "outputs": [],
   "source": []
  }
 ],
 "metadata": {
  "kernelspec": {
   "display_name": "Python 3",
   "language": "python",
   "name": "python3"
  },
  "language_info": {
   "codemirror_mode": {
    "name": "ipython",
    "version": 3
   },
   "file_extension": ".py",
   "mimetype": "text/x-python",
   "name": "python",
   "nbconvert_exporter": "python",
   "pygments_lexer": "ipython3",
   "version": "3.7.1"
  }
 },
 "nbformat": 4,
 "nbformat_minor": 2
}
