{
 "cells": [
  {
   "cell_type": "markdown",
   "metadata": {},
   "source": [
    "# Customer segmentation\n",
    "\n",
    "This workbook consist of two parts; a customer segmentation analysis and a customer life time value prediction. \n",
    "A customer segmentation analysis is crucial for business in order to identify and understand their customers needs and behaviors. If Olist wants to take direct actions in order to increase the revenue of customers then it needs to take different actions based on the different needs the customers might have. \n",
    "\n",
    "In this report, the Recency-Frequency-Monetary (RFM) - clustering method has been chosen. The RFM method is used to analyse the value of a customer by the following three dimensions :\n",
    "\n",
    " - Recency: How recently did the customer purchase?  \n",
    " - Frequency: How often do they purchase? \n",
    " - Monetary: How much do they spend? \n",
    " \n",
    "Each customer will get a combined RFM score."
   ]
  },
  {
   "cell_type": "code",
   "execution_count": 143,
   "metadata": {},
   "outputs": [],
   "source": [
    "# Import\n",
    "import warnings\n",
    "import pandas as pd\n",
    "import matplotlib.pyplot as plt\n",
    "import seaborn as sns\n",
    "from sklearn.cluster import KMeans\n",
    "import datetime as dt\n",
    "warnings.filterwarnings('ignore')\n",
    "%matplotlib inline\n",
    "\n",
    "dirpath = '../data/'"
   ]
  },
  {
   "cell_type": "markdown",
   "metadata": {},
   "source": [
    "### Import of data \n",
    "\n",
    "The workbook will focus on the customer part of the OLIST dataset. Therefore, only the following datasets are joined:\n",
    "\n",
    "- olist_customers_dataset\n",
    "- olist_order_payments_dataset\n",
    "- olist_orders_dataset\n",
    "\n",
    "These are joined by the left-join operation and dataformat is set. "
   ]
  },
  {
   "cell_type": "code",
   "execution_count": 144,
   "metadata": {},
   "outputs": [
    {
     "data": {
      "text/html": [
       "<div>\n",
       "<style scoped>\n",
       "    .dataframe tbody tr th:only-of-type {\n",
       "        vertical-align: middle;\n",
       "    }\n",
       "\n",
       "    .dataframe tbody tr th {\n",
       "        vertical-align: top;\n",
       "    }\n",
       "\n",
       "    .dataframe thead th {\n",
       "        text-align: right;\n",
       "    }\n",
       "</style>\n",
       "<table border=\"1\" class=\"dataframe\">\n",
       "  <thead>\n",
       "    <tr style=\"text-align: right;\">\n",
       "      <th></th>\n",
       "      <th>customer_id</th>\n",
       "      <th>customer_unique_id</th>\n",
       "      <th>customer_zip_code_prefix</th>\n",
       "      <th>customer_city</th>\n",
       "      <th>customer_state</th>\n",
       "      <th>order_id</th>\n",
       "      <th>order_status</th>\n",
       "      <th>order_purchase_timestamp</th>\n",
       "      <th>order_approved_at</th>\n",
       "      <th>order_delivered_carrier_date</th>\n",
       "      <th>order_delivered_customer_date</th>\n",
       "      <th>order_estimated_delivery_date</th>\n",
       "      <th>payment_value</th>\n",
       "    </tr>\n",
       "  </thead>\n",
       "  <tbody>\n",
       "    <tr>\n",
       "      <th>0</th>\n",
       "      <td>06b8999e2fba1a1fbc88172c00ba8bc7</td>\n",
       "      <td>861eff4711a542e4b93843c6dd7febb0</td>\n",
       "      <td>14409</td>\n",
       "      <td>franca</td>\n",
       "      <td>SP</td>\n",
       "      <td>00e7ee1b050b8499577073aeb2a297a1</td>\n",
       "      <td>delivered</td>\n",
       "      <td>2017-05-16 15:05:35</td>\n",
       "      <td>2017-05-16 15:22:12</td>\n",
       "      <td>2017-05-23 10:47:57</td>\n",
       "      <td>2017-05-25 10:35:35</td>\n",
       "      <td>2017-06-05 00:00:00</td>\n",
       "      <td>146.87</td>\n",
       "    </tr>\n",
       "    <tr>\n",
       "      <th>1</th>\n",
       "      <td>18955e83d337fd6b2def6b18a428ac77</td>\n",
       "      <td>290c77bc529b7ac935b93aa66c333dc3</td>\n",
       "      <td>9790</td>\n",
       "      <td>sao bernardo do campo</td>\n",
       "      <td>SP</td>\n",
       "      <td>29150127e6685892b6eab3eec79f59c7</td>\n",
       "      <td>delivered</td>\n",
       "      <td>2018-01-12 20:48:24</td>\n",
       "      <td>2018-01-12 20:58:32</td>\n",
       "      <td>2018-01-15 17:14:59</td>\n",
       "      <td>2018-01-29 12:41:19</td>\n",
       "      <td>2018-02-06 00:00:00</td>\n",
       "      <td>335.48</td>\n",
       "    </tr>\n",
       "    <tr>\n",
       "      <th>2</th>\n",
       "      <td>4e7b3e00288586ebd08712fdd0374a03</td>\n",
       "      <td>060e732b5b29e8181a18229c7b0b2b5e</td>\n",
       "      <td>1151</td>\n",
       "      <td>sao paulo</td>\n",
       "      <td>SP</td>\n",
       "      <td>b2059ed67ce144a36e2aa97d2c9e9ad2</td>\n",
       "      <td>delivered</td>\n",
       "      <td>2018-05-19 16:07:45</td>\n",
       "      <td>2018-05-20 16:19:10</td>\n",
       "      <td>2018-06-11 14:31:00</td>\n",
       "      <td>2018-06-14 17:58:51</td>\n",
       "      <td>2018-06-13 00:00:00</td>\n",
       "      <td>157.73</td>\n",
       "    </tr>\n",
       "    <tr>\n",
       "      <th>3</th>\n",
       "      <td>b2b6027bc5c5109e529d4dc6358b12c3</td>\n",
       "      <td>259dac757896d24d7702b9acbbff3f3c</td>\n",
       "      <td>8775</td>\n",
       "      <td>mogi das cruzes</td>\n",
       "      <td>SP</td>\n",
       "      <td>951670f92359f4fe4a63112aa7306eba</td>\n",
       "      <td>delivered</td>\n",
       "      <td>2018-03-13 16:06:38</td>\n",
       "      <td>2018-03-13 17:29:19</td>\n",
       "      <td>2018-03-27 23:22:42</td>\n",
       "      <td>2018-03-28 16:04:25</td>\n",
       "      <td>2018-04-10 00:00:00</td>\n",
       "      <td>173.30</td>\n",
       "    </tr>\n",
       "    <tr>\n",
       "      <th>4</th>\n",
       "      <td>4f2d8ab171c80ec8364f7c12e35b23ad</td>\n",
       "      <td>345ecd01c38d18a9036ed96c73b8d066</td>\n",
       "      <td>13056</td>\n",
       "      <td>campinas</td>\n",
       "      <td>SP</td>\n",
       "      <td>6b7d50bd145f6fc7f33cebabd7e49d0f</td>\n",
       "      <td>delivered</td>\n",
       "      <td>2018-07-29 09:51:30</td>\n",
       "      <td>2018-07-29 10:10:09</td>\n",
       "      <td>2018-07-30 15:16:00</td>\n",
       "      <td>2018-08-09 20:55:48</td>\n",
       "      <td>2018-08-15 00:00:00</td>\n",
       "      <td>252.25</td>\n",
       "    </tr>\n",
       "  </tbody>\n",
       "</table>\n",
       "</div>"
      ],
      "text/plain": [
       "                        customer_id                customer_unique_id  \\\n",
       "0  06b8999e2fba1a1fbc88172c00ba8bc7  861eff4711a542e4b93843c6dd7febb0   \n",
       "1  18955e83d337fd6b2def6b18a428ac77  290c77bc529b7ac935b93aa66c333dc3   \n",
       "2  4e7b3e00288586ebd08712fdd0374a03  060e732b5b29e8181a18229c7b0b2b5e   \n",
       "3  b2b6027bc5c5109e529d4dc6358b12c3  259dac757896d24d7702b9acbbff3f3c   \n",
       "4  4f2d8ab171c80ec8364f7c12e35b23ad  345ecd01c38d18a9036ed96c73b8d066   \n",
       "\n",
       "   customer_zip_code_prefix          customer_city customer_state  \\\n",
       "0                     14409                 franca             SP   \n",
       "1                      9790  sao bernardo do campo             SP   \n",
       "2                      1151              sao paulo             SP   \n",
       "3                      8775        mogi das cruzes             SP   \n",
       "4                     13056               campinas             SP   \n",
       "\n",
       "                           order_id order_status order_purchase_timestamp  \\\n",
       "0  00e7ee1b050b8499577073aeb2a297a1    delivered      2017-05-16 15:05:35   \n",
       "1  29150127e6685892b6eab3eec79f59c7    delivered      2018-01-12 20:48:24   \n",
       "2  b2059ed67ce144a36e2aa97d2c9e9ad2    delivered      2018-05-19 16:07:45   \n",
       "3  951670f92359f4fe4a63112aa7306eba    delivered      2018-03-13 16:06:38   \n",
       "4  6b7d50bd145f6fc7f33cebabd7e49d0f    delivered      2018-07-29 09:51:30   \n",
       "\n",
       "     order_approved_at order_delivered_carrier_date  \\\n",
       "0  2017-05-16 15:22:12          2017-05-23 10:47:57   \n",
       "1  2018-01-12 20:58:32          2018-01-15 17:14:59   \n",
       "2  2018-05-20 16:19:10          2018-06-11 14:31:00   \n",
       "3  2018-03-13 17:29:19          2018-03-27 23:22:42   \n",
       "4  2018-07-29 10:10:09          2018-07-30 15:16:00   \n",
       "\n",
       "  order_delivered_customer_date order_estimated_delivery_date  payment_value  \n",
       "0           2017-05-25 10:35:35           2017-06-05 00:00:00         146.87  \n",
       "1           2018-01-29 12:41:19           2018-02-06 00:00:00         335.48  \n",
       "2           2018-06-14 17:58:51           2018-06-13 00:00:00         157.73  \n",
       "3           2018-03-28 16:04:25           2018-04-10 00:00:00         173.30  \n",
       "4           2018-08-09 20:55:48           2018-08-15 00:00:00         252.25  "
      ]
     },
     "execution_count": 144,
     "metadata": {},
     "output_type": "execute_result"
    }
   ],
   "source": [
    "# Load data\n",
    "customers = pd.read_csv(dirpath+\"olist_customers_dataset.csv\")\n",
    "order_payments = pd.read_csv(dirpath+\"olist_order_payments_dataset.csv\")\n",
    "orders = pd.read_csv(dirpath+\"olist_orders_dataset.csv\")\n",
    "\n",
    "# Join\n",
    "customer_order = customers.merge(orders, on='customer_id', how='left')\n",
    "order_payments = order_payments.groupby('order_id').sum().reset_index()[['order_id','payment_value']]\n",
    "cop = customer_order.merge(order_payments, on='order_id', how='left')\n",
    "\n",
    "# clean and format\n",
    "cop['order_purchase_timestamp'] = pd.to_datetime(cop['order_purchase_timestamp'])\n",
    "cop = cop[cop['order_status']!='canceled']\n",
    "\n",
    "cop.head()"
   ]
  },
  {
   "cell_type": "markdown",
   "metadata": {},
   "source": [
    "### KPIs and Metrics\n",
    "\n",
    "In order to measure Olist business performance, a number of KPIs can be defined. The KPIs enables the team to measure the performance of their strategy and indicates poor performing areas of the business.\n",
    "\n",
    "The following KPIs have been defined as important for Olist: \n",
    "\n",
    "- Monthly revenue \n",
    "- Monthy growth rate\n",
    "- Number of active customers each month\n",
    "- Number of returning customers each month/quarter\n",
    "\n",
    "\n",
    "In the following section, the above KPIs will be calculated and presented. "
   ]
  },
  {
   "cell_type": "code",
   "execution_count": 145,
   "metadata": {
    "scrolled": true
   },
   "outputs": [
    {
     "data": {
      "text/html": [
       "<div>\n",
       "<style scoped>\n",
       "    .dataframe tbody tr th:only-of-type {\n",
       "        vertical-align: middle;\n",
       "    }\n",
       "\n",
       "    .dataframe tbody tr th {\n",
       "        vertical-align: top;\n",
       "    }\n",
       "\n",
       "    .dataframe thead th {\n",
       "        text-align: right;\n",
       "    }\n",
       "</style>\n",
       "<table border=\"1\" class=\"dataframe\">\n",
       "  <thead>\n",
       "    <tr style=\"text-align: right;\">\n",
       "      <th></th>\n",
       "      <th>PurchaseMonth</th>\n",
       "      <th>payment_value</th>\n",
       "    </tr>\n",
       "  </thead>\n",
       "  <tbody>\n",
       "    <tr>\n",
       "      <th>0</th>\n",
       "      <td>201609</td>\n",
       "      <td>136.23</td>\n",
       "    </tr>\n",
       "    <tr>\n",
       "      <th>1</th>\n",
       "      <td>201610</td>\n",
       "      <td>53915.50</td>\n",
       "    </tr>\n",
       "    <tr>\n",
       "      <th>2</th>\n",
       "      <td>201612</td>\n",
       "      <td>19.62</td>\n",
       "    </tr>\n",
       "    <tr>\n",
       "      <th>3</th>\n",
       "      <td>201701</td>\n",
       "      <td>138119.76</td>\n",
       "    </tr>\n",
       "    <tr>\n",
       "      <th>4</th>\n",
       "      <td>201702</td>\n",
       "      <td>289081.01</td>\n",
       "    </tr>\n",
       "    <tr>\n",
       "      <th>5</th>\n",
       "      <td>201703</td>\n",
       "      <td>442406.37</td>\n",
       "    </tr>\n",
       "    <tr>\n",
       "      <th>6</th>\n",
       "      <td>201704</td>\n",
       "      <td>409846.01</td>\n",
       "    </tr>\n",
       "    <tr>\n",
       "      <th>7</th>\n",
       "      <td>201705</td>\n",
       "      <td>588529.96</td>\n",
       "    </tr>\n",
       "    <tr>\n",
       "      <th>8</th>\n",
       "      <td>201706</td>\n",
       "      <td>507302.62</td>\n",
       "    </tr>\n",
       "    <tr>\n",
       "      <th>9</th>\n",
       "      <td>201707</td>\n",
       "      <td>585331.36</td>\n",
       "    </tr>\n",
       "    <tr>\n",
       "      <th>10</th>\n",
       "      <td>201708</td>\n",
       "      <td>667224.47</td>\n",
       "    </tr>\n",
       "    <tr>\n",
       "      <th>11</th>\n",
       "      <td>201709</td>\n",
       "      <td>723781.27</td>\n",
       "    </tr>\n",
       "    <tr>\n",
       "      <th>12</th>\n",
       "      <td>201710</td>\n",
       "      <td>773104.35</td>\n",
       "    </tr>\n",
       "    <tr>\n",
       "      <th>13</th>\n",
       "      <td>201711</td>\n",
       "      <td>1187224.36</td>\n",
       "    </tr>\n",
       "    <tr>\n",
       "      <th>14</th>\n",
       "      <td>201712</td>\n",
       "      <td>874962.23</td>\n",
       "    </tr>\n",
       "    <tr>\n",
       "      <th>15</th>\n",
       "      <td>201801</td>\n",
       "      <td>1109464.00</td>\n",
       "    </tr>\n",
       "    <tr>\n",
       "      <th>16</th>\n",
       "      <td>201802</td>\n",
       "      <td>984790.19</td>\n",
       "    </tr>\n",
       "    <tr>\n",
       "      <th>17</th>\n",
       "      <td>201803</td>\n",
       "      <td>1156243.76</td>\n",
       "    </tr>\n",
       "    <tr>\n",
       "      <th>18</th>\n",
       "      <td>201804</td>\n",
       "      <td>1157336.33</td>\n",
       "    </tr>\n",
       "    <tr>\n",
       "      <th>19</th>\n",
       "      <td>201805</td>\n",
       "      <td>1149483.77</td>\n",
       "    </tr>\n",
       "    <tr>\n",
       "      <th>20</th>\n",
       "      <td>201806</td>\n",
       "      <td>1021220.02</td>\n",
       "    </tr>\n",
       "    <tr>\n",
       "      <th>21</th>\n",
       "      <td>201807</td>\n",
       "      <td>1047422.72</td>\n",
       "    </tr>\n",
       "    <tr>\n",
       "      <th>22</th>\n",
       "      <td>201808</td>\n",
       "      <td>998504.15</td>\n",
       "    </tr>\n",
       "    <tr>\n",
       "      <th>23</th>\n",
       "      <td>201809</td>\n",
       "      <td>166.46</td>\n",
       "    </tr>\n",
       "  </tbody>\n",
       "</table>\n",
       "</div>"
      ],
      "text/plain": [
       "    PurchaseMonth  payment_value\n",
       "0          201609         136.23\n",
       "1          201610       53915.50\n",
       "2          201612          19.62\n",
       "3          201701      138119.76\n",
       "4          201702      289081.01\n",
       "5          201703      442406.37\n",
       "6          201704      409846.01\n",
       "7          201705      588529.96\n",
       "8          201706      507302.62\n",
       "9          201707      585331.36\n",
       "10         201708      667224.47\n",
       "11         201709      723781.27\n",
       "12         201710      773104.35\n",
       "13         201711     1187224.36\n",
       "14         201712      874962.23\n",
       "15         201801     1109464.00\n",
       "16         201802      984790.19\n",
       "17         201803     1156243.76\n",
       "18         201804     1157336.33\n",
       "19         201805     1149483.77\n",
       "20         201806     1021220.02\n",
       "21         201807     1047422.72\n",
       "22         201808      998504.15\n",
       "23         201809         166.46"
      ]
     },
     "execution_count": 145,
     "metadata": {},
     "output_type": "execute_result"
    }
   ],
   "source": [
    "#Monthly revenue\n",
    "cop['PurchaseMonth'] = cop['order_purchase_timestamp'].map(lambda date: 100*date.year + date.month)\n",
    "\n",
    "cop_MonthlyRevenue  = cop.groupby(['PurchaseMonth'])['payment_value'].sum().reset_index()\n",
    "\n",
    "cop_MonthlyRevenue\n"
   ]
  },
  {
   "cell_type": "code",
   "execution_count": 146,
   "metadata": {},
   "outputs": [
    {
     "data": {
      "text/html": [
       "<div>\n",
       "<style scoped>\n",
       "    .dataframe tbody tr th:only-of-type {\n",
       "        vertical-align: middle;\n",
       "    }\n",
       "\n",
       "    .dataframe tbody tr th {\n",
       "        vertical-align: top;\n",
       "    }\n",
       "\n",
       "    .dataframe thead th {\n",
       "        text-align: right;\n",
       "    }\n",
       "</style>\n",
       "<table border=\"1\" class=\"dataframe\">\n",
       "  <thead>\n",
       "    <tr style=\"text-align: right;\">\n",
       "      <th></th>\n",
       "      <th>quarter</th>\n",
       "      <th>payment_value</th>\n",
       "    </tr>\n",
       "  </thead>\n",
       "  <tbody>\n",
       "    <tr>\n",
       "      <th>0</th>\n",
       "      <td>2016Q3</td>\n",
       "      <td>136.23</td>\n",
       "    </tr>\n",
       "    <tr>\n",
       "      <th>1</th>\n",
       "      <td>2016Q4</td>\n",
       "      <td>53935.12</td>\n",
       "    </tr>\n",
       "    <tr>\n",
       "      <th>2</th>\n",
       "      <td>2017Q1</td>\n",
       "      <td>869607.14</td>\n",
       "    </tr>\n",
       "    <tr>\n",
       "      <th>3</th>\n",
       "      <td>2017Q2</td>\n",
       "      <td>1505678.59</td>\n",
       "    </tr>\n",
       "    <tr>\n",
       "      <th>4</th>\n",
       "      <td>2017Q3</td>\n",
       "      <td>1976337.10</td>\n",
       "    </tr>\n",
       "    <tr>\n",
       "      <th>5</th>\n",
       "      <td>2017Q4</td>\n",
       "      <td>2835290.94</td>\n",
       "    </tr>\n",
       "    <tr>\n",
       "      <th>6</th>\n",
       "      <td>2018Q1</td>\n",
       "      <td>3250497.95</td>\n",
       "    </tr>\n",
       "    <tr>\n",
       "      <th>7</th>\n",
       "      <td>2018Q2</td>\n",
       "      <td>3328040.12</td>\n",
       "    </tr>\n",
       "    <tr>\n",
       "      <th>8</th>\n",
       "      <td>2018Q3</td>\n",
       "      <td>2046093.33</td>\n",
       "    </tr>\n",
       "  </tbody>\n",
       "</table>\n",
       "</div>"
      ],
      "text/plain": [
       "  quarter  payment_value\n",
       "0  2016Q3         136.23\n",
       "1  2016Q4       53935.12\n",
       "2  2017Q1      869607.14\n",
       "3  2017Q2     1505678.59\n",
       "4  2017Q3     1976337.10\n",
       "5  2017Q4     2835290.94\n",
       "6  2018Q1     3250497.95\n",
       "7  2018Q2     3328040.12\n",
       "8  2018Q3     2046093.33"
      ]
     },
     "execution_count": 146,
     "metadata": {},
     "output_type": "execute_result"
    }
   ],
   "source": [
    "#Finding the quarterly revenue and plotting that (fewer datapoint to visualise)\n",
    "cop['quarter'] = pd.PeriodIndex(cop.order_purchase_timestamp, freq='Q')\n",
    "\n",
    "cop_revenue  = cop.groupby(['quarter'])['payment_value'].sum().reset_index()\n",
    "\n",
    "\n",
    "cop_revenue"
   ]
  },
  {
   "cell_type": "code",
   "execution_count": 147,
   "metadata": {},
   "outputs": [
    {
     "data": {
      "image/png": "[encoded data removed]",
      "text/plain": [
       "<Figure size 432x288 with 1 Axes>"
      ]
     },
     "metadata": {
      "needs_background": "light"
     },
     "output_type": "display_data"
    }
   ],
   "source": [
    "ax = cop_revenue.plot.bar(x='quarter', y='payment_value', rot=0)\n",
    "plt.xlabel('Quarter-Year')\n",
    "plt.ylabel('Quarterly Revenue')\n",
    "plt.show()"
   ]
  },
  {
   "cell_type": "code",
   "execution_count": 148,
   "metadata": {},
   "outputs": [
    {
     "data": {
      "image/png": "[encoded data removed]",
      "text/plain": [
       "<Figure size 432x288 with 1 Axes>"
      ]
     },
     "metadata": {
      "needs_background": "light"
     },
     "output_type": "display_data"
    }
   ],
   "source": [
    "#calculating the quarterly growthrate and plotting it\n",
    "\n",
    "cop_revenue['QuarterlyGrowth'] = cop_revenue['payment_value'].pct_change()\n",
    "\n",
    "\n",
    "cop_revenue[3:].plot(x='quarter',y='QuarterlyGrowth')\n",
    "plt.xlabel('Quarter-Year')\n",
    "plt.ylabel('Quarterly Growth rate (%)')\n",
    "plt.show()"
   ]
  },
  {
   "cell_type": "code",
   "execution_count": 149,
   "metadata": {
    "scrolled": true
   },
   "outputs": [
    {
     "data": {
      "text/plain": [
       "1     93099\n",
       "2      2745\n",
       "3       203\n",
       "4        30\n",
       "5         8\n",
       "6         6\n",
       "7         3\n",
       "17        1\n",
       "9         1\n",
       "dtype: int64"
      ]
     },
     "execution_count": 149,
     "metadata": {},
     "output_type": "execute_result"
    }
   ],
   "source": [
    "# Distribution of how many times customers are returning to buy at Olist\n",
    "customer_order.groupby('customer_unique_id').size().value_counts()"
   ]
  },
  {
   "cell_type": "code",
   "execution_count": 150,
   "metadata": {},
   "outputs": [
    {
     "data": {
      "image/png": "[encoded data removed]",
      "text/plain": [
       "<Figure size 1224x288 with 2 Axes>"
      ]
     },
     "metadata": {
      "needs_background": "light"
     },
     "output_type": "display_data"
    }
   ],
   "source": [
    "# The total customer order per month  and the amount of returning orders are visualised in the two plots below. \n",
    "\n",
    "plt.figure(figsize=(17, 4))\n",
    "    \n",
    "plt.subplot(1, 2, 1)\n",
    "plt.title('Total customer orders')\n",
    "plt.ylabel('Num of orders')\n",
    "cop.order_purchase_timestamp.hist(bins=40)\n",
    "\n",
    "plt.subplot(1, 2, 2)\n",
    "plt.ylabel('Num of orders')\n",
    "plt.title('Returning customer orders')\n",
    "unique_id = cop.groupby('customer_unique_id').count()\n",
    "later_purchase = cop[cop.customer_unique_id.isin(list(unique_id[unique_id.customer_id > 1].index))]\n",
    "later_purchase.order_purchase_timestamp.hist(bins=40)\n",
    "plt.show()"
   ]
  },
  {
   "cell_type": "code",
   "execution_count": null,
   "metadata": {},
   "outputs": [],
   "source": []
  },
  {
   "cell_type": "markdown",
   "metadata": {},
   "source": [
    "### Segmentation\n",
    "The three parts of RFM is calculated now. The data is grouped by the unique customer id.\n",
    "Recency is calculated with the difference between the lastest purchasing date in the data set subtracted with the purchase date of the observation.\n",
    "Frequency is calculated by counting the amount of purchase timestamps each customer have. \n",
    "Revenue is calculated by summing each customer's payment_value. \n"
   ]
  },
  {
   "cell_type": "code",
   "execution_count": 151,
   "metadata": {},
   "outputs": [],
   "source": [
    "# Recency\n",
    "df_recency = cop.groupby('customer_unique_id').order_purchase_timestamp.max().reset_index()\n",
    "df_recency.columns = ['customer_unique_id','last_purchase_date']\n",
    "df_recency['Recency'] = (df_recency['last_purchase_date'].max() - df_recency['last_purchase_date']).dt.days\n",
    "df_recency = df_recency[['customer_unique_id','Recency']]\n",
    "\n",
    "# Frequency\n",
    "df_frequency = cop.groupby('customer_unique_id').order_purchase_timestamp.count().reset_index()\n",
    "df_frequency.columns = ['customer_unique_id','Frequency']\n",
    "\n",
    "# Revenue\n",
    "df_revenue = cop.groupby('customer_unique_id').payment_value.sum().reset_index()\n",
    "df_revenue.columns = ['customer_unique_id','Revenue']\n",
    "\n",
    "df = pd.DataFrame(cop['customer_unique_id'].unique())\n",
    "df.columns = ['customer_unique_id']"
   ]
  },
  {
   "cell_type": "markdown",
   "metadata": {},
   "source": [
    "We are going to apply K-means clustering to assign a score for each dimension in RFM. K-means require that we specify K clusters. This can be done from the Elbow method which tells us the optimal number of clusters.\n",
    "\n",
    "First we define a function named plot_cluster which creates a for loop and calculate the a kmeans clustering for \n",
    "$K=\\{1..10\\}$. The function is called below and shows the optimal number of clusters is 4 for 'Recency'. For simplicity, it is assumed that the same number of optimal clusters applies to 'Frequency' and 'Monetary'.\n"
   ]
  },
  {
   "cell_type": "code",
   "execution_count": 152,
   "metadata": {},
   "outputs": [],
   "source": [
    "def plot_cluster(data, name):\n",
    "    sse={}\n",
    "    for k in range(1, 10):\n",
    "        kmeans = KMeans(n_clusters=k, max_iter=1000).fit(data)\n",
    "        sse[k] = kmeans.inertia_ \n",
    "    plt.figure()\n",
    "    plt.plot(list(sse.keys()), list(sse.values()))\n",
    "    plt.title('Optimal number of clusters via Elbow of: ' + name)\n",
    "    plt.xlabel(\"Number of cluster\")\n",
    "    plt.ylabel(\"Inertia\")\n",
    "    plt.show()"
   ]
  },
  {
   "cell_type": "code",
   "execution_count": 153,
   "metadata": {},
   "outputs": [],
   "source": [
    "# Helper functions\n",
    "def order_cluster(cluster_field_name, target_field_name,df,ascending):\n",
    "    new_cluster_field_name = 'new_' + cluster_field_name\n",
    "    df_new = df.groupby(cluster_field_name)[target_field_name].mean().reset_index()\n",
    "    df_new = df_new.sort_values(by=target_field_name,ascending=ascending).reset_index(drop=True)\n",
    "    df_new['index'] = df_new.index\n",
    "    df_final = pd.merge(df,df_new[[cluster_field_name,'index']], on=cluster_field_name)\n",
    "    df_final = df_final.drop([cluster_field_name],axis=1)\n",
    "    df_final = df_final.rename(columns={\"index\":cluster_field_name})\n",
    "    return df_final"
   ]
  },
  {
   "cell_type": "markdown",
   "metadata": {},
   "source": [
    "Now the K-mean is performed with 4 clusters for each of the three dimensions. A new dataframe is defined where the values for each of the dimension is paried with the belonging unique customer id."
   ]
  },
  {
   "cell_type": "code",
   "execution_count": 154,
   "metadata": {},
   "outputs": [
    {
     "data": {
      "image/png": "[encoded data removed]",
      "text/plain": [
       "<Figure size 432x288 with 1 Axes>"
      ]
     },
     "metadata": {
      "needs_background": "light"
     },
     "output_type": "display_data"
    }
   ],
   "source": [
    "sort_orders = [False, True, True]\n",
    "names = ['Recency','Frequency','Revenue']\n",
    "dfs = [df_recency, df_frequency, df_revenue]\n",
    "\n",
    "for i in range(len(['Recency','Frequency','Revenue'])):\n",
    "    df = pd.merge(df, dfs[i], on='customer_unique_id')\n",
    "    kmeans = KMeans(n_clusters=4)\n",
    "    \n",
    "    if names[i] == \"Recency\":\n",
    "        plot_cluster(df[[names[i]]], names[i])\n",
    "        \n",
    "    kmeans.fit(df[[names[i]]])\n",
    "    df['cluster_' + names[i]] = kmeans.predict(df[[names[i]]])\n",
    "    df = order_cluster('cluster_' + names[i], names[i], df, sort_orders[i])\n",
    "    \n",
    "#df['OverallScore'] = df['cluster_Recency'] + df['cluster_Frequency'] + df['cluster_Revenue']"
   ]
  },
  {
   "cell_type": "markdown",
   "metadata": {},
   "source": [
    "The overall score is now calculated by adding the three dimensions together."
   ]
  },
  {
   "cell_type": "code",
   "execution_count": 161,
   "metadata": {},
   "outputs": [
    {
     "data": {
      "text/plain": [
       "array([0, 2, 3, 1, 4, 5, 6, 7, 8])"
      ]
     },
     "execution_count": 161,
     "metadata": {},
     "output_type": "execute_result"
    }
   ],
   "source": [
    "df['OverallScore'] = df['cluster_Recency'] + df['cluster_Frequency'] + df['cluster_Revenue']\n",
    "df['OverallScore'].unique()"
   ]
  },
  {
   "cell_type": "markdown",
   "metadata": {},
   "source": [
    "Now the final table is made where there is grouped by OverallScore by taking the mean value for the three dimensions.\n",
    "Furthermore, a count columns is added to see the distribution of customers for each score."
   ]
  },
  {
   "cell_type": "code",
   "execution_count": 21,
   "metadata": {},
   "outputs": [
    {
     "data": {
      "text/html": [
       "<div>\n",
       "<style scoped>\n",
       "    .dataframe tbody tr th:only-of-type {\n",
       "        vertical-align: middle;\n",
       "    }\n",
       "\n",
       "    .dataframe tbody tr th {\n",
       "        vertical-align: top;\n",
       "    }\n",
       "\n",
       "    .dataframe thead th {\n",
       "        text-align: right;\n",
       "    }\n",
       "</style>\n",
       "<table border=\"1\" class=\"dataframe\">\n",
       "  <thead>\n",
       "    <tr style=\"text-align: right;\">\n",
       "      <th></th>\n",
       "      <th>Recency</th>\n",
       "      <th>Frequency</th>\n",
       "      <th>Revenue</th>\n",
       "      <th>Count</th>\n",
       "    </tr>\n",
       "    <tr>\n",
       "      <th>OverallScore</th>\n",
       "      <th></th>\n",
       "      <th></th>\n",
       "      <th></th>\n",
       "      <th></th>\n",
       "    </tr>\n",
       "  </thead>\n",
       "  <tbody>\n",
       "    <tr>\n",
       "      <th>0</th>\n",
       "      <td>488.050177</td>\n",
       "      <td>1.000000</td>\n",
       "      <td>91.218221</td>\n",
       "      <td>13253</td>\n",
       "    </tr>\n",
       "    <tr>\n",
       "      <th>1</th>\n",
       "      <td>342.055561</td>\n",
       "      <td>1.008610</td>\n",
       "      <td>120.433994</td>\n",
       "      <td>22300</td>\n",
       "    </tr>\n",
       "    <tr>\n",
       "      <th>2</th>\n",
       "      <td>217.761595</td>\n",
       "      <td>1.019180</td>\n",
       "      <td>142.385308</td>\n",
       "      <td>26434</td>\n",
       "    </tr>\n",
       "    <tr>\n",
       "      <th>3</th>\n",
       "      <td>101.902720</td>\n",
       "      <td>1.028625</td>\n",
       "      <td>166.739202</td>\n",
       "      <td>25956</td>\n",
       "    </tr>\n",
       "    <tr>\n",
       "      <th>4</th>\n",
       "      <td>97.791702</td>\n",
       "      <td>1.146729</td>\n",
       "      <td>401.412864</td>\n",
       "      <td>5977</td>\n",
       "    </tr>\n",
       "    <tr>\n",
       "      <th>5</th>\n",
       "      <td>88.501110</td>\n",
       "      <td>1.441155</td>\n",
       "      <td>775.937091</td>\n",
       "      <td>1351</td>\n",
       "    </tr>\n",
       "    <tr>\n",
       "      <th>6</th>\n",
       "      <td>77.400810</td>\n",
       "      <td>1.834008</td>\n",
       "      <td>1537.073279</td>\n",
       "      <td>247</td>\n",
       "    </tr>\n",
       "    <tr>\n",
       "      <th>7</th>\n",
       "      <td>104.666667</td>\n",
       "      <td>3.545455</td>\n",
       "      <td>1140.622424</td>\n",
       "      <td>33</td>\n",
       "    </tr>\n",
       "    <tr>\n",
       "      <th>8</th>\n",
       "      <td>52.888889</td>\n",
       "      <td>6.666667</td>\n",
       "      <td>1610.453333</td>\n",
       "      <td>9</td>\n",
       "    </tr>\n",
       "  </tbody>\n",
       "</table>\n",
       "</div>"
      ],
      "text/plain": [
       "                 Recency  Frequency      Revenue  Count\n",
       "OverallScore                                           \n",
       "0             488.050177   1.000000    91.218221  13253\n",
       "1             342.055561   1.008610   120.433994  22300\n",
       "2             217.761595   1.019180   142.385308  26434\n",
       "3             101.902720   1.028625   166.739202  25956\n",
       "4              97.791702   1.146729   401.412864   5977\n",
       "5              88.501110   1.441155   775.937091   1351\n",
       "6              77.400810   1.834008  1537.073279    247\n",
       "7             104.666667   3.545455  1140.622424     33\n",
       "8              52.888889   6.666667  1610.453333      9"
      ]
     },
     "execution_count": 21,
     "metadata": {},
     "output_type": "execute_result"
    }
   ],
   "source": [
    "overview = df.groupby('OverallScore')['Recency','Frequency','Revenue'].mean()\n",
    "overview['Count'] = df.groupby('OverallScore')['customer_unique_id'].count()\n",
    "overview"
   ]
  },
  {
   "cell_type": "markdown",
   "metadata": {},
   "source": [
    "The segments are divided into three categories: \n",
    "\n",
    "- Low Value: 0\n",
    "- Mid Value: 1,2,3\n",
    "- High Value: 4,5,6,7,8\n",
    "\n"
   ]
  },
  {
   "cell_type": "code",
   "execution_count": 162,
   "metadata": {},
   "outputs": [],
   "source": [
    "df['Segment'] = 'Low-Value'\n",
    "df.loc[df['OverallScore']>1,'Segment'] = 'Mid-Value' \n",
    "df.loc[df['OverallScore']>3,'Segment'] = 'High-Value' \n",
    "\n",
    "plot = df[(df['Revenue']<7000) & (df['Frequency']<6)]"
   ]
  },
  {
   "cell_type": "code",
   "execution_count": 23,
   "metadata": {},
   "outputs": [
    {
     "data": {
      "image/png": "[encoded data removed]",
      "text/plain": [
       "<Figure size 936x288 with 3 Axes>"
      ]
     },
     "metadata": {
      "needs_background": "light"
     },
     "output_type": "display_data"
    }
   ],
   "source": [
    "plt.figure(figsize=(13, 4))\n",
    "    \n",
    "ax0_names = ['Recency','Frequency','Frequency']\n",
    "ax1_names = ['Revenue','Revenue','Recency']\n",
    "\n",
    "for i in range(3):\n",
    "    plt.subplot(1, 3, i+1)\n",
    "    sns.scatterplot(ax0_names[i], ax1_names[i], hue='Segment', data=plot)\n",
    "\n",
    "plt.tight_layout()\n",
    "plt.show()"
   ]
  },
  {
   "cell_type": "markdown",
   "metadata": {},
   "source": [
    "# Customer Lifetime Value"
   ]
  },
  {
   "cell_type": "markdown",
   "metadata": {},
   "source": [
    "According to a study by Bain & Company, existing customers tend to buy more from a company over time, thus reducing the operating costs of the business and may refer the products they use to others. For example, in financial services, a 5% increase in customer retention produces more than a 25% increase in profit.\n",
    "This emphasizes why it is important for OLIST to focus and measure how many active customers they have. "
   ]
  },
  {
   "cell_type": "markdown",
   "metadata": {},
   "source": [
    "we have chosen The lifetime value (LTV) to be 6 months so the period will be from the 01/01/2018 - 01/06/2018\n",
    "and we take 12 months of data to calculate the RFM and use it for predicting the next 6 months. The 12-month period will stretch from 01/01/2017 - 01/01/2018"
   ]
  },
  {
   "cell_type": "code",
   "execution_count": 24,
   "metadata": {},
   "outputs": [],
   "source": [
    "from datetime import datetime, timedelta, date\n",
    "from sklearn.metrics import classification_report,confusion_matrix\n",
    "from sklearn.cluster import KMeans\n",
    "from sklearn.model_selection import train_test_split"
   ]
  },
  {
   "cell_type": "code",
   "execution_count": 40,
   "metadata": {},
   "outputs": [],
   "source": [
    "# Create 12m and 6m dataframes\n",
    "tx_12m = cop[(cop.order_purchase_timestamp < pd.Timestamp(2017,10,1)) & (cop.order_purchase_timestamp >= pd.Timestamp(2017,1,1))].reset_index(drop=True)\n",
    "tx_6m = cop[(cop.order_purchase_timestamp >= pd.Timestamp(2017,10,1)) & (cop.order_purchase_timestamp < pd.Timestamp(2018,6,1))].reset_index(drop=True)"
   ]
  },
  {
   "cell_type": "code",
   "execution_count": 41,
   "metadata": {},
   "outputs": [],
   "source": [
    "# Recency 12m\n",
    "df_recency = tx_12m.groupby('customer_unique_id').order_purchase_timestamp.max().reset_index()\n",
    "df_recency.columns = ['customer_unique_id','last_purchase_date']\n",
    "df_recency['Recency'] = (df_recency['last_purchase_date'].max() - df_recency['last_purchase_date']).dt.days\n",
    "df_recency = df_recency[['customer_unique_id','Recency']]\n",
    "\n",
    "# Frequency 12m\n",
    "df_frequency = tx_12m.groupby('customer_unique_id').order_purchase_timestamp.count().reset_index()\n",
    "df_frequency.columns = ['customer_unique_id','Frequency']\n",
    "\n",
    "# Revenue 12m\n",
    "df_revenue = tx_12m.groupby('customer_unique_id').payment_value.sum().reset_index()\n",
    "df_revenue.columns = ['customer_unique_id','Revenue']\n",
    "\n",
    "df_12m = pd.DataFrame(tx_12m['customer_unique_id'].unique())\n",
    "df_12m.columns = ['customer_unique_id']\n",
    "\n",
    "sort_orders = [False, True, True]\n",
    "names = ['Recency','Frequency','Revenue']\n",
    "dfs = [df_recency, df_frequency, df_revenue]\n",
    "\n",
    "for i in range(len(['Recency','Frequency','Revenue'])):\n",
    "    df_12m = pd.merge(df_12m, dfs[i], on='customer_unique_id')\n",
    "    kmeans = KMeans(n_clusters=4)        \n",
    "    kmeans.fit(df_12m[[names[i]]])\n",
    "    df_12m['cluster_' + names[i]] = kmeans.predict(df_12m[[names[i]]])\n",
    "    df_12m = order_cluster('cluster_' + names[i], names[i], df_12m, sort_orders[i])\n",
    "    \n",
    "df_12m['OverallScore'] = df_12m['cluster_Recency'] + df_12m['cluster_Frequency'] + df_12m['cluster_Revenue']"
   ]
  },
  {
   "cell_type": "code",
   "execution_count": 42,
   "metadata": {},
   "outputs": [],
   "source": [
    "df_12m['Segment'] = 'Low-Value'\n",
    "df_12m.loc[df['OverallScore']>1,'Segment'] = 'Mid-Value' \n",
    "df_12m.loc[df['OverallScore']>3,'Segment'] = 'High-Value' \n",
    "\n",
    "plot = df_12m[(df_12m['Revenue']<7000) & (df_12m['Frequency']<6)]"
   ]
  },
  {
   "cell_type": "markdown",
   "metadata": {},
   "source": [
    "### 6 month LTV\n",
    "\n",
    "Now the 6 month LTV is calculated for each customer"
   ]
  },
  {
   "cell_type": "code",
   "execution_count": 43,
   "metadata": {},
   "outputs": [
    {
     "data": {
      "text/html": [
       "<div>\n",
       "<style scoped>\n",
       "    .dataframe tbody tr th:only-of-type {\n",
       "        vertical-align: middle;\n",
       "    }\n",
       "\n",
       "    .dataframe tbody tr th {\n",
       "        vertical-align: top;\n",
       "    }\n",
       "\n",
       "    .dataframe thead th {\n",
       "        text-align: right;\n",
       "    }\n",
       "</style>\n",
       "<table border=\"1\" class=\"dataframe\">\n",
       "  <thead>\n",
       "    <tr style=\"text-align: right;\">\n",
       "      <th></th>\n",
       "      <th>customer_unique_id</th>\n",
       "      <th>m6_Revenue</th>\n",
       "    </tr>\n",
       "  </thead>\n",
       "  <tbody>\n",
       "    <tr>\n",
       "      <th>0</th>\n",
       "      <td>0000366f3b9a7992bf8c76cfdf3221e2</td>\n",
       "      <td>141.90</td>\n",
       "    </tr>\n",
       "    <tr>\n",
       "      <th>1</th>\n",
       "      <td>0000b849f77a49e4a4ce2b2a4ca5be3f</td>\n",
       "      <td>27.19</td>\n",
       "    </tr>\n",
       "    <tr>\n",
       "      <th>2</th>\n",
       "      <td>0000f6ccb0745a6a4b88665a16c9f078</td>\n",
       "      <td>43.62</td>\n",
       "    </tr>\n",
       "    <tr>\n",
       "      <th>3</th>\n",
       "      <td>0004aac84e0df4da2b147fca70cf8255</td>\n",
       "      <td>196.89</td>\n",
       "    </tr>\n",
       "    <tr>\n",
       "      <th>4</th>\n",
       "      <td>0004bd2a26a76fe21f786e4fbd80607f</td>\n",
       "      <td>166.98</td>\n",
       "    </tr>\n",
       "  </tbody>\n",
       "</table>\n",
       "</div>"
      ],
      "text/plain": [
       "                 customer_unique_id  m6_Revenue\n",
       "0  0000366f3b9a7992bf8c76cfdf3221e2      141.90\n",
       "1  0000b849f77a49e4a4ce2b2a4ca5be3f       27.19\n",
       "2  0000f6ccb0745a6a4b88665a16c9f078       43.62\n",
       "3  0004aac84e0df4da2b147fca70cf8255      196.89\n",
       "4  0004bd2a26a76fe21f786e4fbd80607f      166.98"
      ]
     },
     "execution_count": 43,
     "metadata": {},
     "output_type": "execute_result"
    }
   ],
   "source": [
    "tx_user_6m.head()"
   ]
  },
  {
   "cell_type": "code",
   "execution_count": 44,
   "metadata": {},
   "outputs": [
    {
     "data": {
      "image/png": "[encoded data removed]",
      "text/plain": [
       "<Figure size 432x288 with 1 Axes>"
      ]
     },
     "metadata": {
      "needs_background": "light"
     },
     "output_type": "display_data"
    }
   ],
   "source": [
    "# Calculate revenue and create a new dataframe for it\n",
    "tx_user_6m = tx_6m.groupby('customer_unique_id')['payment_value'].sum().reset_index()\n",
    "tx_user_6m.columns = ['customer_unique_id','m6_Revenue']\n",
    "\n",
    "# Plotting\n",
    "tx_user_6m['m6_Revenue'][tx_user_6m['m6_Revenue']<600].hist()\n",
    "plt.ylabel('Frequency')\n",
    "plt.xlabel('Sum of revenue')\n",
    "plt.title('Revenue of 6m')\n",
    "plt.show()"
   ]
  },
  {
   "cell_type": "markdown",
   "metadata": {},
   "source": [
    "Now we will merge our 3 months and 6 months dataframes to see correlations between LTV and the features set we have - (taget fra nettet skal ændres!)"
   ]
  },
  {
   "cell_type": "code",
   "execution_count": 45,
   "metadata": {},
   "outputs": [
    {
     "data": {
      "text/html": [
       "<div>\n",
       "<style scoped>\n",
       "    .dataframe tbody tr th:only-of-type {\n",
       "        vertical-align: middle;\n",
       "    }\n",
       "\n",
       "    .dataframe tbody tr th {\n",
       "        vertical-align: top;\n",
       "    }\n",
       "\n",
       "    .dataframe thead th {\n",
       "        text-align: right;\n",
       "    }\n",
       "</style>\n",
       "<table border=\"1\" class=\"dataframe\">\n",
       "  <thead>\n",
       "    <tr style=\"text-align: right;\">\n",
       "      <th></th>\n",
       "      <th>customer_unique_id</th>\n",
       "      <th>Recency</th>\n",
       "      <th>cluster_Recency</th>\n",
       "      <th>Frequency</th>\n",
       "      <th>cluster_Frequency</th>\n",
       "      <th>Revenue</th>\n",
       "      <th>cluster_Revenue</th>\n",
       "      <th>OverallScore</th>\n",
       "      <th>Segment</th>\n",
       "      <th>m6_Revenue</th>\n",
       "    </tr>\n",
       "  </thead>\n",
       "  <tbody>\n",
       "    <tr>\n",
       "      <th>0</th>\n",
       "      <td>861eff4711a542e4b93843c6dd7febb0</td>\n",
       "      <td>137</td>\n",
       "      <td>1</td>\n",
       "      <td>1</td>\n",
       "      <td>0</td>\n",
       "      <td>146.87</td>\n",
       "      <td>0</td>\n",
       "      <td>1</td>\n",
       "      <td>Low-Value</td>\n",
       "      <td>NaN</td>\n",
       "    </tr>\n",
       "    <tr>\n",
       "      <th>1</th>\n",
       "      <td>7f3a72e8f988c6e735ba118d54f47458</td>\n",
       "      <td>142</td>\n",
       "      <td>1</td>\n",
       "      <td>1</td>\n",
       "      <td>0</td>\n",
       "      <td>102.03</td>\n",
       "      <td>0</td>\n",
       "      <td>1</td>\n",
       "      <td>Low-Value</td>\n",
       "      <td>NaN</td>\n",
       "    </tr>\n",
       "    <tr>\n",
       "      <th>2</th>\n",
       "      <td>4390ddbb6276a66ff1736a6710205dca</td>\n",
       "      <td>169</td>\n",
       "      <td>1</td>\n",
       "      <td>1</td>\n",
       "      <td>0</td>\n",
       "      <td>94.63</td>\n",
       "      <td>0</td>\n",
       "      <td>1</td>\n",
       "      <td>Low-Value</td>\n",
       "      <td>NaN</td>\n",
       "    </tr>\n",
       "    <tr>\n",
       "      <th>3</th>\n",
       "      <td>2e6a42a9b5cbb0da62988694f18ee295</td>\n",
       "      <td>138</td>\n",
       "      <td>1</td>\n",
       "      <td>1</td>\n",
       "      <td>0</td>\n",
       "      <td>47.59</td>\n",
       "      <td>0</td>\n",
       "      <td>1</td>\n",
       "      <td>Low-Value</td>\n",
       "      <td>NaN</td>\n",
       "    </tr>\n",
       "    <tr>\n",
       "      <th>4</th>\n",
       "      <td>fd2d5fdb84e65fa6b54b98b0e2df5645</td>\n",
       "      <td>131</td>\n",
       "      <td>1</td>\n",
       "      <td>1</td>\n",
       "      <td>0</td>\n",
       "      <td>80.57</td>\n",
       "      <td>0</td>\n",
       "      <td>1</td>\n",
       "      <td>Low-Value</td>\n",
       "      <td>NaN</td>\n",
       "    </tr>\n",
       "  </tbody>\n",
       "</table>\n",
       "</div>"
      ],
      "text/plain": [
       "                 customer_unique_id  Recency  cluster_Recency  Frequency  \\\n",
       "0  861eff4711a542e4b93843c6dd7febb0      137                1          1   \n",
       "1  7f3a72e8f988c6e735ba118d54f47458      142                1          1   \n",
       "2  4390ddbb6276a66ff1736a6710205dca      169                1          1   \n",
       "3  2e6a42a9b5cbb0da62988694f18ee295      138                1          1   \n",
       "4  fd2d5fdb84e65fa6b54b98b0e2df5645      131                1          1   \n",
       "\n",
       "   cluster_Frequency  Revenue  cluster_Revenue  OverallScore    Segment  \\\n",
       "0                  0   146.87                0             1  Low-Value   \n",
       "1                  0   102.03                0             1  Low-Value   \n",
       "2                  0    94.63                0             1  Low-Value   \n",
       "3                  0    47.59                0             1  Low-Value   \n",
       "4                  0    80.57                0             1  Low-Value   \n",
       "\n",
       "   m6_Revenue  \n",
       "0         NaN  \n",
       "1         NaN  \n",
       "2         NaN  \n",
       "3         NaN  \n",
       "4         NaN  "
      ]
     },
     "execution_count": 45,
     "metadata": {},
     "output_type": "execute_result"
    }
   ],
   "source": [
    "tx_merge = pd.merge(df_12m, tx_user_6m, on='customer_unique_id', how='left')\n",
    "#tx_merge = tx_merge.fillna(0)\n",
    "\n",
    "tx_merge.head()\n",
    "#insert scatter plot her af RFM score vs 6m LTV"
   ]
  },
  {
   "cell_type": "code",
   "execution_count": 46,
   "metadata": {},
   "outputs": [
    {
     "data": {
      "text/html": [
       "<div>\n",
       "<style scoped>\n",
       "    .dataframe tbody tr th:only-of-type {\n",
       "        vertical-align: middle;\n",
       "    }\n",
       "\n",
       "    .dataframe tbody tr th {\n",
       "        vertical-align: top;\n",
       "    }\n",
       "\n",
       "    .dataframe thead th {\n",
       "        text-align: right;\n",
       "    }\n",
       "</style>\n",
       "<table border=\"1\" class=\"dataframe\">\n",
       "  <thead>\n",
       "    <tr style=\"text-align: right;\">\n",
       "      <th></th>\n",
       "      <th>count</th>\n",
       "      <th>mean</th>\n",
       "      <th>std</th>\n",
       "      <th>min</th>\n",
       "      <th>25%</th>\n",
       "      <th>50%</th>\n",
       "      <th>75%</th>\n",
       "      <th>max</th>\n",
       "    </tr>\n",
       "    <tr>\n",
       "      <th>LTVCluster</th>\n",
       "      <th></th>\n",
       "      <th></th>\n",
       "      <th></th>\n",
       "      <th></th>\n",
       "      <th></th>\n",
       "      <th></th>\n",
       "      <th></th>\n",
       "      <th></th>\n",
       "    </tr>\n",
       "  </thead>\n",
       "  <tbody>\n",
       "    <tr>\n",
       "      <th>0</th>\n",
       "      <td>388.0</td>\n",
       "      <td>93.216366</td>\n",
       "      <td>43.829355</td>\n",
       "      <td>15.89</td>\n",
       "      <td>55.3075</td>\n",
       "      <td>88.655</td>\n",
       "      <td>130.8775</td>\n",
       "      <td>180.51</td>\n",
       "    </tr>\n",
       "    <tr>\n",
       "      <th>1</th>\n",
       "      <td>100.0</td>\n",
       "      <td>273.550100</td>\n",
       "      <td>63.001244</td>\n",
       "      <td>184.73</td>\n",
       "      <td>220.8700</td>\n",
       "      <td>267.305</td>\n",
       "      <td>314.3375</td>\n",
       "      <td>435.95</td>\n",
       "    </tr>\n",
       "    <tr>\n",
       "      <th>2</th>\n",
       "      <td>22.0</td>\n",
       "      <td>610.989091</td>\n",
       "      <td>98.363437</td>\n",
       "      <td>453.80</td>\n",
       "      <td>543.2925</td>\n",
       "      <td>616.970</td>\n",
       "      <td>665.2375</td>\n",
       "      <td>785.24</td>\n",
       "    </tr>\n",
       "  </tbody>\n",
       "</table>\n",
       "</div>"
      ],
      "text/plain": [
       "            count        mean        std     min       25%      50%       75%  \\\n",
       "LTVCluster                                                                      \n",
       "0           388.0   93.216366  43.829355   15.89   55.3075   88.655  130.8775   \n",
       "1           100.0  273.550100  63.001244  184.73  220.8700  267.305  314.3375   \n",
       "2            22.0  610.989091  98.363437  453.80  543.2925  616.970  665.2375   \n",
       "\n",
       "               max  \n",
       "LTVCluster          \n",
       "0           180.51  \n",
       "1           435.95  \n",
       "2           785.24  "
      ]
     },
     "execution_count": 46,
     "metadata": {},
     "output_type": "execute_result"
    }
   ],
   "source": [
    "#remove outliers\n",
    "tx_merge = tx_merge[tx_merge['m6_Revenue']<tx_merge['m6_Revenue'].quantile(0.99)]\n",
    "\n",
    "#creating 3 clusters\n",
    "kmeans = KMeans(n_clusters=3)\n",
    "kmeans.fit(tx_merge[['m6_Revenue']])\n",
    "tx_merge['LTVCluster'] = kmeans.predict(tx_merge[['m6_Revenue']])\n",
    "\n",
    "#order cluster number based on LTV\n",
    "tx_merge = order_cluster('LTVCluster', 'm6_Revenue',tx_merge,True)\n",
    "\n",
    "#creatinga new cluster dataframe\n",
    "tx_cluster = tx_merge.copy()\n",
    "\n",
    "#see details of the clusters\n",
    "tx_cluster.groupby('LTVCluster')['m6_Revenue'].describe()"
   ]
  },
  {
   "cell_type": "code",
   "execution_count": 47,
   "metadata": {
    "scrolled": true
   },
   "outputs": [
    {
     "data": {
      "text/html": [
       "<div>\n",
       "<style scoped>\n",
       "    .dataframe tbody tr th:only-of-type {\n",
       "        vertical-align: middle;\n",
       "    }\n",
       "\n",
       "    .dataframe tbody tr th {\n",
       "        vertical-align: top;\n",
       "    }\n",
       "\n",
       "    .dataframe thead th {\n",
       "        text-align: right;\n",
       "    }\n",
       "</style>\n",
       "<table border=\"1\" class=\"dataframe\">\n",
       "  <thead>\n",
       "    <tr style=\"text-align: right;\">\n",
       "      <th></th>\n",
       "      <th>customer_unique_id</th>\n",
       "      <th>Recency</th>\n",
       "      <th>cluster_Recency</th>\n",
       "      <th>Frequency</th>\n",
       "      <th>cluster_Frequency</th>\n",
       "      <th>Revenue</th>\n",
       "      <th>cluster_Revenue</th>\n",
       "      <th>OverallScore</th>\n",
       "      <th>Segment</th>\n",
       "      <th>m6_Revenue</th>\n",
       "      <th>LTVCluster</th>\n",
       "    </tr>\n",
       "  </thead>\n",
       "  <tbody>\n",
       "    <tr>\n",
       "      <th>0</th>\n",
       "      <td>18e3d276253780b44b5b7bf83f6785ec</td>\n",
       "      <td>150</td>\n",
       "      <td>1</td>\n",
       "      <td>1</td>\n",
       "      <td>0</td>\n",
       "      <td>96.88</td>\n",
       "      <td>0</td>\n",
       "      <td>1</td>\n",
       "      <td>Low-Value</td>\n",
       "      <td>71.97</td>\n",
       "      <td>0</td>\n",
       "    </tr>\n",
       "    <tr>\n",
       "      <th>1</th>\n",
       "      <td>49d1599dd80dedc213037342bbe43fd7</td>\n",
       "      <td>120</td>\n",
       "      <td>1</td>\n",
       "      <td>1</td>\n",
       "      <td>0</td>\n",
       "      <td>40.77</td>\n",
       "      <td>0</td>\n",
       "      <td>1</td>\n",
       "      <td>Low-Value</td>\n",
       "      <td>77.80</td>\n",
       "      <td>0</td>\n",
       "    </tr>\n",
       "    <tr>\n",
       "      <th>2</th>\n",
       "      <td>2b952792a20f6076f6e7a9c6a27ade02</td>\n",
       "      <td>117</td>\n",
       "      <td>1</td>\n",
       "      <td>1</td>\n",
       "      <td>0</td>\n",
       "      <td>47.54</td>\n",
       "      <td>0</td>\n",
       "      <td>1</td>\n",
       "      <td>Low-Value</td>\n",
       "      <td>82.60</td>\n",
       "      <td>0</td>\n",
       "    </tr>\n",
       "    <tr>\n",
       "      <th>3</th>\n",
       "      <td>f7d2fc6f0a2778f53d2a6bfc27bd0e8c</td>\n",
       "      <td>137</td>\n",
       "      <td>1</td>\n",
       "      <td>1</td>\n",
       "      <td>0</td>\n",
       "      <td>190.33</td>\n",
       "      <td>0</td>\n",
       "      <td>1</td>\n",
       "      <td>Low-Value</td>\n",
       "      <td>179.86</td>\n",
       "      <td>0</td>\n",
       "    </tr>\n",
       "    <tr>\n",
       "      <th>4</th>\n",
       "      <td>f11451a120b48a5c4c36d3274f0fd80c</td>\n",
       "      <td>148</td>\n",
       "      <td>1</td>\n",
       "      <td>1</td>\n",
       "      <td>0</td>\n",
       "      <td>224.29</td>\n",
       "      <td>0</td>\n",
       "      <td>1</td>\n",
       "      <td>Low-Value</td>\n",
       "      <td>28.58</td>\n",
       "      <td>0</td>\n",
       "    </tr>\n",
       "  </tbody>\n",
       "</table>\n",
       "</div>"
      ],
      "text/plain": [
       "                 customer_unique_id  Recency  cluster_Recency  Frequency  \\\n",
       "0  18e3d276253780b44b5b7bf83f6785ec      150                1          1   \n",
       "1  49d1599dd80dedc213037342bbe43fd7      120                1          1   \n",
       "2  2b952792a20f6076f6e7a9c6a27ade02      117                1          1   \n",
       "3  f7d2fc6f0a2778f53d2a6bfc27bd0e8c      137                1          1   \n",
       "4  f11451a120b48a5c4c36d3274f0fd80c      148                1          1   \n",
       "\n",
       "   cluster_Frequency  Revenue  cluster_Revenue  OverallScore    Segment  \\\n",
       "0                  0    96.88                0             1  Low-Value   \n",
       "1                  0    40.77                0             1  Low-Value   \n",
       "2                  0    47.54                0             1  Low-Value   \n",
       "3                  0   190.33                0             1  Low-Value   \n",
       "4                  0   224.29                0             1  Low-Value   \n",
       "\n",
       "   m6_Revenue  LTVCluster  \n",
       "0       71.97           0  \n",
       "1       77.80           0  \n",
       "2       82.60           0  \n",
       "3      179.86           0  \n",
       "4       28.58           0  "
      ]
     },
     "execution_count": 47,
     "metadata": {},
     "output_type": "execute_result"
    }
   ],
   "source": [
    "tx_cluster.head()"
   ]
  },
  {
   "cell_type": "code",
   "execution_count": 48,
   "metadata": {},
   "outputs": [],
   "source": [
    "#convert categorical columns to numerical\n",
    "tx_class = pd.get_dummies(tx_cluster, columns=['Segment'])"
   ]
  },
  {
   "cell_type": "code",
   "execution_count": 49,
   "metadata": {},
   "outputs": [
    {
     "data": {
      "text/plain": [
       "LTVCluster           1.000000\n",
       "m6_Revenue           0.903187\n",
       "cluster_Revenue      0.239816\n",
       "Revenue              0.232252\n",
       "cluster_Frequency    0.181156\n",
       "Frequency            0.171613\n",
       "OverallScore         0.152071\n",
       "Segment_Mid-Value    0.083178\n",
       "cluster_Recency      0.048547\n",
       "Recency             -0.048607\n",
       "Segment_Low-Value   -0.083178\n",
       "Name: LTVCluster, dtype: float64"
      ]
     },
     "execution_count": 49,
     "metadata": {},
     "output_type": "execute_result"
    }
   ],
   "source": [
    "#calculate and show correlations\n",
    "corr_matrix = tx_class.corr()\n",
    "corr_matrix['LTVCluster'].sort_values(ascending=False)"
   ]
  },
  {
   "cell_type": "code",
   "execution_count": 94,
   "metadata": {},
   "outputs": [],
   "source": [
    "from sklearn.preprocessing import MinMaxScaler\n",
    "\n",
    "#create X and y, X will be feature set and y is the label - LTV\n",
    "X = tx_class.drop(['customer_unique_id','LTVCluster','m6_Revenue'],axis=1)\n",
    "y = tx_class['LTVCluster']\n",
    "\n",
    "scaler = MinMaxScaler()\n",
    "X = scaler.fit_transform(X)\n",
    "\n",
    "#split training and test sets\n",
    "X_train, X_test, y_train, y_test = train_test_split(X, y, test_size=0.15, random_state=56)"
   ]
  },
  {
   "cell_type": "markdown",
   "metadata": {},
   "source": [
    "### Dummy baseline\n",
    "\n",
    "Having a high class imbalance we first create a baseline \"dummy\" classifier to later compare with a more advanced model."
   ]
  },
  {
   "cell_type": "code",
   "execution_count": 95,
   "metadata": {},
   "outputs": [
    {
     "name": "stdout",
     "output_type": "stream",
     "text": [
      "              precision    recall  f1-score   support\n",
      "\n",
      "           0       0.70      0.78      0.74        55\n",
      "           1       0.14      0.12      0.13        16\n",
      "           2       0.50      0.17      0.25         6\n",
      "\n",
      "    accuracy                           0.60        77\n",
      "   macro avg       0.45      0.36      0.37        77\n",
      "weighted avg       0.57      0.60      0.58        77\n",
      "\n"
     ]
    }
   ],
   "source": [
    "from sklearn.dummy import DummyClassifier\n",
    "from sklearn.metrics import classification_report\n",
    "\n",
    "clf = DummyClassifier(random_state=0).fit(X_train, y_train)\n",
    "y_pred = clf.predict(X_test)\n",
    "print(classification_report(y_test, y_pred))"
   ]
  },
  {
   "cell_type": "markdown",
   "metadata": {},
   "source": [
    "### Logistic regression \n",
    "\n",
    "Creating a simple classifier to later compare with a more advanced model"
   ]
  },
  {
   "cell_type": "code",
   "execution_count": 101,
   "metadata": {
    "scrolled": true
   },
   "outputs": [
    {
     "name": "stdout",
     "output_type": "stream",
     "text": [
      "              precision    recall  f1-score   support\n",
      "\n",
      "           0       0.82      0.42      0.55        55\n",
      "           1       0.26      0.50      0.34        16\n",
      "           2       0.17      0.50      0.25         6\n",
      "\n",
      "    accuracy                           0.44        77\n",
      "   macro avg       0.42      0.47      0.38        77\n",
      "weighted avg       0.65      0.44      0.49        77\n",
      "\n"
     ]
    }
   ],
   "source": [
    "#class_weight='balanced' er til, skal vendes med Stannislav \n",
    "from sklearn.linear_model import LogisticRegression\n",
    "\n",
    "clf = LogisticRegression(random_state=0, solver='lbfgs',\n",
    "                          multi_class='multinomial',class_weight='balanced').fit(X_train, y_train)\n",
    "y_pred = clf.predict(X_test)\n",
    "print(classification_report(y_test, y_pred))"
   ]
  },
  {
   "cell_type": "code",
   "execution_count": 97,
   "metadata": {},
   "outputs": [
    {
     "data": {
      "text/plain": [
       "array([[ 0.40898097,  0.10669708, -0.20427781, -0.30250783, -1.17012538,\n",
       "        -0.66812845, -0.27481274, -0.00951158,  0.00947577],\n",
       "       [ 0.72732727, -0.26487315,  0.80838812,  1.29445208, -1.10653835,\n",
       "         0.67739625,  0.6347899 ,  0.21618882, -0.21665538],\n",
       "       [-1.13630823,  0.15817607, -0.60411031, -0.99194425,  2.27666373,\n",
       "        -0.00926781, -0.35997716, -0.20667724,  0.20717961]])"
      ]
     },
     "execution_count": 97,
     "metadata": {},
     "output_type": "execute_result"
    }
   ],
   "source": [
    "clf.coef_"
   ]
  },
  {
   "cell_type": "markdown",
   "metadata": {},
   "source": [
    "### ANN Classifier\n",
    "\n",
    "Creating a simple classifier to later compare with a more advanced model"
   ]
  },
  {
   "cell_type": "code",
   "execution_count": 98,
   "metadata": {},
   "outputs": [
    {
     "name": "stdout",
     "output_type": "stream",
     "text": [
      "Model: \"sequential_5\"\n",
      "_________________________________________________________________\n",
      "Layer (type)                 Output Shape              Param #   \n",
      "=================================================================\n",
      "dense_13 (Dense)             (None, 20)                200       \n",
      "_________________________________________________________________\n",
      "dense_14 (Dense)             (None, 20)                420       \n",
      "_________________________________________________________________\n",
      "dense_15 (Dense)             (None, 3)                 63        \n",
      "=================================================================\n",
      "Total params: 683\n",
      "Trainable params: 683\n",
      "Non-trainable params: 0\n",
      "_________________________________________________________________\n",
      "Epoch 1/10\n",
      "433/433 [==============================] - 0s 228us/step - loss: 1.3095 - accuracy: 0.0370\n",
      "Epoch 2/10\n",
      "433/433 [==============================] - 0s 36us/step - loss: 1.1594 - accuracy: 0.1501\n",
      "Epoch 3/10\n",
      "433/433 [==============================] - 0s 36us/step - loss: 1.0497 - accuracy: 0.6351\n",
      "Epoch 4/10\n",
      "433/433 [==============================] - 0s 36us/step - loss: 0.9679 - accuracy: 0.7691\n",
      "Epoch 5/10\n",
      "433/433 [==============================] - 0s 39us/step - loss: 0.9063 - accuracy: 0.7691\n",
      "Epoch 6/10\n",
      "433/433 [==============================] - 0s 40us/step - loss: 0.8479 - accuracy: 0.7691\n",
      "Epoch 7/10\n",
      "433/433 [==============================] - 0s 38us/step - loss: 0.7947 - accuracy: 0.7691\n",
      "Epoch 8/10\n",
      "433/433 [==============================] - 0s 33us/step - loss: 0.7477 - accuracy: 0.7691\n",
      "Epoch 9/10\n",
      "433/433 [==============================] - 0s 32us/step - loss: 0.7124 - accuracy: 0.7691\n",
      "Epoch 10/10\n",
      "433/433 [==============================] - 0s 32us/step - loss: 0.6896 - accuracy: 0.7691\n"
     ]
    }
   ],
   "source": [
    "# multi-class classification with Keras\n",
    "from keras.models import Sequential\n",
    "from keras.layers import Dense\n",
    "from keras.layers import Dropout\n",
    "from keras.utils import np_utils\n",
    "\n",
    "train_cat_y = np_utils.to_categorical(y_train)\n",
    "\n",
    "# define baseline model\n",
    "model = Sequential()\n",
    "model.add(Dense(20, input_dim=X_train.shape[1], activation='relu'))\n",
    "#model.add(Dropout(0.5))\n",
    "model.add(Dense(20, activation='relu'))\n",
    "model.add(Dense(3, activation='softmax'))\n",
    "\n",
    "model.compile(loss='categorical_crossentropy', optimizer='adam', metrics=['accuracy'])\n",
    " \n",
    "model.summary()\n",
    "    \n",
    "model.fit(X_train, train_cat_y, epochs = 10)    \n",
    "y_pred = model.predict_classes(X_test)"
   ]
  },
  {
   "cell_type": "code",
   "execution_count": 99,
   "metadata": {},
   "outputs": [
    {
     "name": "stdout",
     "output_type": "stream",
     "text": [
      "              precision    recall  f1-score   support\n",
      "\n",
      "           0       0.71      1.00      0.83        55\n",
      "           1       0.00      0.00      0.00        16\n",
      "           2       0.00      0.00      0.00         6\n",
      "\n",
      "    accuracy                           0.71        77\n",
      "   macro avg       0.24      0.33      0.28        77\n",
      "weighted avg       0.51      0.71      0.60        77\n",
      "\n"
     ]
    }
   ],
   "source": [
    "print(classification_report(y_test, y_pred))"
   ]
  },
  {
   "cell_type": "code",
   "execution_count": 91,
   "metadata": {},
   "outputs": [
    {
     "name": "stdout",
     "output_type": "stream",
     "text": [
      "              precision    recall  f1-score   support\n",
      "\n",
      "           0       0.79      0.92      0.85        37\n",
      "           1       0.50      0.33      0.40        12\n",
      "           2       0.00      0.00      0.00         2\n",
      "\n",
      "    accuracy                           0.75        51\n",
      "   macro avg       0.43      0.42      0.42        51\n",
      "weighted avg       0.69      0.75      0.71        51\n",
      "\n"
     ]
    }
   ],
   "source": [
    "from sklearn.ensemble import RandomForestClassifier\n",
    "clf = RandomForestClassifier(n_estimators=100, max_depth=30, random_state=0).fit(X_train, y_train)\n",
    "y_pred = clf.predict(X_test)\n",
    "print(classification_report(y_test, y_pred))"
   ]
  },
  {
   "cell_type": "code",
   "execution_count": 84,
   "metadata": {},
   "outputs": [
    {
     "data": {
      "text/plain": [
       "26"
      ]
     },
     "execution_count": 84,
     "metadata": {},
     "output_type": "execute_result"
    }
   ],
   "source": [
    "len(y_test)\n"
   ]
  },
  {
   "cell_type": "code",
   "execution_count": null,
   "metadata": {},
   "outputs": [],
   "source": []
  }
 ],
 "metadata": {
  "kernelspec": {
   "display_name": "Python 3",
   "language": "python",
   "name": "python3"
  },
  "language_info": {
   "codemirror_mode": {
    "name": "ipython",
    "version": 3
   },
   "file_extension": ".py",
   "mimetype": "text/x-python",
   "name": "python",
   "nbconvert_exporter": "python",
   "pygments_lexer": "ipython3",
   "version": "3.7.3"
  }
 },
 "nbformat": 4,
 "nbformat_minor": 2
}
