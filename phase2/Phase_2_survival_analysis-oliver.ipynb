{
 "cells": [
  {
   "cell_type": "markdown",
   "metadata": {},
   "source": [
    "# Churn prediction \n",
    "\n",
    "In the prior analysis, the Olist customers were segmented and their customer life time value was calculated. This enables Olist to identify their best customers. If these customers were to leave Olist and become a customer in one of Olist competitors then it would hurt Olist revenue. Therefore, it is relevant to conduct a churn analysis in order to identify which customers might churn in the future. Knowing this, Olist can take actions specifik againt the customer likely to churn to keep the customer.\n",
    "\n",
    "\n",
    "\n",
    "In the following notebook a churn analysis will be carried out. The churn analysis employs survival analysis to predict whether a customer will churn or not. Survival analysis has been chosen because besides giving an idea if a customer is going to stop doing business it also gives a probability for when the event might happen. \n",
    "\n",
    "\n",
    "\n",
    "\n",
    "\n"
   ]
  },
  {
   "cell_type": "code",
   "execution_count": 54,
   "metadata": {},
   "outputs": [],
   "source": [
    "# Standard packages are imported\n",
    "import warnings\n",
    "import pandas as pd\n",
    "import matplotlib.pyplot as plt\n",
    "import seaborn as sns\n",
    "import numpy as np\n",
    "warnings.filterwarnings('ignore')\n",
    "%matplotlib inline\n",
    "\n",
    "dirpath = '../data/'"
   ]
  },
  {
   "cell_type": "markdown",
   "metadata": {},
   "source": [
    "The customer data sets are loaded as in the previous notebook which include Olist_customers,Olist_orders and Olist_order_payments. Futhermore, the order item dataset is joined with the customer data since it could be relevant to use features such as product category for later modelling in the prediction model."
   ]
  },
  {
   "cell_type": "code",
   "execution_count": 55,
   "metadata": {},
   "outputs": [],
   "source": [
    "# Load data\n",
    "customers = pd.read_csv(dirpath+\"olist_customers_dataset.csv\")\n",
    "order_payments = pd.read_csv(dirpath+\"olist_order_payments_dataset.csv\")\n",
    "orders = pd.read_csv(dirpath+\"olist_orders_dataset.csv\")\n",
    "orders_item = pd.read_csv(dirpath+\"olist_order_items_dataset.csv\")\n",
    "products = pd.read_csv(dirpath+\"olist_products_dataset.csv\")\n",
    "reviews = pd.read_csv(dirpath+\"olist_order_reviews_dataset.csv\")\n",
    "\n",
    "# Join\n",
    "customer_order = customers.merge(orders, on='customer_id', how='left')\n",
    "order_payments = order_payments.groupby('order_id').sum().reset_index()[['order_id','payment_value']]\n",
    "cop = customer_order.merge(order_payments, on='order_id', how='left')\n",
    "cop = cop.merge(orders_item, on='order_id', how='left')\n",
    "cop = cop.merge(products, on='product_id', how='left')\n",
    "cop = cop.merge(reviews, on='order_id', how='left')\n",
    "\n",
    "# clean and format\n",
    "cop['order_purchase_timestamp'] = pd.to_datetime(cop['order_purchase_timestamp'])\n",
    "cop = cop[cop['order_status']!='canceled']"
   ]
  },
  {
   "cell_type": "code",
   "execution_count": 56,
   "metadata": {},
   "outputs": [
    {
     "data": {
      "text/html": [
       "<div>\n",
       "<style scoped>\n",
       "    .dataframe tbody tr th:only-of-type {\n",
       "        vertical-align: middle;\n",
       "    }\n",
       "\n",
       "    .dataframe tbody tr th {\n",
       "        vertical-align: top;\n",
       "    }\n",
       "\n",
       "    .dataframe thead th {\n",
       "        text-align: right;\n",
       "    }\n",
       "</style>\n",
       "<table border=\"1\" class=\"dataframe\">\n",
       "  <thead>\n",
       "    <tr style=\"text-align: right;\">\n",
       "      <th></th>\n",
       "      <th>customer_id</th>\n",
       "      <th>customer_unique_id</th>\n",
       "      <th>customer_zip_code_prefix</th>\n",
       "      <th>customer_city</th>\n",
       "      <th>customer_state</th>\n",
       "      <th>order_id</th>\n",
       "      <th>order_status</th>\n",
       "      <th>order_purchase_timestamp</th>\n",
       "      <th>order_approved_at</th>\n",
       "      <th>order_delivered_carrier_date</th>\n",
       "      <th>...</th>\n",
       "      <th>product_weight_g</th>\n",
       "      <th>product_length_cm</th>\n",
       "      <th>product_height_cm</th>\n",
       "      <th>product_width_cm</th>\n",
       "      <th>review_id</th>\n",
       "      <th>review_score</th>\n",
       "      <th>review_comment_title</th>\n",
       "      <th>review_comment_message</th>\n",
       "      <th>review_creation_date</th>\n",
       "      <th>review_answer_timestamp</th>\n",
       "    </tr>\n",
       "  </thead>\n",
       "  <tbody>\n",
       "    <tr>\n",
       "      <th>0</th>\n",
       "      <td>06b8999e2fba1a1fbc88172c00ba8bc7</td>\n",
       "      <td>861eff4711a542e4b93843c6dd7febb0</td>\n",
       "      <td>14409</td>\n",
       "      <td>franca</td>\n",
       "      <td>SP</td>\n",
       "      <td>00e7ee1b050b8499577073aeb2a297a1</td>\n",
       "      <td>delivered</td>\n",
       "      <td>2017-05-16 15:05:35</td>\n",
       "      <td>2017-05-16 15:22:12</td>\n",
       "      <td>2017-05-23 10:47:57</td>\n",
       "      <td>...</td>\n",
       "      <td>8683.0</td>\n",
       "      <td>54.0</td>\n",
       "      <td>64.0</td>\n",
       "      <td>31.0</td>\n",
       "      <td>88b8b52d46df026a9d1ad2136a59b30b</td>\n",
       "      <td>4</td>\n",
       "      <td>NaN</td>\n",
       "      <td>NaN</td>\n",
       "      <td>2017-05-26 00:00:00</td>\n",
       "      <td>2017-05-30 22:34:40</td>\n",
       "    </tr>\n",
       "    <tr>\n",
       "      <th>1</th>\n",
       "      <td>18955e83d337fd6b2def6b18a428ac77</td>\n",
       "      <td>290c77bc529b7ac935b93aa66c333dc3</td>\n",
       "      <td>9790</td>\n",
       "      <td>sao bernardo do campo</td>\n",
       "      <td>SP</td>\n",
       "      <td>29150127e6685892b6eab3eec79f59c7</td>\n",
       "      <td>delivered</td>\n",
       "      <td>2018-01-12 20:48:24</td>\n",
       "      <td>2018-01-12 20:58:32</td>\n",
       "      <td>2018-01-15 17:14:59</td>\n",
       "      <td>...</td>\n",
       "      <td>10150.0</td>\n",
       "      <td>89.0</td>\n",
       "      <td>15.0</td>\n",
       "      <td>40.0</td>\n",
       "      <td>02fc48a9efa3e3d0f1a8ea26507eeec3</td>\n",
       "      <td>5</td>\n",
       "      <td>NaN</td>\n",
       "      <td>NaN</td>\n",
       "      <td>2018-01-30 00:00:00</td>\n",
       "      <td>2018-02-10 22:43:29</td>\n",
       "    </tr>\n",
       "    <tr>\n",
       "      <th>2</th>\n",
       "      <td>4e7b3e00288586ebd08712fdd0374a03</td>\n",
       "      <td>060e732b5b29e8181a18229c7b0b2b5e</td>\n",
       "      <td>1151</td>\n",
       "      <td>sao paulo</td>\n",
       "      <td>SP</td>\n",
       "      <td>b2059ed67ce144a36e2aa97d2c9e9ad2</td>\n",
       "      <td>delivered</td>\n",
       "      <td>2018-05-19 16:07:45</td>\n",
       "      <td>2018-05-20 16:19:10</td>\n",
       "      <td>2018-06-11 14:31:00</td>\n",
       "      <td>...</td>\n",
       "      <td>8267.0</td>\n",
       "      <td>52.0</td>\n",
       "      <td>52.0</td>\n",
       "      <td>17.0</td>\n",
       "      <td>5ad6695d76ee186dc473c42706984d87</td>\n",
       "      <td>5</td>\n",
       "      <td>NaN</td>\n",
       "      <td>NaN</td>\n",
       "      <td>2018-06-15 00:00:00</td>\n",
       "      <td>2018-06-15 12:10:59</td>\n",
       "    </tr>\n",
       "    <tr>\n",
       "      <th>3</th>\n",
       "      <td>b2b6027bc5c5109e529d4dc6358b12c3</td>\n",
       "      <td>259dac757896d24d7702b9acbbff3f3c</td>\n",
       "      <td>8775</td>\n",
       "      <td>mogi das cruzes</td>\n",
       "      <td>SP</td>\n",
       "      <td>951670f92359f4fe4a63112aa7306eba</td>\n",
       "      <td>delivered</td>\n",
       "      <td>2018-03-13 16:06:38</td>\n",
       "      <td>2018-03-13 17:29:19</td>\n",
       "      <td>2018-03-27 23:22:42</td>\n",
       "      <td>...</td>\n",
       "      <td>12160.0</td>\n",
       "      <td>56.0</td>\n",
       "      <td>51.0</td>\n",
       "      <td>28.0</td>\n",
       "      <td>059a801bb31f6aab2266e672cab87bc5</td>\n",
       "      <td>5</td>\n",
       "      <td>NaN</td>\n",
       "      <td>NaN</td>\n",
       "      <td>2018-03-29 00:00:00</td>\n",
       "      <td>2018-04-02 18:36:47</td>\n",
       "    </tr>\n",
       "    <tr>\n",
       "      <th>4</th>\n",
       "      <td>4f2d8ab171c80ec8364f7c12e35b23ad</td>\n",
       "      <td>345ecd01c38d18a9036ed96c73b8d066</td>\n",
       "      <td>13056</td>\n",
       "      <td>campinas</td>\n",
       "      <td>SP</td>\n",
       "      <td>6b7d50bd145f6fc7f33cebabd7e49d0f</td>\n",
       "      <td>delivered</td>\n",
       "      <td>2018-07-29 09:51:30</td>\n",
       "      <td>2018-07-29 10:10:09</td>\n",
       "      <td>2018-07-30 15:16:00</td>\n",
       "      <td>...</td>\n",
       "      <td>5200.0</td>\n",
       "      <td>45.0</td>\n",
       "      <td>15.0</td>\n",
       "      <td>35.0</td>\n",
       "      <td>8490879d58d6c5d7773f2739a03f089a</td>\n",
       "      <td>5</td>\n",
       "      <td>a melhor nota</td>\n",
       "      <td>O baratheon è esxelente Amo adoro o baratheon</td>\n",
       "      <td>2018-08-10 00:00:00</td>\n",
       "      <td>2018-08-17 01:59:52</td>\n",
       "    </tr>\n",
       "  </tbody>\n",
       "</table>\n",
       "<p>5 rows × 33 columns</p>\n",
       "</div>"
      ],
      "text/plain": [
       "                        customer_id                customer_unique_id  \\\n",
       "0  06b8999e2fba1a1fbc88172c00ba8bc7  861eff4711a542e4b93843c6dd7febb0   \n",
       "1  18955e83d337fd6b2def6b18a428ac77  290c77bc529b7ac935b93aa66c333dc3   \n",
       "2  4e7b3e00288586ebd08712fdd0374a03  060e732b5b29e8181a18229c7b0b2b5e   \n",
       "3  b2b6027bc5c5109e529d4dc6358b12c3  259dac757896d24d7702b9acbbff3f3c   \n",
       "4  4f2d8ab171c80ec8364f7c12e35b23ad  345ecd01c38d18a9036ed96c73b8d066   \n",
       "\n",
       "   customer_zip_code_prefix          customer_city customer_state  \\\n",
       "0                     14409                 franca             SP   \n",
       "1                      9790  sao bernardo do campo             SP   \n",
       "2                      1151              sao paulo             SP   \n",
       "3                      8775        mogi das cruzes             SP   \n",
       "4                     13056               campinas             SP   \n",
       "\n",
       "                           order_id order_status order_purchase_timestamp  \\\n",
       "0  00e7ee1b050b8499577073aeb2a297a1    delivered      2017-05-16 15:05:35   \n",
       "1  29150127e6685892b6eab3eec79f59c7    delivered      2018-01-12 20:48:24   \n",
       "2  b2059ed67ce144a36e2aa97d2c9e9ad2    delivered      2018-05-19 16:07:45   \n",
       "3  951670f92359f4fe4a63112aa7306eba    delivered      2018-03-13 16:06:38   \n",
       "4  6b7d50bd145f6fc7f33cebabd7e49d0f    delivered      2018-07-29 09:51:30   \n",
       "\n",
       "     order_approved_at order_delivered_carrier_date  ... product_weight_g  \\\n",
       "0  2017-05-16 15:22:12          2017-05-23 10:47:57  ...           8683.0   \n",
       "1  2018-01-12 20:58:32          2018-01-15 17:14:59  ...          10150.0   \n",
       "2  2018-05-20 16:19:10          2018-06-11 14:31:00  ...           8267.0   \n",
       "3  2018-03-13 17:29:19          2018-03-27 23:22:42  ...          12160.0   \n",
       "4  2018-07-29 10:10:09          2018-07-30 15:16:00  ...           5200.0   \n",
       "\n",
       "  product_length_cm  product_height_cm  product_width_cm  \\\n",
       "0              54.0               64.0              31.0   \n",
       "1              89.0               15.0              40.0   \n",
       "2              52.0               52.0              17.0   \n",
       "3              56.0               51.0              28.0   \n",
       "4              45.0               15.0              35.0   \n",
       "\n",
       "                          review_id review_score review_comment_title  \\\n",
       "0  88b8b52d46df026a9d1ad2136a59b30b            4                  NaN   \n",
       "1  02fc48a9efa3e3d0f1a8ea26507eeec3            5                  NaN   \n",
       "2  5ad6695d76ee186dc473c42706984d87            5                  NaN   \n",
       "3  059a801bb31f6aab2266e672cab87bc5            5                  NaN   \n",
       "4  8490879d58d6c5d7773f2739a03f089a            5        a melhor nota   \n",
       "\n",
       "                          review_comment_message  review_creation_date  \\\n",
       "0                                            NaN   2017-05-26 00:00:00   \n",
       "1                                            NaN   2018-01-30 00:00:00   \n",
       "2                                            NaN   2018-06-15 00:00:00   \n",
       "3                                            NaN   2018-03-29 00:00:00   \n",
       "4  O baratheon è esxelente Amo adoro o baratheon   2018-08-10 00:00:00   \n",
       "\n",
       "  review_answer_timestamp  \n",
       "0     2017-05-30 22:34:40  \n",
       "1     2018-02-10 22:43:29  \n",
       "2     2018-06-15 12:10:59  \n",
       "3     2018-04-02 18:36:47  \n",
       "4     2018-08-17 01:59:52  \n",
       "\n",
       "[5 rows x 33 columns]"
      ]
     },
     "execution_count": 56,
     "metadata": {},
     "output_type": "execute_result"
    }
   ],
   "source": [
    "cop.head()"
   ]
  },
  {
   "attachments": {
    "Survival.png": {
     "image/png": "[encoded data removed]"
    }
   },
   "cell_type": "markdown",
   "metadata": {},
   "source": [
    "## Data preparation for survival analysis\n",
    "\n",
    "In survival analysis, a data point is characterised by three elements: $X_i,E_i,T_i, \\forall i \\in N$ where $N$ is number of datapoints. \n",
    "\n",
    "- $X_i$ : is a p-dimensional feature vector\n",
    "- $E_i$ : is an event indicator. If $E_i = 1$ an event happens, the other case where $E_i=0$ means that the data point is censored because an event does not happen. \n",
    "- $T_i$ : $min(t_i,c_i)$ , where $t_i$ is the actual time to event and $c_i$ is time to censoring\n",
    "\n",
    "\n",
    "Survival data involves modelling time to an event happens. The time to event involves the duration between a birth and a death. In this case a birth happens every time a customer buys something from Olist. The birth starts a process and two things can happen from here. Either the customer buys another thing through Olist, which causes the process to die because an event happens but also a new birth process will start. The other thing that can happen is that after the customer buys from Olist and the birth process has started then the customer does not return to buy anything from Olist so no event happens - which we saw is the most frequent case in the previous notebook about segmentation and Customer Lifetime Value. If the customer does not buy anything again then the process will be censored. Censoring an observation means we do not know if and when an event will happen for this observation.\n",
    "Survival function, S(t) is the probability that the event of interest has not occured by some time $t$.\n",
    "$S(t) = 1 - F(t) = Pr[T\\leq t]$\n",
    "\n",
    "The process is visuliased in the figure below. We are considering three customers {A,B,C}. Customer B buys from Olist on the 09/04/2016, as the first customer in our dataset, so a birth process starts. The process is continuing all the way up til the red point where an Event happens because Customer B buys another thing from Olist and thereby the process stops because it dies with an event. Customer C on the other hand buys from Olist but does not buy again in the time horizon for our dataset. Thus Customer C's survival time is longer than the time of our study. We cannot say whether Customer C will experience an Event or not - only that it does not happen in our time frame. \n",
    "Customer A is the same as B except that Customer A first becomes a customer at Olist at some point in Time after Customer B but is undergoing the same type of process as Customer B.\n",
    "\n",
    "![Survival.png](attachment:Survival.png)\n",
    "\n",
    "In the following section, the data will be preprocessed to be ready for modelling with survival models:\n",
    "\n",
    "1. An Event and Time column will be calculated\n",
    "2. Features that will be included in the survival analysis will be identified and presented"
   ]
  },
  {
   "cell_type": "code",
   "execution_count": 57,
   "metadata": {},
   "outputs": [],
   "source": [
    "# Creating a column \"number of purchases\" and joining it on\n",
    "df = cop.merge(cop.groupby('customer_unique_id').size().reset_index(), on='customer_unique_id', how='left')\n",
    "\n",
    "# Getting last date of purchase\n",
    "t_end = cop.order_purchase_timestamp.max()\n",
    "\n",
    "# Separating customers with multiple purchases from customers with a single purchase \n",
    "df_event_1 = df[df.iloc[:,-1] > 1]\n",
    "df_event_0 = df[df.iloc[:,-1] < 2]"
   ]
  },
  {
   "attachments": {},
   "cell_type": "markdown",
   "metadata": {},
   "source": []
  },
  {
   "cell_type": "code",
   "execution_count": 58,
   "metadata": {},
   "outputs": [],
   "source": [
    "# Calculating the difference between purchasedates (in weeks) of first and following orders of the same customer.   \n",
    "df_event_1 = df_event_1.groupby('customer_unique_id')['order_purchase_timestamp'].apply(lambda x: x.sort_values()).reset_index()\n",
    "df_event_1['T'] = (df_event_1.groupby('customer_unique_id')['order_purchase_timestamp'].diff() / np.timedelta64(1, 'W'))\n",
    "# Removing a customers first purchase from dataframe\n",
    "df_event_1 = df_event_1.dropna(subset=['T'])\n",
    "# Rounding up number of weeks\n",
    "df_event_1['T'] = df_event_1['T'].apply(np.ceil).astype(int)\n",
    "# Removing purchases with same purchase date and time for a given customers.\n",
    "df_event_1 = df_event_1[df_event_1['T'] > 0]\n",
    "# Setting event variable to one\n",
    "df_event_1['E'] = 1\n",
    "df_event_1 = df_event_1[['customer_unique_id', 'order_purchase_timestamp','T','E']]"
   ]
  },
  {
   "cell_type": "code",
   "execution_count": 59,
   "metadata": {},
   "outputs": [
    {
     "data": {
      "text/html": [
       "<div>\n",
       "<style scoped>\n",
       "    .dataframe tbody tr th:only-of-type {\n",
       "        vertical-align: middle;\n",
       "    }\n",
       "\n",
       "    .dataframe tbody tr th {\n",
       "        vertical-align: top;\n",
       "    }\n",
       "\n",
       "    .dataframe thead th {\n",
       "        text-align: right;\n",
       "    }\n",
       "</style>\n",
       "<table border=\"1\" class=\"dataframe\">\n",
       "  <thead>\n",
       "    <tr style=\"text-align: right;\">\n",
       "      <th></th>\n",
       "      <th>customer_unique_id</th>\n",
       "      <th>order_purchase_timestamp</th>\n",
       "      <th>T</th>\n",
       "      <th>E</th>\n",
       "    </tr>\n",
       "  </thead>\n",
       "  <tbody>\n",
       "    <tr>\n",
       "      <th>31</th>\n",
       "      <td>004288347e5e88a27ded2bb23747066c</td>\n",
       "      <td>2018-01-14 07:36:54</td>\n",
       "      <td>25</td>\n",
       "      <td>1</td>\n",
       "    </tr>\n",
       "    <tr>\n",
       "      <th>35</th>\n",
       "      <td>004b45ec5c64187465168251cd1c9c2f</td>\n",
       "      <td>2018-05-26 19:42:48</td>\n",
       "      <td>39</td>\n",
       "      <td>1</td>\n",
       "    </tr>\n",
       "    <tr>\n",
       "      <th>67</th>\n",
       "      <td>00a39521eb40f7012db50455bf083460</td>\n",
       "      <td>2018-06-03 10:12:57</td>\n",
       "      <td>2</td>\n",
       "      <td>1</td>\n",
       "    </tr>\n",
       "    <tr>\n",
       "      <th>87</th>\n",
       "      <td>00cc12a6d8b578b8ebd21ea4e2ae8b27</td>\n",
       "      <td>2017-03-21 19:25:23</td>\n",
       "      <td>1</td>\n",
       "      <td>1</td>\n",
       "    </tr>\n",
       "    <tr>\n",
       "      <th>115</th>\n",
       "      <td>011575986092c30523ecb71ff10cb473</td>\n",
       "      <td>2018-04-18 21:58:08</td>\n",
       "      <td>9</td>\n",
       "      <td>1</td>\n",
       "    </tr>\n",
       "  </tbody>\n",
       "</table>\n",
       "</div>"
      ],
      "text/plain": [
       "                   customer_unique_id order_purchase_timestamp   T  E\n",
       "31   004288347e5e88a27ded2bb23747066c      2018-01-14 07:36:54  25  1\n",
       "35   004b45ec5c64187465168251cd1c9c2f      2018-05-26 19:42:48  39  1\n",
       "67   00a39521eb40f7012db50455bf083460      2018-06-03 10:12:57   2  1\n",
       "87   00cc12a6d8b578b8ebd21ea4e2ae8b27      2017-03-21 19:25:23   1  1\n",
       "115  011575986092c30523ecb71ff10cb473      2018-04-18 21:58:08   9  1"
      ]
     },
     "execution_count": 59,
     "metadata": {},
     "output_type": "execute_result"
    }
   ],
   "source": [
    "df_event_1.head()"
   ]
  },
  {
   "cell_type": "code",
   "execution_count": 60,
   "metadata": {},
   "outputs": [],
   "source": [
    "df_event_0['E'] = 0\n",
    "df_event_0['T'] = ((t_end - df_event_0.order_purchase_timestamp) / np.timedelta64(1, 'W')).apply(np.ceil).astype(int)\n",
    "df_event_0 = df_event_0[['customer_unique_id', 'order_purchase_timestamp','T','E']]"
   ]
  },
  {
   "cell_type": "code",
   "execution_count": 61,
   "metadata": {},
   "outputs": [],
   "source": [
    "# Subsetting data\n",
    "df_event_0 = df_event_0.sample(16000, replace=True)\n",
    "#df_event_0 = df_event_0[:16000]"
   ]
  },
  {
   "cell_type": "markdown",
   "metadata": {},
   "source": [
    "Now that the event and time column has been defined, features for the modelling are going to be selected. \n",
    "Often customers tend to complain about the shipping time for the product they have ordered.\n",
    "This is modelled as a category variabel, if the estimated delivery date is larger or equal than the actual delivered date then 1 else 0."
   ]
  },
  {
   "cell_type": "code",
   "execution_count": 62,
   "metadata": {},
   "outputs": [],
   "source": [
    "# Feature: on time shipping\n",
    "cop['on_time_delivery'] = (cop.order_delivered_customer_date <= cop.order_estimated_delivery_date).astype(int)\n",
    "#df_model['on_time_delivery'].value_counts()"
   ]
  },
  {
   "cell_type": "code",
   "execution_count": 63,
   "metadata": {},
   "outputs": [],
   "source": [
    "# Feature: product price category\n",
    "#cat_prices = cop.groupby(['product_category_name']).mean()['price'].sort_values()\n",
    "#q33, q66 = np.quantile(cat_prices, q=[.33,.66])\n",
    "\n",
    "#cop['product_price_cat'] = 'Low-price'\n",
    "#cop.loc[cop['price']>q33,'product_price_cat'] = 'Mid-price' \n",
    "#cop.loc[cop['price']>q66,'product_price_cat'] = 'High-price' "
   ]
  },
  {
   "cell_type": "markdown",
   "metadata": {},
   "source": [
    "Furthermore, the shipping price can also effect customers on the purchase behavior. High shipping prices could potentially scare customers away. Therefore, Freight_value is also included as a feature.\n",
    "\n",
    "Now with the chosen features, the final dataset is made. "
   ]
  },
  {
   "cell_type": "code",
   "execution_count": 64,
   "metadata": {},
   "outputs": [],
   "source": [
    "# Concatenating data\n",
    "df_event = pd.concat([df_event_1, df_event_0])\n",
    "\n",
    "# Joining features on\n",
    "df_full = df_event.merge(cop, on=['customer_unique_id','order_purchase_timestamp'], how='left')\n",
    "\n",
    "df_model = df_full[['T','E','customer_state','payment_value','review_score','on_time_delivery','freight_value']]\n",
    "# One-hot encoding categorical features\n",
    "df_model = pd.get_dummies(data=df_model, columns=['customer_state'])"
   ]
  },
  {
   "cell_type": "code",
   "execution_count": 65,
   "metadata": {},
   "outputs": [
    {
     "data": {
      "text/html": [
       "<div>\n",
       "<style scoped>\n",
       "    .dataframe tbody tr th:only-of-type {\n",
       "        vertical-align: middle;\n",
       "    }\n",
       "\n",
       "    .dataframe tbody tr th {\n",
       "        vertical-align: top;\n",
       "    }\n",
       "\n",
       "    .dataframe thead th {\n",
       "        text-align: right;\n",
       "    }\n",
       "</style>\n",
       "<table border=\"1\" class=\"dataframe\">\n",
       "  <thead>\n",
       "    <tr style=\"text-align: right;\">\n",
       "      <th></th>\n",
       "      <th>T</th>\n",
       "      <th>E</th>\n",
       "      <th>payment_value</th>\n",
       "      <th>review_score</th>\n",
       "      <th>on_time_delivery</th>\n",
       "      <th>freight_value</th>\n",
       "      <th>customer_state_AC</th>\n",
       "      <th>customer_state_AL</th>\n",
       "      <th>customer_state_AM</th>\n",
       "      <th>customer_state_AP</th>\n",
       "      <th>...</th>\n",
       "      <th>customer_state_PR</th>\n",
       "      <th>customer_state_RJ</th>\n",
       "      <th>customer_state_RN</th>\n",
       "      <th>customer_state_RO</th>\n",
       "      <th>customer_state_RR</th>\n",
       "      <th>customer_state_RS</th>\n",
       "      <th>customer_state_SC</th>\n",
       "      <th>customer_state_SE</th>\n",
       "      <th>customer_state_SP</th>\n",
       "      <th>customer_state_TO</th>\n",
       "    </tr>\n",
       "  </thead>\n",
       "  <tbody>\n",
       "    <tr>\n",
       "      <th>0</th>\n",
       "      <td>25</td>\n",
       "      <td>1</td>\n",
       "      <td>103.28</td>\n",
       "      <td>5</td>\n",
       "      <td>1</td>\n",
       "      <td>15.38</td>\n",
       "      <td>0</td>\n",
       "      <td>0</td>\n",
       "      <td>0</td>\n",
       "      <td>0</td>\n",
       "      <td>...</td>\n",
       "      <td>0</td>\n",
       "      <td>1</td>\n",
       "      <td>0</td>\n",
       "      <td>0</td>\n",
       "      <td>0</td>\n",
       "      <td>0</td>\n",
       "      <td>0</td>\n",
       "      <td>0</td>\n",
       "      <td>0</td>\n",
       "      <td>0</td>\n",
       "    </tr>\n",
       "    <tr>\n",
       "      <th>1</th>\n",
       "      <td>39</td>\n",
       "      <td>1</td>\n",
       "      <td>49.85</td>\n",
       "      <td>5</td>\n",
       "      <td>1</td>\n",
       "      <td>22.85</td>\n",
       "      <td>0</td>\n",
       "      <td>1</td>\n",
       "      <td>0</td>\n",
       "      <td>0</td>\n",
       "      <td>...</td>\n",
       "      <td>0</td>\n",
       "      <td>0</td>\n",
       "      <td>0</td>\n",
       "      <td>0</td>\n",
       "      <td>0</td>\n",
       "      <td>0</td>\n",
       "      <td>0</td>\n",
       "      <td>0</td>\n",
       "      <td>0</td>\n",
       "      <td>0</td>\n",
       "    </tr>\n",
       "    <tr>\n",
       "      <th>2</th>\n",
       "      <td>2</td>\n",
       "      <td>1</td>\n",
       "      <td>26.78</td>\n",
       "      <td>4</td>\n",
       "      <td>1</td>\n",
       "      <td>15.23</td>\n",
       "      <td>0</td>\n",
       "      <td>0</td>\n",
       "      <td>0</td>\n",
       "      <td>0</td>\n",
       "      <td>...</td>\n",
       "      <td>0</td>\n",
       "      <td>0</td>\n",
       "      <td>0</td>\n",
       "      <td>0</td>\n",
       "      <td>0</td>\n",
       "      <td>0</td>\n",
       "      <td>0</td>\n",
       "      <td>0</td>\n",
       "      <td>0</td>\n",
       "      <td>0</td>\n",
       "    </tr>\n",
       "    <tr>\n",
       "      <th>3</th>\n",
       "      <td>1</td>\n",
       "      <td>1</td>\n",
       "      <td>81.78</td>\n",
       "      <td>5</td>\n",
       "      <td>1</td>\n",
       "      <td>11.88</td>\n",
       "      <td>0</td>\n",
       "      <td>0</td>\n",
       "      <td>0</td>\n",
       "      <td>0</td>\n",
       "      <td>...</td>\n",
       "      <td>0</td>\n",
       "      <td>0</td>\n",
       "      <td>0</td>\n",
       "      <td>0</td>\n",
       "      <td>0</td>\n",
       "      <td>0</td>\n",
       "      <td>0</td>\n",
       "      <td>0</td>\n",
       "      <td>1</td>\n",
       "      <td>0</td>\n",
       "    </tr>\n",
       "    <tr>\n",
       "      <th>4</th>\n",
       "      <td>1</td>\n",
       "      <td>1</td>\n",
       "      <td>81.78</td>\n",
       "      <td>3</td>\n",
       "      <td>1</td>\n",
       "      <td>11.88</td>\n",
       "      <td>0</td>\n",
       "      <td>0</td>\n",
       "      <td>0</td>\n",
       "      <td>0</td>\n",
       "      <td>...</td>\n",
       "      <td>0</td>\n",
       "      <td>0</td>\n",
       "      <td>0</td>\n",
       "      <td>0</td>\n",
       "      <td>0</td>\n",
       "      <td>0</td>\n",
       "      <td>0</td>\n",
       "      <td>0</td>\n",
       "      <td>1</td>\n",
       "      <td>0</td>\n",
       "    </tr>\n",
       "  </tbody>\n",
       "</table>\n",
       "<p>5 rows × 33 columns</p>\n",
       "</div>"
      ],
      "text/plain": [
       "    T  E  payment_value  review_score  on_time_delivery  freight_value  \\\n",
       "0  25  1         103.28             5                 1          15.38   \n",
       "1  39  1          49.85             5                 1          22.85   \n",
       "2   2  1          26.78             4                 1          15.23   \n",
       "3   1  1          81.78             5                 1          11.88   \n",
       "4   1  1          81.78             3                 1          11.88   \n",
       "\n",
       "   customer_state_AC  customer_state_AL  customer_state_AM  customer_state_AP  \\\n",
       "0                  0                  0                  0                  0   \n",
       "1                  0                  1                  0                  0   \n",
       "2                  0                  0                  0                  0   \n",
       "3                  0                  0                  0                  0   \n",
       "4                  0                  0                  0                  0   \n",
       "\n",
       "   ...  customer_state_PR  customer_state_RJ  customer_state_RN  \\\n",
       "0  ...                  0                  1                  0   \n",
       "1  ...                  0                  0                  0   \n",
       "2  ...                  0                  0                  0   \n",
       "3  ...                  0                  0                  0   \n",
       "4  ...                  0                  0                  0   \n",
       "\n",
       "   customer_state_RO  customer_state_RR  customer_state_RS  customer_state_SC  \\\n",
       "0                  0                  0                  0                  0   \n",
       "1                  0                  0                  0                  0   \n",
       "2                  0                  0                  0                  0   \n",
       "3                  0                  0                  0                  0   \n",
       "4                  0                  0                  0                  0   \n",
       "\n",
       "   customer_state_SE  customer_state_SP  customer_state_TO  \n",
       "0                  0                  0                  0  \n",
       "1                  0                  0                  0  \n",
       "2                  0                  0                  0  \n",
       "3                  0                  1                  0  \n",
       "4                  0                  1                  0  \n",
       "\n",
       "[5 rows x 33 columns]"
      ]
     },
     "execution_count": 65,
     "metadata": {},
     "output_type": "execute_result"
    }
   ],
   "source": [
    "df_model.head()"
   ]
  },
  {
   "cell_type": "markdown",
   "metadata": {},
   "source": [
    "The distribution of the customers who churned/not-churned are shown below."
   ]
  },
  {
   "cell_type": "code",
   "execution_count": 66,
   "metadata": {
    "scrolled": true
   },
   "outputs": [
    {
     "data": {
      "text/plain": [
       "0    16000\n",
       "1     3841\n",
       "Name: E, dtype: int64"
      ]
     },
     "execution_count": 66,
     "metadata": {},
     "output_type": "execute_result"
    }
   ],
   "source": [
    "df_full.E.value_counts()"
   ]
  },
  {
   "cell_type": "markdown",
   "metadata": {},
   "source": [
    "The data is checked for Null values and and duplicates"
   ]
  },
  {
   "cell_type": "code",
   "execution_count": 67,
   "metadata": {},
   "outputs": [
    {
     "name": "stdout",
     "output_type": "stream",
     "text": [
      "The raw_dataset contains 125 null values.\n",
      "The dataset contains 3741 duplicates.\n"
     ]
    }
   ],
   "source": [
    "N_null = sum(df_model.iloc[:,2:].isnull().sum())\n",
    "N_dupli = sum(df_model.iloc[:,2:].duplicated(keep='first'))\n",
    "print('The raw_dataset contains {} null values.'.format(N_null))\n",
    "print('The dataset contains {} duplicates.'.format(N_dupli))"
   ]
  },
  {
   "cell_type": "markdown",
   "metadata": {},
   "source": [
    "As a final step in the data preparation, the data is standardised by subtracting the mean and dividing with the std."
   ]
  },
  {
   "cell_type": "code",
   "execution_count": 68,
   "metadata": {},
   "outputs": [],
   "source": [
    "mu = df_model.payment_value.mean()\n",
    "sigma = df_model.payment_value.std()\n",
    "df_model.payment_value = (df_model.payment_value - mu)/sigma # standardization of data\n",
    "df_model = df_model.dropna()"
   ]
  },
  {
   "cell_type": "markdown",
   "metadata": {},
   "source": [
    "It is relevant to see the correlation between the chosen features. This can be done through pysurvivals correlation_matrix function."
   ]
  },
  {
   "cell_type": "code",
   "execution_count": 69,
   "metadata": {},
   "outputs": [
    {
     "ename": "ImportError",
     "evalue": "dlopen(//anaconda3/lib/python3.7/site-packages/pysurvival/models/_non_parametric.cpython-37m-darwin.so, 2): Symbol not found: __ZNSt7__cxx1112basic_stringIcSt11char_traitsIcESaIcEE9_M_assignERKS4_\n  Referenced from: //anaconda3/lib/python3.7/site-packages/pysurvival/models/_non_parametric.cpython-37m-darwin.so\n  Expected in: /usr/lib/libstdc++.6.dylib\n in //anaconda3/lib/python3.7/site-packages/pysurvival/models/_non_parametric.cpython-37m-darwin.so",
     "output_type": "error",
     "traceback": [
      "\u001b[0;31m---------------------------------------------------------------------------\u001b[0m",
      "\u001b[0;31mImportError\u001b[0m                               Traceback (most recent call last)",
      "\u001b[0;32m<ipython-input-69-29b797d34f20>\u001b[0m in \u001b[0;36m<module>\u001b[0;34m\u001b[0m\n\u001b[0;32m----> 1\u001b[0;31m \u001b[0;32mfrom\u001b[0m \u001b[0mpysurvival\u001b[0m\u001b[0;34m.\u001b[0m\u001b[0mutils\u001b[0m\u001b[0;34m.\u001b[0m\u001b[0mdisplay\u001b[0m \u001b[0;32mimport\u001b[0m \u001b[0mcorrelation_matrix\u001b[0m\u001b[0;34m\u001b[0m\u001b[0;34m\u001b[0m\u001b[0m\n\u001b[0m\u001b[1;32m      2\u001b[0m \u001b[0mcorrelation_matrix\u001b[0m\u001b[0;34m(\u001b[0m\u001b[0mdf_model\u001b[0m\u001b[0;34m.\u001b[0m\u001b[0miloc\u001b[0m\u001b[0;34m[\u001b[0m\u001b[0;34m:\u001b[0m\u001b[0;34m,\u001b[0m\u001b[0;36m2\u001b[0m\u001b[0;34m:\u001b[0m\u001b[0;34m]\u001b[0m\u001b[0;34m,\u001b[0m \u001b[0mfigure_size\u001b[0m\u001b[0;34m=\u001b[0m\u001b[0;34m(\u001b[0m\u001b[0;36m30\u001b[0m\u001b[0;34m,\u001b[0m \u001b[0;36m15\u001b[0m\u001b[0;34m)\u001b[0m\u001b[0;34m,\u001b[0m \u001b[0mtext_fontsize\u001b[0m\u001b[0;34m=\u001b[0m\u001b[0;36m10\u001b[0m\u001b[0;34m)\u001b[0m\u001b[0;34m\u001b[0m\u001b[0;34m\u001b[0m\u001b[0m\n",
      "\u001b[0;32m//anaconda3/lib/python3.7/site-packages/pysurvival/utils/display.py\u001b[0m in \u001b[0;36m<module>\u001b[0;34m\u001b[0m\n\u001b[1;32m      6\u001b[0m \u001b[0;32mfrom\u001b[0m \u001b[0mmatplotlib\u001b[0m\u001b[0;34m.\u001b[0m\u001b[0mpatches\u001b[0m \u001b[0;32mimport\u001b[0m \u001b[0mRectangle\u001b[0m\u001b[0;34m\u001b[0m\u001b[0;34m\u001b[0m\u001b[0m\n\u001b[1;32m      7\u001b[0m \u001b[0;32mfrom\u001b[0m \u001b[0mpysurvival\u001b[0m \u001b[0;32mimport\u001b[0m \u001b[0mutils\u001b[0m\u001b[0;34m\u001b[0m\u001b[0;34m\u001b[0m\u001b[0m\n\u001b[0;32m----> 8\u001b[0;31m \u001b[0;32mfrom\u001b[0m \u001b[0mpysurvival\u001b[0m\u001b[0;34m.\u001b[0m\u001b[0mutils\u001b[0m \u001b[0;32mimport\u001b[0m \u001b[0mmetrics\u001b[0m\u001b[0;34m\u001b[0m\u001b[0;34m\u001b[0m\u001b[0m\n\u001b[0m\u001b[1;32m      9\u001b[0m \u001b[0;32mfrom\u001b[0m \u001b[0mpysurvival\u001b[0m\u001b[0;34m.\u001b[0m\u001b[0mutils\u001b[0m\u001b[0;34m.\u001b[0m\u001b[0mmetrics\u001b[0m \u001b[0;32mimport\u001b[0m \u001b[0mbrier_score\u001b[0m\u001b[0;34m\u001b[0m\u001b[0;34m\u001b[0m\u001b[0m\n\u001b[1;32m     10\u001b[0m \u001b[0;32mfrom\u001b[0m \u001b[0msklearn\u001b[0m\u001b[0;34m.\u001b[0m\u001b[0mmetrics\u001b[0m \u001b[0;32mimport\u001b[0m \u001b[0mmean_absolute_error\u001b[0m\u001b[0;34m,\u001b[0m \u001b[0mmean_squared_error\u001b[0m\u001b[0;34m\u001b[0m\u001b[0;34m\u001b[0m\u001b[0m\n",
      "\u001b[0;32m//anaconda3/lib/python3.7/site-packages/pysurvival/utils/metrics.py\u001b[0m in \u001b[0;36m<module>\u001b[0;34m\u001b[0m\n\u001b[1;32m      5\u001b[0m \u001b[0;32mfrom\u001b[0m \u001b[0msklearn\u001b[0m\u001b[0;34m.\u001b[0m\u001b[0mmetrics\u001b[0m \u001b[0;32mimport\u001b[0m \u001b[0mmean_absolute_error\u001b[0m\u001b[0;34m,\u001b[0m \u001b[0mmean_squared_error\u001b[0m\u001b[0;34m\u001b[0m\u001b[0;34m\u001b[0m\u001b[0m\n\u001b[1;32m      6\u001b[0m \u001b[0;32mfrom\u001b[0m \u001b[0msklearn\u001b[0m\u001b[0;34m.\u001b[0m\u001b[0mmetrics\u001b[0m \u001b[0;32mimport\u001b[0m \u001b[0mmedian_absolute_error\u001b[0m\u001b[0;34m\u001b[0m\u001b[0;34m\u001b[0m\u001b[0m\n\u001b[0;32m----> 7\u001b[0;31m \u001b[0;32mfrom\u001b[0m \u001b[0mpysurvival\u001b[0m\u001b[0;34m.\u001b[0m\u001b[0mmodels\u001b[0m\u001b[0;34m.\u001b[0m\u001b[0mnon_parametric\u001b[0m \u001b[0;32mimport\u001b[0m \u001b[0mKaplanMeierModel\u001b[0m\u001b[0;34m\u001b[0m\u001b[0;34m\u001b[0m\u001b[0m\n\u001b[0m\u001b[1;32m      8\u001b[0m \u001b[0;32mfrom\u001b[0m \u001b[0mpysurvival\u001b[0m\u001b[0;34m.\u001b[0m\u001b[0mutils\u001b[0m\u001b[0;34m.\u001b[0m\u001b[0m_metrics\u001b[0m \u001b[0;32mimport\u001b[0m \u001b[0m_concordance_index\u001b[0m\u001b[0;34m\u001b[0m\u001b[0;34m\u001b[0m\u001b[0m\n\u001b[1;32m      9\u001b[0m \u001b[0;32mfrom\u001b[0m \u001b[0mpysurvival\u001b[0m\u001b[0;34m.\u001b[0m\u001b[0mutils\u001b[0m\u001b[0;34m.\u001b[0m\u001b[0m_metrics\u001b[0m \u001b[0;32mimport\u001b[0m \u001b[0m_brier_score\u001b[0m\u001b[0;34m,\u001b[0m \u001b[0m_timeROC\u001b[0m\u001b[0;34m\u001b[0m\u001b[0;34m\u001b[0m\u001b[0m\n",
      "\u001b[0;32m//anaconda3/lib/python3.7/site-packages/pysurvival/models/non_parametric.py\u001b[0m in \u001b[0;36m<module>\u001b[0;34m\u001b[0m\n\u001b[1;32m      6\u001b[0m \u001b[0;32mfrom\u001b[0m \u001b[0mpysurvival\u001b[0m \u001b[0;32mimport\u001b[0m \u001b[0mutils\u001b[0m\u001b[0;34m\u001b[0m\u001b[0;34m\u001b[0m\u001b[0m\n\u001b[1;32m      7\u001b[0m \u001b[0;32mfrom\u001b[0m \u001b[0mpysurvival\u001b[0m\u001b[0;34m.\u001b[0m\u001b[0mmodels\u001b[0m \u001b[0;32mimport\u001b[0m \u001b[0mBaseModel\u001b[0m\u001b[0;34m\u001b[0m\u001b[0;34m\u001b[0m\u001b[0m\n\u001b[0;32m----> 8\u001b[0;31m \u001b[0;32mfrom\u001b[0m \u001b[0mpysurvival\u001b[0m\u001b[0;34m.\u001b[0m\u001b[0mmodels\u001b[0m\u001b[0;34m.\u001b[0m\u001b[0m_non_parametric\u001b[0m \u001b[0;32mimport\u001b[0m \u001b[0m_KaplanMeierModel\u001b[0m\u001b[0;34m\u001b[0m\u001b[0;34m\u001b[0m\u001b[0m\n\u001b[0m\u001b[1;32m      9\u001b[0m \u001b[0;32mfrom\u001b[0m \u001b[0mpysurvival\u001b[0m\u001b[0;34m.\u001b[0m\u001b[0mmodels\u001b[0m\u001b[0;34m.\u001b[0m\u001b[0m_non_parametric\u001b[0m \u001b[0;32mimport\u001b[0m \u001b[0m_KernelModel\u001b[0m\u001b[0;34m\u001b[0m\u001b[0;34m\u001b[0m\u001b[0m\n\u001b[1;32m     10\u001b[0m \u001b[0;34m\u001b[0m\u001b[0m\n",
      "\u001b[0;31mImportError\u001b[0m: dlopen(//anaconda3/lib/python3.7/site-packages/pysurvival/models/_non_parametric.cpython-37m-darwin.so, 2): Symbol not found: __ZNSt7__cxx1112basic_stringIcSt11char_traitsIcESaIcEE9_M_assignERKS4_\n  Referenced from: //anaconda3/lib/python3.7/site-packages/pysurvival/models/_non_parametric.cpython-37m-darwin.so\n  Expected in: /usr/lib/libstdc++.6.dylib\n in //anaconda3/lib/python3.7/site-packages/pysurvival/models/_non_parametric.cpython-37m-darwin.so"
     ]
    }
   ],
   "source": [
    "from pysurvival.utils.display import correlation_matrix\n",
    "correlation_matrix(df_model.iloc[:,2:], figure_size=(30, 15), text_fontsize=10)"
   ]
  },
  {
   "cell_type": "markdown",
   "metadata": {},
   "source": [
    "## Modelling\n",
    "\n",
    "The data is splitted into a train and test set."
   ]
  },
  {
   "cell_type": "code",
   "execution_count": 70,
   "metadata": {},
   "outputs": [],
   "source": [
    "from sklearn.model_selection import train_test_split\n",
    "time_column = 'T'\n",
    "event_column = 'E'\n",
    "\n",
    "N = df_model.shape[0]\n",
    "\n",
    "index_train, index_test = train_test_split( range(N), test_size = 0.35)\n",
    "data_train = df_model.loc[index_train].reset_index( drop = True )\n",
    "data_test  = df_model.loc[index_test].reset_index( drop = True )\n",
    "\n",
    "# Creating the X, T and E inputs\n",
    "X_train, X_test = data_train.iloc[:,2:], data_test.iloc[:,2:]\n",
    "T_train, T_test = data_train[time_column], data_test[time_column]\n",
    "E_train, E_test = data_train[event_column], data_test[event_column]"
   ]
  },
  {
   "cell_type": "code",
   "execution_count": 71,
   "metadata": {},
   "outputs": [
    {
     "ename": "ImportError",
     "evalue": "dlopen(//anaconda3/lib/python3.7/site-packages/pysurvival/models/_non_parametric.cpython-37m-darwin.so, 2): Symbol not found: __ZNSt7__cxx1112basic_stringIcSt11char_traitsIcESaIcEE9_M_assignERKS4_\n  Referenced from: //anaconda3/lib/python3.7/site-packages/pysurvival/models/_non_parametric.cpython-37m-darwin.so\n  Expected in: /usr/lib/libstdc++.6.dylib\n in //anaconda3/lib/python3.7/site-packages/pysurvival/models/_non_parametric.cpython-37m-darwin.so",
     "output_type": "error",
     "traceback": [
      "\u001b[0;31m---------------------------------------------------------------------------\u001b[0m",
      "\u001b[0;31mImportError\u001b[0m                               Traceback (most recent call last)",
      "\u001b[0;32m<ipython-input-71-28ab0a0b619a>\u001b[0m in \u001b[0;36m<module>\u001b[0;34m\u001b[0m\n\u001b[0;32m----> 1\u001b[0;31m \u001b[0;32mfrom\u001b[0m \u001b[0mpysurvival\u001b[0m\u001b[0;34m.\u001b[0m\u001b[0mutils\u001b[0m\u001b[0;34m.\u001b[0m\u001b[0mdisplay\u001b[0m \u001b[0;32mimport\u001b[0m \u001b[0mintegrated_brier_score\u001b[0m\u001b[0;34m\u001b[0m\u001b[0;34m\u001b[0m\u001b[0m\n\u001b[0m\u001b[1;32m      2\u001b[0m \u001b[0;32mfrom\u001b[0m \u001b[0mpysurvival\u001b[0m\u001b[0;34m.\u001b[0m\u001b[0mutils\u001b[0m\u001b[0;34m.\u001b[0m\u001b[0mmetrics\u001b[0m \u001b[0;32mimport\u001b[0m \u001b[0mconcordance_index\u001b[0m\u001b[0;34m\u001b[0m\u001b[0;34m\u001b[0m\u001b[0m\n",
      "\u001b[0;32m//anaconda3/lib/python3.7/site-packages/pysurvival/utils/display.py\u001b[0m in \u001b[0;36m<module>\u001b[0;34m\u001b[0m\n\u001b[1;32m      6\u001b[0m \u001b[0;32mfrom\u001b[0m \u001b[0mmatplotlib\u001b[0m\u001b[0;34m.\u001b[0m\u001b[0mpatches\u001b[0m \u001b[0;32mimport\u001b[0m \u001b[0mRectangle\u001b[0m\u001b[0;34m\u001b[0m\u001b[0;34m\u001b[0m\u001b[0m\n\u001b[1;32m      7\u001b[0m \u001b[0;32mfrom\u001b[0m \u001b[0mpysurvival\u001b[0m \u001b[0;32mimport\u001b[0m \u001b[0mutils\u001b[0m\u001b[0;34m\u001b[0m\u001b[0;34m\u001b[0m\u001b[0m\n\u001b[0;32m----> 8\u001b[0;31m \u001b[0;32mfrom\u001b[0m \u001b[0mpysurvival\u001b[0m\u001b[0;34m.\u001b[0m\u001b[0mutils\u001b[0m \u001b[0;32mimport\u001b[0m \u001b[0mmetrics\u001b[0m\u001b[0;34m\u001b[0m\u001b[0;34m\u001b[0m\u001b[0m\n\u001b[0m\u001b[1;32m      9\u001b[0m \u001b[0;32mfrom\u001b[0m \u001b[0mpysurvival\u001b[0m\u001b[0;34m.\u001b[0m\u001b[0mutils\u001b[0m\u001b[0;34m.\u001b[0m\u001b[0mmetrics\u001b[0m \u001b[0;32mimport\u001b[0m \u001b[0mbrier_score\u001b[0m\u001b[0;34m\u001b[0m\u001b[0;34m\u001b[0m\u001b[0m\n\u001b[1;32m     10\u001b[0m \u001b[0;32mfrom\u001b[0m \u001b[0msklearn\u001b[0m\u001b[0;34m.\u001b[0m\u001b[0mmetrics\u001b[0m \u001b[0;32mimport\u001b[0m \u001b[0mmean_absolute_error\u001b[0m\u001b[0;34m,\u001b[0m \u001b[0mmean_squared_error\u001b[0m\u001b[0;34m\u001b[0m\u001b[0;34m\u001b[0m\u001b[0m\n",
      "\u001b[0;32m//anaconda3/lib/python3.7/site-packages/pysurvival/utils/metrics.py\u001b[0m in \u001b[0;36m<module>\u001b[0;34m\u001b[0m\n\u001b[1;32m      5\u001b[0m \u001b[0;32mfrom\u001b[0m \u001b[0msklearn\u001b[0m\u001b[0;34m.\u001b[0m\u001b[0mmetrics\u001b[0m \u001b[0;32mimport\u001b[0m \u001b[0mmean_absolute_error\u001b[0m\u001b[0;34m,\u001b[0m \u001b[0mmean_squared_error\u001b[0m\u001b[0;34m\u001b[0m\u001b[0;34m\u001b[0m\u001b[0m\n\u001b[1;32m      6\u001b[0m \u001b[0;32mfrom\u001b[0m \u001b[0msklearn\u001b[0m\u001b[0;34m.\u001b[0m\u001b[0mmetrics\u001b[0m \u001b[0;32mimport\u001b[0m \u001b[0mmedian_absolute_error\u001b[0m\u001b[0;34m\u001b[0m\u001b[0;34m\u001b[0m\u001b[0m\n\u001b[0;32m----> 7\u001b[0;31m \u001b[0;32mfrom\u001b[0m \u001b[0mpysurvival\u001b[0m\u001b[0;34m.\u001b[0m\u001b[0mmodels\u001b[0m\u001b[0;34m.\u001b[0m\u001b[0mnon_parametric\u001b[0m \u001b[0;32mimport\u001b[0m \u001b[0mKaplanMeierModel\u001b[0m\u001b[0;34m\u001b[0m\u001b[0;34m\u001b[0m\u001b[0m\n\u001b[0m\u001b[1;32m      8\u001b[0m \u001b[0;32mfrom\u001b[0m \u001b[0mpysurvival\u001b[0m\u001b[0;34m.\u001b[0m\u001b[0mutils\u001b[0m\u001b[0;34m.\u001b[0m\u001b[0m_metrics\u001b[0m \u001b[0;32mimport\u001b[0m \u001b[0m_concordance_index\u001b[0m\u001b[0;34m\u001b[0m\u001b[0;34m\u001b[0m\u001b[0m\n\u001b[1;32m      9\u001b[0m \u001b[0;32mfrom\u001b[0m \u001b[0mpysurvival\u001b[0m\u001b[0;34m.\u001b[0m\u001b[0mutils\u001b[0m\u001b[0;34m.\u001b[0m\u001b[0m_metrics\u001b[0m \u001b[0;32mimport\u001b[0m \u001b[0m_brier_score\u001b[0m\u001b[0;34m,\u001b[0m \u001b[0m_timeROC\u001b[0m\u001b[0;34m\u001b[0m\u001b[0;34m\u001b[0m\u001b[0m\n",
      "\u001b[0;32m//anaconda3/lib/python3.7/site-packages/pysurvival/models/non_parametric.py\u001b[0m in \u001b[0;36m<module>\u001b[0;34m\u001b[0m\n\u001b[1;32m      6\u001b[0m \u001b[0;32mfrom\u001b[0m \u001b[0mpysurvival\u001b[0m \u001b[0;32mimport\u001b[0m \u001b[0mutils\u001b[0m\u001b[0;34m\u001b[0m\u001b[0;34m\u001b[0m\u001b[0m\n\u001b[1;32m      7\u001b[0m \u001b[0;32mfrom\u001b[0m \u001b[0mpysurvival\u001b[0m\u001b[0;34m.\u001b[0m\u001b[0mmodels\u001b[0m \u001b[0;32mimport\u001b[0m \u001b[0mBaseModel\u001b[0m\u001b[0;34m\u001b[0m\u001b[0;34m\u001b[0m\u001b[0m\n\u001b[0;32m----> 8\u001b[0;31m \u001b[0;32mfrom\u001b[0m \u001b[0mpysurvival\u001b[0m\u001b[0;34m.\u001b[0m\u001b[0mmodels\u001b[0m\u001b[0;34m.\u001b[0m\u001b[0m_non_parametric\u001b[0m \u001b[0;32mimport\u001b[0m \u001b[0m_KaplanMeierModel\u001b[0m\u001b[0;34m\u001b[0m\u001b[0;34m\u001b[0m\u001b[0m\n\u001b[0m\u001b[1;32m      9\u001b[0m \u001b[0;32mfrom\u001b[0m \u001b[0mpysurvival\u001b[0m\u001b[0;34m.\u001b[0m\u001b[0mmodels\u001b[0m\u001b[0;34m.\u001b[0m\u001b[0m_non_parametric\u001b[0m \u001b[0;32mimport\u001b[0m \u001b[0m_KernelModel\u001b[0m\u001b[0;34m\u001b[0m\u001b[0;34m\u001b[0m\u001b[0m\n\u001b[1;32m     10\u001b[0m \u001b[0;34m\u001b[0m\u001b[0m\n",
      "\u001b[0;31mImportError\u001b[0m: dlopen(//anaconda3/lib/python3.7/site-packages/pysurvival/models/_non_parametric.cpython-37m-darwin.so, 2): Symbol not found: __ZNSt7__cxx1112basic_stringIcSt11char_traitsIcESaIcEE9_M_assignERKS4_\n  Referenced from: //anaconda3/lib/python3.7/site-packages/pysurvival/models/_non_parametric.cpython-37m-darwin.so\n  Expected in: /usr/lib/libstdc++.6.dylib\n in //anaconda3/lib/python3.7/site-packages/pysurvival/models/_non_parametric.cpython-37m-darwin.so"
     ]
    }
   ],
   "source": [
    "from pysurvival.utils.display import integrated_brier_score\n",
    "from pysurvival.utils.metrics import concordance_index"
   ]
  },
  {
   "cell_type": "markdown",
   "metadata": {},
   "source": [
    "A Conditional survival tree model is fitted to the data. The model is an alternative survival model which is built on the machine learning algorithm, random forest. \n",
    "\n",
    "The number of trees could have been tuned using grid search. This have not been done in this notebook, however different values where tested briefly. "
   ]
  },
  {
   "cell_type": "code",
   "execution_count": 41,
   "metadata": {},
   "outputs": [
    {
     "data": {
      "text/plain": [
       "ExtraSurvivalTreesModel"
      ]
     },
     "execution_count": 41,
     "metadata": {},
     "output_type": "execute_result"
    }
   ],
   "source": [
    "from pysurvival.models.survival_forest import ExtraSurvivalTreesModel\n",
    "xst = ExtraSurvivalTreesModel(num_trees=20) \n",
    "xst.fit(X_train, T_train, E_train,\n",
    "        max_features='sqrt',\n",
    "        max_depth=5,\n",
    "        min_node_size=20,\n",
    "        num_random_splits=20)"
   ]
  },
  {
   "cell_type": "markdown",
   "metadata": {},
   "source": [
    "To assess the performance of the model, the C-index can be used. This represents a global assessment of the model descrimination. A low C-value indicates that the model is does not provide a reliable ranking of the survival times."
   ]
  },
  {
   "cell_type": "code",
   "execution_count": 42,
   "metadata": {},
   "outputs": [
    {
     "name": "stdout",
     "output_type": "stream",
     "text": [
      "Model name: ExtraSurvivalTreesModel\n",
      "C-index: 0.611\n",
      "C-index: 0.545\n"
     ]
    }
   ],
   "source": [
    "print('Model name: {}'.format(xst.name))\n",
    "# Print C-index\n",
    "print('C-index: {:.3f}'.format(concordance_index(xst, X_train, T_train, E_train)))\n",
    "print('C-index: {:.3f}'.format(concordance_index(xst, X_test, T_test, E_test)))"
   ]
  },
  {
   "cell_type": "markdown",
   "metadata": {},
   "source": [
    "The performance of the model is quite bad since the C-index is close to 0.5. This means that the model has no ability to discriminate between the subjects. "
   ]
  },
  {
   "cell_type": "code",
   "execution_count": 43,
   "metadata": {},
   "outputs": [
    {
     "data": {
      "image/png": "[encoded data removed]",
      "text/plain": [
       "<Figure size 1152x432 with 1 Axes>"
      ]
     },
     "metadata": {
      "needs_background": "light"
     },
     "output_type": "display_data"
    }
   ],
   "source": [
    "from pysurvival.utils.display import compare_to_actual\n",
    "results = compare_to_actual(xst, X_test, T_test, E_test,\n",
    "                            is_at_risk=False,\n",
    "                            figure_size=(16, 6),\n",
    "                            metrics=['rmse', 'mean', 'median'])"
   ]
  },
  {
   "cell_type": "code",
   "execution_count": 44,
   "metadata": {},
   "outputs": [
    {
     "data": {
      "image/png": "[encoded data removed]",
      "text/plain": [
       "<Figure size 1152x432 with 1 Axes>"
      ]
     },
     "metadata": {
      "needs_background": "light"
     },
     "output_type": "display_data"
    }
   ],
   "source": [
    "results = compare_to_actual(xst, X_test, T_test, E_test,\n",
    "                            is_at_risk=True,\n",
    "                            figure_size=(16, 6),\n",
    "                            metrics=['rmse', 'mean', 'median'])"
   ]
  },
  {
   "cell_type": "code",
   "execution_count": 45,
   "metadata": {},
   "outputs": [
    {
     "data": {
      "image/png": "[encoded data removed]",
      "text/plain": [
       "<Figure size 1080x360 with 1 Axes>"
      ]
     },
     "metadata": {
      "needs_background": "light"
     },
     "output_type": "display_data"
    },
    {
     "name": "stdout",
     "output_type": "stream",
     "text": [
      "IBS: 0.085\n"
     ]
    },
    {
     "data": {
      "image/png": "[encoded data removed]",
      "text/plain": [
       "<Figure size 1080x360 with 1 Axes>"
      ]
     },
     "metadata": {
      "needs_background": "light"
     },
     "output_type": "display_data"
    },
    {
     "name": "stdout",
     "output_type": "stream",
     "text": [
      "IBS: 0.086\n"
     ]
    }
   ],
   "source": [
    "# Print IBS\n",
    "print('IBS: {:.3f}'.format(integrated_brier_score(xst, X_train, T_train, E_train, t_max=12, figure_size=(15, 5))))\n",
    "print('IBS: {:.3f}'.format(integrated_brier_score(xst, X_test, T_test, E_test, t_max=12, figure_size=(15, 5))))"
   ]
  },
  {
   "cell_type": "code",
   "execution_count": 46,
   "metadata": {},
   "outputs": [
    {
     "data": {
      "text/html": [
       "<div>\n",
       "<style scoped>\n",
       "    .dataframe tbody tr th:only-of-type {\n",
       "        vertical-align: middle;\n",
       "    }\n",
       "\n",
       "    .dataframe tbody tr th {\n",
       "        vertical-align: top;\n",
       "    }\n",
       "\n",
       "    .dataframe thead th {\n",
       "        text-align: right;\n",
       "    }\n",
       "</style>\n",
       "<table border=\"1\" class=\"dataframe\">\n",
       "  <thead>\n",
       "    <tr style=\"text-align: right;\">\n",
       "      <th></th>\n",
       "      <th>feature</th>\n",
       "      <th>importance</th>\n",
       "      <th>pct_importance</th>\n",
       "    </tr>\n",
       "  </thead>\n",
       "  <tbody>\n",
       "    <tr>\n",
       "      <th>0</th>\n",
       "      <td>product_price_cat_Low-price</td>\n",
       "      <td>4.134212</td>\n",
       "      <td>0.112104</td>\n",
       "    </tr>\n",
       "    <tr>\n",
       "      <th>1</th>\n",
       "      <td>on_time_delivery</td>\n",
       "      <td>3.959445</td>\n",
       "      <td>0.107365</td>\n",
       "    </tr>\n",
       "    <tr>\n",
       "      <th>2</th>\n",
       "      <td>product_price_cat_High-price</td>\n",
       "      <td>3.868294</td>\n",
       "      <td>0.104893</td>\n",
       "    </tr>\n",
       "    <tr>\n",
       "      <th>3</th>\n",
       "      <td>customer_state_RS</td>\n",
       "      <td>3.259769</td>\n",
       "      <td>0.088393</td>\n",
       "    </tr>\n",
       "    <tr>\n",
       "      <th>4</th>\n",
       "      <td>review_score</td>\n",
       "      <td>2.997866</td>\n",
       "      <td>0.081291</td>\n",
       "    </tr>\n",
       "    <tr>\n",
       "      <th>5</th>\n",
       "      <td>customer_state_CE</td>\n",
       "      <td>2.932722</td>\n",
       "      <td>0.079524</td>\n",
       "    </tr>\n",
       "    <tr>\n",
       "      <th>6</th>\n",
       "      <td>customer_state_PE</td>\n",
       "      <td>2.238129</td>\n",
       "      <td>0.060690</td>\n",
       "    </tr>\n",
       "    <tr>\n",
       "      <th>7</th>\n",
       "      <td>product_price_cat_Mid-price</td>\n",
       "      <td>1.960016</td>\n",
       "      <td>0.053148</td>\n",
       "    </tr>\n",
       "    <tr>\n",
       "      <th>8</th>\n",
       "      <td>payment_value</td>\n",
       "      <td>1.861484</td>\n",
       "      <td>0.050476</td>\n",
       "    </tr>\n",
       "    <tr>\n",
       "      <th>9</th>\n",
       "      <td>customer_state_GO</td>\n",
       "      <td>1.752983</td>\n",
       "      <td>0.047534</td>\n",
       "    </tr>\n",
       "    <tr>\n",
       "      <th>10</th>\n",
       "      <td>customer_state_SP</td>\n",
       "      <td>1.650800</td>\n",
       "      <td>0.044763</td>\n",
       "    </tr>\n",
       "    <tr>\n",
       "      <th>11</th>\n",
       "      <td>customer_state_PA</td>\n",
       "      <td>1.574569</td>\n",
       "      <td>0.042696</td>\n",
       "    </tr>\n",
       "    <tr>\n",
       "      <th>12</th>\n",
       "      <td>customer_state_MT</td>\n",
       "      <td>1.444782</td>\n",
       "      <td>0.039177</td>\n",
       "    </tr>\n",
       "    <tr>\n",
       "      <th>13</th>\n",
       "      <td>customer_state_BA</td>\n",
       "      <td>1.055867</td>\n",
       "      <td>0.028631</td>\n",
       "    </tr>\n",
       "    <tr>\n",
       "      <th>14</th>\n",
       "      <td>customer_state_RO</td>\n",
       "      <td>1.025978</td>\n",
       "      <td>0.027821</td>\n",
       "    </tr>\n",
       "    <tr>\n",
       "      <th>15</th>\n",
       "      <td>customer_state_DF</td>\n",
       "      <td>0.818223</td>\n",
       "      <td>0.022187</td>\n",
       "    </tr>\n",
       "    <tr>\n",
       "      <th>16</th>\n",
       "      <td>customer_state_PR</td>\n",
       "      <td>0.245621</td>\n",
       "      <td>0.006660</td>\n",
       "    </tr>\n",
       "    <tr>\n",
       "      <th>17</th>\n",
       "      <td>customer_state_RJ</td>\n",
       "      <td>0.097560</td>\n",
       "      <td>0.002645</td>\n",
       "    </tr>\n",
       "    <tr>\n",
       "      <th>18</th>\n",
       "      <td>customer_state_AM</td>\n",
       "      <td>0.000000</td>\n",
       "      <td>0.000000</td>\n",
       "    </tr>\n",
       "    <tr>\n",
       "      <th>19</th>\n",
       "      <td>customer_state_AC</td>\n",
       "      <td>0.000000</td>\n",
       "      <td>0.000000</td>\n",
       "    </tr>\n",
       "  </tbody>\n",
       "</table>\n",
       "</div>"
      ],
      "text/plain": [
       "                         feature  importance  pct_importance\n",
       "0    product_price_cat_Low-price    4.134212        0.112104\n",
       "1               on_time_delivery    3.959445        0.107365\n",
       "2   product_price_cat_High-price    3.868294        0.104893\n",
       "3              customer_state_RS    3.259769        0.088393\n",
       "4                   review_score    2.997866        0.081291\n",
       "5              customer_state_CE    2.932722        0.079524\n",
       "6              customer_state_PE    2.238129        0.060690\n",
       "7    product_price_cat_Mid-price    1.960016        0.053148\n",
       "8                  payment_value    1.861484        0.050476\n",
       "9              customer_state_GO    1.752983        0.047534\n",
       "10             customer_state_SP    1.650800        0.044763\n",
       "11             customer_state_PA    1.574569        0.042696\n",
       "12             customer_state_MT    1.444782        0.039177\n",
       "13             customer_state_BA    1.055867        0.028631\n",
       "14             customer_state_RO    1.025978        0.027821\n",
       "15             customer_state_DF    0.818223        0.022187\n",
       "16             customer_state_PR    0.245621        0.006660\n",
       "17             customer_state_RJ    0.097560        0.002645\n",
       "18             customer_state_AM    0.000000        0.000000\n",
       "19             customer_state_AC    0.000000        0.000000"
      ]
     },
     "execution_count": 46,
     "metadata": {},
     "output_type": "execute_result"
    }
   ],
   "source": [
    "# Computing variables importance\n",
    "xst.variable_importance_table.head(20)"
   ]
  },
  {
   "cell_type": "code",
   "execution_count": 47,
   "metadata": {},
   "outputs": [],
   "source": [
    "from pysurvival.utils.display import create_risk_groups"
   ]
  },
  {
   "cell_type": "code",
   "execution_count": 48,
   "metadata": {},
   "outputs": [
    {
     "ename": "KeyError",
     "evalue": "14",
     "output_type": "error",
     "traceback": [
      "\u001b[0;31m---------------------------------------------------------------------------\u001b[0m",
      "\u001b[0;31mKeyError\u001b[0m                                  Traceback (most recent call last)",
      "\u001b[0;32m<ipython-input-48-f9bf81a66a43>\u001b[0m in \u001b[0;36m<module>\u001b[0;34m\u001b[0m\n\u001b[1;32m      6\u001b[0m                                  \u001b[0mlow\u001b[0m\u001b[0;34m=\u001b[0m\u001b[0;34m{\u001b[0m\u001b[0;34m'lower_bound'\u001b[0m\u001b[0;34m:\u001b[0m \u001b[0;36m0.\u001b[0m\u001b[0;34m,\u001b[0m \u001b[0;34m'upper_bound'\u001b[0m\u001b[0;34m:\u001b[0m \u001b[0;36m1.65\u001b[0m\u001b[0;34m,\u001b[0m \u001b[0;34m'color'\u001b[0m\u001b[0;34m:\u001b[0m \u001b[0;34m'red'\u001b[0m\u001b[0;34m}\u001b[0m\u001b[0;34m,\u001b[0m\u001b[0;34m\u001b[0m\u001b[0;34m\u001b[0m\u001b[0m\n\u001b[1;32m      7\u001b[0m                                  \u001b[0mmedium\u001b[0m\u001b[0;34m=\u001b[0m\u001b[0;34m{\u001b[0m\u001b[0;34m'lower_bound'\u001b[0m\u001b[0;34m:\u001b[0m \u001b[0;36m1.65\u001b[0m\u001b[0;34m,\u001b[0m \u001b[0;34m'upper_bound'\u001b[0m\u001b[0;34m:\u001b[0m \u001b[0;36m2.2\u001b[0m\u001b[0;34m,\u001b[0m \u001b[0;34m'color'\u001b[0m\u001b[0;34m:\u001b[0m \u001b[0;34m'green'\u001b[0m\u001b[0;34m}\u001b[0m\u001b[0;34m,\u001b[0m\u001b[0;34m\u001b[0m\u001b[0;34m\u001b[0m\u001b[0m\n\u001b[0;32m----> 8\u001b[0;31m                                  high={'lower_bound': 2.2, 'upper_bound': 3., 'color': 'blue'})\n\u001b[0m",
      "\u001b[0;32m/anaconda3/lib/python3.7/site-packages/pysurvival/utils/display.py\u001b[0m in \u001b[0;36mcreate_risk_groups\u001b[0;34m(model, X, use_log, num_bins, figure_size, **kwargs)\u001b[0m\n\u001b[1;32m    544\u001b[0m \u001b[0;34m\u001b[0m\u001b[0m\n\u001b[1;32m    545\u001b[0m             \u001b[0;31m# Extracting the right group_name\u001b[0m\u001b[0;34m\u001b[0m\u001b[0;34m\u001b[0m\u001b[0;34m\u001b[0m\u001b[0m\n\u001b[0;32m--> 546\u001b[0;31m             \u001b[0mgroup_name\u001b[0m \u001b[0;34m=\u001b[0m \u001b[0mbin_index\u001b[0m\u001b[0;34m[\u001b[0m\u001b[0mr\u001b[0m\u001b[0;34m]\u001b[0m\u001b[0;34m\u001b[0m\u001b[0;34m\u001b[0m\u001b[0m\n\u001b[0m\u001b[1;32m    547\u001b[0m             \u001b[0mindexes\u001b[0m\u001b[0;34m[\u001b[0m\u001b[0mgroup_name\u001b[0m\u001b[0;34m]\u001b[0m\u001b[0;34m.\u001b[0m\u001b[0mappend\u001b[0m\u001b[0;34m(\u001b[0m\u001b[0mi\u001b[0m\u001b[0;34m)\u001b[0m\u001b[0;34m\u001b[0m\u001b[0;34m\u001b[0m\u001b[0m\n\u001b[1;32m    548\u001b[0m \u001b[0;34m\u001b[0m\u001b[0m\n",
      "\u001b[0;31mKeyError\u001b[0m: 14"
     ]
    },
    {
     "data": {
      "image/png": "[encoded data removed]",
      "text/plain": [
       "<Figure size 1440x288 with 2 Axes>"
      ]
     },
     "metadata": {
      "needs_background": "light"
     },
     "output_type": "display_data"
    }
   ],
   "source": [
    "# Create risk groups\n",
    "risk_groups = create_risk_groups(model=xst, X=X_test,\n",
    "                                 use_log=True,\n",
    "                                 num_bins=30,\n",
    "                                 figure_size=(20, 4),\n",
    "                                 low={'lower_bound': 0., 'upper_bound': 1.65, 'color': 'red'},\n",
    "                                 medium={'lower_bound': 1.65, 'upper_bound': 2.2, 'color': 'green'},\n",
    "                                 high={'lower_bound': 2.2, 'upper_bound': 3., 'color': 'blue'})"
   ]
  },
  {
   "cell_type": "code",
   "execution_count": null,
   "metadata": {},
   "outputs": [],
   "source": []
  }
 ],
 "metadata": {
  "kernelspec": {
   "display_name": "Python 3",
   "language": "python",
   "name": "python3"
  },
  "language_info": {
   "codemirror_mode": {
    "name": "ipython",
    "version": 3
   },
   "file_extension": ".py",
   "mimetype": "text/x-python",
   "name": "python",
   "nbconvert_exporter": "python",
   "pygments_lexer": "ipython3",
   "version": "3.7.3"
  }
 },
 "nbformat": 4,
 "nbformat_minor": 2
}
