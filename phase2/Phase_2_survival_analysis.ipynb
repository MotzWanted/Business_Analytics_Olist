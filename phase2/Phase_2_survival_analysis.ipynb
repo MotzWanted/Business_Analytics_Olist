{
 "cells": [
  {
   "cell_type": "markdown",
   "metadata": {},
   "source": [
    "# Churn prediction \n",
    "\n",
    "In the prior analysis, the Olist customers were segmented and their customer life time value was calculated. This enables Olist to identify their best customers. If these customers were to leave Olist and become a customer in one of Olist competitors then it would hurt Olist revenue. Therefore, it is relevant to conduct a churn analysis in order to identify which customers might churn in the future. Knowing this, Olist can take actions specifik againt the customer likely to churn to keep the customer.\n",
    "\n",
    "\n",
    "\n",
    "In the following notebook a churn analysis will be carried out. The churn analysis employs survival analysis to predict whether a customer will churn or not. Survival analysis has been chosen because besides giving an idea if a customer is going to stop doing business it also gives a probability for when the event might happen. \n",
    "\n",
    "\n",
    "\n",
    "\n",
    "\n"
   ]
  },
  {
   "cell_type": "code",
   "execution_count": 70,
   "metadata": {},
   "outputs": [],
   "source": [
    "# Standard packages are imported\n",
    "import warnings\n",
    "import pandas as pd\n",
    "import matplotlib.pyplot as plt\n",
    "import seaborn as sns\n",
    "import numpy as np\n",
    "warnings.filterwarnings('ignore')\n",
    "%matplotlib inline\n",
    "\n",
    "dirpath = '../data/'"
   ]
  },
  {
   "cell_type": "markdown",
   "metadata": {},
   "source": [
    "The customer data sets are loaded as in the previous notebook which include Olist_customers,Olist_orders and Olist_order_payments. Futhermore, the order item dataset is joined with the customer data since it could be relevant to use features such as product category for later modelling in the prediction model."
   ]
  },
  {
   "cell_type": "code",
   "execution_count": 71,
   "metadata": {},
   "outputs": [],
   "source": [
    "# Load data\n",
    "customers = pd.read_csv(dirpath+\"olist_customers_dataset.csv\")\n",
    "order_payments = pd.read_csv(dirpath+\"olist_order_payments_dataset.csv\")\n",
    "orders = pd.read_csv(dirpath+\"olist_orders_dataset.csv\")\n",
    "orders_item = pd.read_csv(dirpath+\"olist_order_items_dataset.csv\")\n",
    "products = pd.read_csv(dirpath+\"olist_products_dataset.csv\")\n",
    "\n",
    "# Join\n",
    "customer_order = customers.merge(orders, on='customer_id', how='left')\n",
    "order_payments = order_payments.groupby('order_id').sum().reset_index()[['order_id','payment_value']]\n",
    "cop = customer_order.merge(order_payments, on='order_id', how='left')\n",
    "cop = cop.merge(orders_item, on='order_id', how='left')\n",
    "cop = cop.merge(products, on='product_id', how='left')\n",
    "\n",
    "# clean and format\n",
    "cop['order_purchase_timestamp'] = pd.to_datetime(cop['order_purchase_timestamp'])\n",
    "cop = cop[cop['order_status']!='canceled']"
   ]
  },
  {
   "cell_type": "markdown",
   "metadata": {},
   "source": [
    "The dataset is viewed below"
   ]
  },
  {
   "cell_type": "code",
   "execution_count": 73,
   "metadata": {},
   "outputs": [
    {
     "data": {
      "text/html": [
       "<div>\n",
       "<style scoped>\n",
       "    .dataframe tbody tr th:only-of-type {\n",
       "        vertical-align: middle;\n",
       "    }\n",
       "\n",
       "    .dataframe tbody tr th {\n",
       "        vertical-align: top;\n",
       "    }\n",
       "\n",
       "    .dataframe thead th {\n",
       "        text-align: right;\n",
       "    }\n",
       "</style>\n",
       "<table border=\"1\" class=\"dataframe\">\n",
       "  <thead>\n",
       "    <tr style=\"text-align: right;\">\n",
       "      <th></th>\n",
       "      <th>customer_id</th>\n",
       "      <th>customer_unique_id</th>\n",
       "      <th>customer_zip_code_prefix</th>\n",
       "      <th>customer_city</th>\n",
       "      <th>customer_state</th>\n",
       "      <th>order_id</th>\n",
       "      <th>order_status</th>\n",
       "      <th>order_purchase_timestamp</th>\n",
       "      <th>order_approved_at</th>\n",
       "      <th>order_delivered_carrier_date</th>\n",
       "      <th>...</th>\n",
       "      <th>price</th>\n",
       "      <th>freight_value</th>\n",
       "      <th>product_category_name</th>\n",
       "      <th>product_name_lenght</th>\n",
       "      <th>product_description_lenght</th>\n",
       "      <th>product_photos_qty</th>\n",
       "      <th>product_weight_g</th>\n",
       "      <th>product_length_cm</th>\n",
       "      <th>product_height_cm</th>\n",
       "      <th>product_width_cm</th>\n",
       "    </tr>\n",
       "  </thead>\n",
       "  <tbody>\n",
       "    <tr>\n",
       "      <th>0</th>\n",
       "      <td>06b8999e2fba1a1fbc88172c00ba8bc7</td>\n",
       "      <td>861eff4711a542e4b93843c6dd7febb0</td>\n",
       "      <td>14409</td>\n",
       "      <td>franca</td>\n",
       "      <td>SP</td>\n",
       "      <td>00e7ee1b050b8499577073aeb2a297a1</td>\n",
       "      <td>delivered</td>\n",
       "      <td>2017-05-16 15:05:35</td>\n",
       "      <td>2017-05-16 15:22:12</td>\n",
       "      <td>2017-05-23 10:47:57</td>\n",
       "      <td>...</td>\n",
       "      <td>124.99</td>\n",
       "      <td>21.88</td>\n",
       "      <td>moveis_escritorio</td>\n",
       "      <td>41.0</td>\n",
       "      <td>1141.0</td>\n",
       "      <td>1.0</td>\n",
       "      <td>8683.0</td>\n",
       "      <td>54.0</td>\n",
       "      <td>64.0</td>\n",
       "      <td>31.0</td>\n",
       "    </tr>\n",
       "    <tr>\n",
       "      <th>1</th>\n",
       "      <td>18955e83d337fd6b2def6b18a428ac77</td>\n",
       "      <td>290c77bc529b7ac935b93aa66c333dc3</td>\n",
       "      <td>9790</td>\n",
       "      <td>sao bernardo do campo</td>\n",
       "      <td>SP</td>\n",
       "      <td>29150127e6685892b6eab3eec79f59c7</td>\n",
       "      <td>delivered</td>\n",
       "      <td>2018-01-12 20:48:24</td>\n",
       "      <td>2018-01-12 20:58:32</td>\n",
       "      <td>2018-01-15 17:14:59</td>\n",
       "      <td>...</td>\n",
       "      <td>289.00</td>\n",
       "      <td>46.48</td>\n",
       "      <td>utilidades_domesticas</td>\n",
       "      <td>43.0</td>\n",
       "      <td>1002.0</td>\n",
       "      <td>3.0</td>\n",
       "      <td>10150.0</td>\n",
       "      <td>89.0</td>\n",
       "      <td>15.0</td>\n",
       "      <td>40.0</td>\n",
       "    </tr>\n",
       "    <tr>\n",
       "      <th>2</th>\n",
       "      <td>4e7b3e00288586ebd08712fdd0374a03</td>\n",
       "      <td>060e732b5b29e8181a18229c7b0b2b5e</td>\n",
       "      <td>1151</td>\n",
       "      <td>sao paulo</td>\n",
       "      <td>SP</td>\n",
       "      <td>b2059ed67ce144a36e2aa97d2c9e9ad2</td>\n",
       "      <td>delivered</td>\n",
       "      <td>2018-05-19 16:07:45</td>\n",
       "      <td>2018-05-20 16:19:10</td>\n",
       "      <td>2018-06-11 14:31:00</td>\n",
       "      <td>...</td>\n",
       "      <td>139.94</td>\n",
       "      <td>17.79</td>\n",
       "      <td>moveis_escritorio</td>\n",
       "      <td>55.0</td>\n",
       "      <td>955.0</td>\n",
       "      <td>1.0</td>\n",
       "      <td>8267.0</td>\n",
       "      <td>52.0</td>\n",
       "      <td>52.0</td>\n",
       "      <td>17.0</td>\n",
       "    </tr>\n",
       "    <tr>\n",
       "      <th>3</th>\n",
       "      <td>b2b6027bc5c5109e529d4dc6358b12c3</td>\n",
       "      <td>259dac757896d24d7702b9acbbff3f3c</td>\n",
       "      <td>8775</td>\n",
       "      <td>mogi das cruzes</td>\n",
       "      <td>SP</td>\n",
       "      <td>951670f92359f4fe4a63112aa7306eba</td>\n",
       "      <td>delivered</td>\n",
       "      <td>2018-03-13 16:06:38</td>\n",
       "      <td>2018-03-13 17:29:19</td>\n",
       "      <td>2018-03-27 23:22:42</td>\n",
       "      <td>...</td>\n",
       "      <td>149.94</td>\n",
       "      <td>23.36</td>\n",
       "      <td>moveis_escritorio</td>\n",
       "      <td>48.0</td>\n",
       "      <td>1066.0</td>\n",
       "      <td>1.0</td>\n",
       "      <td>12160.0</td>\n",
       "      <td>56.0</td>\n",
       "      <td>51.0</td>\n",
       "      <td>28.0</td>\n",
       "    </tr>\n",
       "    <tr>\n",
       "      <th>4</th>\n",
       "      <td>4f2d8ab171c80ec8364f7c12e35b23ad</td>\n",
       "      <td>345ecd01c38d18a9036ed96c73b8d066</td>\n",
       "      <td>13056</td>\n",
       "      <td>campinas</td>\n",
       "      <td>SP</td>\n",
       "      <td>6b7d50bd145f6fc7f33cebabd7e49d0f</td>\n",
       "      <td>delivered</td>\n",
       "      <td>2018-07-29 09:51:30</td>\n",
       "      <td>2018-07-29 10:10:09</td>\n",
       "      <td>2018-07-30 15:16:00</td>\n",
       "      <td>...</td>\n",
       "      <td>230.00</td>\n",
       "      <td>22.25</td>\n",
       "      <td>casa_conforto</td>\n",
       "      <td>61.0</td>\n",
       "      <td>407.0</td>\n",
       "      <td>1.0</td>\n",
       "      <td>5200.0</td>\n",
       "      <td>45.0</td>\n",
       "      <td>15.0</td>\n",
       "      <td>35.0</td>\n",
       "    </tr>\n",
       "  </tbody>\n",
       "</table>\n",
       "<p>5 rows × 27 columns</p>\n",
       "</div>"
      ],
      "text/plain": [
       "                        customer_id                customer_unique_id  \\\n",
       "0  06b8999e2fba1a1fbc88172c00ba8bc7  861eff4711a542e4b93843c6dd7febb0   \n",
       "1  18955e83d337fd6b2def6b18a428ac77  290c77bc529b7ac935b93aa66c333dc3   \n",
       "2  4e7b3e00288586ebd08712fdd0374a03  060e732b5b29e8181a18229c7b0b2b5e   \n",
       "3  b2b6027bc5c5109e529d4dc6358b12c3  259dac757896d24d7702b9acbbff3f3c   \n",
       "4  4f2d8ab171c80ec8364f7c12e35b23ad  345ecd01c38d18a9036ed96c73b8d066   \n",
       "\n",
       "   customer_zip_code_prefix          customer_city customer_state  \\\n",
       "0                     14409                 franca             SP   \n",
       "1                      9790  sao bernardo do campo             SP   \n",
       "2                      1151              sao paulo             SP   \n",
       "3                      8775        mogi das cruzes             SP   \n",
       "4                     13056               campinas             SP   \n",
       "\n",
       "                           order_id order_status order_purchase_timestamp  \\\n",
       "0  00e7ee1b050b8499577073aeb2a297a1    delivered      2017-05-16 15:05:35   \n",
       "1  29150127e6685892b6eab3eec79f59c7    delivered      2018-01-12 20:48:24   \n",
       "2  b2059ed67ce144a36e2aa97d2c9e9ad2    delivered      2018-05-19 16:07:45   \n",
       "3  951670f92359f4fe4a63112aa7306eba    delivered      2018-03-13 16:06:38   \n",
       "4  6b7d50bd145f6fc7f33cebabd7e49d0f    delivered      2018-07-29 09:51:30   \n",
       "\n",
       "     order_approved_at order_delivered_carrier_date  ...   price  \\\n",
       "0  2017-05-16 15:22:12          2017-05-23 10:47:57  ...  124.99   \n",
       "1  2018-01-12 20:58:32          2018-01-15 17:14:59  ...  289.00   \n",
       "2  2018-05-20 16:19:10          2018-06-11 14:31:00  ...  139.94   \n",
       "3  2018-03-13 17:29:19          2018-03-27 23:22:42  ...  149.94   \n",
       "4  2018-07-29 10:10:09          2018-07-30 15:16:00  ...  230.00   \n",
       "\n",
       "  freight_value  product_category_name  product_name_lenght  \\\n",
       "0         21.88      moveis_escritorio                 41.0   \n",
       "1         46.48  utilidades_domesticas                 43.0   \n",
       "2         17.79      moveis_escritorio                 55.0   \n",
       "3         23.36      moveis_escritorio                 48.0   \n",
       "4         22.25          casa_conforto                 61.0   \n",
       "\n",
       "  product_description_lenght product_photos_qty product_weight_g  \\\n",
       "0                     1141.0                1.0           8683.0   \n",
       "1                     1002.0                3.0          10150.0   \n",
       "2                      955.0                1.0           8267.0   \n",
       "3                     1066.0                1.0          12160.0   \n",
       "4                      407.0                1.0           5200.0   \n",
       "\n",
       "   product_length_cm  product_height_cm product_width_cm  \n",
       "0               54.0               64.0             31.0  \n",
       "1               89.0               15.0             40.0  \n",
       "2               52.0               52.0             17.0  \n",
       "3               56.0               51.0             28.0  \n",
       "4               45.0               15.0             35.0  \n",
       "\n",
       "[5 rows x 27 columns]"
      ]
     },
     "execution_count": 73,
     "metadata": {},
     "output_type": "execute_result"
    }
   ],
   "source": [
    "cop.head()"
   ]
  },
  {
   "cell_type": "code",
   "execution_count": 74,
   "metadata": {},
   "outputs": [
    {
     "data": {
      "text/html": [
       "<div>\n",
       "<style scoped>\n",
       "    .dataframe tbody tr th:only-of-type {\n",
       "        vertical-align: middle;\n",
       "    }\n",
       "\n",
       "    .dataframe tbody tr th {\n",
       "        vertical-align: top;\n",
       "    }\n",
       "\n",
       "    .dataframe thead th {\n",
       "        text-align: right;\n",
       "    }\n",
       "</style>\n",
       "<table border=\"1\" class=\"dataframe\">\n",
       "  <thead>\n",
       "    <tr style=\"text-align: right;\">\n",
       "      <th></th>\n",
       "      <th>customer_zip_code_prefix</th>\n",
       "      <th>payment_value</th>\n",
       "      <th>order_item_id</th>\n",
       "      <th>price</th>\n",
       "      <th>freight_value</th>\n",
       "      <th>product_name_lenght</th>\n",
       "      <th>product_description_lenght</th>\n",
       "      <th>product_photos_qty</th>\n",
       "      <th>product_weight_g</th>\n",
       "      <th>product_length_cm</th>\n",
       "      <th>product_height_cm</th>\n",
       "      <th>product_width_cm</th>\n",
       "    </tr>\n",
       "  </thead>\n",
       "  <tbody>\n",
       "    <tr>\n",
       "      <th>count</th>\n",
       "      <td>112719.000000</td>\n",
       "      <td>112716.000000</td>\n",
       "      <td>112108.000000</td>\n",
       "      <td>112108.000000</td>\n",
       "      <td>112108.000000</td>\n",
       "      <td>110519.000000</td>\n",
       "      <td>110519.000000</td>\n",
       "      <td>110519.000000</td>\n",
       "      <td>112090.000000</td>\n",
       "      <td>112090.000000</td>\n",
       "      <td>112090.000000</td>\n",
       "      <td>112090.000000</td>\n",
       "    </tr>\n",
       "    <tr>\n",
       "      <th>mean</th>\n",
       "      <td>35141.802340</td>\n",
       "      <td>179.954597</td>\n",
       "      <td>1.197345</td>\n",
       "      <td>120.387559</td>\n",
       "      <td>19.991964</td>\n",
       "      <td>48.789041</td>\n",
       "      <td>787.913110</td>\n",
       "      <td>2.210579</td>\n",
       "      <td>2093.544170</td>\n",
       "      <td>30.154456</td>\n",
       "      <td>16.584459</td>\n",
       "      <td>22.994710</td>\n",
       "    </tr>\n",
       "    <tr>\n",
       "      <th>std</th>\n",
       "      <td>29869.770239</td>\n",
       "      <td>271.736749</td>\n",
       "      <td>0.704291</td>\n",
       "      <td>182.661658</td>\n",
       "      <td>15.797391</td>\n",
       "      <td>10.018171</td>\n",
       "      <td>651.974693</td>\n",
       "      <td>1.722197</td>\n",
       "      <td>3751.282204</td>\n",
       "      <td>16.152807</td>\n",
       "      <td>13.435400</td>\n",
       "      <td>11.700754</td>\n",
       "    </tr>\n",
       "    <tr>\n",
       "      <th>min</th>\n",
       "      <td>1003.000000</td>\n",
       "      <td>9.590000</td>\n",
       "      <td>1.000000</td>\n",
       "      <td>0.850000</td>\n",
       "      <td>0.000000</td>\n",
       "      <td>5.000000</td>\n",
       "      <td>4.000000</td>\n",
       "      <td>1.000000</td>\n",
       "      <td>0.000000</td>\n",
       "      <td>7.000000</td>\n",
       "      <td>2.000000</td>\n",
       "      <td>6.000000</td>\n",
       "    </tr>\n",
       "    <tr>\n",
       "      <th>25%</th>\n",
       "      <td>11320.000000</td>\n",
       "      <td>65.647500</td>\n",
       "      <td>1.000000</td>\n",
       "      <td>39.900000</td>\n",
       "      <td>13.080000</td>\n",
       "      <td>42.000000</td>\n",
       "      <td>348.000000</td>\n",
       "      <td>1.000000</td>\n",
       "      <td>300.000000</td>\n",
       "      <td>18.000000</td>\n",
       "      <td>8.000000</td>\n",
       "      <td>15.000000</td>\n",
       "    </tr>\n",
       "    <tr>\n",
       "      <th>50%</th>\n",
       "      <td>24342.000000</td>\n",
       "      <td>114.350000</td>\n",
       "      <td>1.000000</td>\n",
       "      <td>74.940000</td>\n",
       "      <td>16.270000</td>\n",
       "      <td>52.000000</td>\n",
       "      <td>603.000000</td>\n",
       "      <td>1.000000</td>\n",
       "      <td>700.000000</td>\n",
       "      <td>25.000000</td>\n",
       "      <td>13.000000</td>\n",
       "      <td>20.000000</td>\n",
       "    </tr>\n",
       "    <tr>\n",
       "      <th>75%</th>\n",
       "      <td>59056.000000</td>\n",
       "      <td>195.012500</td>\n",
       "      <td>1.000000</td>\n",
       "      <td>134.900000</td>\n",
       "      <td>21.150000</td>\n",
       "      <td>57.000000</td>\n",
       "      <td>987.000000</td>\n",
       "      <td>3.000000</td>\n",
       "      <td>1800.000000</td>\n",
       "      <td>38.000000</td>\n",
       "      <td>20.000000</td>\n",
       "      <td>30.000000</td>\n",
       "    </tr>\n",
       "    <tr>\n",
       "      <th>max</th>\n",
       "      <td>99990.000000</td>\n",
       "      <td>13664.080000</td>\n",
       "      <td>21.000000</td>\n",
       "      <td>6735.000000</td>\n",
       "      <td>409.680000</td>\n",
       "      <td>76.000000</td>\n",
       "      <td>3992.000000</td>\n",
       "      <td>20.000000</td>\n",
       "      <td>40425.000000</td>\n",
       "      <td>105.000000</td>\n",
       "      <td>105.000000</td>\n",
       "      <td>118.000000</td>\n",
       "    </tr>\n",
       "  </tbody>\n",
       "</table>\n",
       "</div>"
      ],
      "text/plain": [
       "       customer_zip_code_prefix  payment_value  order_item_id          price  \\\n",
       "count             112719.000000  112716.000000  112108.000000  112108.000000   \n",
       "mean               35141.802340     179.954597       1.197345     120.387559   \n",
       "std                29869.770239     271.736749       0.704291     182.661658   \n",
       "min                 1003.000000       9.590000       1.000000       0.850000   \n",
       "25%                11320.000000      65.647500       1.000000      39.900000   \n",
       "50%                24342.000000     114.350000       1.000000      74.940000   \n",
       "75%                59056.000000     195.012500       1.000000     134.900000   \n",
       "max                99990.000000   13664.080000      21.000000    6735.000000   \n",
       "\n",
       "       freight_value  product_name_lenght  product_description_lenght  \\\n",
       "count  112108.000000        110519.000000               110519.000000   \n",
       "mean       19.991964            48.789041                  787.913110   \n",
       "std        15.797391            10.018171                  651.974693   \n",
       "min         0.000000             5.000000                    4.000000   \n",
       "25%        13.080000            42.000000                  348.000000   \n",
       "50%        16.270000            52.000000                  603.000000   \n",
       "75%        21.150000            57.000000                  987.000000   \n",
       "max       409.680000            76.000000                 3992.000000   \n",
       "\n",
       "       product_photos_qty  product_weight_g  product_length_cm  \\\n",
       "count       110519.000000     112090.000000      112090.000000   \n",
       "mean             2.210579       2093.544170          30.154456   \n",
       "std              1.722197       3751.282204          16.152807   \n",
       "min              1.000000          0.000000           7.000000   \n",
       "25%              1.000000        300.000000          18.000000   \n",
       "50%              1.000000        700.000000          25.000000   \n",
       "75%              3.000000       1800.000000          38.000000   \n",
       "max             20.000000      40425.000000         105.000000   \n",
       "\n",
       "       product_height_cm  product_width_cm  \n",
       "count      112090.000000     112090.000000  \n",
       "mean           16.584459         22.994710  \n",
       "std            13.435400         11.700754  \n",
       "min             2.000000          6.000000  \n",
       "25%             8.000000         15.000000  \n",
       "50%            13.000000         20.000000  \n",
       "75%            20.000000         30.000000  \n",
       "max           105.000000        118.000000  "
      ]
     },
     "execution_count": 74,
     "metadata": {},
     "output_type": "execute_result"
    }
   ],
   "source": [
    "cop.describe()"
   ]
  },
  {
   "cell_type": "code",
   "execution_count": 75,
   "metadata": {},
   "outputs": [
    {
     "name": "stdout",
     "output_type": "stream",
     "text": [
      "<class 'pandas.core.frame.DataFrame'>\n",
      "Int64Index: 112719 entries, 0 to 113424\n",
      "Data columns (total 27 columns):\n",
      "customer_id                      112719 non-null object\n",
      "customer_unique_id               112719 non-null object\n",
      "customer_zip_code_prefix         112719 non-null int64\n",
      "customer_city                    112719 non-null object\n",
      "customer_state                   112719 non-null object\n",
      "order_id                         112719 non-null object\n",
      "order_status                     112719 non-null object\n",
      "order_purchase_timestamp         112719 non-null datetime64[ns]\n",
      "order_approved_at                112699 non-null object\n",
      "order_delivered_carrier_date     111381 non-null object\n",
      "order_delivered_customer_date    110189 non-null object\n",
      "order_estimated_delivery_date    112719 non-null object\n",
      "payment_value                    112716 non-null float64\n",
      "order_item_id                    112108 non-null float64\n",
      "product_id                       112108 non-null object\n",
      "seller_id                        112108 non-null object\n",
      "shipping_limit_date              112108 non-null object\n",
      "price                            112108 non-null float64\n",
      "freight_value                    112108 non-null float64\n",
      "product_category_name            110519 non-null object\n",
      "product_name_lenght              110519 non-null float64\n",
      "product_description_lenght       110519 non-null float64\n",
      "product_photos_qty               110519 non-null float64\n",
      "product_weight_g                 112090 non-null float64\n",
      "product_length_cm                112090 non-null float64\n",
      "product_height_cm                112090 non-null float64\n",
      "product_width_cm                 112090 non-null float64\n",
      "dtypes: datetime64[ns](1), float64(11), int64(1), object(14)\n",
      "memory usage: 24.1+ MB\n"
     ]
    }
   ],
   "source": [
    "cop.info()"
   ]
  },
  {
   "cell_type": "markdown",
   "metadata": {},
   "source": []
  },
  {
   "cell_type": "markdown",
   "metadata": {},
   "source": [
    "## Data preparation for survival analysis\n",
    "\n",
    "In survival analysis, a data point is characterised by three elements: $X_i,E_i,T_i, \\forall i \\in N$ where $N$ is number of datapoints. \n",
    "\n",
    "- $X_i$ : is a p-dimensional feature vector\n",
    "- $E_i$ : is an event indicator. If $E_i = 1$ an event happens, the other case where $E_i=0$ means that the data point is censored because an event does not happen. \n",
    "- $T_i$ : $min(t_i,c_i)$ , where $t_i$ is the actual time to event and $c_i$ is time to censoring\n",
    "\n",
    "\n",
    "In the following section, the data will be preprocessed to be ready for modelling with survival models:\n",
    "\n",
    "1. An Event-column will be calculated\n",
    "2. "
   ]
  },
  {
   "cell_type": "code",
   "execution_count": 47,
   "metadata": {},
   "outputs": [],
   "source": [
    "test = cop.merge(cop.groupby('customer_unique_id').size().reset_index(), on='customer_unique_id', how='left')\n",
    "test1 = test[test.iloc[:,-1] > 1]"
   ]
  },
  {
   "cell_type": "code",
   "execution_count": 48,
   "metadata": {},
   "outputs": [],
   "source": [
    "test1 = test1.groupby('customer_unique_id')['order_purchase_timestamp'].apply(lambda x: x.sort_values()).reset_index()\n",
    "test1['T'] = (test1.groupby('customer_unique_id')['order_purchase_timestamp'].diff() / np.timedelta64(1, 'W'))\n",
    "test1 = test1.dropna(subset=['T'])\n",
    "test1['T'] = test1['T'].apply(np.ceil).astype(int)\n",
    "test1 = test1[test1['T'] > 0]\n",
    "test1['E'] = 1\n",
    "test1 = test1[['customer_unique_id', 'order_purchase_timestamp','T','E']]"
   ]
  },
  {
   "cell_type": "code",
   "execution_count": 49,
   "metadata": {},
   "outputs": [],
   "source": [
    "t_end = cop.order_purchase_timestamp.max()\n",
    "test2 = test[test.iloc[:,-1] < 2]\n",
    "test2['E'] = 0\n",
    "test2['T'] = ((t_end - test2.order_purchase_timestamp) / np.timedelta64(1, 'W')).apply(np.ceil).astype(int)\n",
    "test2 = test2[['customer_unique_id', 'order_purchase_timestamp','T','E']]"
   ]
  },
  {
   "cell_type": "code",
   "execution_count": 58,
   "metadata": {},
   "outputs": [],
   "source": [
    "test2 = test2[:16000]"
   ]
  },
  {
   "cell_type": "code",
   "execution_count": 59,
   "metadata": {},
   "outputs": [],
   "source": [
    "test_df = pd.concat([test1,test2])\n",
    "df_full = test_df.merge(cop, on=['customer_unique_id','order_purchase_timestamp'], how='left')\n",
    "\n",
    "df_model = df_full[['T','E','customer_state','payment_value']]\n",
    "df_model = pd.get_dummies(data=df_model, columns=['customer_state'])"
   ]
  },
  {
   "cell_type": "code",
   "execution_count": 60,
   "metadata": {},
   "outputs": [
    {
     "data": {
      "text/html": [
       "<div>\n",
       "<style scoped>\n",
       "    .dataframe tbody tr th:only-of-type {\n",
       "        vertical-align: middle;\n",
       "    }\n",
       "\n",
       "    .dataframe tbody tr th {\n",
       "        vertical-align: top;\n",
       "    }\n",
       "\n",
       "    .dataframe thead th {\n",
       "        text-align: right;\n",
       "    }\n",
       "</style>\n",
       "<table border=\"1\" class=\"dataframe\">\n",
       "  <thead>\n",
       "    <tr style=\"text-align: right;\">\n",
       "      <th></th>\n",
       "      <th>customer_unique_id</th>\n",
       "      <th>order_purchase_timestamp</th>\n",
       "      <th>T</th>\n",
       "      <th>E</th>\n",
       "      <th>customer_id</th>\n",
       "      <th>customer_zip_code_prefix</th>\n",
       "      <th>customer_city</th>\n",
       "      <th>customer_state</th>\n",
       "      <th>order_id</th>\n",
       "      <th>order_status</th>\n",
       "      <th>...</th>\n",
       "      <th>price</th>\n",
       "      <th>freight_value</th>\n",
       "      <th>product_category_name</th>\n",
       "      <th>product_name_lenght</th>\n",
       "      <th>product_description_lenght</th>\n",
       "      <th>product_photos_qty</th>\n",
       "      <th>product_weight_g</th>\n",
       "      <th>product_length_cm</th>\n",
       "      <th>product_height_cm</th>\n",
       "      <th>product_width_cm</th>\n",
       "    </tr>\n",
       "  </thead>\n",
       "  <tbody>\n",
       "    <tr>\n",
       "      <th>0</th>\n",
       "      <td>004288347e5e88a27ded2bb23747066c</td>\n",
       "      <td>2018-01-14 07:36:54</td>\n",
       "      <td>25</td>\n",
       "      <td>1</td>\n",
       "      <td>f6efe5d5c7b85e12355f9d5c3db46da2</td>\n",
       "      <td>26220</td>\n",
       "      <td>nova iguacu</td>\n",
       "      <td>RJ</td>\n",
       "      <td>08204559bebd39e09ee52dcb56d8faa2</td>\n",
       "      <td>delivered</td>\n",
       "      <td>...</td>\n",
       "      <td>87.90</td>\n",
       "      <td>15.38</td>\n",
       "      <td>malas_acessorios</td>\n",
       "      <td>39.0</td>\n",
       "      <td>278.0</td>\n",
       "      <td>1.0</td>\n",
       "      <td>700.0</td>\n",
       "      <td>19.0</td>\n",
       "      <td>48.0</td>\n",
       "      <td>35.0</td>\n",
       "    </tr>\n",
       "    <tr>\n",
       "      <th>1</th>\n",
       "      <td>004b45ec5c64187465168251cd1c9c2f</td>\n",
       "      <td>2018-05-26 19:42:48</td>\n",
       "      <td>39</td>\n",
       "      <td>1</td>\n",
       "      <td>d95f60d70d9ea9a7fe37c53c931940bb</td>\n",
       "      <td>57035</td>\n",
       "      <td>maceio</td>\n",
       "      <td>AL</td>\n",
       "      <td>9392c5e72885ad5aba87e6223ca9838d</td>\n",
       "      <td>delivered</td>\n",
       "      <td>...</td>\n",
       "      <td>27.00</td>\n",
       "      <td>22.85</td>\n",
       "      <td>moveis_decoracao</td>\n",
       "      <td>45.0</td>\n",
       "      <td>660.0</td>\n",
       "      <td>1.0</td>\n",
       "      <td>3450.0</td>\n",
       "      <td>23.0</td>\n",
       "      <td>35.0</td>\n",
       "      <td>35.0</td>\n",
       "    </tr>\n",
       "    <tr>\n",
       "      <th>2</th>\n",
       "      <td>00a39521eb40f7012db50455bf083460</td>\n",
       "      <td>2018-06-03 10:12:57</td>\n",
       "      <td>2</td>\n",
       "      <td>1</td>\n",
       "      <td>cbb68c721ba9ddb30d8a490cc1897fa1</td>\n",
       "      <td>72595</td>\n",
       "      <td>brasilia</td>\n",
       "      <td>DF</td>\n",
       "      <td>cea3e6c11eb60acb9d8d4d51694832f8</td>\n",
       "      <td>delivered</td>\n",
       "      <td>...</td>\n",
       "      <td>11.55</td>\n",
       "      <td>15.23</td>\n",
       "      <td>eletronicos</td>\n",
       "      <td>45.0</td>\n",
       "      <td>868.0</td>\n",
       "      <td>1.0</td>\n",
       "      <td>175.0</td>\n",
       "      <td>22.0</td>\n",
       "      <td>12.0</td>\n",
       "      <td>15.0</td>\n",
       "    </tr>\n",
       "    <tr>\n",
       "      <th>3</th>\n",
       "      <td>00cc12a6d8b578b8ebd21ea4e2ae8b27</td>\n",
       "      <td>2017-03-21 19:25:23</td>\n",
       "      <td>1</td>\n",
       "      <td>1</td>\n",
       "      <td>102fc0966044243157bb81e4ee0a251e</td>\n",
       "      <td>3178</td>\n",
       "      <td>sao paulo</td>\n",
       "      <td>SP</td>\n",
       "      <td>d61b915b69851aec8a8865f36cfd793e</td>\n",
       "      <td>delivered</td>\n",
       "      <td>...</td>\n",
       "      <td>69.90</td>\n",
       "      <td>11.88</td>\n",
       "      <td>cama_mesa_banho</td>\n",
       "      <td>52.0</td>\n",
       "      <td>534.0</td>\n",
       "      <td>1.0</td>\n",
       "      <td>700.0</td>\n",
       "      <td>45.0</td>\n",
       "      <td>15.0</td>\n",
       "      <td>35.0</td>\n",
       "    </tr>\n",
       "    <tr>\n",
       "      <th>4</th>\n",
       "      <td>011575986092c30523ecb71ff10cb473</td>\n",
       "      <td>2018-04-18 21:58:08</td>\n",
       "      <td>9</td>\n",
       "      <td>1</td>\n",
       "      <td>71c7265705afd84d030d6adc3122d8dd</td>\n",
       "      <td>30660</td>\n",
       "      <td>belo horizonte</td>\n",
       "      <td>MG</td>\n",
       "      <td>ed0a6265b5b0a292cd537214f401f1fc</td>\n",
       "      <td>delivered</td>\n",
       "      <td>...</td>\n",
       "      <td>63.90</td>\n",
       "      <td>16.42</td>\n",
       "      <td>instrumentos_musicais</td>\n",
       "      <td>58.0</td>\n",
       "      <td>767.0</td>\n",
       "      <td>8.0</td>\n",
       "      <td>500.0</td>\n",
       "      <td>30.0</td>\n",
       "      <td>15.0</td>\n",
       "      <td>30.0</td>\n",
       "    </tr>\n",
       "  </tbody>\n",
       "</table>\n",
       "<p>5 rows × 29 columns</p>\n",
       "</div>"
      ],
      "text/plain": [
       "                 customer_unique_id order_purchase_timestamp   T  E  \\\n",
       "0  004288347e5e88a27ded2bb23747066c      2018-01-14 07:36:54  25  1   \n",
       "1  004b45ec5c64187465168251cd1c9c2f      2018-05-26 19:42:48  39  1   \n",
       "2  00a39521eb40f7012db50455bf083460      2018-06-03 10:12:57   2  1   \n",
       "3  00cc12a6d8b578b8ebd21ea4e2ae8b27      2017-03-21 19:25:23   1  1   \n",
       "4  011575986092c30523ecb71ff10cb473      2018-04-18 21:58:08   9  1   \n",
       "\n",
       "                        customer_id  customer_zip_code_prefix   customer_city  \\\n",
       "0  f6efe5d5c7b85e12355f9d5c3db46da2                     26220     nova iguacu   \n",
       "1  d95f60d70d9ea9a7fe37c53c931940bb                     57035          maceio   \n",
       "2  cbb68c721ba9ddb30d8a490cc1897fa1                     72595        brasilia   \n",
       "3  102fc0966044243157bb81e4ee0a251e                      3178       sao paulo   \n",
       "4  71c7265705afd84d030d6adc3122d8dd                     30660  belo horizonte   \n",
       "\n",
       "  customer_state                          order_id order_status  ...  price  \\\n",
       "0             RJ  08204559bebd39e09ee52dcb56d8faa2    delivered  ...  87.90   \n",
       "1             AL  9392c5e72885ad5aba87e6223ca9838d    delivered  ...  27.00   \n",
       "2             DF  cea3e6c11eb60acb9d8d4d51694832f8    delivered  ...  11.55   \n",
       "3             SP  d61b915b69851aec8a8865f36cfd793e    delivered  ...  69.90   \n",
       "4             MG  ed0a6265b5b0a292cd537214f401f1fc    delivered  ...  63.90   \n",
       "\n",
       "  freight_value  product_category_name product_name_lenght  \\\n",
       "0         15.38       malas_acessorios                39.0   \n",
       "1         22.85       moveis_decoracao                45.0   \n",
       "2         15.23            eletronicos                45.0   \n",
       "3         11.88        cama_mesa_banho                52.0   \n",
       "4         16.42  instrumentos_musicais                58.0   \n",
       "\n",
       "   product_description_lenght  product_photos_qty product_weight_g  \\\n",
       "0                       278.0                 1.0            700.0   \n",
       "1                       660.0                 1.0           3450.0   \n",
       "2                       868.0                 1.0            175.0   \n",
       "3                       534.0                 1.0            700.0   \n",
       "4                       767.0                 8.0            500.0   \n",
       "\n",
       "  product_length_cm product_height_cm  product_width_cm  \n",
       "0              19.0              48.0              35.0  \n",
       "1              23.0              35.0              35.0  \n",
       "2              22.0              12.0              15.0  \n",
       "3              45.0              15.0              35.0  \n",
       "4              30.0              15.0              30.0  \n",
       "\n",
       "[5 rows x 29 columns]"
      ]
     },
     "execution_count": 60,
     "metadata": {},
     "output_type": "execute_result"
    }
   ],
   "source": [
    "df_full.head()"
   ]
  },
  {
   "cell_type": "markdown",
   "metadata": {},
   "source": [
    "The distribution of the customers who churned/not-churned are shown below."
   ]
  },
  {
   "cell_type": "code",
   "execution_count": 61,
   "metadata": {
    "scrolled": true
   },
   "outputs": [
    {
     "data": {
      "text/plain": [
       "0    4000\n",
       "1    3623\n",
       "Name: E, dtype: int64"
      ]
     },
     "execution_count": 61,
     "metadata": {},
     "output_type": "execute_result"
    }
   ],
   "source": [
    "df_full.E.value_counts()"
   ]
  },
  {
   "cell_type": "markdown",
   "metadata": {},
   "source": []
  },
  {
   "cell_type": "code",
   "execution_count": 62,
   "metadata": {},
   "outputs": [
    {
     "data": {
      "text/plain": [
       "cama_mesa_banho                                  903\n",
       "beleza_saude                                     649\n",
       "esporte_lazer                                    637\n",
       "moveis_decoracao                                 583\n",
       "informatica_acessorios                           540\n",
       "utilidades_domesticas                            466\n",
       "relogios_presentes                               409\n",
       "automotivo                                       285\n",
       "telefonia                                        267\n",
       "brinquedos                                       257\n",
       "ferramentas_jardim                               245\n",
       "perfumaria                                       225\n",
       "cool_stuff                                       221\n",
       "fashion_bolsas_e_acessorios                      196\n",
       "bebes                                            191\n",
       "papelaria                                        145\n",
       "eletronicos                                      140\n",
       "pet_shop                                         118\n",
       "moveis_escritorio                                 81\n",
       "eletrodomesticos                                  74\n",
       "consoles_games                                    68\n",
       "construcao_ferramentas_construcao                 67\n",
       "malas_acessorios                                  62\n",
       "bebidas                                           40\n",
       "casa_construcao                                   40\n",
       "eletroportateis                                   36\n",
       "instrumentos_musicais                             36\n",
       "alimentos                                         32\n",
       "livros_interesse_geral                            31\n",
       "moveis_sala                                       31\n",
       "                                                ... \n",
       "telefonia_fixa                                    14\n",
       "agro_industria_e_comercio                         14\n",
       "fashion_roupa_masculina                           13\n",
       "construcao_ferramentas_seguranca                  12\n",
       "construcao_ferramentas_jardim                     12\n",
       "construcao_ferramentas_ferramentas                12\n",
       "fashion_underwear_e_moda_praia                    12\n",
       "sinalizacao_e_seguranca                           11\n",
       "construcao_ferramentas_iluminacao                 11\n",
       "tablets_impressao_imagem                          10\n",
       "pcs                                               10\n",
       "livros_tecnicos                                    9\n",
       "fashion_roupa_feminina                             8\n",
       "artigos_de_natal                                   6\n",
       "fraldas_higiene                                    6\n",
       "moveis_quarto                                      6\n",
       "dvds_blu_ray                                       6\n",
       "musica                                             5\n",
       "livros_importados                                  4\n",
       "portateis_casa_forno_e_cafe                        4\n",
       "cine_foto                                          3\n",
       "artigos_de_festas                                  3\n",
       "artes_e_artesanato                                 2\n",
       "moveis_colchao_e_estofado                          2\n",
       "pc_gamer                                           2\n",
       "portateis_cozinha_e_preparadores_de_alimentos      2\n",
       "flores                                             1\n",
       "casa_conforto_2                                    1\n",
       "fashion_esporte                                    1\n",
       "la_cuisine                                         1\n",
       "Name: product_category_name, Length: 70, dtype: int64"
      ]
     },
     "execution_count": 62,
     "metadata": {},
     "output_type": "execute_result"
    }
   ],
   "source": [
    "#count of how many times each product category has been bought\n",
    "df_full.product_category_name.value_counts()"
   ]
  },
  {
   "cell_type": "markdown",
   "metadata": {},
   "source": [
    "The data is checked for Null values and and duplicates"
   ]
  },
  {
   "cell_type": "code",
   "execution_count": 66,
   "metadata": {},
   "outputs": [
    {
     "name": "stdout",
     "output_type": "stream",
     "text": [
      "The raw_dataset contains 0 null values.\n",
      "The dataset contains 1559 duplicates.\n"
     ]
    }
   ],
   "source": [
    "N_null = sum(df_model.iloc[:,2:].isnull().sum())\n",
    "N_dupli = sum(df_model.iloc[:,2:].duplicated(keep='first'))\n",
    "print('The raw_dataset contains {} null values.'.format(N_null))\n",
    "print('The dataset contains {} duplicates.'.format(N_dupli))"
   ]
  },
  {
   "cell_type": "markdown",
   "metadata": {},
   "source": [
    "As a final step in the data preparation, the data is standardised by subtracting the mean and dividing with the std."
   ]
  },
  {
   "cell_type": "code",
   "execution_count": 67,
   "metadata": {},
   "outputs": [],
   "source": [
    "mu = df_model.payment_value.mean()\n",
    "sigma = df_model.payment_value.std()\n",
    "df_model.payment_value = (df_model.payment_value - mu)/sigma # standardization of data\n",
    "df_model = df_model.dropna()"
   ]
  },
  {
   "cell_type": "markdown",
   "metadata": {},
   "source": [
    "It is relevant to see the correlation between the chosen features. This can be done through pysurvivals correlation_matrix function."
   ]
  },
  {
   "cell_type": "code",
   "execution_count": 69,
   "metadata": {},
   "outputs": [
    {
     "ename": "ImportError",
     "evalue": "dlopen(//anaconda3/lib/python3.7/site-packages/pysurvival/models/_non_parametric.cpython-37m-darwin.so, 2): Symbol not found: __ZNSt7__cxx1112basic_stringIcSt11char_traitsIcESaIcEE9_M_assignERKS4_\n  Referenced from: //anaconda3/lib/python3.7/site-packages/pysurvival/models/_non_parametric.cpython-37m-darwin.so\n  Expected in: /usr/lib/libstdc++.6.dylib\n in //anaconda3/lib/python3.7/site-packages/pysurvival/models/_non_parametric.cpython-37m-darwin.so",
     "output_type": "error",
     "traceback": [
      "\u001b[0;31m---------------------------------------------------------------------------\u001b[0m",
      "\u001b[0;31mImportError\u001b[0m                               Traceback (most recent call last)",
      "\u001b[0;32m<ipython-input-69-29b797d34f20>\u001b[0m in \u001b[0;36m<module>\u001b[0;34m\u001b[0m\n\u001b[0;32m----> 1\u001b[0;31m \u001b[0;32mfrom\u001b[0m \u001b[0mpysurvival\u001b[0m\u001b[0;34m.\u001b[0m\u001b[0mutils\u001b[0m\u001b[0;34m.\u001b[0m\u001b[0mdisplay\u001b[0m \u001b[0;32mimport\u001b[0m \u001b[0mcorrelation_matrix\u001b[0m\u001b[0;34m\u001b[0m\u001b[0;34m\u001b[0m\u001b[0m\n\u001b[0m\u001b[1;32m      2\u001b[0m \u001b[0mcorrelation_matrix\u001b[0m\u001b[0;34m(\u001b[0m\u001b[0mdf_model\u001b[0m\u001b[0;34m.\u001b[0m\u001b[0miloc\u001b[0m\u001b[0;34m[\u001b[0m\u001b[0;34m:\u001b[0m\u001b[0;34m,\u001b[0m\u001b[0;36m2\u001b[0m\u001b[0;34m:\u001b[0m\u001b[0;34m]\u001b[0m\u001b[0;34m,\u001b[0m \u001b[0mfigure_size\u001b[0m\u001b[0;34m=\u001b[0m\u001b[0;34m(\u001b[0m\u001b[0;36m30\u001b[0m\u001b[0;34m,\u001b[0m \u001b[0;36m15\u001b[0m\u001b[0;34m)\u001b[0m\u001b[0;34m,\u001b[0m \u001b[0mtext_fontsize\u001b[0m\u001b[0;34m=\u001b[0m\u001b[0;36m10\u001b[0m\u001b[0;34m)\u001b[0m\u001b[0;34m\u001b[0m\u001b[0;34m\u001b[0m\u001b[0m\n",
      "\u001b[0;32m//anaconda3/lib/python3.7/site-packages/pysurvival/utils/display.py\u001b[0m in \u001b[0;36m<module>\u001b[0;34m\u001b[0m\n\u001b[1;32m      6\u001b[0m \u001b[0;32mfrom\u001b[0m \u001b[0mmatplotlib\u001b[0m\u001b[0;34m.\u001b[0m\u001b[0mpatches\u001b[0m \u001b[0;32mimport\u001b[0m \u001b[0mRectangle\u001b[0m\u001b[0;34m\u001b[0m\u001b[0;34m\u001b[0m\u001b[0m\n\u001b[1;32m      7\u001b[0m \u001b[0;32mfrom\u001b[0m \u001b[0mpysurvival\u001b[0m \u001b[0;32mimport\u001b[0m \u001b[0mutils\u001b[0m\u001b[0;34m\u001b[0m\u001b[0;34m\u001b[0m\u001b[0m\n\u001b[0;32m----> 8\u001b[0;31m \u001b[0;32mfrom\u001b[0m \u001b[0mpysurvival\u001b[0m\u001b[0;34m.\u001b[0m\u001b[0mutils\u001b[0m \u001b[0;32mimport\u001b[0m \u001b[0mmetrics\u001b[0m\u001b[0;34m\u001b[0m\u001b[0;34m\u001b[0m\u001b[0m\n\u001b[0m\u001b[1;32m      9\u001b[0m \u001b[0;32mfrom\u001b[0m \u001b[0mpysurvival\u001b[0m\u001b[0;34m.\u001b[0m\u001b[0mutils\u001b[0m\u001b[0;34m.\u001b[0m\u001b[0mmetrics\u001b[0m \u001b[0;32mimport\u001b[0m \u001b[0mbrier_score\u001b[0m\u001b[0;34m\u001b[0m\u001b[0;34m\u001b[0m\u001b[0m\n\u001b[1;32m     10\u001b[0m \u001b[0;32mfrom\u001b[0m \u001b[0msklearn\u001b[0m\u001b[0;34m.\u001b[0m\u001b[0mmetrics\u001b[0m \u001b[0;32mimport\u001b[0m \u001b[0mmean_absolute_error\u001b[0m\u001b[0;34m,\u001b[0m \u001b[0mmean_squared_error\u001b[0m\u001b[0;34m\u001b[0m\u001b[0;34m\u001b[0m\u001b[0m\n",
      "\u001b[0;32m//anaconda3/lib/python3.7/site-packages/pysurvival/utils/metrics.py\u001b[0m in \u001b[0;36m<module>\u001b[0;34m\u001b[0m\n\u001b[1;32m      5\u001b[0m \u001b[0;32mfrom\u001b[0m \u001b[0msklearn\u001b[0m\u001b[0;34m.\u001b[0m\u001b[0mmetrics\u001b[0m \u001b[0;32mimport\u001b[0m \u001b[0mmean_absolute_error\u001b[0m\u001b[0;34m,\u001b[0m \u001b[0mmean_squared_error\u001b[0m\u001b[0;34m\u001b[0m\u001b[0;34m\u001b[0m\u001b[0m\n\u001b[1;32m      6\u001b[0m \u001b[0;32mfrom\u001b[0m \u001b[0msklearn\u001b[0m\u001b[0;34m.\u001b[0m\u001b[0mmetrics\u001b[0m \u001b[0;32mimport\u001b[0m \u001b[0mmedian_absolute_error\u001b[0m\u001b[0;34m\u001b[0m\u001b[0;34m\u001b[0m\u001b[0m\n\u001b[0;32m----> 7\u001b[0;31m \u001b[0;32mfrom\u001b[0m \u001b[0mpysurvival\u001b[0m\u001b[0;34m.\u001b[0m\u001b[0mmodels\u001b[0m\u001b[0;34m.\u001b[0m\u001b[0mnon_parametric\u001b[0m \u001b[0;32mimport\u001b[0m \u001b[0mKaplanMeierModel\u001b[0m\u001b[0;34m\u001b[0m\u001b[0;34m\u001b[0m\u001b[0m\n\u001b[0m\u001b[1;32m      8\u001b[0m \u001b[0;32mfrom\u001b[0m \u001b[0mpysurvival\u001b[0m\u001b[0;34m.\u001b[0m\u001b[0mutils\u001b[0m\u001b[0;34m.\u001b[0m\u001b[0m_metrics\u001b[0m \u001b[0;32mimport\u001b[0m \u001b[0m_concordance_index\u001b[0m\u001b[0;34m\u001b[0m\u001b[0;34m\u001b[0m\u001b[0m\n\u001b[1;32m      9\u001b[0m \u001b[0;32mfrom\u001b[0m \u001b[0mpysurvival\u001b[0m\u001b[0;34m.\u001b[0m\u001b[0mutils\u001b[0m\u001b[0;34m.\u001b[0m\u001b[0m_metrics\u001b[0m \u001b[0;32mimport\u001b[0m \u001b[0m_brier_score\u001b[0m\u001b[0;34m,\u001b[0m \u001b[0m_timeROC\u001b[0m\u001b[0;34m\u001b[0m\u001b[0;34m\u001b[0m\u001b[0m\n",
      "\u001b[0;32m//anaconda3/lib/python3.7/site-packages/pysurvival/models/non_parametric.py\u001b[0m in \u001b[0;36m<module>\u001b[0;34m\u001b[0m\n\u001b[1;32m      6\u001b[0m \u001b[0;32mfrom\u001b[0m \u001b[0mpysurvival\u001b[0m \u001b[0;32mimport\u001b[0m \u001b[0mutils\u001b[0m\u001b[0;34m\u001b[0m\u001b[0;34m\u001b[0m\u001b[0m\n\u001b[1;32m      7\u001b[0m \u001b[0;32mfrom\u001b[0m \u001b[0mpysurvival\u001b[0m\u001b[0;34m.\u001b[0m\u001b[0mmodels\u001b[0m \u001b[0;32mimport\u001b[0m \u001b[0mBaseModel\u001b[0m\u001b[0;34m\u001b[0m\u001b[0;34m\u001b[0m\u001b[0m\n\u001b[0;32m----> 8\u001b[0;31m \u001b[0;32mfrom\u001b[0m \u001b[0mpysurvival\u001b[0m\u001b[0;34m.\u001b[0m\u001b[0mmodels\u001b[0m\u001b[0;34m.\u001b[0m\u001b[0m_non_parametric\u001b[0m \u001b[0;32mimport\u001b[0m \u001b[0m_KaplanMeierModel\u001b[0m\u001b[0;34m\u001b[0m\u001b[0;34m\u001b[0m\u001b[0m\n\u001b[0m\u001b[1;32m      9\u001b[0m \u001b[0;32mfrom\u001b[0m \u001b[0mpysurvival\u001b[0m\u001b[0;34m.\u001b[0m\u001b[0mmodels\u001b[0m\u001b[0;34m.\u001b[0m\u001b[0m_non_parametric\u001b[0m \u001b[0;32mimport\u001b[0m \u001b[0m_KernelModel\u001b[0m\u001b[0;34m\u001b[0m\u001b[0;34m\u001b[0m\u001b[0m\n\u001b[1;32m     10\u001b[0m \u001b[0;34m\u001b[0m\u001b[0m\n",
      "\u001b[0;31mImportError\u001b[0m: dlopen(//anaconda3/lib/python3.7/site-packages/pysurvival/models/_non_parametric.cpython-37m-darwin.so, 2): Symbol not found: __ZNSt7__cxx1112basic_stringIcSt11char_traitsIcESaIcEE9_M_assignERKS4_\n  Referenced from: //anaconda3/lib/python3.7/site-packages/pysurvival/models/_non_parametric.cpython-37m-darwin.so\n  Expected in: /usr/lib/libstdc++.6.dylib\n in //anaconda3/lib/python3.7/site-packages/pysurvival/models/_non_parametric.cpython-37m-darwin.so"
     ]
    }
   ],
   "source": [
    "from pysurvival.utils.display import correlation_matrix\n",
    "correlation_matrix(df_model.iloc[:,2:], figure_size=(30, 15), text_fontsize=10)"
   ]
  },
  {
   "cell_type": "markdown",
   "metadata": {},
   "source": [
    "## Modelling\n",
    "\n",
    "The data is splitted into a train and test set."
   ]
  },
  {
   "cell_type": "code",
   "execution_count": null,
   "metadata": {},
   "outputs": [],
   "source": [
    "from sklearn.model_selection import train_test_split\n",
    "time_column = 'T'\n",
    "event_column = 'E'\n",
    "\n",
    "N = df_model.shape[0]\n",
    "\n",
    "index_train, index_test = train_test_split( range(N), test_size = 0.35)\n",
    "data_train = df_model.loc[index_train].reset_index( drop = True )\n",
    "data_test  = df_model.loc[index_test].reset_index( drop = True )\n",
    "\n",
    "# Creating the X, T and E inputs\n",
    "X_train, X_test = data_train.iloc[:,2:], data_test.iloc[:,2:]\n",
    "T_train, T_test = data_train[time_column], data_test[time_column]\n",
    "E_train, E_test = data_train[event_column], data_test[event_column]"
   ]
  },
  {
   "cell_type": "markdown",
   "metadata": {},
   "source": []
  },
  {
   "cell_type": "code",
   "execution_count": 14,
   "metadata": {},
   "outputs": [],
   "source": [
    "from pysurvival.utils.display import integrated_brier_score\n",
    "from pysurvival.utils.metrics import concordance_index"
   ]
  },
  {
   "cell_type": "markdown",
   "metadata": {},
   "source": []
  },
  {
   "cell_type": "code",
   "execution_count": 14,
   "metadata": {},
   "outputs": [],
   "source": [
    "from pysurvival.models.non_parametric import KaplanMeierModel\n",
    "km = KaplanMeierModel()"
   ]
  },
  {
   "cell_type": "markdown",
   "metadata": {},
   "source": []
  },
  {
   "cell_type": "code",
   "execution_count": 15,
   "metadata": {},
   "outputs": [
    {
     "data": {
      "text/plain": [
       "ExtraSurvivalTreesModel"
      ]
     },
     "execution_count": 15,
     "metadata": {},
     "output_type": "execute_result"
    }
   ],
   "source": [
    "from pysurvival.models.survival_forest import ExtraSurvivalTreesModel\n",
    "xst = ExtraSurvivalTreesModel(num_trees=20) \n",
    "xst.fit(X_train, T_train, E_train,\n",
    "        max_features='sqrt',\n",
    "        max_depth=5,\n",
    "        min_node_size=20,\n",
    "        num_random_splits=20)"
   ]
  },
  {
   "cell_type": "code",
   "execution_count": 16,
   "metadata": {},
   "outputs": [
    {
     "name": "stdout",
     "output_type": "stream",
     "text": [
      "Model name: ExtraSurvivalTreesModel\n",
      "C-index: 0.512\n",
      "C-index: 0.520\n"
     ]
    }
   ],
   "source": [
    "print('Model name: {}'.format(xst.name))\n",
    "# Print C-index\n",
    "print('C-index: {:.3f}'.format(concordance_index(xst, X_train, T_train, E_train)))\n",
    "print('C-index: {:.3f}'.format(concordance_index(xst, X_test, T_test, E_test)))"
   ]
  },
  {
   "cell_type": "code",
   "execution_count": 17,
   "metadata": {},
   "outputs": [
    {
     "data": {
      "image/png": "[encoded data removed]",
      "text/plain": [
       "<Figure size 1152x432 with 1 Axes>"
      ]
     },
     "metadata": {
      "needs_background": "light"
     },
     "output_type": "display_data"
    }
   ],
   "source": [
    "from pysurvival.utils.display import compare_to_actual\n",
    "results = compare_to_actual(xst, X_test, T_test, E_test,\n",
    "                            is_at_risk=False,\n",
    "                            figure_size=(16, 6),\n",
    "                            metrics=['rmse', 'mean', 'median'])"
   ]
  },
  {
   "cell_type": "code",
   "execution_count": 20,
   "metadata": {},
   "outputs": [
    {
     "data": {
      "image/png": "[encoded data removed]",
      "text/plain": [
       "<Figure size 1152x432 with 1 Axes>"
      ]
     },
     "metadata": {
      "needs_background": "light"
     },
     "output_type": "display_data"
    }
   ],
   "source": [
    "results = compare_to_actual(xst, X_test, T_test, E_test,\n",
    "                            is_at_risk=True,\n",
    "                            figure_size=(16, 6),\n",
    "                            metrics=['rmse', 'mean', 'median'])"
   ]
  },
  {
   "cell_type": "code",
   "execution_count": 18,
   "metadata": {},
   "outputs": [
    {
     "data": {
      "image/png": "[encoded data removed]",
      "text/plain": [
       "<Figure size 1080x360 with 1 Axes>"
      ]
     },
     "metadata": {
      "needs_background": "light"
     },
     "output_type": "display_data"
    },
    {
     "name": "stdout",
     "output_type": "stream",
     "text": [
      "IBS: 0.160\n"
     ]
    },
    {
     "data": {
      "image/png": "[encoded data removed]",
      "text/plain": [
       "<Figure size 1080x360 with 1 Axes>"
      ]
     },
     "metadata": {
      "needs_background": "light"
     },
     "output_type": "display_data"
    },
    {
     "name": "stdout",
     "output_type": "stream",
     "text": [
      "IBS: 0.149\n"
     ]
    }
   ],
   "source": [
    "# Print IBS\n",
    "print('IBS: {:.3f}'.format(integrated_brier_score(xst, X_train, T_train, E_train, t_max=12, figure_size=(15, 5))))\n",
    "print('IBS: {:.3f}'.format(integrated_brier_score(xst, X_test, T_test, E_test, t_max=12, figure_size=(15, 5))))"
   ]
  },
  {
   "cell_type": "code",
   "execution_count": 25,
   "metadata": {},
   "outputs": [
    {
     "data": {
      "text/html": [
       "<div>\n",
       "<style scoped>\n",
       "    .dataframe tbody tr th:only-of-type {\n",
       "        vertical-align: middle;\n",
       "    }\n",
       "\n",
       "    .dataframe tbody tr th {\n",
       "        vertical-align: top;\n",
       "    }\n",
       "\n",
       "    .dataframe thead th {\n",
       "        text-align: right;\n",
       "    }\n",
       "</style>\n",
       "<table border=\"1\" class=\"dataframe\">\n",
       "  <thead>\n",
       "    <tr style=\"text-align: right;\">\n",
       "      <th></th>\n",
       "      <th>feature</th>\n",
       "      <th>importance</th>\n",
       "      <th>pct_importance</th>\n",
       "    </tr>\n",
       "  </thead>\n",
       "  <tbody>\n",
       "    <tr>\n",
       "      <th>0</th>\n",
       "      <td>customer_state_GO</td>\n",
       "      <td>2.235831</td>\n",
       "      <td>0.215063</td>\n",
       "    </tr>\n",
       "    <tr>\n",
       "      <th>1</th>\n",
       "      <td>customer_state_PR</td>\n",
       "      <td>2.032525</td>\n",
       "      <td>0.195507</td>\n",
       "    </tr>\n",
       "    <tr>\n",
       "      <th>2</th>\n",
       "      <td>customer_state_CE</td>\n",
       "      <td>1.735949</td>\n",
       "      <td>0.166980</td>\n",
       "    </tr>\n",
       "    <tr>\n",
       "      <th>3</th>\n",
       "      <td>customer_state_MG</td>\n",
       "      <td>1.164705</td>\n",
       "      <td>0.112032</td>\n",
       "    </tr>\n",
       "    <tr>\n",
       "      <th>4</th>\n",
       "      <td>customer_state_PI</td>\n",
       "      <td>1.025978</td>\n",
       "      <td>0.098688</td>\n",
       "    </tr>\n",
       "    <tr>\n",
       "      <th>5</th>\n",
       "      <td>customer_state_SC</td>\n",
       "      <td>0.864383</td>\n",
       "      <td>0.083144</td>\n",
       "    </tr>\n",
       "    <tr>\n",
       "      <th>6</th>\n",
       "      <td>customer_state_MT</td>\n",
       "      <td>0.753418</td>\n",
       "      <td>0.072471</td>\n",
       "    </tr>\n",
       "    <tr>\n",
       "      <th>7</th>\n",
       "      <td>customer_state_PE</td>\n",
       "      <td>0.301417</td>\n",
       "      <td>0.028993</td>\n",
       "    </tr>\n",
       "    <tr>\n",
       "      <th>8</th>\n",
       "      <td>customer_state_SP</td>\n",
       "      <td>0.281955</td>\n",
       "      <td>0.027121</td>\n",
       "    </tr>\n",
       "    <tr>\n",
       "      <th>9</th>\n",
       "      <td>customer_state_AL</td>\n",
       "      <td>0.000000</td>\n",
       "      <td>0.000000</td>\n",
       "    </tr>\n",
       "    <tr>\n",
       "      <th>10</th>\n",
       "      <td>customer_state_PB</td>\n",
       "      <td>0.000000</td>\n",
       "      <td>0.000000</td>\n",
       "    </tr>\n",
       "    <tr>\n",
       "      <th>11</th>\n",
       "      <td>customer_state_AC</td>\n",
       "      <td>0.000000</td>\n",
       "      <td>0.000000</td>\n",
       "    </tr>\n",
       "    <tr>\n",
       "      <th>12</th>\n",
       "      <td>customer_state_RR</td>\n",
       "      <td>0.000000</td>\n",
       "      <td>0.000000</td>\n",
       "    </tr>\n",
       "    <tr>\n",
       "      <th>13</th>\n",
       "      <td>customer_state_RO</td>\n",
       "      <td>0.000000</td>\n",
       "      <td>0.000000</td>\n",
       "    </tr>\n",
       "    <tr>\n",
       "      <th>14</th>\n",
       "      <td>customer_state_AM</td>\n",
       "      <td>0.000000</td>\n",
       "      <td>0.000000</td>\n",
       "    </tr>\n",
       "    <tr>\n",
       "      <th>15</th>\n",
       "      <td>customer_state_RN</td>\n",
       "      <td>0.000000</td>\n",
       "      <td>0.000000</td>\n",
       "    </tr>\n",
       "    <tr>\n",
       "      <th>16</th>\n",
       "      <td>customer_state_SE</td>\n",
       "      <td>0.000000</td>\n",
       "      <td>0.000000</td>\n",
       "    </tr>\n",
       "    <tr>\n",
       "      <th>17</th>\n",
       "      <td>customer_state_AP</td>\n",
       "      <td>0.000000</td>\n",
       "      <td>0.000000</td>\n",
       "    </tr>\n",
       "    <tr>\n",
       "      <th>18</th>\n",
       "      <td>customer_state_TO</td>\n",
       "      <td>0.000000</td>\n",
       "      <td>0.000000</td>\n",
       "    </tr>\n",
       "    <tr>\n",
       "      <th>19</th>\n",
       "      <td>payment_value</td>\n",
       "      <td>-0.555474</td>\n",
       "      <td>0.000000</td>\n",
       "    </tr>\n",
       "  </tbody>\n",
       "</table>\n",
       "</div>"
      ],
      "text/plain": [
       "              feature  importance  pct_importance\n",
       "0   customer_state_GO    2.235831        0.215063\n",
       "1   customer_state_PR    2.032525        0.195507\n",
       "2   customer_state_CE    1.735949        0.166980\n",
       "3   customer_state_MG    1.164705        0.112032\n",
       "4   customer_state_PI    1.025978        0.098688\n",
       "5   customer_state_SC    0.864383        0.083144\n",
       "6   customer_state_MT    0.753418        0.072471\n",
       "7   customer_state_PE    0.301417        0.028993\n",
       "8   customer_state_SP    0.281955        0.027121\n",
       "9   customer_state_AL    0.000000        0.000000\n",
       "10  customer_state_PB    0.000000        0.000000\n",
       "11  customer_state_AC    0.000000        0.000000\n",
       "12  customer_state_RR    0.000000        0.000000\n",
       "13  customer_state_RO    0.000000        0.000000\n",
       "14  customer_state_AM    0.000000        0.000000\n",
       "15  customer_state_RN    0.000000        0.000000\n",
       "16  customer_state_SE    0.000000        0.000000\n",
       "17  customer_state_AP    0.000000        0.000000\n",
       "18  customer_state_TO    0.000000        0.000000\n",
       "19      payment_value   -0.555474        0.000000"
      ]
     },
     "execution_count": 25,
     "metadata": {},
     "output_type": "execute_result"
    }
   ],
   "source": [
    "# Computing variables importance\n",
    "xst.variable_importance_table.head(20)"
   ]
  },
  {
   "cell_type": "code",
   "execution_count": 21,
   "metadata": {},
   "outputs": [],
   "source": [
    "from pysurvival.utils.display import create_risk_groups"
   ]
  },
  {
   "cell_type": "code",
   "execution_count": 22,
   "metadata": {},
   "outputs": [
    {
     "ename": "ValueError",
     "evalue": "The boundaries definitions [(0.0, 1.65), (1.65, 2.2), (2.2, 3.0)] do not match, the values of the risk scores.",
     "output_type": "error",
     "traceback": [
      "\u001b[0;31m---------------------------------------------------------------------------\u001b[0m",
      "\u001b[0;31mValueError\u001b[0m                                Traceback (most recent call last)",
      "\u001b[0;32m<ipython-input-22-f9bf81a66a43>\u001b[0m in \u001b[0;36m<module>\u001b[0;34m\u001b[0m\n\u001b[1;32m      6\u001b[0m                                  \u001b[0mlow\u001b[0m\u001b[0;34m=\u001b[0m\u001b[0;34m{\u001b[0m\u001b[0;34m'lower_bound'\u001b[0m\u001b[0;34m:\u001b[0m \u001b[0;36m0.\u001b[0m\u001b[0;34m,\u001b[0m \u001b[0;34m'upper_bound'\u001b[0m\u001b[0;34m:\u001b[0m \u001b[0;36m1.65\u001b[0m\u001b[0;34m,\u001b[0m \u001b[0;34m'color'\u001b[0m\u001b[0;34m:\u001b[0m \u001b[0;34m'red'\u001b[0m\u001b[0;34m}\u001b[0m\u001b[0;34m,\u001b[0m\u001b[0;34m\u001b[0m\u001b[0;34m\u001b[0m\u001b[0m\n\u001b[1;32m      7\u001b[0m                                  \u001b[0mmedium\u001b[0m\u001b[0;34m=\u001b[0m\u001b[0;34m{\u001b[0m\u001b[0;34m'lower_bound'\u001b[0m\u001b[0;34m:\u001b[0m \u001b[0;36m1.65\u001b[0m\u001b[0;34m,\u001b[0m \u001b[0;34m'upper_bound'\u001b[0m\u001b[0;34m:\u001b[0m \u001b[0;36m2.2\u001b[0m\u001b[0;34m,\u001b[0m \u001b[0;34m'color'\u001b[0m\u001b[0;34m:\u001b[0m \u001b[0;34m'green'\u001b[0m\u001b[0;34m}\u001b[0m\u001b[0;34m,\u001b[0m\u001b[0;34m\u001b[0m\u001b[0;34m\u001b[0m\u001b[0m\n\u001b[0;32m----> 8\u001b[0;31m                                  high={'lower_bound': 2.2, 'upper_bound': 3., 'color': 'blue'})\n\u001b[0m",
      "\u001b[0;32m/anaconda3/lib/python3.7/site-packages/pysurvival/utils/display.py\u001b[0m in \u001b[0;36mcreate_risk_groups\u001b[0;34m(model, X, use_log, num_bins, figure_size, **kwargs)\u001b[0m\n\u001b[1;32m    513\u001b[0m             \u001b[0merror_msg\u001b[0m \u001b[0;34m+=\u001b[0m \u001b[0;34m\", the values of the risk scores.\"\u001b[0m\u001b[0;34m\u001b[0m\u001b[0;34m\u001b[0m\u001b[0m\n\u001b[1;32m    514\u001b[0m             \u001b[0merror_msg\u001b[0m \u001b[0;34m=\u001b[0m \u001b[0merror_msg\u001b[0m\u001b[0;34m.\u001b[0m\u001b[0mformat\u001b[0m\u001b[0;34m(\u001b[0m\u001b[0mlist\u001b[0m\u001b[0;34m(\u001b[0m\u001b[0mbounds\u001b[0m\u001b[0;34m.\u001b[0m\u001b[0mvalues\u001b[0m\u001b[0;34m(\u001b[0m\u001b[0;34m)\u001b[0m\u001b[0;34m)\u001b[0m\u001b[0;34m)\u001b[0m\u001b[0;34m\u001b[0m\u001b[0;34m\u001b[0m\u001b[0m\n\u001b[0;32m--> 515\u001b[0;31m             \u001b[0;32mraise\u001b[0m \u001b[0mValueError\u001b[0m\u001b[0;34m(\u001b[0m\u001b[0merror_msg\u001b[0m\u001b[0;34m)\u001b[0m\u001b[0;34m\u001b[0m\u001b[0;34m\u001b[0m\u001b[0m\n\u001b[0m\u001b[1;32m    516\u001b[0m \u001b[0;34m\u001b[0m\u001b[0m\n\u001b[1;32m    517\u001b[0m         \u001b[0;31m# Assigning each rectangle/bin to its group definition\u001b[0m\u001b[0;34m\u001b[0m\u001b[0;34m\u001b[0m\u001b[0;34m\u001b[0m\u001b[0m\n",
      "\u001b[0;31mValueError\u001b[0m: The boundaries definitions [(0.0, 1.65), (1.65, 2.2), (2.2, 3.0)] do not match, the values of the risk scores."
     ]
    },
    {
     "data": {
      "image/png": "[encoded data removed]",
      "text/plain": [
       "<Figure size 1440x288 with 2 Axes>"
      ]
     },
     "metadata": {
      "needs_background": "light"
     },
     "output_type": "display_data"
    }
   ],
   "source": [
    "# Create risk groups\n",
    "risk_groups = create_risk_groups(model=xst, X=X_test,\n",
    "                                 use_log=True,\n",
    "                                 num_bins=30,\n",
    "                                 figure_size=(20, 4),\n",
    "                                 low={'lower_bound': 0., 'upper_bound': 1.65, 'color': 'red'},\n",
    "                                 medium={'lower_bound': 1.65, 'upper_bound': 2.2, 'color': 'green'},\n",
    "                                 high={'lower_bound': 2.2, 'upper_bound': 3., 'color': 'blue'})"
   ]
  },
  {
   "cell_type": "code",
   "execution_count": null,
   "metadata": {},
   "outputs": [],
   "source": []
  }
 ],
 "metadata": {
  "kernelspec": {
   "display_name": "Python 3",
   "language": "python",
   "name": "python3"
  },
  "language_info": {
   "codemirror_mode": {
    "name": "ipython",
    "version": 3
   },
   "file_extension": ".py",
   "mimetype": "text/x-python",
   "name": "python",
   "nbconvert_exporter": "python",
   "pygments_lexer": "ipython3",
   "version": "3.7.3"
  }
 },
 "nbformat": 4,
 "nbformat_minor": 2
}
