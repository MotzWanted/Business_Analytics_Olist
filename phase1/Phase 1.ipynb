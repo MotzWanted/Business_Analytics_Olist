{
 "cells": [
  {
   "cell_type": "markdown",
   "metadata": {},
   "source": [
    "## <font color='blue'>Setup 1</font>: Load Libraries"
   ]
  },
  {
   "cell_type": "code",
   "execution_count": 7,
   "metadata": {},
   "outputs": [],
   "source": [
    "import numpy as np\n",
    "import pandas as pd\n",
    "import sys, os\n",
    "import seaborn as sns\n",
    "import matplotlib.pyplot as plt\n",
    "%matplotlib inline\n",
    "plt.rcParams['figure.figsize'] = (20.0, 6.0)\n",
    "plt.style.use('ggplot')"
   ]
  },
  {
   "cell_type": "markdown",
   "metadata": {},
   "source": [
    "## <font color='blue'>Setup 2</font>: Load Data"
   ]
  },
  {
   "cell_type": "code",
   "execution_count": 63,
   "metadata": {},
   "outputs": [],
   "source": [
    "def load_table(tablename):\n",
    "    \"\"\" Defining the current directory and path to where data are located. Joining path to\n",
    "    data folder and table name in order to read the table into a Pandas DataFrame\"\"\"\n",
    "    \n",
    "    file_path = os.path.join ('../data/') \n",
    "\n",
    "    df = os.path.join(file_path, tablename) \n",
    "    df = pd.read_csv(df, sep=',', encoding=\"latin1\") \n",
    "    \n",
    "    return df"
   ]
  },
  {
   "cell_type": "code",
   "execution_count": 64,
   "metadata": {},
   "outputs": [
    {
     "data": {
      "text/html": [
       "<div>\n",
       "<style scoped>\n",
       "    .dataframe tbody tr th:only-of-type {\n",
       "        vertical-align: middle;\n",
       "    }\n",
       "\n",
       "    .dataframe tbody tr th {\n",
       "        vertical-align: top;\n",
       "    }\n",
       "\n",
       "    .dataframe thead th {\n",
       "        text-align: right;\n",
       "    }\n",
       "</style>\n",
       "<table border=\"1\" class=\"dataframe\">\n",
       "  <thead>\n",
       "    <tr style=\"text-align: right;\">\n",
       "      <th></th>\n",
       "      <th>mql_id</th>\n",
       "      <th>first_contact_date</th>\n",
       "      <th>landing_page_id</th>\n",
       "      <th>origin</th>\n",
       "    </tr>\n",
       "  </thead>\n",
       "  <tbody>\n",
       "    <tr>\n",
       "      <td>0</td>\n",
       "      <td>dac32acd4db4c29c230538b72f8dd87d</td>\n",
       "      <td>2018-02-01</td>\n",
       "      <td>88740e65d5d6b056e0cda098e1ea6313</td>\n",
       "      <td>social</td>\n",
       "    </tr>\n",
       "    <tr>\n",
       "      <td>1</td>\n",
       "      <td>8c18d1de7f67e60dbd64e3c07d7e9d5d</td>\n",
       "      <td>2017-10-20</td>\n",
       "      <td>007f9098284a86ee80ddeb25d53e0af8</td>\n",
       "      <td>paid_search</td>\n",
       "    </tr>\n",
       "    <tr>\n",
       "      <td>2</td>\n",
       "      <td>b4bc852d233dfefc5131f593b538befa</td>\n",
       "      <td>2018-03-22</td>\n",
       "      <td>a7982125ff7aa3b2054c6e44f9d28522</td>\n",
       "      <td>organic_search</td>\n",
       "    </tr>\n",
       "    <tr>\n",
       "      <td>3</td>\n",
       "      <td>6be030b81c75970747525b843c1ef4f8</td>\n",
       "      <td>2018-01-22</td>\n",
       "      <td>d45d558f0daeecf3cccdffe3c59684aa</td>\n",
       "      <td>email</td>\n",
       "    </tr>\n",
       "    <tr>\n",
       "      <td>4</td>\n",
       "      <td>5420aad7fec3549a85876ba1c529bd84</td>\n",
       "      <td>2018-02-21</td>\n",
       "      <td>b48ec5f3b04e9068441002a19df93c6c</td>\n",
       "      <td>organic_search</td>\n",
       "    </tr>\n",
       "  </tbody>\n",
       "</table>\n",
       "</div>"
      ],
      "text/plain": [
       "                             mql_id first_contact_date  \\\n",
       "0  dac32acd4db4c29c230538b72f8dd87d         2018-02-01   \n",
       "1  8c18d1de7f67e60dbd64e3c07d7e9d5d         2017-10-20   \n",
       "2  b4bc852d233dfefc5131f593b538befa         2018-03-22   \n",
       "3  6be030b81c75970747525b843c1ef4f8         2018-01-22   \n",
       "4  5420aad7fec3549a85876ba1c529bd84         2018-02-21   \n",
       "\n",
       "                    landing_page_id          origin  \n",
       "0  88740e65d5d6b056e0cda098e1ea6313          social  \n",
       "1  007f9098284a86ee80ddeb25d53e0af8     paid_search  \n",
       "2  a7982125ff7aa3b2054c6e44f9d28522  organic_search  \n",
       "3  d45d558f0daeecf3cccdffe3c59684aa           email  \n",
       "4  b48ec5f3b04e9068441002a19df93c6c  organic_search  "
      ]
     },
     "execution_count": 64,
     "metadata": {},
     "output_type": "execute_result"
    }
   ],
   "source": [
    "df_leads = load_table('olist_marketing_qualified_leads_dataset.csv')\n",
    "df_leads.head()"
   ]
  },
  {
   "cell_type": "code",
   "execution_count": 65,
   "metadata": {},
   "outputs": [
    {
     "data": {
      "text/html": [
       "<div>\n",
       "<style scoped>\n",
       "    .dataframe tbody tr th:only-of-type {\n",
       "        vertical-align: middle;\n",
       "    }\n",
       "\n",
       "    .dataframe tbody tr th {\n",
       "        vertical-align: top;\n",
       "    }\n",
       "\n",
       "    .dataframe thead th {\n",
       "        text-align: right;\n",
       "    }\n",
       "</style>\n",
       "<table border=\"1\" class=\"dataframe\">\n",
       "  <thead>\n",
       "    <tr style=\"text-align: right;\">\n",
       "      <th></th>\n",
       "      <th>mql_id</th>\n",
       "      <th>first_contact_date</th>\n",
       "      <th>landing_page_id</th>\n",
       "      <th>origin</th>\n",
       "    </tr>\n",
       "  </thead>\n",
       "  <tbody>\n",
       "    <tr>\n",
       "      <td>count</td>\n",
       "      <td>8000</td>\n",
       "      <td>8000</td>\n",
       "      <td>8000</td>\n",
       "      <td>7940</td>\n",
       "    </tr>\n",
       "    <tr>\n",
       "      <td>unique</td>\n",
       "      <td>8000</td>\n",
       "      <td>336</td>\n",
       "      <td>495</td>\n",
       "      <td>10</td>\n",
       "    </tr>\n",
       "    <tr>\n",
       "      <td>top</td>\n",
       "      <td>71a592ef199d8e8f91b3ee5feecd86f1</td>\n",
       "      <td>2018-05-02</td>\n",
       "      <td>b76ef37428e6799c421989521c0e5077</td>\n",
       "      <td>organic_search</td>\n",
       "    </tr>\n",
       "    <tr>\n",
       "      <td>freq</td>\n",
       "      <td>1</td>\n",
       "      <td>93</td>\n",
       "      <td>912</td>\n",
       "      <td>2296</td>\n",
       "    </tr>\n",
       "  </tbody>\n",
       "</table>\n",
       "</div>"
      ],
      "text/plain": [
       "                                  mql_id first_contact_date  \\\n",
       "count                               8000               8000   \n",
       "unique                              8000                336   \n",
       "top     71a592ef199d8e8f91b3ee5feecd86f1         2018-05-02   \n",
       "freq                                   1                 93   \n",
       "\n",
       "                         landing_page_id          origin  \n",
       "count                               8000            7940  \n",
       "unique                               495              10  \n",
       "top     b76ef37428e6799c421989521c0e5077  organic_search  \n",
       "freq                                 912            2296  "
      ]
     },
     "execution_count": 65,
     "metadata": {},
     "output_type": "execute_result"
    }
   ],
   "source": [
    "df_leads.describe()"
   ]
  },
  {
   "cell_type": "code",
   "execution_count": 66,
   "metadata": {},
   "outputs": [],
   "source": [
    "def land_page_map():\n",
    "    land_page_dict = {}\n",
    "    ID = 0\n",
    "    for page in df_leads['landing_page_id'].unique():\n",
    "        land_page_dict[page] = ID\n",
    "        ID += 1\n",
    "        \n",
    "    return land_page_dict"
   ]
  },
  {
   "cell_type": "code",
   "execution_count": 67,
   "metadata": {},
   "outputs": [],
   "source": [
    "page_id_map = land_page_map()"
   ]
  },
  {
   "cell_type": "code",
   "execution_count": 68,
   "metadata": {},
   "outputs": [],
   "source": [
    "def create_mapping_column(df):\n",
    "    plot_id = []\n",
    "    for i in df['landing_page_id']:\n",
    "        plot_id.append(page_id_map.get(i))\n",
    "    \n",
    "    return plot_id"
   ]
  },
  {
   "cell_type": "code",
   "execution_count": 101,
   "metadata": {},
   "outputs": [],
   "source": [
    "def plot_top_n_land_page(df, n):\n",
    "    series = pd.DataFrame(df,columns = ['landing_page_id'])\n",
    "    series['plot_id'] = create_mapping_column(df)\n",
    "    \n",
    "    #page_count = series['plot_id'].value_counts()/len(df)\n",
    "    series['freq'] = series['plot_id'].map(series['plot_id'].value_counts())\n",
    "    series = series.groupby(['landing_page_id','plot_id'])['freq'].agg('max').reset_index()\n",
    "    series = series.sort_values(by=['freq'],ascending=False)\n",
    "    page_count = series[:n]\n",
    "    \n",
    "    sns.barplot(page_count['plot_id'], page_count['freq'], order = page_count['freq'], alpha=0.8, color=\"salmon\")\n",
    "    #sns.barplot(data = series, x = 'plot_id', y = 'freq', order alpha=0.8, color=\"salmon\")\n",
    "    plt.title('Top 10 frequency of landing page id where the lead was aquired')\n",
    "    plt.ylabel('Frequency (%)', fontsize=12)\n",
    "    plt.xlabel('Landing page id', fontsize=12)\n",
    "    plt.show()"
   ]
  },
  {
   "cell_type": "code",
   "execution_count": 102,
   "metadata": {},
   "outputs": [
    {
     "data": {
      "image/png": "[encoded data removed]",
      "text/plain": [
       "<Figure size 1440x432 with 1 Axes>"
      ]
     },
     "metadata": {},
     "output_type": "display_data"
    }
   ],
   "source": [
    "plot_top_n_land_page(df_leads,10)"
   ]
  },
  {
   "cell_type": "code",
   "execution_count": null,
   "metadata": {},
   "outputs": [],
   "source": [
    "def plot_origin(df):\n",
    "    series = pd.DataFrame(df,columns = ['origin'])\n",
    "    origin_count = series['origin'].value_counts()/len(df)\n",
    "    \n",
    "    sns.barplot(origin_count.index, origin_count.values , alpha=0.8, color=\"salmon\")\n",
    "    plt.title('Top 10 frequency of the type of media where the lead was aquired')\n",
    "    plt.ylabel('Frequency (%)', fontsize=12)\n",
    "    plt.xlabel('Origin', fontsize=12)\n",
    "    plt.show()"
   ]
  },
  {
   "cell_type": "code",
   "execution_count": null,
   "metadata": {},
   "outputs": [],
   "source": [
    "plot_origin(df_leads)"
   ]
  },
  {
   "cell_type": "code",
   "execution_count": null,
   "metadata": {},
   "outputs": [],
   "source": [
    "def plot_timeline(df, pct = True, log = False, origin = True):\n",
    "    series = pd.DataFrame(df,columns = ['first_contact_date','origin'])\n",
    "    series['freq'] = series.groupby(['first_contact_date','origin'])['first_contact_date'].transform('count')\n",
    "    series = series.drop_duplicates()\n",
    "    \n",
    "    new = series[\"first_contact_date\"].str.split(\"-\", n = 2, expand = True)\n",
    "    series['first_contact_month'] = new[0]+'-'+new[1]+'-'+'01'\n",
    "    \n",
    "    series = series.groupby(['first_contact_month','origin'])['freq'].agg('sum').reset_index()\n",
    "    \n",
    "    series['log_value'] = np.log(series['freq'])\n",
    "    series['log2_value'] = np.log2(series['freq'])\n",
    "    series['percentage'] = series['freq']/len(df)\n",
    "    series['first_contact_month'] = pd.to_datetime(series.first_contact_month)\n",
    "    \n",
    "    if origin == True:\n",
    "        \n",
    "        if pct == True:\n",
    "            sns.lineplot(data=series,x='first_contact_month',y='percentage',hue='origin',err_style=None)\n",
    "            plt.title('Percentage of frequency over time by type of media where the lead was aquired')\n",
    "            plt.ylabel('Frequency (%)', fontsize=12)\n",
    "            plt.xlabel('Date', fontsize=12)\n",
    "            plt.show()\n",
    "        \n",
    "        else:\n",
    "            if log == True:\n",
    "                sns.lineplot(data=series,x='first_contact_month',y='log_value',hue='origin',err_style=None)\n",
    "                plt.title('Log value of frequency over time by type of media where the lead was aquired')\n",
    "                plt.ylabel('Log value of frequency', fontsize=12)\n",
    "                plt.xlabel('Date', fontsize=12)\n",
    "                plt.show()\n",
    "                \n",
    "            else:\n",
    "                sns.lineplot(data=series,x='first_contact_month',y='freq',hue='origin',err_style=None)\n",
    "                plt.title('Frequency over time by type of media where the lead was aquired')\n",
    "                plt.ylabel('Frequency', fontsize=12)\n",
    "                plt.xlabel('Date', fontsize=12)\n",
    "                plt.show()\n",
    "    \n",
    "    else:\n",
    "        sns.lineplot(data=series,x='first_contact_month',y='freq',err_style=None)\n",
    "        plt.title('Frequency over time where the lead was aquired')\n",
    "        plt.ylabel('Frequency', fontsize=12)\n",
    "        plt.xlabel('Date', fontsize=12)\n",
    "        plt.show()     \n",
    "        "
   ]
  },
  {
   "cell_type": "code",
   "execution_count": null,
   "metadata": {},
   "outputs": [],
   "source": [
    "plot_timeline(df_leads, pct = True, log = False, origin = True)"
   ]
  }
 ],
 "metadata": {
  "kernelspec": {
   "display_name": "Python 3",
   "language": "python",
   "name": "python3"
  },
  "language_info": {
   "codemirror_mode": {
    "name": "ipython",
    "version": 3
   },
   "file_extension": ".py",
   "mimetype": "text/x-python",
   "name": "python",
   "nbconvert_exporter": "python",
   "pygments_lexer": "ipython3",
   "version": "3.7.4"
  }
 },
 "nbformat": 4,
 "nbformat_minor": 2
}
