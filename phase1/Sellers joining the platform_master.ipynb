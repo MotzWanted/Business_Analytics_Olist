{
 "cells": [
  {
   "cell_type": "markdown",
   "metadata": {},
   "source": [
    "# Overview\n",
    "\n",
    "This notebook consist of two parts; 1) a descriptive analysis and 2) a predictive analysis. The descriptive analysis aim to investigate how sellers land on the platform and what channels are more effective, while the predictive analysis aim the estimate which sellers the SDR/SR should prioritize in order to land on the platform. It is crucial for business to attract customers, in Olist's case sellers, which attract customers. Since Olist retain 15% of the order value, then if Olist wants to increase their revenue, they have to attract sellers which generate many orders and/or high valued orders."
   ]
  },
  {
   "cell_type": "markdown",
   "metadata": {},
   "source": [
    "## KPI's\n",
    "\n",
    "5 lines about KPI and mention these in the conclusion as well."
   ]
  },
  {
   "cell_type": "markdown",
   "metadata": {},
   "source": [
    "# <font color='blue'>Setup 1</font>: Load Libraries"
   ]
  },
  {
   "cell_type": "code",
   "execution_count": 1,
   "metadata": {},
   "outputs": [],
   "source": [
    "#Loading all libraries used in phase 1\n",
    "import numpy as np\n",
    "import pandas as pd\n",
    "import sys, os\n",
    "from sklearn.model_selection import cross_val_score, GridSearchCV\n",
    "from sklearn.ensemble import RandomForestRegressor\n",
    "from sklearn.model_selection import RandomizedSearchCV\n",
    "import seaborn as sns\n",
    "import matplotlib.pyplot as plt\n",
    "from scipy import stats\n",
    "%matplotlib inline\n",
    "sns.set()\n",
    "sns.color_palette(\"Paired\")\n",
    "plt.rcParams['figure.figsize'] = (20.0, 6.0)\n",
    "plt.style.use('ggplot')"
   ]
  },
  {
   "cell_type": "markdown",
   "metadata": {},
   "source": [
    "# <font color='blue'>Setup 2</font>: Load data\n",
    "The notebook will focus on the marketing funnel dataset. Therefore, only the following datasets are investigated:\n",
    "\n",
    "- olist_marketing_qualified_leads_dataset\n",
    "- olist_closed_deals_dataset\n",
    "\n",
    "First, the olist_closed_deals_dataset is investigated solely and later the two datasets are joined by the left-join operation and dataformat is set. "
   ]
  },
  {
   "cell_type": "code",
   "execution_count": 2,
   "metadata": {},
   "outputs": [],
   "source": [
    "def load_table(tablename):\n",
    "    \"\"\" Defining the current directory and path to where data are located. Joining path to\n",
    "    data folder and table name in order to read the table into a Pandas DataFrame\"\"\"\n",
    "    \n",
    "    file_path = os.path.join ('../data/') \n",
    "\n",
    "    df = os.path.join(file_path, tablename) \n",
    "    df = pd.read_csv(df, sep=',', encoding=\"latin1\") \n",
    "    \n",
    "    return df"
   ]
  },
  {
   "cell_type": "code",
   "execution_count": 3,
   "metadata": {},
   "outputs": [],
   "source": [
    "# Reading the olist_marketing_qualified_leads table\n",
    "leads = load_table('olist_marketing_qualified_leads_dataset.csv')\n",
    "#Reading the olist_closed_deals table\n",
    "closed_leads = load_table('olist_closed_deals_dataset.csv')"
   ]
  },
  {
   "cell_type": "markdown",
   "metadata": {},
   "source": [
    "# <font color='blue'>Setup 3</font>: Plotting functions\n",
    "Some plotting function are defined to contribute the descriptive analysis with less coding and more describing text. All the following functions are thus just defined and called later in the script when needed. "
   ]
  },
  {
   "cell_type": "code",
   "execution_count": 4,
   "metadata": {},
   "outputs": [],
   "source": [
    "def land_page_map(df):\n",
    "    land_page_dict = {}\n",
    "    ID = 0\n",
    "    for page in df['landing_page_id'].unique():\n",
    "        land_page_dict[page] = ID\n",
    "        ID += 1\n",
    "        \n",
    "    return land_page_dict\n",
    "\n",
    "page_id_map = land_page_map(leads)"
   ]
  },
  {
   "cell_type": "code",
   "execution_count": 5,
   "metadata": {},
   "outputs": [],
   "source": [
    "def create_mapping_column(df):\n",
    "    plot_id = []\n",
    "    for i in df['landing_page_id']:\n",
    "        plot_id.append(page_id_map.get(i))\n",
    "    \n",
    "    return plot_id"
   ]
  },
  {
   "cell_type": "code",
   "execution_count": 6,
   "metadata": {},
   "outputs": [],
   "source": [
    "def plot_timeline(df, title, pct = True, log = False, origin = True):\n",
    "    sns.set_palette(sns.color_palette(\"Paired\"))\n",
    "    \n",
    "    series = pd.DataFrame(df,columns = ['first_contact_date','origin'])\n",
    "    series['freq'] = series.groupby(['first_contact_date','origin'])['first_contact_date'].transform('count')\n",
    "    series = series.drop_duplicates()\n",
    "    \n",
    "    new = series[\"first_contact_date\"].str.split(\"-\", n = 2, expand = True)\n",
    "    series['first_contact_month'] = new[0]+'-'+new[1]+'-'+'01'\n",
    "    \n",
    "    series = series.groupby(['first_contact_month','origin'])['freq'].agg('sum').reset_index()\n",
    "    \n",
    "    series['log_value'] = np.log(series['freq'])\n",
    "    series['log2_value'] = np.log2(series['freq'])\n",
    "    series['percentage'] = series['freq']/len(df)\n",
    "    series['first_contact_month'] = pd.to_datetime(series.first_contact_month)\n",
    "    \n",
    "    if origin == True:\n",
    "        \n",
    "        if pct == True:\n",
    "            plt.figure(figsize=(20,6))\n",
    "            sns.lineplot(data=series,x='first_contact_month',y='percentage',hue='origin',err_style=None)\n",
    "            plt.title('Frequency over time by type of media where the lead was aquired')\n",
    "            plt.ylabel('Frequency (%)', fontsize=12)\n",
    "            plt.xlabel('Date', fontsize=12)\n",
    "            plt.show()\n",
    "        \n",
    "        else:\n",
    "            if log == True:\n",
    "                plt.figure(figsize=(20,6))\n",
    "                sns.lineplot(data=series,x='first_contact_month',y='log_value',hue='origin',err_style=None)\n",
    "                plt.title('Log value of frequency over time by type of media where the lead was aquired')\n",
    "                plt.ylabel('Log value of frequency', fontsize=12)\n",
    "                plt.xlabel('Date', fontsize=12)\n",
    "                plt.show()\n",
    "                \n",
    "            else:\n",
    "                plt.figure(figsize=(20,6))\n",
    "                sns.lineplot(data=series,x='first_contact_month',y='freq',hue='origin',err_style=None)\n",
    "                plt.title('Frequency over time by type of media where the lead was aquired')\n",
    "                plt.ylabel('Frequency', fontsize=12)\n",
    "                plt.xlabel('Date', fontsize=12)\n",
    "                plt.show()\n",
    "    \n",
    "    else:\n",
    "        plt.figure(figsize=(20,6))\n",
    "        sns.lineplot(data=series,x='first_contact_month',y='freq',err_style=None)\n",
    "        plt.title(title)\n",
    "        plt.ylabel('Frequency', fontsize=12)\n",
    "        plt.xlabel('Date', fontsize=12)\n",
    "        plt.show()     \n",
    "        "
   ]
  },
  {
   "cell_type": "code",
   "execution_count": 7,
   "metadata": {},
   "outputs": [],
   "source": [
    "def plot_origin(df, year=True):\n",
    "    sns.set_palette(sns.color_palette(\"Paired\"))\n",
    "    \n",
    "    series = pd.DataFrame(df,columns = ['first_contact_date','origin'])\n",
    "    series['freq'] = series.groupby(['first_contact_date','origin'])['origin'].transform('count')\n",
    "    series = series.drop_duplicates()\n",
    "    \n",
    "    new = series[\"first_contact_date\"].str.split(\"-\", n = 2, expand = True)\n",
    "    series['first_contact_year'] = new[0]\n",
    "    \n",
    "    series = series.groupby(['first_contact_year','origin'])['freq'].agg('sum').reset_index()\n",
    "    series['percentage'] = round(series['freq']/len(df),2)\n",
    "    \n",
    "    if year==True:\n",
    "        plt.figure(figsize=(20,6))\n",
    "        sns.barplot(data=series, x='origin',y='percentage' , alpha=0.8, hue='first_contact_year')\n",
    "        plt.title('Frequency by year of the type of media where the lead was aquired')\n",
    "        plt.ylabel('Frequency (%)', fontsize=12)\n",
    "        plt.xlabel('Origin', fontsize=12)\n",
    "        plt.show()\n",
    "    else:\n",
    "        plt.figure(figsize=(20,6))\n",
    "        sns.barplot(data=series, x='origin',y='percentage' , alpha=0.8)\n",
    "        plt.title('Frequency of the type of media where the lead was aquired')\n",
    "        plt.ylabel('Frequency (%)', fontsize=12)\n",
    "        plt.xlabel('Origin', fontsize=12)\n",
    "        plt.show()"
   ]
  },
  {
   "cell_type": "code",
   "execution_count": 19,
   "metadata": {},
   "outputs": [],
   "source": [
    "def plot_top_n_land_page(df, n):\n",
    "    sns.set_palette(sns.color_palette(\"Paired\"))\n",
    "    \n",
    "    series = pd.DataFrame(df,columns = ['landing_page_id'])\n",
    "    series['plot_id'] = create_mapping_column(df)\n",
    "    \n",
    "    series['freq'] = series['plot_id'].map(series['plot_id'].value_counts())\n",
    "    series = series.groupby(['landing_page_id','plot_id'])['freq'].agg('max').reset_index()\n",
    "    series = series.sort_values(by=['freq'],ascending=False)\n",
    "    series['percentage'] = round(series['freq']/len(df),2)\n",
    "    page_count = series[:n]\n",
    "    \n",
    "    plt.figure(figsize=(20,6))\n",
    "    sns.barplot(data=page_count, x='plot_id', y='percentage', order=page_count['plot_id'], alpha=0.8)\n",
    "    plt.title('Top 10 frequency of landing page id where the lead was aquired')\n",
    "    plt.ylabel('Frequency (%)', fontsize=12)\n",
    "    plt.xlabel('Landing page id', fontsize=12)\n",
    "    plt.show()\n",
    "    \n",
    "    print(page_count)"
   ]
  },
  {
   "cell_type": "code",
   "execution_count": 9,
   "metadata": {},
   "outputs": [],
   "source": [
    "def plot_closed_vs_not(df1, df2):\n",
    "    sns.set_palette(sns.color_palette(\"Paired\"))\n",
    "    \n",
    "    series = pd.DataFrame(df1,columns = ['mql_id','origin'])\n",
    "    ids = [x for x in df2.mql_id]\n",
    "    series['closed'] = ['Closed' if x in ids else 'Not closed' for x in series.mql_id]\n",
    "    series['freq'] = series.groupby(['origin','closed'])['origin'].transform('count')\n",
    "    series = series.drop_duplicates()\n",
    "    \n",
    "    series = series.groupby(['origin','closed'])['freq'].agg('max').reset_index()\n",
    "    series['percentage'] = np.where(series['closed']=='Not closed', round(series['freq']/len(df1),2), round(series['freq']/len(df2),2))\n",
    "    \n",
    "    plt.figure(figsize=(20,6))\n",
    "    sns.barplot(data=series, x='origin',y='percentage', hue='closed', alpha=0.8)\n",
    "    plt.title('Closed vs Not closed by the type of media where the lead was aquired')\n",
    "    plt.ylabel('Frequency (%)', fontsize=12)\n",
    "    plt.xlabel('Origin', fontsize=12)\n",
    "    plt.show() "
   ]
  },
  {
   "cell_type": "markdown",
   "metadata": {},
   "source": [
    "# <font color='blue'>Part 1</font>: Descriptive analysis"
   ]
  },
  {
   "cell_type": "markdown",
   "metadata": {},
   "source": [
    "In terms of providing some context, the following discription is taken from the documentation:\n",
    "> A seller join Olist through a marketing and sales funnel that was made public at this dataset. Description of steps:\n",
    "1. After a lead fills in a form at a landing page, a filter is made to select the ones that are qualified to sell their products at Olist. They are the Marketing Qualified Leads (MQLs).\n",
    "2. Then the Marketing Qualified Leads (MQLs) is contacted by a Sales Development Representative. (SDR), confirm some information and schedule a consultancy.\n",
    "3. Consultancy is made by a Sales Representative (SR). The SR may close the deal (lead sing up) or lose the deal (led leaves without sign in)\n",
    "4. Lead becomes a seller and starts building his catalog on Olist. His products are published on marketplaces and ready to sell!"
   ]
  },
  {
   "cell_type": "markdown",
   "metadata": {},
   "source": [
    "To investigate how sellers land on the platform and what channels are more effective we want to answer the following questions:\n",
    "\n",
    "1. How does the number of marketing qualified leads move over time?\n",
    "2. Which landing pages brings in most qualified leads?\n",
    "3. Which of the landing pages is most effective? \n",
    "4. Which media types does the closed leads origin from? and which ones are most effective?\n",
    "5. How long time is the average closing? \n",
    "6. Are there periods where it seems more appropriate to contact the leads than others?\n",
    "7. How many customers does already have a declaired revenue? And what type of business are they? \n",
    "8. Which SDR/SR is best at talking to different business segments?"
   ]
  },
  {
   "cell_type": "markdown",
   "metadata": {},
   "source": [
    "## <font color='blue'>1.1</font>:  How does the number of marketing qualified leads move over time?"
   ]
  },
  {
   "cell_type": "markdown",
   "metadata": {},
   "source": [
    "At first, we are exploring the leads dataset to get an idea about how many leads we have. "
   ]
  },
  {
   "cell_type": "code",
   "execution_count": 10,
   "metadata": {
    "scrolled": true
   },
   "outputs": [
    {
     "data": {
      "text/html": [
       "<div>\n",
       "<style scoped>\n",
       "    .dataframe tbody tr th:only-of-type {\n",
       "        vertical-align: middle;\n",
       "    }\n",
       "\n",
       "    .dataframe tbody tr th {\n",
       "        vertical-align: top;\n",
       "    }\n",
       "\n",
       "    .dataframe thead th {\n",
       "        text-align: right;\n",
       "    }\n",
       "</style>\n",
       "<table border=\"1\" class=\"dataframe\">\n",
       "  <thead>\n",
       "    <tr style=\"text-align: right;\">\n",
       "      <th></th>\n",
       "      <th>mql_id</th>\n",
       "      <th>first_contact_date</th>\n",
       "      <th>landing_page_id</th>\n",
       "      <th>origin</th>\n",
       "    </tr>\n",
       "  </thead>\n",
       "  <tbody>\n",
       "    <tr>\n",
       "      <th>count</th>\n",
       "      <td>8000</td>\n",
       "      <td>8000</td>\n",
       "      <td>8000</td>\n",
       "      <td>7940</td>\n",
       "    </tr>\n",
       "    <tr>\n",
       "      <th>unique</th>\n",
       "      <td>8000</td>\n",
       "      <td>336</td>\n",
       "      <td>495</td>\n",
       "      <td>10</td>\n",
       "    </tr>\n",
       "    <tr>\n",
       "      <th>top</th>\n",
       "      <td>33ce1e734d9d50629fa2c36769285d53</td>\n",
       "      <td>2018-05-02</td>\n",
       "      <td>b76ef37428e6799c421989521c0e5077</td>\n",
       "      <td>organic_search</td>\n",
       "    </tr>\n",
       "    <tr>\n",
       "      <th>freq</th>\n",
       "      <td>1</td>\n",
       "      <td>93</td>\n",
       "      <td>912</td>\n",
       "      <td>2296</td>\n",
       "    </tr>\n",
       "  </tbody>\n",
       "</table>\n",
       "</div>"
      ],
      "text/plain": [
       "                                  mql_id first_contact_date  \\\n",
       "count                               8000               8000   \n",
       "unique                              8000                336   \n",
       "top     33ce1e734d9d50629fa2c36769285d53         2018-05-02   \n",
       "freq                                   1                 93   \n",
       "\n",
       "                         landing_page_id          origin  \n",
       "count                               8000            7940  \n",
       "unique                               495              10  \n",
       "top     b76ef37428e6799c421989521c0e5077  organic_search  \n",
       "freq                                 912            2296  "
      ]
     },
     "execution_count": 10,
     "metadata": {},
     "output_type": "execute_result"
    }
   ],
   "source": [
    "leads.describe()"
   ]
  },
  {
   "cell_type": "markdown",
   "metadata": {},
   "source": [
    "In the olist marketing qualified leads dataset we find 8.000 unique marketing qualified leads. Those 8.000 leads was acquired on 495 unique landing pages spread out on 336 unique contact dates. The landing pages can be categorised into 10 types of media where the lead was acquired. The first lead was acquired 06-14-2017 and the latest 05-31-2018."
   ]
  },
  {
   "cell_type": "code",
   "execution_count": 11,
   "metadata": {},
   "outputs": [
    {
     "name": "stderr",
     "output_type": "stream",
     "text": [
      "/Users/MartinJohnsen/anaconda3/lib/python3.7/site-packages/pandas/plotting/_converter.py:129: FutureWarning: Using an implicitly registered datetime converter for a matplotlib plotting method. The converter was registered by pandas on import. Future versions of pandas will require you to explicitly register matplotlib converters.\n",
      "\n",
      "To register the converters:\n",
      "\t>>> from pandas.plotting import register_matplotlib_converters\n",
      "\t>>> register_matplotlib_converters()\n",
      "  warnings.warn(msg, FutureWarning)\n"
     ]
    },
    {
     "data": {
      "image/png": "[encoded data removed]",
      "text/plain": [
       "<Figure size 1440x432 with 1 Axes>"
      ]
     },
     "metadata": {
      "needs_background": "light"
     },
     "output_type": "display_data"
    }
   ],
   "source": [
    "#Plotting the leads as a function of time using one of the plotting functions defined in setup 3\n",
    "plot_timeline(leads, \"Number of qualified marketing leads over time\", pct = False, log = False, origin = False)"
   ]
  },
  {
   "cell_type": "markdown",
   "metadata": {},
   "source": [
    "Between November 2017 and January 2018 we see a significant rise in acquired marketing qualified leads. This overview can be split into different types of media where the lead originated. "
   ]
  },
  {
   "cell_type": "code",
   "execution_count": 12,
   "metadata": {},
   "outputs": [
    {
     "data": {
      "image/png": "[encoded data removed]",
      "text/plain": [
       "<Figure size 1440x432 with 1 Axes>"
      ]
     },
     "metadata": {
      "needs_background": "light"
     },
     "output_type": "display_data"
    }
   ],
   "source": [
    "#Plotting the different lead types as a function of time using one of the plotting functions defined in setup 3\n",
    "plot_timeline(leads, \"\", pct = True, log = False, origin = True)"
   ]
  },
  {
   "cell_type": "code",
   "execution_count": 13,
   "metadata": {},
   "outputs": [
    {
     "data": {
      "image/png": "[encoded data removed]",
      "text/plain": [
       "<Figure size 1440x432 with 1 Axes>"
      ]
     },
     "metadata": {
      "needs_background": "light"
     },
     "output_type": "display_data"
    }
   ],
   "source": [
    "#Plotting the frequency by year\n",
    "plot_origin(leads, year=True)"
   ]
  },
  {
   "cell_type": "markdown",
   "metadata": {},
   "source": [
    "In general, we see an increase in the number of qualified lead over time. However, as the last plot in 1.1 shows, the relative increase in `organic_search`, `paid_search` and `social` has been most significant. "
   ]
  },
  {
   "cell_type": "markdown",
   "metadata": {},
   "source": [
    "## <font color='blue'>1.2</font>:  Which landing pages brings in most qualified leads?"
   ]
  },
  {
   "cell_type": "markdown",
   "metadata": {},
   "source": [
    "In the below cell, we are providing an overview over which landing pages that results in the most qualified leads. Note that the different landing pages does not have an interpretable name, and thus we have turned the landing page ID's into integers. "
   ]
  },
  {
   "cell_type": "code",
   "execution_count": 20,
   "metadata": {
    "scrolled": false
   },
   "outputs": [
    {
     "data": {
      "image/png": "[encoded data removed]",
      "text/plain": [
       "<Figure size 1440x432 with 1 Axes>"
      ]
     },
     "metadata": {
      "needs_background": "light"
     },
     "output_type": "display_data"
    },
    {
     "name": "stdout",
     "output_type": "stream",
     "text": [
      "                      landing_page_id  plot_id  freq  percentage\n",
      "356  b76ef37428e6799c421989521c0e5077       15   912        0.11\n",
      "61   22c29808c4f815213303f8933030604c        5   883        0.11\n",
      "159  58326e62183c14b0c03085c33b9fdc44       23   495        0.06\n",
      "262  88740e65d5d6b056e0cda098e1ea6313        0   445        0.06\n",
      "394  ce1a65abd0973638f1c887a6efcfa82d       38   394        0.05\n",
      "122  40dec9f3d5259a3d2dbcdab2114fae47       46   330        0.04\n",
      "468  f017be4dbf86243af5c1ebed0cff36a2        9   310        0.04\n",
      "443  e492ee5eaf1697716985cc6f33f9cd9b       25   291        0.04\n",
      "321  a7982125ff7aa3b2054c6e44f9d28522        2   156        0.02\n",
      "228  73f31a40697cc90a86c1273563ac230e       12   115        0.01\n"
     ]
    }
   ],
   "source": [
    "#Plotting top 10 landing pages\n",
    "plot_top_n_land_page(leads,10)"
   ]
  },
  {
   "cell_type": "markdown",
   "metadata": {},
   "source": [
    "Over 20% of the marketing qualified leads are acquired through the landing pages *b76ef37428e6799c421989521c0e5077* and *22c29808c4f815213303f8933030604c*. This insight enables Olist to investigate whether this is due to heavier marketing budgets or whether it is because of the landing pages being exploited more relevant places. Such investigation would depend on more specific data, which is not obtained in this project. "
   ]
  },
  {
   "cell_type": "markdown",
   "metadata": {},
   "source": [
    "## <font color='blue'>1.3</font>: Which of the landing pages is most effective? \n",
    "The olist_marketing_qualified_leads_dataset is now joined with the olist_closed_deals_dataset. The two datasets are merged, so we can obtain insights on the amount of closed deals and compare it with the total qualified marketing leads. This enables us to find which landing page is the most effective one, i.e. closing as many leads as possible."
   ]
  },
  {
   "cell_type": "code",
   "execution_count": 15,
   "metadata": {},
   "outputs": [
    {
     "data": {
      "text/html": [
       "<div>\n",
       "<style scoped>\n",
       "    .dataframe tbody tr th:only-of-type {\n",
       "        vertical-align: middle;\n",
       "    }\n",
       "\n",
       "    .dataframe tbody tr th {\n",
       "        vertical-align: top;\n",
       "    }\n",
       "\n",
       "    .dataframe thead th {\n",
       "        text-align: right;\n",
       "    }\n",
       "</style>\n",
       "<table border=\"1\" class=\"dataframe\">\n",
       "  <thead>\n",
       "    <tr style=\"text-align: right;\">\n",
       "      <th></th>\n",
       "      <th>mql_id</th>\n",
       "      <th>seller_id</th>\n",
       "      <th>sdr_id</th>\n",
       "      <th>sr_id</th>\n",
       "      <th>won_date</th>\n",
       "      <th>business_segment</th>\n",
       "      <th>lead_type</th>\n",
       "      <th>lead_behaviour_profile</th>\n",
       "      <th>has_company</th>\n",
       "      <th>has_gtin</th>\n",
       "      <th>average_stock</th>\n",
       "      <th>business_type</th>\n",
       "      <th>first_contact_date</th>\n",
       "      <th>landing_page_id</th>\n",
       "      <th>origin</th>\n",
       "    </tr>\n",
       "  </thead>\n",
       "  <tbody>\n",
       "    <tr>\n",
       "      <th>count</th>\n",
       "      <td>842</td>\n",
       "      <td>842</td>\n",
       "      <td>842</td>\n",
       "      <td>842</td>\n",
       "      <td>842</td>\n",
       "      <td>841</td>\n",
       "      <td>836</td>\n",
       "      <td>665</td>\n",
       "      <td>63</td>\n",
       "      <td>64</td>\n",
       "      <td>66</td>\n",
       "      <td>832</td>\n",
       "      <td>842</td>\n",
       "      <td>842</td>\n",
       "      <td>828</td>\n",
       "    </tr>\n",
       "    <tr>\n",
       "      <th>unique</th>\n",
       "      <td>842</td>\n",
       "      <td>842</td>\n",
       "      <td>32</td>\n",
       "      <td>22</td>\n",
       "      <td>824</td>\n",
       "      <td>33</td>\n",
       "      <td>8</td>\n",
       "      <td>9</td>\n",
       "      <td>2</td>\n",
       "      <td>2</td>\n",
       "      <td>6</td>\n",
       "      <td>3</td>\n",
       "      <td>195</td>\n",
       "      <td>134</td>\n",
       "      <td>10</td>\n",
       "    </tr>\n",
       "    <tr>\n",
       "      <th>top</th>\n",
       "      <td>33ce1e734d9d50629fa2c36769285d53</td>\n",
       "      <td>7adbd3210a7b3cc2235e225eef33574d</td>\n",
       "      <td>4b339f9567d060bcea4f5136b9f5949e</td>\n",
       "      <td>4ef15afb4b2723d8f3d81e51ec7afefe</td>\n",
       "      <td>2018-05-04 03:00:00</td>\n",
       "      <td>home_decor</td>\n",
       "      <td>online_medium</td>\n",
       "      <td>cat</td>\n",
       "      <td>True</td>\n",
       "      <td>True</td>\n",
       "      <td>5-20</td>\n",
       "      <td>reseller</td>\n",
       "      <td>2018-02-06</td>\n",
       "      <td>22c29808c4f815213303f8933030604c</td>\n",
       "      <td>organic_search</td>\n",
       "    </tr>\n",
       "    <tr>\n",
       "      <th>freq</th>\n",
       "      <td>1</td>\n",
       "      <td>1</td>\n",
       "      <td>140</td>\n",
       "      <td>133</td>\n",
       "      <td>6</td>\n",
       "      <td>105</td>\n",
       "      <td>332</td>\n",
       "      <td>407</td>\n",
       "      <td>58</td>\n",
       "      <td>54</td>\n",
       "      <td>22</td>\n",
       "      <td>587</td>\n",
       "      <td>14</td>\n",
       "      <td>174</td>\n",
       "      <td>271</td>\n",
       "    </tr>\n",
       "  </tbody>\n",
       "</table>\n",
       "</div>"
      ],
      "text/plain": [
       "                                  mql_id                         seller_id  \\\n",
       "count                                842                               842   \n",
       "unique                               842                               842   \n",
       "top     33ce1e734d9d50629fa2c36769285d53  7adbd3210a7b3cc2235e225eef33574d   \n",
       "freq                                   1                                 1   \n",
       "\n",
       "                                  sdr_id                             sr_id  \\\n",
       "count                                842                               842   \n",
       "unique                                32                                22   \n",
       "top     4b339f9567d060bcea4f5136b9f5949e  4ef15afb4b2723d8f3d81e51ec7afefe   \n",
       "freq                                 140                               133   \n",
       "\n",
       "                   won_date business_segment      lead_type  \\\n",
       "count                   842              841            836   \n",
       "unique                  824               33              8   \n",
       "top     2018-05-04 03:00:00       home_decor  online_medium   \n",
       "freq                      6              105            332   \n",
       "\n",
       "       lead_behaviour_profile has_company has_gtin average_stock  \\\n",
       "count                     665          63       64            66   \n",
       "unique                      9           2        2             6   \n",
       "top                       cat        True     True          5-20   \n",
       "freq                      407          58       54            22   \n",
       "\n",
       "       business_type first_contact_date                   landing_page_id  \\\n",
       "count            832                842                               842   \n",
       "unique             3                195                               134   \n",
       "top         reseller         2018-02-06  22c29808c4f815213303f8933030604c   \n",
       "freq             587                 14                               174   \n",
       "\n",
       "                origin  \n",
       "count              828  \n",
       "unique              10  \n",
       "top     organic_search  \n",
       "freq               271  "
      ]
     },
     "execution_count": 15,
     "metadata": {},
     "output_type": "execute_result"
    }
   ],
   "source": [
    "#Merging the closed leads and leads dataset and displaying information about the closed leads dataset\n",
    "closed_leads = closed_leads.merge(leads, on=\"mql_id\", how= \"left\")\n",
    "closed_leads.describe(include=['O'])"
   ]
  },
  {
   "cell_type": "markdown",
   "metadata": {},
   "source": [
    "In the joined dataset we find 842 unique closed leads. I.e. out of the 8.000 marketing qualified leads only ~10% was closed. The 842 closed leads was contacted by one of 32 sales development representatives (SDR), while the consultancy was provided by 22 different sales representatives (SR). The `sellers` are categorised into 33 different `business_segment`, 3 `business_type`, 8 `lead_type` and 9 `lead_behaviour_profile`. Furthermore, an `average_stock`, `declared_product_catalog_size` and `declared_monthly_revenue` is occasionally noted. The first lead was closed 12-05-2017 and the latest 11-14-2018."
   ]
  },
  {
   "cell_type": "code",
   "execution_count": 16,
   "metadata": {},
   "outputs": [
    {
     "data": {
      "image/png": "[encoded data removed]",
      "text/plain": [
       "<Figure size 1440x432 with 1 Axes>"
      ]
     },
     "metadata": {
      "needs_background": "light"
     },
     "output_type": "display_data"
    }
   ],
   "source": [
    "#Plotting the amount of closed marketing leads as a function of time. \n",
    "plot_timeline(closed_leads, \"Number of closed marketing leads over time\", pct = False, log = False, origin = False)"
   ]
  },
  {
   "cell_type": "markdown",
   "metadata": {},
   "source": [
    "Between November 2017 and January 2018 we see a significant rise in acquired marketing qualified leads. This also corresponds to the face that Olist had a significant increase in qualified leads in the same period. This indicates a correlation between the number of qualified leads and closed leads. \n",
    "\n",
    "To investigate which of the landing pages is most effective, i.e. closes the highest percentage of all qualified leads, the following plot shows which landing pages are most effective in terms of generating closed leads. "
   ]
  },
  {
   "cell_type": "code",
   "execution_count": 22,
   "metadata": {},
   "outputs": [
    {
     "data": {
      "image/png": "[encoded data removed]",
      "text/plain": [
       "<Figure size 1440x432 with 1 Axes>"
      ]
     },
     "metadata": {
      "needs_background": "light"
     },
     "output_type": "display_data"
    },
    {
     "name": "stdout",
     "output_type": "stream",
     "text": [
      "                      landing_page_id  plot_id  freq  percentage\n",
      "23   22c29808c4f815213303f8933030604c        5   174        0.21\n",
      "95   b76ef37428e6799c421989521c0e5077       15   171        0.20\n",
      "44   40dec9f3d5259a3d2dbcdab2114fae47       46    67        0.08\n",
      "106  ce1a65abd0973638f1c887a6efcfa82d       38    59        0.07\n",
      "77   88740e65d5d6b056e0cda098e1ea6313        0    31        0.04\n",
      "50   58326e62183c14b0c03085c33b9fdc44       23    27        0.03\n",
      "126  f017be4dbf86243af5c1ebed0cff36a2        9    21        0.02\n",
      "86   a7982125ff7aa3b2054c6e44f9d28522        2    18        0.02\n",
      "24   241f79c7a8fe0270f4fb79fcbbcd17ad       30    14        0.02\n",
      "68   7fa6214d82e911d070f51ef79381b956      110    11        0.01\n"
     ]
    }
   ],
   "source": [
    "#Plotting top 10 landing pages for closed leads\n",
    "plot_top_n_land_page(closed_leads,10)"
   ]
  },
  {
   "cell_type": "markdown",
   "metadata": {},
   "source": [
    "The two landing pages converting the most qualified leads into closed leads are the same top to pages generating the most qualified leads, which might sound trivial. However, relatively to how many qualified leads they are generating, both landing page _22c29808c4f815213303f8933030604c_ and _b76ef37428e6799c421989521c0e5077_ are generating singificantly more closed leads than any other landing page and thus have a higher conversion rate. \n",
    "\n",
    "This time over 40% of the closed marketing qualified leads are acquired through the landing pages *b76ef37428e6799c421989521c0e5077* and *22c29808c4f815213303f8933030604c*."
   ]
  },
  {
   "cell_type": "markdown",
   "metadata": {},
   "source": [
    "## <font color='blue'>1.4</font>: Which media types does the closed leads origin from? And which ones are most effective?"
   ]
  },
  {
   "cell_type": "markdown",
   "metadata": {},
   "source": [
    "Different landing pages are categorized into different media types, which might also make a difference in terms of conversion ratio. The effect of where the different leads originated is assed in the following cells. "
   ]
  },
  {
   "cell_type": "code",
   "execution_count": 28,
   "metadata": {},
   "outputs": [
    {
     "data": {
      "image/png": "[encoded data removed]",
      "text/plain": [
       "<Figure size 1440x432 with 1 Axes>"
      ]
     },
     "metadata": {
      "needs_background": "light"
     },
     "output_type": "display_data"
    }
   ],
   "source": [
    "#Plotting frequency of closed leads by the different media types\n",
    "plot_timeline(closed_leads, \"\", pct = True, log = False, origin = True)"
   ]
  },
  {
   "cell_type": "code",
   "execution_count": 30,
   "metadata": {},
   "outputs": [
    {
     "data": {
      "image/png": "[encoded data removed]",
      "text/plain": [
       "<Figure size 1440x432 with 1 Axes>"
      ]
     },
     "metadata": {
      "needs_background": "light"
     },
     "output_type": "display_data"
    }
   ],
   "source": [
    "#Plotting the different media types in terms of a per-year frequency \n",
    "plot_origin(closed_leads, year=True)"
   ]
  },
  {
   "cell_type": "markdown",
   "metadata": {},
   "source": [
    "This increase is again primarily attributable to the use of the media types `organic_search`, `paid_search` and `social`, as was the case in the qualified leads. \n",
    "\n",
    "The different media types' conversion rate can be assessed relative to how many qualified leads they are generating. The following visualization provides an overviw of how many \"closed\" on \"not closed\" leads each media type generates as percentage measure. Here \"not closed\" leads are defined by aquired qualified lead that are not converted into closed leads."
   ]
  },
  {
   "cell_type": "code",
   "execution_count": 32,
   "metadata": {},
   "outputs": [
    {
     "data": {
      "image/png": "[encoded data removed]",
      "text/plain": [
       "<Figure size 1440x432 with 1 Axes>"
      ]
     },
     "metadata": {
      "needs_background": "light"
     },
     "output_type": "display_data"
    }
   ],
   "source": [
    "#Plotting closed vs not closed\n",
    "plot_closed_vs_not(leads, closed_leads)"
   ]
  },
  {
   "cell_type": "markdown",
   "metadata": {},
   "source": [
    "This time we see that `organic_search` and `paid_search` is much more effect. Their importance is respectively ~6 and ~7 percentage point more significant."
   ]
  },
  {
   "cell_type": "markdown",
   "metadata": {},
   "source": [
    "## <font color='blue'>1.5</font>:  How long is the average period for closing a seller?"
   ]
  },
  {
   "cell_type": "code",
   "execution_count": null,
   "metadata": {},
   "outputs": [],
   "source": [
    "#Changing these columns to datetimes\n",
    "closed_leads.first_contact_date = pd.to_datetime(closed_leads.first_contact_date)\n",
    "closed_leads.won_date = pd.to_datetime(closed_leads.won_date)"
   ]
  },
  {
   "cell_type": "code",
   "execution_count": null,
   "metadata": {},
   "outputs": [],
   "source": [
    "#Making an overview of the period from initial contact to closed deal\n",
    "closed_leads[\"closing_period\"] = closed_leads.won_date-closed_leads.first_contact_date\n",
    "\n",
    "#Assessing the result from the operation. \n",
    "closed_leads.closing_period.head()"
   ]
  },
  {
   "cell_type": "markdown",
   "metadata": {},
   "source": [
    "Since a closing period can't be negative, we check if the feature extraction is done correctly."
   ]
  },
  {
   "cell_type": "code",
   "execution_count": null,
   "metadata": {},
   "outputs": [],
   "source": [
    "closed_leads[closed_leads.closing_period.values/np.timedelta64(1, 'D')<0]"
   ]
  },
  {
   "cell_type": "markdown",
   "metadata": {},
   "source": [
    "The feature extraction seems to been done correctly. However, one observation contains an impossible `won_date`. Therefor we choose to remove this observation from our dataset."
   ]
  },
  {
   "cell_type": "code",
   "execution_count": null,
   "metadata": {},
   "outputs": [],
   "source": [
    "closed_leads = closed_leads.drop(667)"
   ]
  },
  {
   "cell_type": "markdown",
   "metadata": {},
   "source": [
    "Since we have now obtained the time difference from when the initial contact was made until the closing, we are now able to use this datastrucutre to plot the distribution. "
   ]
  },
  {
   "cell_type": "code",
   "execution_count": null,
   "metadata": {},
   "outputs": [],
   "source": [
    "#Example od a datastructure:\n",
    "print(\"This is how the data is formatted: \",closed_leads.closing_period[0])\n",
    "print(\"This is the period plotted: \", closed_leads.closing_period.values[0]/np.timedelta64(1, 'D'))"
   ]
  },
  {
   "cell_type": "code",
   "execution_count": null,
   "metadata": {},
   "outputs": [],
   "source": [
    "plt.figure(figsize=(20,6))\n",
    "sns.distplot(closed_leads.closing_period/np.timedelta64(1, 'D'),bins=40, kde = False);"
   ]
  },
  {
   "cell_type": "markdown",
   "metadata": {},
   "source": [
    "## <font color='blue'>1.6</font>:  Are there periods where it seems more appropriate to contact the leads than others? \n",
    "\n",
    "This question is answered by looking at the leads dataset in comparison with all the closed sellers"
   ]
  },
  {
   "cell_type": "code",
   "execution_count": null,
   "metadata": {},
   "outputs": [],
   "source": [
    "#First, the format of the first_contact_date column in the lead dataset is also transformed into datetimes\n",
    "leads.first_contact_date = pd.to_datetime(leads.first_contact_date)\n",
    "\n",
    "#In both datasets, we are making a distinct column which holds the month where the seller was contacted\n",
    "closed_leads[\"Month_contacted\"] = closed_leads.first_contact_date.dt.month\n",
    "leads[\"month_contacted\"] = leads.first_contact_date.dt.month\n",
    "\n",
    "#Then we make a variable which hold the data to be plotted:\n",
    "pct_closed_per_month = closed_leads.groupby(closed_leads[\"first_contact_date\"].dt.month).count().Month_contacted/len(closed_leads)\n",
    "pct_leads_per_month = leads.groupby(leads[\"first_contact_date\"].dt.month).count().month_contacted/len(leads)\n",
    "\n",
    "#And put these new variables into a dataframe, so that we can plot these two columns together in the same barchart\n",
    "months_overview = pd.DataFrame(pct_closed_per_month)\n",
    "months_overview.columns=[\"Closed leads contacted\"]\n",
    "months_overview[\"Leads contacted\"] = pct_leads_per_month"
   ]
  },
  {
   "cell_type": "code",
   "execution_count": null,
   "metadata": {},
   "outputs": [],
   "source": [
    "months_overview"
   ]
  },
  {
   "cell_type": "code",
   "execution_count": null,
   "metadata": {},
   "outputs": [],
   "source": [
    "months_overview.plot.bar();"
   ]
  },
  {
   "cell_type": "markdown",
   "metadata": {},
   "source": [
    "## <font color='blue'>1.7</font>:  How many customers does already have a declaired revenue? And what type of business are they?"
   ]
  },
  {
   "cell_type": "code",
   "execution_count": null,
   "metadata": {},
   "outputs": [],
   "source": [
    "print(\"The number of closed companies are: \", len(closed_leads), \"\\n\", \\\n",
    "      \"Of all the closed leads the following amount already had a declaired revenue: \", len(closed_leads[closed_leads.declared_monthly_revenue>0]), \"\\n\", \\\n",
    "     \"Which amounts to \", len(closed_leads[closed_leads.declared_monthly_revenue>0])/len(closed_leads)*100,\"% of the total closed leads\")"
   ]
  },
  {
   "cell_type": "markdown",
   "metadata": {},
   "source": [
    "##### The total distribution and exploration of the lead type, business type and business segment"
   ]
  },
  {
   "cell_type": "code",
   "execution_count": null,
   "metadata": {},
   "outputs": [],
   "source": [
    "#Defining a pandas with only relevant metrics\n",
    "business_types = closed_leads[[\"business_segment\", \"lead_type\", \"business_type\"]]"
   ]
  },
  {
   "cell_type": "code",
   "execution_count": null,
   "metadata": {},
   "outputs": [],
   "source": [
    "#Assessing whether they hold nan values (some of them does)\n",
    "business_types.isnull().sum()"
   ]
  },
  {
   "cell_type": "code",
   "execution_count": null,
   "metadata": {},
   "outputs": [],
   "source": [
    "segment = business_types.business_segment.value_counts()\n",
    "l_type = business_types.lead_type.value_counts()\n",
    "b_type = business_types.business_type.value_counts()"
   ]
  },
  {
   "cell_type": "code",
   "execution_count": null,
   "metadata": {
    "scrolled": false
   },
   "outputs": [],
   "source": [
    "segment.plot.bar();"
   ]
  },
  {
   "cell_type": "code",
   "execution_count": null,
   "metadata": {},
   "outputs": [],
   "source": [
    "l_type.plot.pie(title=None, autopct='%1.1f%%');"
   ]
  },
  {
   "cell_type": "code",
   "execution_count": null,
   "metadata": {},
   "outputs": [],
   "source": [
    "b_type.plot.pie(autopct='%1.1f%%');"
   ]
  },
  {
   "cell_type": "markdown",
   "metadata": {},
   "source": [
    "## <font color='blue'>1.8</font>:  Which SDR/SR is best at talking to different business segments?\n",
    "\n",
    "A Sales Development Representative is one having the initial contact witht the company, right after the company has signed up on the landing page. The SDR is noting some general information and arranging a meeting for when the business can meet a Sales Representative who may win or lose the deal."
   ]
  },
  {
   "cell_type": "markdown",
   "metadata": {},
   "source": [
    "In general, it is quite difficult to say whether a SR and SDR is good, relative to how many deals they did not close. However, since the SR's and SDR's are not present in the MQL dataset, it is not possible to measure their actual performance agains the number of lost deals. \n",
    "Therefore, we assume they have a steady stream of contact with potential sellers, and that some SR's and SDR's are just better at closing the sellers than other SR's and SDR's. \n",
    "\n",
    "The following distributions of the rate of closed customers can then be used to address how potentially high value sellers should be contacted and **by who**. "
   ]
  },
  {
   "cell_type": "code",
   "execution_count": null,
   "metadata": {},
   "outputs": [],
   "source": [
    "closed_leads.sr_id.value_counts().plot.bar();"
   ]
  },
  {
   "cell_type": "code",
   "execution_count": null,
   "metadata": {
    "scrolled": false
   },
   "outputs": [],
   "source": [
    "closed_leads.sdr_id.value_counts().plot.bar();"
   ]
  },
  {
   "cell_type": "markdown",
   "metadata": {},
   "source": [
    "##### Looking at every individual SR and what sellers they are closing in terms of business segments and lead type"
   ]
  },
  {
   "cell_type": "code",
   "execution_count": null,
   "metadata": {},
   "outputs": [],
   "source": [
    "#Creating a dataframe holding the different business segments\n",
    "df_seg = closed_leads.groupby([\"sr_id\",\"business_segment\"]).count().seller_id.reset_index(name=\"count\")"
   ]
  },
  {
   "cell_type": "code",
   "execution_count": null,
   "metadata": {},
   "outputs": [],
   "source": [
    "#Ordering the data properly and removing nan values\n",
    "df_seg = df_seg.pivot(index= \"sr_id\", columns= \"business_segment\", values= \"count\")\n",
    "df_seg = df_seg.fillna(0)"
   ]
  },
  {
   "cell_type": "code",
   "execution_count": null,
   "metadata": {},
   "outputs": [],
   "source": [
    "#Creating a total column to order the data for later plotting. After ordering, the total column is dropped\n",
    "df_seg[\"total\"] = df_seg.sum(axis=1)\n",
    "df_seg = df_seg.sort_values(\"total\",ascending= True)\n",
    "df_seg = df_seg.drop([\"total\"],axis=1)"
   ]
  },
  {
   "cell_type": "code",
   "execution_count": null,
   "metadata": {},
   "outputs": [],
   "source": [
    "df_seg.plot.barh(stacked= True).legend(bbox_to_anchor=(1.05, 1), loc='upper left', borderaxespad=0.);"
   ]
  },
  {
   "cell_type": "code",
   "execution_count": null,
   "metadata": {},
   "outputs": [],
   "source": [
    "#Same procedure with lead type:\n",
    "df_lead = closed_leads.groupby([\"sr_id\",\"lead_type\"]).count().seller_id.reset_index(name=\"count\")\n",
    "\n",
    "df_lead = df_lead.pivot(index= \"sr_id\", columns= \"lead_type\", values= \"count\")\n",
    "df_lead = df_lead.fillna(0)\n",
    "\n",
    "df_lead[\"total\"] = df_lead.sum(axis=1)\n",
    "df_lead = df_lead.sort_values(\"total\",ascending= True)\n",
    "df_lead = df_lead.drop([\"total\"],axis=1)"
   ]
  },
  {
   "cell_type": "code",
   "execution_count": null,
   "metadata": {},
   "outputs": [],
   "source": [
    "plt.style.use(['seaborn-whitegrid'])\n",
    "sns.set_palette(\"cubehelix\",10)"
   ]
  },
  {
   "cell_type": "code",
   "execution_count": null,
   "metadata": {},
   "outputs": [],
   "source": [
    "df_lead.plot.barh(stacked= True).legend(bbox_to_anchor=(1.05, 1), loc='upper left', borderaxespad=0.);"
   ]
  },
  {
   "cell_type": "markdown",
   "metadata": {},
   "source": [
    "The plot proves a very important point, namely that the different SR's does not get specific business segments, which could potentially be easier to close. However, they are all recieving a variety of different segments and lead types, which indicate that some SR's are just inherintly better at closing the sellers. "
   ]
  },
  {
   "cell_type": "markdown",
   "metadata": {},
   "source": [
    "##### Look at the landing page in combination with origin. This way we can make some kind of probability for closing the customer, from the data we have available - since this is the only features that both datasets have in common. "
   ]
  },
  {
   "cell_type": "markdown",
   "metadata": {},
   "source": [
    "# !!!! see above !!!!"
   ]
  },
  {
   "cell_type": "markdown",
   "metadata": {},
   "source": [
    "## <font color='blue'>1.9</font>:  Conclusion on the descriptive analysis"
   ]
  },
  {
   "cell_type": "markdown",
   "metadata": {},
   "source": [
    "The descriptive analysis tells us:\n",
    "- From 2017 to 2018 we have a significant rise in leads and therefor also a significant rise in closed leads. Though, the significant rise is not due to a more effective process, rather because more leads fill in the forms on the landing pages.\n",
    "- We see two landing pages holding ~50% of the closed deals out of a total of 495 landing pages.\n",
    "- ~60% of the leads lands on the platform through ´origin_search´, ´paid_search´ and ´social_media´, where respectively 32%, 23% and 9% of them are closed. I.e. our most effective media channels are by far ´origin_search´ and ´paid_search´.\n",
    "- SDR/SR don't get marketing qualified leads from a specific business segments. I.e. we don't get specialized in dealing with a specific type of seller."
   ]
  },
  {
   "cell_type": "markdown",
   "metadata": {},
   "source": [
    "## <font color='blue'>Part 2</font>: Predictive analysis - which sellers should be prioritized?"
   ]
  },
  {
   "cell_type": "markdown",
   "metadata": {},
   "source": [
    "## <font color='blue'>2.1</font>:  Missing values"
   ]
  },
  {
   "cell_type": "markdown",
   "metadata": {},
   "source": [
    "Missing values can cause errors in algorithms and real world data often has missing values.\n",
    "\n",
    "First of all, there is no \"good-way\" to handle missing values. But in general there is three methods to handle missing values.\n",
    "\n",
    "1. Remove rows or columns containing missing values\n",
    "    - This is the simplest method for handling missing values. \n",
    "        - Pro's: easy too handle and doesn't add noise to data. \n",
    "        - Con's: can be too limiting for some datasets, i.e. removing too much information.\n",
    "        \n",
    "2. Impute missing values\n",
    "    - Refers to the act of replacing the missing values with the mean, median, mode, a constant etc.\n",
    "        - Pro's: we keep information, though adding some noise.\n",
    "        - Con's: maybe missing values have a meaning?\n",
    "        \n",
    "3. Predict missing values\n",
    "    - Refers to the act of imputing missing values by using a prediction rule .\n",
    "        - Pro's: we keep information and approximates the missing values to the \"true\" information.\n",
    "        - Con's: maybe missing values have meaning and the approximated \"true\" information get too biased.\n"
   ]
  },
  {
   "cell_type": "markdown",
   "metadata": {},
   "source": [
    "In order to choose a meaningful approach, we need to get an overview of the missing values."
   ]
  },
  {
   "cell_type": "code",
   "execution_count": null,
   "metadata": {},
   "outputs": [],
   "source": [
    "def count_missing_values(df):\n",
    "    missing = df.isna()\n",
    "    num_missing = pd.DataFrame(missing.sum(),columns=['Number'])\n",
    "    num_missing['Percentage'] = round(num_missing / len(df),2)\n",
    "    \n",
    "    print(num_missing)"
   ]
  },
  {
   "cell_type": "code",
   "execution_count": null,
   "metadata": {},
   "outputs": [],
   "source": [
    "show_nans= lambda df: df[df.isnull().any(axis=1)]"
   ]
  },
  {
   "cell_type": "code",
   "execution_count": null,
   "metadata": {},
   "outputs": [],
   "source": [
    "count_missing_values(closed_leads)"
   ]
  },
  {
   "cell_type": "markdown",
   "metadata": {},
   "source": [
    "If the column contains 85% missing values then we choose to drop the column. Meaning we are dropping the columns `has_company`, `has_gtin`, `average_stock` and `declared_product_catalog_size`."
   ]
  },
  {
   "cell_type": "code",
   "execution_count": null,
   "metadata": {},
   "outputs": [],
   "source": [
    "closed_leads = closed_leads.drop(['has_company'], axis=1)\n",
    "closed_leads = closed_leads.drop(['has_gtin'], axis=1)\n",
    "closed_leads = closed_leads.drop(['average_stock'], axis=1)\n",
    "closed_leads = closed_leads.drop(['declared_product_catalog_size'], axis=1)"
   ]
  },
  {
   "cell_type": "code",
   "execution_count": null,
   "metadata": {},
   "outputs": [],
   "source": [
    "count_missing_values(closed_leads)"
   ]
  },
  {
   "cell_type": "markdown",
   "metadata": {},
   "source": [
    "Regarding the coloumns `lead_behaviour_profile`, `business_segment`, `lead_type`, `business_type` and `origin`  we have a total of 308 missing values. Since we are not interested in dropping neither the columns or 36% of our observations, we choose to replace missing values with the their respectively category for *unknown* observations. I.e. we interpret the missing values of being either an *unknown* or *other* observation."
   ]
  },
  {
   "cell_type": "code",
   "execution_count": null,
   "metadata": {},
   "outputs": [],
   "source": [
    "closed_leads['lead_behaviour_profile'] = closed_leads['lead_behaviour_profile'].fillna('unknown')\n",
    "closed_leads['origin'] = closed_leads['origin'].fillna('unknown')\n",
    "closed_leads['business_segment'] = closed_leads['business_segment'].fillna('other')\n",
    "closed_leads['lead_type'] = closed_leads['lead_type'].fillna('other')\n",
    "closed_leads['business_type'] = closed_leads['business_type'].fillna('other')"
   ]
  },
  {
   "cell_type": "code",
   "execution_count": null,
   "metadata": {},
   "outputs": [],
   "source": [
    "show_nans(closed_leads)"
   ]
  },
  {
   "cell_type": "code",
   "execution_count": null,
   "metadata": {},
   "outputs": [],
   "source": [
    "count_missing_values(closed_leads)"
   ]
  },
  {
   "cell_type": "markdown",
   "metadata": {},
   "source": [
    "## <font color='blue'>2.2</font>: Feature extraction"
   ]
  },
  {
   "cell_type": "markdown",
   "metadata": {},
   "source": [
    "### Assumption: \n",
    "As mentioned in the beginning of the notebook, we assume that *Olist retain 15% of the order value.*\n",
    "\n",
    "**Therefor, a profitable seller is generating many orders or/and high valued orders.**\n",
    "\n",
    "        We create a prediction rule to tell a sellers weekly average turnover."
   ]
  },
  {
   "cell_type": "markdown",
   "metadata": {},
   "source": [
    "In order to extract the target variable *weekly average turnover*, we merge the olist_closed_deals_dataset with the olist_order_items_dataset. But first, we need to calculate the *weekly average turnover*. This is done in the olist_order_items_dataset before merging. To do the calculation we also need a variable telling how many days a seller has been active on the platform. We call this variable *time_as_seller*."
   ]
  },
  {
   "cell_type": "code",
   "execution_count": null,
   "metadata": {},
   "outputs": [],
   "source": [
    "all_orders = load_table(\"olist_order_items_dataset.csv\")\n",
    "all_orders.describe(include='O')"
   ]
  },
  {
   "cell_type": "code",
   "execution_count": null,
   "metadata": {},
   "outputs": [],
   "source": [
    "print(np.round((1-(98666/112650))*100,2),'% of the orders includes more than 1 item')"
   ]
  },
  {
   "cell_type": "markdown",
   "metadata": {},
   "source": [
    "Thus, we need to make an aggregation of the order price grouped by both the order id and seller id. In this way we ensure that the calculations can handle orders including multiple products and multiple sellers. We do the calculation seperately from the all_orders dataframe and instead call it total_revenue."
   ]
  },
  {
   "cell_type": "code",
   "execution_count": null,
   "metadata": {},
   "outputs": [],
   "source": [
    "order_items = load_table(\"olist_order_items_dataset.csv\")\n",
    "order_items_filt = order_items.groupby(['order_id', 'product_id','seller_id','shipping_limit_date','price'])['order_item_id'].agg({\"quantity\":\"max\"}).reset_index()\n",
    "order_items_filt['order_price'] = order_items_filt['price']*order_items_filt['quantity']\n",
    "total_revenue = order_items_filt.groupby(['seller_id'])['order_price'].agg('sum').reset_index()"
   ]
  },
  {
   "cell_type": "markdown",
   "metadata": {},
   "source": [
    "Then we estimate the time a seller has been active on the platform and call variable *time_as_seller*. As we want to extract the *weekly average turnover*, a new variable is made by dividing the *time_as_seller* with 7. We call this variable *weeks_as_seller*."
   ]
  },
  {
   "cell_type": "code",
   "execution_count": null,
   "metadata": {},
   "outputs": [],
   "source": [
    "all_orders['shipping_limit_date'] = pd.to_datetime(all_orders['shipping_limit_date'])\n",
    "all_orders['time_as_seller'] = all_orders['shipping_limit_date'].max() - all_orders['shipping_limit_date']\n",
    "all_orders['weeks_as_seller'] = all_orders['time_as_seller'].dt.days/7"
   ]
  },
  {
   "cell_type": "markdown",
   "metadata": {},
   "source": [
    "Since *weeks_as_seller* is defined by the last registrated shipment, we need to find the max value of this variable."
   ]
  },
  {
   "cell_type": "code",
   "execution_count": null,
   "metadata": {},
   "outputs": [],
   "source": [
    "all_orders = all_orders.groupby(['seller_id'])['weeks_as_seller'].agg('max').reset_index()"
   ]
  },
  {
   "cell_type": "markdown",
   "metadata": {},
   "source": [
    "Then we merge the total_revenue dataframe and the all_orders dataframe and get a new dataframe called sellers. This dataframe has the seller id as primary key and includes their total revenue and the total days active on the platform. Thus, we can calculate the target variable *weekly average turnover*."
   ]
  },
  {
   "cell_type": "code",
   "execution_count": null,
   "metadata": {},
   "outputs": [],
   "source": [
    "sellers = all_orders.merge(total_revenue, on=\"seller_id\", how= \"left\")\n",
    "sellers['weekly_avg_revenue']=sellers.order_price/sellers.weeks_as_seller\n",
    "sellers.describe()"
   ]
  },
  {
   "cell_type": "markdown",
   "metadata": {},
   "source": [
    "We can now join our two extracted features with the olist_closed_deals_dataset. This in done on the seller id with a inner join."
   ]
  },
  {
   "cell_type": "code",
   "execution_count": null,
   "metadata": {},
   "outputs": [],
   "source": [
    "data = closed_leads.merge(sellers, on='seller_id', how=\"inner\")\n",
    "data = data.drop(['weeks_as_seller','order_price','sdr_id','sr_id','won_date',\n",
    "      'first_contact_date','landing_page_id','closing_period'],axis=1)"
   ]
  },
  {
   "cell_type": "code",
   "execution_count": null,
   "metadata": {},
   "outputs": [],
   "source": [
    "data.describe(include='O')"
   ]
  },
  {
   "cell_type": "markdown",
   "metadata": {},
   "source": [
    "The inner join resulted in a 55% data reduction. I.e. we were only able to calculate a weekly_avg_revenue for 45% of the sellers in the olist_closed_deals_dataset."
   ]
  },
  {
   "cell_type": "markdown",
   "metadata": {},
   "source": [
    "But we can now plot the weekly average revenue for the 379 closed qualified marketing leads by the media type they originated from. "
   ]
  },
  {
   "cell_type": "code",
   "execution_count": null,
   "metadata": {},
   "outputs": [],
   "source": [
    "def plot_weekly_revenue(df):\n",
    "    plot_data = df.groupby('origin')['weekly_avg_revenue'].agg('mean').reset_index()\n",
    "    freq = df.groupby('origin')['mql_id'].agg('count').reset_index()\n",
    "    plot_data['freq'] = freq.mql_id\n",
    "    \n",
    "    plt.bar(plot_data.origin, plot_data.freq, color='lightblue')\n",
    "    plt.ylabel('Frequency')      \n",
    "\n",
    "    axes2 = plt.twinx()\n",
    "    axes2.plot(plot_data.origin, plot_data.weekly_avg_revenue, color='red', label='Avg. weekly revenue')\n",
    "    axes2.set_ylabel('Avg. weekly revenue')\n",
    "    \n",
    "    plt.axhline(plot_data['weekly_avg_revenue'].mean(), color='black', linestyle='dashed', linewidth=1)\n",
    "    \n",
    "    plt.title('Number of closed leads and their avg. weekly revenue by origin')\n",
    "    plt.show()"
   ]
  },
  {
   "cell_type": "code",
   "execution_count": null,
   "metadata": {},
   "outputs": [],
   "source": [
    "plot_weekly_revenue(data)"
   ]
  },
  {
   "cell_type": "markdown",
   "metadata": {},
   "source": [
    "Here we see that the sellers with the highest average weekly revenue originates from the media types organic_search, paid_search and the unknown category."
   ]
  },
  {
   "cell_type": "markdown",
   "metadata": {},
   "source": [
    "## <font color='blue'>2.3</font>: Prediction model\n",
    "Unfortunately, we aren’t quite ready to feed the raw data into a prediction model. First, we are required to convert any categorical variable to a numeric representation. There are basically two methods to do this: \n",
    "\n",
    "1. Label Encoder\n",
    "    - A label encoder encodes labels with a value between 0 and n_classes-1 where n is the number of distinct labels. \n",
    "        - pros: Keep the dimensionality to a minimum.\n",
    "        - cons: The model can misunderstand the data to be in a meaningful order, 0 < 1 < 2.\n",
    "\n",
    "2. One-Hot Encoder\n",
    "    - One-Hot encoder, takes a column which has categorical data and splits the column into multiple columns. The categorical data are replaced by 1's and 0's, depending on which observation has which category. \n",
    "        - pros: The model won't derive false correlations.\n",
    "        - cons: The data becomes more sparse, the dimensionality increases and the computation therefor gets more expensive."
   ]
  },
  {
   "cell_type": "markdown",
   "metadata": {},
   "source": [
    "The categorial variables are converted into dummy/indicator variables using pandas get_dummies()-function. \n",
    "Furthermore, the correlation between the features and the target variables are shown in a list."
   ]
  },
  {
   "cell_type": "code",
   "execution_count": null,
   "metadata": {},
   "outputs": [],
   "source": [
    "#convert categorical columns to numerical\n",
    "df = pd.get_dummies(data, columns=['business_segment', 'lead_behaviour_profile', \n",
    "                                     'lead_type','business_type','origin'])"
   ]
  },
  {
   "cell_type": "code",
   "execution_count": null,
   "metadata": {},
   "outputs": [],
   "source": [
    "#calculate and show correlations\n",
    "corr_matrix = df.corr()\n",
    "corr_matrix['weekly_avg_revenue'].sort_values(ascending=False)"
   ]
  },
  {
   "cell_type": "markdown",
   "metadata": {},
   "source": [
    "Before we fit the prediction model, our data is scaled using the MinMaxScaler from sklearn. After the data is splitted into a test and train set. "
   ]
  },
  {
   "cell_type": "code",
   "execution_count": null,
   "metadata": {},
   "outputs": [],
   "source": [
    "from sklearn.model_selection import train_test_split\n",
    "from sklearn.preprocessing import MinMaxScaler\n",
    "\n",
    "X = df.drop(['seller_id','mql_id','weekly_avg_revenue'],axis=1)\n",
    "features = X.columns\n",
    "y = df['weekly_avg_revenue']\n",
    "\n",
    "scaler = MinMaxScaler()\n",
    "X = scaler.fit_transform(X)\n",
    "\n",
    "X_train, X_test, y_train, y_test = train_test_split(X, y, test_size = 0.2, random_state=42)"
   ]
  },
  {
   "cell_type": "code",
   "execution_count": null,
   "metadata": {
    "scrolled": true
   },
   "outputs": [],
   "source": [
    "print('Training Features Shape:', X_train.shape)\n",
    "print('Training Labels Shape:', X_test.shape)\n",
    "print('Testing Features Shape:', y_train.shape)\n",
    "print('Testing Labels Shape:', y_test.shape)"
   ]
  },
  {
   "cell_type": "code",
   "execution_count": null,
   "metadata": {},
   "outputs": [],
   "source": [
    "print(\"{0:0.2f}% in training set\".format((len(X_train)/len(data.index))*100))\n",
    "print(\"{0:0.2f}% in test set\".format((len(X_test)/len(data.index))*100))"
   ]
  },
  {
   "cell_type": "code",
   "execution_count": null,
   "metadata": {},
   "outputs": [],
   "source": [
    "def metrics(y, yhat):\n",
    "    from sklearn.metrics import mean_absolute_error\n",
    "    from sklearn.metrics import mean_squared_error\n",
    "    \n",
    "    mae = mean_absolute_error(y, yhat)\n",
    "    \n",
    "    print('Mean absolute error:', round(mae, 2), 'BRL.')"
   ]
  },
  {
   "cell_type": "markdown",
   "metadata": {},
   "source": [
    "### Linear Regression (simple baseline)\n",
    "Linear Regression is one of the simplest regression model. We use this model as a simple baseline model to establish our prediction rule."
   ]
  },
  {
   "cell_type": "code",
   "execution_count": null,
   "metadata": {},
   "outputs": [],
   "source": [
    "from sklearn.linear_model import LinearRegression\n",
    "lr_model = LinearRegression()\n",
    "lr_model.fit(X_train, y_train)"
   ]
  },
  {
   "cell_type": "code",
   "execution_count": null,
   "metadata": {},
   "outputs": [],
   "source": [
    "lr_model_train = lr_model.predict(X_train)\n",
    "print(\"Training accuracy:\")\n",
    "metrics(y_train, lr_model_train)"
   ]
  },
  {
   "cell_type": "code",
   "execution_count": null,
   "metadata": {},
   "outputs": [],
   "source": [
    "lr_predict_test = lr_model.predict(X_test)\n",
    "print(\"Test accuracy:\")\n",
    "metrics(y_test, lr_predict_test)"
   ]
  },
  {
   "cell_type": "markdown",
   "metadata": {},
   "source": [
    "With the Linear Regression model the average estimate is off by 1638057968176.62 BRL. But since the average estimate is only off by 17.87 BRL when predicted on the training data, it seems like the model is overfitting to the training data. This might be attributable to the limited set of data points or that the feature space doesn't explain the target variable well enough or the fact that most of our features doesn't have a linear shape."
   ]
  },
  {
   "cell_type": "markdown",
   "metadata": {},
   "source": [
    "### Random Forrest \n",
    "Because we are lacking features with a linear shape, we will instead try the Random Forrest model, which is a non-parametric model. Furthermore, it's less prone to overfitting, because it's a ensemble method, i.e. it takes the average of all the predictions, which cancels out the biases."
   ]
  },
  {
   "cell_type": "code",
   "execution_count": null,
   "metadata": {},
   "outputs": [],
   "source": [
    "from sklearn.ensemble import RandomForestRegressor\n",
    "rf_model = RandomForestRegressor(n_estimators=11, min_samples_split=2, random_state = 42)\n",
    "rf_model.fit(X_train, y_train)"
   ]
  },
  {
   "cell_type": "code",
   "execution_count": null,
   "metadata": {},
   "outputs": [],
   "source": [
    "rf_predict_train = rf_model.predict(X_train)\n",
    "print(\"Training accuracy:\")\n",
    "metrics(y_train, rf_predict_train)"
   ]
  },
  {
   "cell_type": "code",
   "execution_count": null,
   "metadata": {},
   "outputs": [],
   "source": [
    "rf_predict_test = rf_model.predict(X_test)\n",
    "print(\"Test accuracy:\")\n",
    "metrics(y_test, rf_predict_test)"
   ]
  },
  {
   "cell_type": "markdown",
   "metadata": {},
   "source": [
    "With the Random Forrest model the average estimate is off by 39.76 BRL. Which is an incredible improvement over the Linear Regression model.\n",
    "\n",
    "Now we have experimented with both a parametric model and a non-parametric model. Random Forrest showed a much better performance telling us that our training data is not truly linear distributed. But we still se the Random Forrest model having a problem of generalizing well to the training data. This still might be attributable to the limited set of data points or that the feature space doesn't explain the target variable well enough. But it could also be attributable to the high dimensionality or the sparsity of our data. "
   ]
  },
  {
   "cell_type": "markdown",
   "metadata": {},
   "source": [
    "### Support Vector Machine\n",
    "Because of the high dimensionality, we will instead try the Support Vector Machine (SVM) model."
   ]
  },
  {
   "cell_type": "code",
   "execution_count": null,
   "metadata": {},
   "outputs": [],
   "source": [
    "from sklearn.svm import SVR\n",
    "svr_model = SVR()\n",
    "svr_model.fit(X_train, y_train)"
   ]
  },
  {
   "cell_type": "code",
   "execution_count": null,
   "metadata": {},
   "outputs": [],
   "source": [
    "svr_predict_train = svr_model.predict(X_train)\n",
    "print(\"Training accuracy:\")\n",
    "metrics(y_train, svr_predict_train)"
   ]
  },
  {
   "cell_type": "code",
   "execution_count": null,
   "metadata": {},
   "outputs": [],
   "source": [
    "svr_predict_test = svr_model.predict(X_test)\n",
    "print(\"Test accuracy:\")\n",
    "metrics(y_test, svr_predict_test)"
   ]
  },
  {
   "cell_type": "markdown",
   "metadata": {},
   "source": [
    "With the Support Vector Machine model the average estimate is off by 9.77 BRL. Which again is an incredible improvement over the Random Forrest model."
   ]
  },
  {
   "cell_type": "markdown",
   "metadata": {},
   "source": [
    "## <font color='blue'>2.4</font>: Side note"
   ]
  },
  {
   "cell_type": "markdown",
   "metadata": {},
   "source": [
    "One of the advantages of the random forrest model is, that is produces a overall feature importance, i.e. a indication of how well a given feauture explains the target variable. This call for some explenation. In short, the random forrest model works by dividing the data into subsets. The random forrest will continue to extract different subsets of data until it understands the relations between the features and the target variable. Thus, the random forrest model learns which split contributes most to predicting the target variable correctly. \n",
    "\n",
    "Therefor, the `sklearn` libraby has a function for the random forrest model called `feature_importances_`, which returns an array of each feature's importance in determining these splits. This importance indicates how well a features explains the target variable."
   ]
  },
  {
   "cell_type": "code",
   "execution_count": null,
   "metadata": {},
   "outputs": [],
   "source": [
    "feature_imp = pd.Series(rf_model.feature_importances_,index=features).sort_values(ascending=False)\n",
    "feature_imp[:10]"
   ]
  },
  {
   "cell_type": "code",
   "execution_count": null,
   "metadata": {
    "scrolled": true
   },
   "outputs": [],
   "source": [
    "sns.barplot(x=feature_imp[:10], y=feature_imp[:10].index)\n",
    "\n",
    "plt.xlabel('Feature Importance Score')\n",
    "plt.ylabel('Features')\n",
    "plt.title(\"Visualizing Important Features\")\n",
    "plt.show()"
   ]
  },
  {
   "cell_type": "markdown",
   "metadata": {},
   "source": [
    "## <font color='blue'>2.5</font>: Conclusion"
   ]
  },
  {
   "cell_type": "markdown",
   "metadata": {},
   "source": [
    "From the prediction analysis, it is clear that   \n",
    "\n",
    "To increase Olist's profit we need sellers with a high average weekly revenue. We know that `origin_search` and `paid_search` are the most effective media channels. But do atract customers with a high average weekly revenue as well? Yes, they do. Only surpassed by the `unkown` category. \n",
    "\n",
    "Therefor we recommend Olist to:\n",
    "- Increase the use of `origin_search` and `paid_search` to attract new leads.\n",
    "- Stop using the unknown category and look into how those leads are landed on the platform. Since the category holds some significant customers.\n",
    "- Use the random forrest model to flag which landed sellers to prioritise since we get a predicted average weekly revenue on every seller who lands on the platform and Olist retain 15% of the that number."
   ]
  },
  {
   "cell_type": "markdown",
   "metadata": {},
   "source": [
    "## <font color='blue'>Rest</font>: appendix"
   ]
  },
  {
   "cell_type": "code",
   "execution_count": null,
   "metadata": {},
   "outputs": [],
   "source": [
    "#!curl https://raw.githubusercontent.com/nicodv/kmodes/master/examples/stocks.csv -o \"stocks.csv\""
   ]
  },
  {
   "cell_type": "code",
   "execution_count": null,
   "metadata": {},
   "outputs": [],
   "source": [
    "features = ['business_segment','lead_type','lead_behaviour_profile',\n",
    "            'landing_page_id','origin','closing_period_days']\n",
    "target = ['weekly_avg_revenue']\n",
    "\n",
    "X = data[features].values\n",
    "y = data[target].values\n",
    "split_test_size = 0.20\n",
    "\n",
    "X_train, X_test, y_train, y_test = train_test_split(X, y, test_size = split_test_size, random_state=42)"
   ]
  },
  {
   "cell_type": "code",
   "execution_count": null,
   "metadata": {},
   "outputs": [],
   "source": [
    "def grid_search(X, y):\n",
    "    n_estimators = [int(x) for x in np.arange(200,2001,100)]\n",
    "    max_features = ['auto', 'sqrt']\n",
    "    max_depth = [int(x) for x in np.arange(10,101,10)]\n",
    "    max_depth.append(None)\n",
    "    min_samples_split = [2, 5, 10]\n",
    "    min_samples_leaf = [1, 2, 4]\n",
    "    bootstrap = [True, False]\n",
    "    \n",
    "    random_grid = {'n_estimators': n_estimators,\n",
    "               'max_features': max_features,\n",
    "               'max_depth': max_depth,\n",
    "               'min_samples_split': min_samples_split,\n",
    "               'min_samples_leaf': min_samples_leaf,\n",
    "               'bootstrap': bootstrap}\n",
    "    \n",
    "    rf = RandomForestRegressor()\n",
    "    \n",
    "    rf_grid = RandomizedSearchCV(estimator = rf, param_distributions = random_grid, n_iter = 100, \n",
    "                                   cv = 3, random_state=42)\n",
    "    \n",
    "    rf_grid.fit(X, y)\n",
    "    \n",
    "    return rf_grid"
   ]
  },
  {
   "cell_type": "code",
   "execution_count": null,
   "metadata": {
    "scrolled": true
   },
   "outputs": [],
   "source": [
    "rf_grid_model = grid_search(X_train,y_train)"
   ]
  },
  {
   "cell_type": "code",
   "execution_count": null,
   "metadata": {},
   "outputs": [],
   "source": [
    "rf_predict_train = rf_grid_model.predict(X_train)\n",
    "print(\"Training accuracy:\")\n",
    "metrics(y_train, rf_predict_train)"
   ]
  },
  {
   "cell_type": "code",
   "execution_count": null,
   "metadata": {},
   "outputs": [],
   "source": [
    "rf_predict_test = rf_grid_model.predict(X_test)\n",
    "print(\"Test accuracy:\")\n",
    "metrics(y_test, rf_predict_test)"
   ]
  },
  {
   "cell_type": "code",
   "execution_count": null,
   "metadata": {},
   "outputs": [],
   "source": []
  },
  {
   "cell_type": "code",
   "execution_count": null,
   "metadata": {},
   "outputs": [],
   "source": [
    "syms = np.genfromtxt('stocks.csv', dtype=str, delimiter=',')[:, 0]\n",
    "X = np.genfromtxt('stocks.csv', dtype=object, delimiter=',')[:, 1:]"
   ]
  },
  {
   "cell_type": "code",
   "execution_count": null,
   "metadata": {},
   "outputs": [],
   "source": [
    "X"
   ]
  },
  {
   "cell_type": "code",
   "execution_count": null,
   "metadata": {},
   "outputs": [],
   "source": [
    "X[:, 0] = X[:, 0].astype(float)"
   ]
  },
  {
   "cell_type": "code",
   "execution_count": null,
   "metadata": {},
   "outputs": [],
   "source": [
    "X[:,1:3] = X[:, 1:3].astype(str)"
   ]
  },
  {
   "cell_type": "code",
   "execution_count": null,
   "metadata": {},
   "outputs": [],
   "source": [
    "X"
   ]
  },
  {
   "cell_type": "code",
   "execution_count": null,
   "metadata": {},
   "outputs": [],
   "source": [
    "kproto = KPrototypes(n_clusters=4, init='Huang', n_init=5, verbose=1)"
   ]
  },
  {
   "cell_type": "code",
   "execution_count": null,
   "metadata": {},
   "outputs": [],
   "source": [
    "clusters = kproto.fit_predict(X, categorical=[1, 2])"
   ]
  },
  {
   "cell_type": "code",
   "execution_count": null,
   "metadata": {},
   "outputs": [],
   "source": [
    "clusters"
   ]
  },
  {
   "cell_type": "code",
   "execution_count": null,
   "metadata": {},
   "outputs": [],
   "source": [
    "print(kproto.cluster_centroids_)"
   ]
  },
  {
   "cell_type": "code",
   "execution_count": null,
   "metadata": {},
   "outputs": [],
   "source": [
    "print(kproto.cost_)\n",
    "print(kproto.n_iter_)"
   ]
  },
  {
   "cell_type": "code",
   "execution_count": null,
   "metadata": {},
   "outputs": [],
   "source": [
    "for s, c in zip(syms, clusters):\n",
    "    print(\"Symbol: {}, cluster:{}\".format(s, c))"
   ]
  },
  {
   "cell_type": "code",
   "execution_count": null,
   "metadata": {},
   "outputs": [],
   "source": [
    "for i in set(kproto.labels_):\n",
    "    index = kproto.labels_ == i\n",
    "    plt.plot(X[index, 0], X[index, 1], 'o')\n",
    "    plt.suptitle('Data points categorized with category score', fontsize=18)\n",
    "    plt.xlabel('Category Score', fontsize=16)\n",
    "    plt.ylabel('Category Type', fontsize=16)\n",
    "plt.show()"
   ]
  },
  {
   "cell_type": "code",
   "execution_count": null,
   "metadata": {},
   "outputs": [],
   "source": [
    "fig1, ax3 = plt.subplots()\n",
    "scatter = ax3.scatter(syms, clusters, c=clusters, s=50)\n",
    "ax3.set_xlabel('Data points')\n",
    "ax3.set_ylabel('Cluster')\n",
    "plt.colorbar(scatter)\n",
    "ax3.set_title('Data points classifed according to known centers')\n",
    "plt.show()"
   ]
  },
  {
   "cell_type": "code",
   "execution_count": null,
   "metadata": {},
   "outputs": [],
   "source": [
    "result = zip(syms, kproto.labels_)\n",
    "sortedR = sorted(result, key=lambda x: x[1])\n",
    "print(sortedR)"
   ]
  },
  {
   "cell_type": "markdown",
   "metadata": {},
   "source": []
  },
  {
   "cell_type": "markdown",
   "metadata": {},
   "source": [
    "### Calculating the total turnover throughout the history of the sellers"
   ]
  },
  {
   "cell_type": "code",
   "execution_count": null,
   "metadata": {},
   "outputs": [],
   "source": [
    "closed_leads.head()"
   ]
  },
  {
   "cell_type": "code",
   "execution_count": null,
   "metadata": {},
   "outputs": [],
   "source": [
    "all_orders = load_table(\"olist_order_items_dataset.csv\")"
   ]
  },
  {
   "cell_type": "code",
   "execution_count": null,
   "metadata": {
    "scrolled": true
   },
   "outputs": [],
   "source": [
    "all_orders.head()"
   ]
  },
  {
   "cell_type": "code",
   "execution_count": null,
   "metadata": {},
   "outputs": [],
   "source": [
    "len(all_orders)"
   ]
  },
  {
   "cell_type": "markdown",
   "metadata": {},
   "source": [
    "##### Finding the total sales of the newly closed customers over time"
   ]
  },
  {
   "cell_type": "code",
   "execution_count": null,
   "metadata": {},
   "outputs": [],
   "source": [
    "from scipy import stats"
   ]
  },
  {
   "cell_type": "code",
   "execution_count": null,
   "metadata": {},
   "outputs": [],
   "source": [
    "len(all_orders.seller_id.unique())"
   ]
  },
  {
   "cell_type": "markdown",
   "metadata": {},
   "source": [
    "Since there are more unique sellers on the platform than the ones closed within the last year, the data for the relevant closed_leads needs to be sorted. "
   ]
  },
  {
   "cell_type": "code",
   "execution_count": null,
   "metadata": {},
   "outputs": [],
   "source": [
    "newsellers_orders = all_orders.seller_id.isin(closed_leads.seller_id.unique())"
   ]
  },
  {
   "cell_type": "code",
   "execution_count": null,
   "metadata": {},
   "outputs": [],
   "source": [
    "newsellers_orders = all_orders[newsellers_orders]"
   ]
  },
  {
   "cell_type": "code",
   "execution_count": null,
   "metadata": {},
   "outputs": [],
   "source": [
    "newsellers_orders.head()"
   ]
  },
  {
   "cell_type": "code",
   "execution_count": null,
   "metadata": {},
   "outputs": [],
   "source": [
    "newsellers_orders.loc[newsellers_orders.seller_id == \"ba143b05f0110f0dc71ad71b4466ce92\", \"price\"].sum()"
   ]
  },
  {
   "cell_type": "code",
   "execution_count": null,
   "metadata": {},
   "outputs": [],
   "source": [
    "IDs = list(newsellers_orders.seller_id.unique())"
   ]
  },
  {
   "cell_type": "code",
   "execution_count": null,
   "metadata": {},
   "outputs": [],
   "source": [
    "seller_turnover= {}\n",
    "for id in IDs:\n",
    "    "
   ]
  },
  {
   "cell_type": "code",
   "execution_count": null,
   "metadata": {},
   "outputs": [],
   "source": []
  },
  {
   "cell_type": "code",
   "execution_count": null,
   "metadata": {},
   "outputs": [],
   "source": [
    "newsellers_orders[\"sum_orders\"] = newsellers_orders[newsellers_orders.]"
   ]
  }
 ],
 "metadata": {
  "kernelspec": {
   "display_name": "Python 3",
   "language": "python",
   "name": "python3"
  },
  "language_info": {
   "codemirror_mode": {
    "name": "ipython",
    "version": 3
   },
   "file_extension": ".py",
   "mimetype": "text/x-python",
   "name": "python",
   "nbconvert_exporter": "python",
   "pygments_lexer": "ipython3",
   "version": "3.7.3"
  }
 },
 "nbformat": 4,
 "nbformat_minor": 2
}
