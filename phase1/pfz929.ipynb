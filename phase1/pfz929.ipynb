{
 "cells": [
  {
   "cell_type": "markdown",
   "metadata": {
    "hideCode": false,
    "hidePrompt": false
   },
   "source": [
    "# Assignment 1\n",
    "\n",
    "In this assignment you will build a document classification model for a [Hate Speech Detection dataset](https://aaai.org/ocs/index.php/ICWSM/ICWSM17/paper/view/15665). Note that this dataset contains some strong and offensive language, and exists to partially automate the real-world task of fighting hatespeech online.\n",
    "\n",
    "You will train models on the available training set and can tune them on the development set. After submission we will run your notebook on a different test set. Your mark will depend on:\n",
    "\n",
    "* the intuition behind the **model and features** selected for your approach,\n",
    "* its **accuracy** on the test set we will use\n",
    "\n",
    "To develop your model you have access to:\n",
    "\n",
    "* The data in `data/hatespeech/`. Remember to un-tar the data.tar.gz file.\n",
    "* The code of the lectures, stored in the notebooks [here](https://github.com/copenlu/stat-nlp-book/blob/master/chapters/doc_classify_slides_short.ipynb) and [here](https://github.com/copenlu/stat-nlp-book/blob/master/chapters/dl-representations.ipynb).\n",
    "* Libraries on the [docker image](https://github.com/copenlu/stat-nlp-book/blob/master/Dockerfile) which contains everything in [this image](https://github.com/jupyter/docker-stacks/tree/master/scipy-notebook), including scikit-learn and tensorflow. \n",
    "\n",
    "As we have to run the notebooks of all students, and because writing efficient code is important, **your notebook should run in 10 minutes at most, including package loading time**, on your machine. Further comments:\n",
    "\n",
    "* You are expected to **use and contrast lexical features from Lecture 1** with **representation learning based methods from Lecture 2**.\n",
    "\n",
    "* You are encouraged to read the background material linked in the lecture notebook for inspiration.\n",
    "\n",
    "* Try to run your parameter optimisation offline, such that in your answer notebook the best parameters are already set and don't need to be searched.\n",
    "\n",
    "* If you use any large pre-trained models as part of your approach, please state what these are in the relevant section below and add code for downloading these resources from an externally hosted repository.\n",
    "\n",
    "* We will not assess the stylistic aesthetics of your code or description, but rather, respectively, that it works and is easily understandable.\n",
    "\n",
    "* You are free to explore using GPUs during development, but the solution you submit should not be a GPU-only solution (i.e. it needs to run on a CPU within the time limit)."
   ]
  },
  {
   "cell_type": "markdown",
   "metadata": {
    "hideCode": false,
    "hidePrompt": false
   },
   "source": [
    "## Setup Instructions\n",
    "It is important that this file is placed in the **correct directory**. It will not run otherwise. The correct directory is\n",
    "\n",
    "    DIRECTORY_OF_YOUR_BOOK/assignments/2019/assignment1/problem/\n",
    "    \n",
    "where `DIRECTORY_OF_YOUR_BOOK` is a placeholder for the directory you downloaded the book to. After you placed it there, **rename the file** to your UCPH ID (of the form `xxxxxx`). "
   ]
  },
  {
   "cell_type": "markdown",
   "metadata": {
    "hideCode": false,
    "hidePrompt": false
   },
   "source": [
    "## General Instructions\n",
    "This notebook will be used by you to provide your solution, and by us to both assess your solution and enter your marks. It contains three types of sections:\n",
    "\n",
    "1. **Setup** Sections: these sections set up code and resources for assessment. **Do not edit these**. \n",
    "2. **Assessment** Sections: these sections are used for both evaluating the output of your code, and for markers to enter their marks. **Do not edit these**. \n",
    "3. **Task** Sections: these sections require your solutions. They may contain stub code, and you are expected to edit this code. For free text answers simply edit the markdown field.  \n",
    "\n",
    "Note that you are free to **create additional notebook cells** within a task section. \n",
    "\n",
    "**Do not share** this assignment publicly, by uploading it online, emailing it to friends etc. \n",
    "\n",
    "**Do not** copy code from the Web or from other students, this will count as plagiarism."
   ]
  },
  {
   "cell_type": "markdown",
   "metadata": {
    "hideCode": false,
    "hidePrompt": false
   },
   "source": [
    "## Submission Instructions\n",
    "\n",
    "To submit your solution:\n",
    "\n",
    "* Make sure that your solution is fully contained in this notebook. \n",
    "* **Rename this notebook to your UCPH ID** (of the form \"xxxxxx\"), if you have not already done so.\n",
    "* Download the notebook in Jupyter via *File -> Download as -> Notebook (.ipynb)*.\n",
    "* Upload the notebook to Absalon.\n"
   ]
  },
  {
   "cell_type": "markdown",
   "metadata": {
    "hideCode": false,
    "hidePrompt": false
   },
   "source": [
    "## <font color='green'>Setup 1</font>: Load Libraries\n",
    "This cell loads libraries important for evaluation and assessment of your model. **Do not change it.**"
   ]
  },
  {
   "cell_type": "code",
   "execution_count": 1,
   "metadata": {
    "hideCode": false,
    "hidePrompt": false
   },
   "outputs": [],
   "source": [
    "#! SETUP 1\n",
    "import sys, os\n",
    "_snlp_book_dir = \"../../../../\"\n",
    "sys.path.append(_snlp_book_dir) \n",
    "import math\n",
    "from os import listdir\n",
    "from os.path import isfile, join\n",
    "import statnlpbook.util as util\n",
    "import seaborn as sns\n",
    "import matplotlib.pyplot as plt\n",
    "%matplotlib inline\n",
    "#matplotlib style options\n",
    "plt.rcParams['figure.figsize'] = (20.0, 6.0)\n",
    "plt.style.use('ggplot')"
   ]
  },
  {
   "cell_type": "markdown",
   "metadata": {},
   "source": [
    "## <font color='green'>Setup 1.1</font>: Load Additional Packages"
   ]
  },
  {
   "cell_type": "code",
   "execution_count": 2,
   "metadata": {},
   "outputs": [
    {
     "name": "stderr",
     "output_type": "stream",
     "text": [
      "/opt/conda/lib/python3.6/site-packages/sklearn/cross_validation.py:44: DeprecationWarning: This module was deprecated in version 0.18 in favor of the model_selection module into which all the refactored classes and functions are moved. Also note that the interface of the new CV iterators are different from that of this module. This module will be removed in 0.20.\n",
      "  \"This module will be removed in 0.20.\", DeprecationWarning)\n",
      "/opt/conda/lib/python3.6/site-packages/sklearn/grid_search.py:43: DeprecationWarning: This module was deprecated in version 0.18 in favor of the model_selection module into which all the refactored classes and functions are moved. This module will be removed in 0.20.\n",
      "  DeprecationWarning)\n"
     ]
    }
   ],
   "source": [
    "from math import log, exp\n",
    "import copy\n",
    "import string\n",
    "import pandas as pd\n",
    "import numpy as np\n",
    "from sklearn.feature_extraction.text import CountVectorizer\n",
    "from sklearn.linear_model import LogisticRegression\n",
    "from sklearn import grid_search\n",
    "from sklearn.feature_extraction.text import TfidfTransformer\n",
    "from sklearn.feature_extraction import DictVectorizer\n",
    "vectorizer = DictVectorizer()\n",
    "from sklearn.metrics import confusion_matrix\n",
    "from sklearn.metrics import classification_report\n",
    "from sklearn.utils.multiclass import unique_labels\n",
    "from collections import Counter\n",
    "\n",
    "class color:\n",
    "   BOLD = '\\033[1m'\n",
    "   END = '\\033[0m'"
   ]
  },
  {
   "cell_type": "markdown",
   "metadata": {
    "hideCode": false,
    "hidePrompt": false
   },
   "source": [
    "## <font color='green'>Setup 2</font>: Load Training Data\n",
    "\n",
    "This cell loads the training data. We use this data for assessment to define the reference vocabulary: the union of the words of the training and test set. You can use the dataset to train your model, but you are also free to load the data in a different way, or focus on subsets etc. However, when you do this, still **do not edit this setup section**. Instead refer to the variables in your own code, and slice and dice them as you see fit.   "
   ]
  },
  {
   "cell_type": "code",
   "execution_count": 3,
   "metadata": {
    "hideCode": false,
    "hidePrompt": false
   },
   "outputs": [],
   "source": [
    "#! SETUP 2\n",
    "\n",
    "import re\n",
    "\n",
    "def preprocess(text_string):\n",
    "    \"\"\"\n",
    "    Accepts a text string and replaces:\n",
    "    1) urls with URLHERE\n",
    "    2) lots of whitespace with one instance\n",
    "    3) mentions with MENTIONHERE\n",
    "\n",
    "    This allows us to get standardized counts of urls and mentions\n",
    "    Without caring about specific people mentioned\n",
    "    \"\"\"\n",
    "    space_pattern = '\\s+'\n",
    "    giant_url_regex = ('http[s]?://(?:[a-zA-Z]|[0-9]|[$-_@.&+]|'\n",
    "        '[!*\\(\\),]|(?:%[0-9a-fA-F][0-9a-fA-F]))+')\n",
    "    mention_regex = '@[\\w\\-]+'\n",
    "    parsed_text = re.sub(space_pattern, ' ', text_string)\n",
    "    parsed_text = re.sub(giant_url_regex, '', parsed_text)\n",
    "    parsed_text = re.sub(mention_regex, '', parsed_text)\n",
    "    return parsed_text\n",
    "\n",
    "def tokenize(tweet):\n",
    "    \"\"\"Removes punctuation & excess whitespace, sets to lowercase. Returns a list of tokens.\"\"\"\n",
    "    tokens = re.split(\"[^a-zA-Z]+\", tweet.lower().strip())\n",
    "    return tokens\n",
    "\n",
    "def load_hatespeech(directory, fname):\n",
    "    \"\"\"\n",
    "    Load tweets from the given file (train,dev,test).csv.\n",
    "    Params:\n",
    "        directory: the directory to load the documents from.\n",
    "        split: the split to load\n",
    "    Returns:\n",
    "        a list of (x,y) pairs where x is a tokenised tweet, and y is the label.\n",
    "    \"\"\"\n",
    "    data = []\n",
    "    with open(os.path.join(directory, fname), 'r') as in_f:\n",
    "        for line in in_f:\n",
    "            fields = line.split(',')\n",
    "            if len(fields) != 2:\n",
    "                print(fields)\n",
    "            label = fields[0]\n",
    "            tokens = tokenize(fields[1])\n",
    "            data.append((tokens,label))\n",
    "\n",
    "    return data\n",
    " \n",
    "train = load_hatespeech(os.path.join(_snlp_book_dir + 'data/hatespeech/'), 'train.csv') \n",
    "dev = load_hatespeech(os.path.join(_snlp_book_dir + 'data/hatespeech/'), 'dev.csv')\n",
    "test = load_hatespeech(os.path.join(_snlp_book_dir + 'data/hatespeech/'), 'dev.csv')"
   ]
  },
  {
   "cell_type": "markdown",
   "metadata": {
    "hideCode": false,
    "hidePrompt": false
   },
   "source": [
    "Due to file encoding issues this code produces one error `Could not load ...`. **Ignore this error**."
   ]
  },
  {
   "cell_type": "markdown",
   "metadata": {},
   "source": [
    "## Pre processing"
   ]
  },
  {
   "cell_type": "code",
   "execution_count": 4,
   "metadata": {},
   "outputs": [],
   "source": [
    "def filter_data(data):\n",
    "    data_copy = copy.deepcopy(data)\n",
    "    for i in range(len(data_copy)):\n",
    "        for j in range(len(data_copy[i][0])):\n",
    "            data_copy[i][0][j] = preprocess(data_copy[i][0][j])\n",
    "        if 'http' in data_copy[i][0]:\n",
    "            data_copy[i][0].remove('http')\n",
    "        else: \n",
    "            pass\n",
    "        if '' in data_copy[i][0]:\n",
    "            data_copy[i][0].remove('')\n",
    "        else:\n",
    "            pass\n",
    "    return data_copy"
   ]
  },
  {
   "cell_type": "code",
   "execution_count": 5,
   "metadata": {},
   "outputs": [],
   "source": [
    "train_filtered = filter_data(train)\n",
    "dev_filtered = filter_data(dev)"
   ]
  },
  {
   "cell_type": "markdown",
   "metadata": {},
   "source": [
    "### Removing stop words"
   ]
  },
  {
   "cell_type": "code",
   "execution_count": 6,
   "metadata": {},
   "outputs": [],
   "source": [
    "stop_words = set(['i', 'me', 'my', 'myself', 'we', 'our', 'ours', 'ourselves', 'you', 'your', 'yours',\n",
    "'yourself', 'yourselves', 'he', 'him', 'his', 'himself', 'she', 'her', 'hers',\n",
    "'herself', 'it', 'its', 'itself', 'they', 'them', 'their', 'theirs', 'themselves',\n",
    "'what', 'which', 'who', 'whom', 'this', 'that', 'these', 'those', 'am', 'is', 'are',\n",
    "'was', 'were', 'be', 'been', 'being', 'have', 'has', 'had', 'having', 'do', 'does',\n",
    "'did', 'doing', 'a', 'an', 'the', 'and', 'but', 'if', 'or', 'because', 'as', 'until',\n",
    "'while', 'of', 'at', 'by', 'for', 'with', 'about', 'against', 'between', 'into',\n",
    "'through', 'during', 'before', 'after', 'above', 'below', 'to', 'from', 'up', 'down',\n",
    "'in', 'out', 'on', 'off', 'over', 'under', 'again', 'further', 'then', 'once', 'here',\n",
    "'there', 'when', 'where', 'why', 'how', 'all', 'any', 'both', 'each', 'few', 'more',\n",
    "'most', 'other', 'some', 'such', 'no', 'nor', 'not', 'only', 'own', 'same', 'so',\n",
    "'than', 'too', 'very', 's', 't', 'can', 'will', 'just', 'don', 'should', 'now', '\\n', 'the'] + list(string.punctuation))"
   ]
  },
  {
   "cell_type": "code",
   "execution_count": 7,
   "metadata": {},
   "outputs": [],
   "source": [
    "def remove_stopwords(data):\n",
    "    data_copy = copy.deepcopy(data)\n",
    "    return [([w for w in x if w not in stop_words],y) for x,y in data_copy]"
   ]
  },
  {
   "cell_type": "code",
   "execution_count": 8,
   "metadata": {
    "scrolled": false
   },
   "outputs": [],
   "source": [
    "train_filtered = remove_stopwords(train_filtered)\n",
    "dev_filtered = remove_stopwords(dev_filtered)"
   ]
  },
  {
   "cell_type": "markdown",
   "metadata": {
    "hideCode": false,
    "hidePrompt": false
   },
   "source": [
    "## <font color='blue'>Task 1</font>: Explore the data\n",
    "\n",
    "Note that class 0 denotes Hatespeech, class 1 denotes offensive speech, and class 2 denotes neither.\n",
    "\n",
    "1.1. What is the average length of a tweet (n tokens) in the training set? \n",
    "\n",
    "1.2. What is the class balance in your training and development sets?\n",
    "\n",
    "1.3. What is the number of types and tokens in the training data? \n",
    "\n",
    "1.4. What is the vocabulary overlap between train and dev data?\n",
    "\n",
    "1.5. Visualize the frequency of unigrams and bigrams across the training data. If necessary, you may limit the number of uni/bigrams you plot to the N most frequent, e.g., if the plot takes a long time to be generated.\n",
    "\n",
    "1.6. How does this task compare to Sentiment Analysis? How are the problems similar, which task is more/less challenging, and why?"
   ]
  },
  {
   "cell_type": "code",
   "execution_count": 9,
   "metadata": {},
   "outputs": [],
   "source": [
    "df_train = pd.DataFrame(train_filtered, columns = ['document' , 'class'])\n",
    "df_dev = pd.DataFrame(dev_filtered, columns = ['document' , 'class'])"
   ]
  },
  {
   "cell_type": "code",
   "execution_count": 10,
   "metadata": {},
   "outputs": [
    {
     "name": "stdout",
     "output_type": "stream",
     "text": [
      "\u001b[1mFirst five rows of the training set:\u001b[0m\n"
     ]
    },
    {
     "data": {
      "text/html": [
       "<div>\n",
       "<table border=\"1\" class=\"dataframe\">\n",
       "  <thead>\n",
       "    <tr style=\"text-align: right;\">\n",
       "      <th></th>\n",
       "      <th>document</th>\n",
       "      <th>class</th>\n",
       "    </tr>\n",
       "  </thead>\n",
       "  <tbody>\n",
       "    <tr>\n",
       "      <th>0</th>\n",
       "      <td>[rt, chanseydarapper, make, way, right, trash,...</td>\n",
       "      <td>2</td>\n",
       "    </tr>\n",
       "    <tr>\n",
       "      <th>1</th>\n",
       "      <td>[stunningvisual, yes, hoe, always, camera, ]</td>\n",
       "      <td>1</td>\n",
       "    </tr>\n",
       "    <tr>\n",
       "      <th>2</th>\n",
       "      <td>[rt, yepitstrey, like]</td>\n",
       "      <td>1</td>\n",
       "    </tr>\n",
       "    <tr>\n",
       "      <th>3</th>\n",
       "      <td>[dudes, edwards, cait, calling, bitches, left,...</td>\n",
       "      <td>1</td>\n",
       "    </tr>\n",
       "    <tr>\n",
       "      <th>4</th>\n",
       "      <td>[souljaboy, kmichelle, ur, pussy, smell, like,...</td>\n",
       "      <td>1</td>\n",
       "    </tr>\n",
       "  </tbody>\n",
       "</table>\n",
       "</div>"
      ],
      "text/plain": [
       "                                            document class\n",
       "0  [rt, chanseydarapper, make, way, right, trash,...     2\n",
       "1       [stunningvisual, yes, hoe, always, camera, ]     1\n",
       "2                             [rt, yepitstrey, like]     1\n",
       "3  [dudes, edwards, cait, calling, bitches, left,...     1\n",
       "4  [souljaboy, kmichelle, ur, pussy, smell, like,...     1"
      ]
     },
     "execution_count": 10,
     "metadata": {},
     "output_type": "execute_result"
    }
   ],
   "source": [
    "print(color.BOLD + 'First five rows of the training set:' + color.END)\n",
    "df_train.head()"
   ]
  },
  {
   "cell_type": "code",
   "execution_count": 11,
   "metadata": {},
   "outputs": [
    {
     "name": "stdout",
     "output_type": "stream",
     "text": [
      "\u001b[1mFirst five rows of the development set:\u001b[0m\n"
     ]
    },
    {
     "data": {
      "text/html": [
       "<div>\n",
       "<table border=\"1\" class=\"dataframe\">\n",
       "  <thead>\n",
       "    <tr style=\"text-align: right;\">\n",
       "      <th></th>\n",
       "      <th>document</th>\n",
       "      <th>class</th>\n",
       "    </tr>\n",
       "  </thead>\n",
       "  <tbody>\n",
       "    <tr>\n",
       "      <th>0</th>\n",
       "      <td>[niggas, pure, pussy, see, faces]</td>\n",
       "      <td>1</td>\n",
       "    </tr>\n",
       "    <tr>\n",
       "      <th>1</th>\n",
       "      <td>[dog, lifted, leg, pee, butch, bitch]</td>\n",
       "      <td>1</td>\n",
       "    </tr>\n",
       "    <tr>\n",
       "      <th>2</th>\n",
       "      <td>[dcc, bitches, knocked, grass]</td>\n",
       "      <td>1</td>\n",
       "    </tr>\n",
       "    <tr>\n",
       "      <th>3</th>\n",
       "      <td>[chloeonvine, kidding, right, co, lfsvymmqtn, ...</td>\n",
       "      <td>1</td>\n",
       "    </tr>\n",
       "    <tr>\n",
       "      <th>4</th>\n",
       "      <td>[rt, chiefkeef, dat, bitch, katy, perry, suck,...</td>\n",
       "      <td>0</td>\n",
       "    </tr>\n",
       "  </tbody>\n",
       "</table>\n",
       "</div>"
      ],
      "text/plain": [
       "                                            document class\n",
       "0                  [niggas, pure, pussy, see, faces]     1\n",
       "1              [dog, lifted, leg, pee, butch, bitch]     1\n",
       "2                     [dcc, bitches, knocked, grass]     1\n",
       "3  [chloeonvine, kidding, right, co, lfsvymmqtn, ...     1\n",
       "4  [rt, chiefkeef, dat, bitch, katy, perry, suck,...     0"
      ]
     },
     "execution_count": 11,
     "metadata": {},
     "output_type": "execute_result"
    }
   ],
   "source": [
    "print(color.BOLD + 'First five rows of the development set:' + color.END)\n",
    "df_dev.head()"
   ]
  },
  {
   "cell_type": "markdown",
   "metadata": {},
   "source": [
    "#### <font color='blue'>Task 1.1.</font>: What is the average length of a tweet (n tokens) in the training set?"
   ]
  },
  {
   "cell_type": "code",
   "execution_count": 12,
   "metadata": {},
   "outputs": [
    {
     "name": "stdout",
     "output_type": "stream",
     "text": [
      "Average lenght of a document in the training set is: 8.21\n"
     ]
    }
   ],
   "source": [
    "df_train['n_tokens'] = df_train['document'].apply(len)\n",
    "average = df_train['n_tokens'].mean()\n",
    "print(\"Average lenght of a document in the training set is: %.2f\" %(average))"
   ]
  },
  {
   "cell_type": "code",
   "execution_count": 13,
   "metadata": {},
   "outputs": [
    {
     "name": "stdout",
     "output_type": "stream",
     "text": [
      "Average length of hate speech document: 8.3572695035461\n",
      "Average length of offensive speach document: 8.089310142661716\n",
      "Average length of neither hate speech or offensive speach document: 8.718523002421307\n"
     ]
    }
   ],
   "source": [
    "print(\"Average length of hate speech document:\", df_train[df_train['class'] == '0']['n_tokens'].mean())\n",
    "print(\"Average length of offensive speach document:\", df_train[df_train['class'] == '1']['n_tokens'].mean())\n",
    "print(\"Average length of neither hate speech or offensive speach document:\", df_train[df_train['class'] == '2']['n_tokens'].mean())"
   ]
  },
  {
   "cell_type": "markdown",
   "metadata": {},
   "source": [
    "#### <font color='blue'>Task 1.2.</font>: What is the class balance in your training and development sets?"
   ]
  },
  {
   "cell_type": "code",
   "execution_count": 14,
   "metadata": {},
   "outputs": [
    {
     "name": "stdout",
     "output_type": "stream",
     "text": [
      "\u001b[1mClass balance in the training set:\u001b[0m\n",
      "Number of hate speech documents:  1128 (5.70%)\n",
      "Number of offensive speach documents:  15351 (77.60%)\n",
      "Number of neither hate speech or offensive speach documents:  3304 (16.70%)\n",
      "\n",
      "\n",
      "\u001b[1mClass balance in the development set:\u001b[0m\n",
      "Number of hate speech documents:  153 (6.12%)\n",
      "Number of offensive speach documents:  1927 (77.08%)\n",
      "Number of neither hate speech or offensive speach documents:  420 (16.80%)\n"
     ]
    }
   ],
   "source": [
    "#Training set\n",
    "H1 = len(df_train[df_train['class'] == '0'])\n",
    "O1 = len(df_train[df_train['class'] == '1'])\n",
    "N1 = len(df_train[df_train['class'] == '2'])\n",
    "\n",
    "#Development set\n",
    "H2 = len(df_dev[df_dev['class'] == '0'])\n",
    "O2 = len(df_dev[df_dev['class'] == '1'])\n",
    "N2 = len(df_dev[df_dev['class'] == '2'])\n",
    "\n",
    "print(color.BOLD + 'Class balance in the training set:' + color.END)\n",
    "print(\"Number of hate speech documents:  {0} ({1:2.2f}%)\".format(H1, (H1/ (H1 + O1 + N1))*100))\n",
    "print(\"Number of offensive speach documents:  {0} ({1:2.2f}%)\".format(O1, (O1/ (H1 + O1 + N1))*100))\n",
    "print(\"Number of neither hate speech or offensive speach documents:  {0} ({1:2.2f}%)\".format(N1, (N1/ (H1 + O1 + N1))*100))\n",
    "\n",
    "print(\"\\n\")\n",
    "\n",
    "print(color.BOLD + 'Class balance in the development set:' + color.END)\n",
    "print(\"Number of hate speech documents:  {0} ({1:2.2f}%)\".format(H2, (H2/ (H2 + O2 + N2))*100))\n",
    "print(\"Number of offensive speach documents:  {0} ({1:2.2f}%)\".format(O2, (O2/ (H2 + O2 + N2))*100))\n",
    "print(\"Number of neither hate speech or offensive speach documents:  {0} ({1:2.2f}%)\".format(N2, (N2/ (H2 + O2 + N2))*100))"
   ]
  },
  {
   "cell_type": "markdown",
   "metadata": {},
   "source": [
    "#### <font color='blue'>Task 1.3.</font>: What is the number of types and tokens in the training data?"
   ]
  },
  {
   "cell_type": "code",
   "execution_count": 15,
   "metadata": {},
   "outputs": [
    {
     "name": "stdout",
     "output_type": "stream",
     "text": [
      "The number of types in the training data is: 27877\n",
      "The number of tokens in the training data is: 162412\n"
     ]
    }
   ],
   "source": [
    "full_list_train = [i for sublist in list(df_train['document']) for i in sublist]\n",
    "no_types = len(set(full_list_train))\n",
    "no_tokens = len(full_list_train)\n",
    "\n",
    "print(\"The number of types in the training data is: %d\" %(no_types))\n",
    "print(\"The number of tokens in the training data is: %d\" %(no_tokens))"
   ]
  },
  {
   "cell_type": "markdown",
   "metadata": {},
   "source": [
    "#### <font color='blue'>Task 1.4.</font>: What is the vocabulary overlap between train and dev data?"
   ]
  },
  {
   "cell_type": "code",
   "execution_count": 16,
   "metadata": {},
   "outputs": [
    {
     "name": "stdout",
     "output_type": "stream",
     "text": [
      "The vocabulary overlap between the training and development set is: 4488\n"
     ]
    }
   ],
   "source": [
    "full_list_dev = [i for sublist in list(df_dev['document']) for i in sublist]\n",
    "\n",
    "set_train = set(full_list_train)\n",
    "set_dev = set(full_list_dev)\n",
    "overlap = len(set_train.intersection(set_dev))\n",
    "\n",
    "print(\"The vocabulary overlap between the training and development set is: %d\" %(overlap))"
   ]
  },
  {
   "cell_type": "markdown",
   "metadata": {},
   "source": [
    "##### <font color='blue'>Task 1.5.</font>: Visualize the frequency of unigrams and bigrams across the training data. If necessary, you may limit the number of uni/bigrams you plot to the N most frequent, e.g., if the plot takes a long time to be generated."
   ]
  },
  {
   "cell_type": "code",
   "execution_count": 17,
   "metadata": {},
   "outputs": [
    {
     "data": {
      "image/png": "[encoded data removed]",
      "text/plain": [
       "<matplotlib.figure.Figure at 0x7f42060bc630>"
      ]
     },
     "metadata": {},
     "output_type": "display_data"
    }
   ],
   "source": [
    "series = pd.DataFrame(full_list_train,columns = ['token'])\n",
    "token_count  = series['token'].value_counts()\n",
    "token_count = token_count[:20,]\n",
    "\n",
    "sns.barplot(token_count.index, token_count.values, alpha=0.8, color=\"salmon\")\n",
    "plt.title('Top 20 frequency of unigrams accross the training data')\n",
    "plt.ylabel('Number of Occurrences', fontsize=12)\n",
    "plt.xlabel('Token', fontsize=12)\n",
    "plt.show()"
   ]
  },
  {
   "cell_type": "code",
   "execution_count": 18,
   "metadata": {
    "scrolled": false
   },
   "outputs": [
    {
     "data": {
      "image/png": "[encoded data removed]",
      "text/plain": [
       "<matplotlib.figure.Figure at 0x7f42043635f8>"
      ]
     },
     "metadata": {},
     "output_type": "display_data"
    }
   ],
   "source": [
    "seq = list(series['token'])\n",
    "bigrams = Counter(zip(seq, seq[1:]))\n",
    "df_bigrams = pd.DataFrame.from_dict(bigrams, orient='index').reset_index()\n",
    "df_bigrams.columns = ['bigram','freq']\n",
    "df_bigrams = df_bigrams.sort_values(by=['freq'], ascending=False)\n",
    "top20_bigram = df_bigrams.head(20)\n",
    "\n",
    "sns.barplot(top20_bigram['bigram'], top20_bigram['freq'], alpha=0.8, color=\"salmon\")\n",
    "plt.title('Top 20 frequency of bigrams accross the training data')\n",
    "plt.ylabel('Number of Occurrences', fontsize=12)\n",
    "plt.xlabel('Bigram', fontsize=12)\n",
    "plt.show()"
   ]
  },
  {
   "cell_type": "markdown",
   "metadata": {},
   "source": [
    "#### <font color='blue'>Task 1.6.</font>: How does this task compare to Sentiment Analysis? How are the problems similar, which task is more/less challenging, and why?"
   ]
  },
  {
   "cell_type": "markdown",
   "metadata": {},
   "source": [
    "import gensim"
   ]
  },
  {
   "cell_type": "markdown",
   "metadata": {
    "hideCode": false,
    "hidePrompt": false
   },
   "source": [
    "## <font color='red'>Assessment 1</font>: Assess data analysis (10 pts) \n",
    "\n",
    "We will mark the description along the following dimensions: \n",
    "\n",
    "* Substance (10pts: Well motivated answers to each of the questions. 1.1-1.4: Max 1.5 point per question. 1.5-1.6: Max 2 points per question.)"
   ]
  },
  {
   "cell_type": "markdown",
   "metadata": {
    "hideCode": false,
    "hidePrompt": false
   },
   "source": [
    "## <font color='blue'>Task 2</font>: Develop and Train the Model\n",
    "\n",
    "This is the core part of the assignment. You are to implement, train and tune a hatespeech detection model. You can use some of the existing text analysis model code developed in the lecture, or develop your own extensions. \n",
    "\n",
    "Concretely, you need to return a hatespeech detection model in the `create_hs_model` function, and code to make predictions with this model in the `make_hs_predictions` function. This function receives a dataset `data`, and it needs to return a hatespeech detection model defined over that data. You will also need to adapt a function that takes as input the hatespeech detection model and a test dataset, \n",
    "and return a label for each instance.\n",
    "The format of the test set is the same as the output of `load_hatespeech` above.\n",
    "The label should correspond to those from the training and dev sets.\n",
    "\n",
    "For the model you develop in this task, you should use and contrast different lexical features, as explained in the [lecture on text classification](https://github.com/copenlu/stat-nlp-book/blob/master/chapters/doc_classify_slides_short.ipynb) as well as associated further readings."
   ]
  },
  {
   "cell_type": "markdown",
   "metadata": {},
   "source": [
    "## Logistic Regression"
   ]
  },
  {
   "cell_type": "code",
   "execution_count": 19,
   "metadata": {},
   "outputs": [],
   "source": [
    "import numpy as np\n",
    "from collections import defaultdict\n",
    "word2id = defaultdict(lambda: len(word2id)+1)\n",
    "def create_hs_model(train_data, dev_data):\n",
    "    \n",
    "    train_data = filter_data(train_data)\n",
    "    train_data = remove_stopwords(train_data)\n",
    "    \n",
    "    vectorizer = CountVectorizer(preprocessor = lambda x: x, tokenizer = lambda x: x)\n",
    "    train_x = vectorizer.fit_transform([x for x,_ in train_data])\n",
    "\n",
    "    train_y = [int(y) for _,y in train_data]    \n",
    "    \n",
    "    lr = LogisticRegression(penalty = 'l2', C = 1.623776739188721, solver = 'sag')\n",
    "    lr.fit(train_x, train_y)\n",
    "    print(lr)\n",
    "    \n",
    "    return (lr, vectorizer)\n",
    "def make_hs_predictions(hs_model, test_data):\n",
    "    \n",
    "    lr, vectorizer = hs_model\n",
    "    \n",
    "    filter_data(test_data)\n",
    "    remove_stopwords(test_data)\n",
    "    \n",
    "    test_x = vectorizer.transform([x for x,_ in test_data])\n",
    "  \n",
    "    lr_guess = lr.predict(test_x)\n",
    "    guess = [str(y) for y in lr_guess]\n",
    "    \n",
    "    return guess"
   ]
  },
  {
   "cell_type": "markdown",
   "metadata": {
    "hideCode": false,
    "hidePrompt": false
   },
   "source": [
    "## <font color='red'>Assessment 2</font>: Apply to Test Data (20 pts)\n",
    "\n",
    "\n",
    "We assess how well your model performs on an unseen test set. \n",
    "\n",
    "* 0-5 pts: performance close to that of the unigram model presented in the lecture\n",
    "* 5-15 pts: in between\n",
    "* 15-20 pts: performance close to best result achieved on dataset\n"
   ]
  },
  {
   "cell_type": "code",
   "execution_count": 20,
   "metadata": {},
   "outputs": [
    {
     "name": "stderr",
     "output_type": "stream",
     "text": [
      "/opt/conda/lib/python3.6/site-packages/sklearn/linear_model/sag.py:286: ConvergenceWarning: The max_iter was reached which means the coef_ did not converge\n",
      "  \"the coef_ did not converge\", ConvergenceWarning)\n"
     ]
    },
    {
     "name": "stdout",
     "output_type": "stream",
     "text": [
      "LogisticRegression(C=1.623776739188721, class_weight=None, dual=False,\n",
      "          fit_intercept=True, intercept_scaling=1, max_iter=100,\n",
      "          multi_class='ovr', n_jobs=1, penalty='l2', random_state=None,\n",
      "          solver='sag', tol=0.0001, verbose=0, warm_start=False)\n"
     ]
    },
    {
     "data": {
      "text/plain": [
       "0.8716"
      ]
     },
     "execution_count": 20,
     "metadata": {},
     "output_type": "execute_result"
    }
   ],
   "source": [
    "hs_model = create_hs_model(train,dev)\n",
    "predictions = make_hs_predictions(hs_model, test)\n",
    "\n",
    "def accuracy(data, guess):\n",
    "    correct = 0\n",
    "    for (x,y),y_guess in zip(data,guess):\n",
    "        if y_guess == y:\n",
    "            correct += 1\n",
    "    return correct / len(data)\n",
    "\n",
    "accuracy(test, predictions)"
   ]
  },
  {
   "cell_type": "markdown",
   "metadata": {
    "hideCode": false,
    "hidePrompt": false
   },
   "source": [
    "The above solution is marked with **\n",
    "<!-- ASSESSMENT 3: START_POINTS -->\n",
    "0\n",
    "<!-- ASSESSMENT 3: END_POINTS --> points**. "
   ]
  },
  {
   "cell_type": "markdown",
   "metadata": {},
   "source": [
    "## <font color='blue'>Task 3</font>: Use distributional features\n",
    "\n",
    "Add distributional features to the model, for instance by encoding sentences using word embeddings, or use sentence representations on which you fit your model. An example of this will be released with Lecture 2."
   ]
  },
  {
   "cell_type": "markdown",
   "metadata": {},
   "source": [
    "Approach\n",
    "- from word to sentence to document representation\n",
    "- use a simple bag-of-words (BoW) representation on a single word level (1-grams). \n",
    "- sklearn.feature_extraction.text.CountVectorizer convert the whole corpus to a document-term matrix of size N x M, where N is a number of documents (tweets), M is a vocabulary size (number of different words in the corpus)\n",
    "- each element d_ij corresponds to the number (or frequency, or tf-idf, etc) of the word j in the document i.\n",
    "- As each document is usually far from containing all the words from vocabulary, the matrix is usually very sparse (has a lot of 0's)"
   ]
  },
  {
   "cell_type": "code",
   "execution_count": 21,
   "metadata": {},
   "outputs": [],
   "source": [
    "def to_dict(x):\n",
    "    result = defaultdict(float)\n",
    "    for w in x:\n",
    "        result[w] += 1.0\n",
    "    return result"
   ]
  },
  {
   "cell_type": "code",
   "execution_count": 22,
   "metadata": {},
   "outputs": [],
   "source": [
    "import numpy as np\n",
    "from collections import defaultdict\n",
    "word2id = defaultdict(lambda: len(word2id)+1)\n",
    "def create_distributional_hs_model(train_data, dev_data):\n",
    "    \n",
    "    train_data = filter_data(train_data)\n",
    "    train_data = remove_stopwords(train_data)\n",
    "    \n",
    "    vectorizer = DictVectorizer()\n",
    "    to_tfidf = TfidfTransformer()\n",
    "\n",
    "    train_x = vectorizer.fit_transform([to_dict(x) for x,_ in train_data])\n",
    "    train_x = to_tfidf.fit_transform(train_x)\n",
    "    train_y = [int(y) for _,y in train_data] \n",
    "    \n",
    "    lr = LogisticRegression(penalty = 'l2', C = 1.623776739188721, solver = 'sag')\n",
    "    lr.fit(train_x, train_y)\n",
    "    print(lr)\n",
    "    \n",
    "    return (lr, vectorizer)\n",
    "def make_distributional_hs_predictions(hs_model, test_data):\n",
    "    \n",
    "    lr, vectorizer = hs_model\n",
    "    \n",
    "    filter_data(test_data)\n",
    "    remove_stopwords(test_data)\n",
    "    \n",
    "    test_x = vectorizer.transform([to_dict(x) for x,_ in test_data])\n",
    "    test_y = [int(y) for _,y in test_data]\n",
    "  \n",
    "    lr_guess = lr.predict(test_x)\n",
    "    guess = [str(y) for y in lr_guess]\n",
    "    \n",
    "    return guess "
   ]
  },
  {
   "cell_type": "markdown",
   "metadata": {},
   "source": [
    "## <font color='red'>Assessment 3</font>: Apply to Test Data (20 pts) \n",
    "\n",
    "We assess how well your model performs on an unseen test set.\n",
    "\n",
    "* 0-5 pts: performance close to that of the unigram model presented in the lecture\n",
    "* 5-15 pts: in between\n",
    "* 15-20 pts: performance close to best result achieved on dataset\n"
   ]
  },
  {
   "cell_type": "code",
   "execution_count": 23,
   "metadata": {},
   "outputs": [
    {
     "name": "stderr",
     "output_type": "stream",
     "text": [
      "/opt/conda/lib/python3.6/site-packages/sklearn/feature_extraction/text.py:1059: FutureWarning: Conversion of the second argument of issubdtype from `float` to `np.floating` is deprecated. In future, it will be treated as `np.float64 == np.dtype(float).type`.\n",
      "  if hasattr(X, 'dtype') and np.issubdtype(X.dtype, np.float):\n"
     ]
    },
    {
     "name": "stdout",
     "output_type": "stream",
     "text": [
      "LogisticRegression(C=1.623776739188721, class_weight=None, dual=False,\n",
      "          fit_intercept=True, intercept_scaling=1, max_iter=100,\n",
      "          multi_class='ovr', n_jobs=1, penalty='l2', random_state=None,\n",
      "          solver='sag', tol=0.0001, verbose=0, warm_start=False)\n"
     ]
    },
    {
     "data": {
      "text/plain": [
       "0.8544"
      ]
     },
     "execution_count": 23,
     "metadata": {},
     "output_type": "execute_result"
    }
   ],
   "source": [
    "hs_model = create_distributional_hs_model(train, dev)\n",
    "predictions = make_distributional_hs_predictions(hs_model, test)\n",
    "\n",
    "accuracy(test, predictions)"
   ]
  },
  {
   "cell_type": "markdown",
   "metadata": {
    "hideCode": false,
    "hidePrompt": false
   },
   "source": [
    "## <font color='blue'>Task 4</font>: Model Analysis\n",
    "\n",
    "Visualize the errors of your two models on the development set with confusion matrices.\n",
    "\n",
    "What types of error does each of your models make?\n",
    "\n"
   ]
  },
  {
   "cell_type": "code",
   "execution_count": 24,
   "metadata": {},
   "outputs": [],
   "source": [
    "with open(\"t2_pred.txt\", 'r') as f:\n",
    "    t2_pred = [line.rstrip('\\n') for line in f]\n",
    "\n",
    "with open(\"t3_pred.txt\", 'r') as f:\n",
    "    t3_pred = [line.rstrip('\\n') for line in f]"
   ]
  },
  {
   "cell_type": "code",
   "execution_count": 25,
   "metadata": {},
   "outputs": [],
   "source": [
    "labels = np.array(['hate speech', 'offensive language','neither'])\n",
    "test_y = [int(y) for _,y in dev_filtered]\n",
    "t2_pred = [int(y) for y in t2_pred]\n",
    "t3_pred = [int(y) for y in t3_pred]"
   ]
  },
  {
   "cell_type": "code",
   "execution_count": 26,
   "metadata": {},
   "outputs": [],
   "source": [
    "def plot_confusion_matrix(y_true, y_pred, classes,title=None,cmap=plt.cm.Blues):\n",
    "\n",
    "    cm = confusion_matrix(y_true, y_pred)\n",
    "    classes = classes[unique_labels(y_true, y_pred)]\n",
    "    \n",
    "    fig, ax = plt.subplots()\n",
    "    im = ax.imshow(cm, interpolation='nearest', cmap=cmap)\n",
    "    ax.figure.colorbar(im, ax=ax)\n",
    "    ax.set(xticks=np.arange(cm.shape[1]),\n",
    "           yticks=np.arange(cm.shape[0]),\n",
    "           xticklabels=classes, yticklabels=classes,\n",
    "           title=title,\n",
    "           ylabel='True label',\n",
    "           xlabel='Predicted label')\n",
    "\n",
    "    plt.setp(ax.get_xticklabels(), rotation=45, ha=\"right\",\n",
    "             rotation_mode=\"anchor\")\n",
    "\n",
    "    fmt = 'd'\n",
    "    thresh = cm.max() / 2.\n",
    "    for i in range(cm.shape[0]):\n",
    "        for j in range(cm.shape[1]):\n",
    "            ax.text(j, i, \"{:,}\".format(cm[i, j]),\n",
    "                    horizontalalignment=\"center\",\n",
    "                    color=\"white\" if cm[i, j] > thresh else \"black\")\n",
    "    fig.tight_layout()\n",
    "    return ax"
   ]
  },
  {
   "cell_type": "code",
   "execution_count": 27,
   "metadata": {},
   "outputs": [
    {
     "name": "stdout",
     "output_type": "stream",
     "text": [
      "\u001b[1mPredictions from task 2\u001b[0m\n",
      "\n",
      "\n",
      "                    precision    recall  f1-score   support\n",
      "\n",
      "       hate speech       0.47      0.23      0.31       153\n",
      "offensive language       0.89      0.96      0.93      1927\n",
      "           neither       0.82      0.70      0.76       420\n",
      "\n",
      "       avg / total       0.86      0.87      0.86      2500\n",
      "\n"
     ]
    },
    {
     "data": {
      "image/png": "[encoded data removed]",
      "text/plain": [
       "<matplotlib.figure.Figure at 0x7f42040cf1d0>"
      ]
     },
     "metadata": {},
     "output_type": "display_data"
    }
   ],
   "source": [
    "print(color.BOLD + 'Predictions from task 2' + color.END)\n",
    "print(\"\\n\")\n",
    "print(classification_report(test_y, t2_pred, target_names=labels))\n",
    "plot_confusion_matrix(test_y, t2_pred, labels, title =\"Confusion matrix, task 2\")\n",
    "plt.show()"
   ]
  },
  {
   "cell_type": "code",
   "execution_count": 28,
   "metadata": {},
   "outputs": [
    {
     "name": "stdout",
     "output_type": "stream",
     "text": [
      "\u001b[1mPredictions from task 3\u001b[0m\n",
      "\n",
      "\n",
      "                    precision    recall  f1-score   support\n",
      "\n",
      "       hate speech       0.36      0.41      0.39       153\n",
      "offensive language       0.90      0.93      0.91      1927\n",
      "           neither       0.81      0.66      0.73       420\n",
      "\n",
      "       avg / total       0.85      0.85      0.85      2500\n",
      "\n"
     ]
    },
    {
     "data": {
      "image/png": "[encoded data removed]",
      "text/plain": [
       "<matplotlib.figure.Figure at 0x7f42040fdf60>"
      ]
     },
     "metadata": {},
     "output_type": "display_data"
    }
   ],
   "source": [
    "print(color.BOLD + 'Predictions from task 3' + color.END)\n",
    "print(\"\\n\")\n",
    "print(classification_report(test_y, t3_pred, target_names=labels))\n",
    "plot_confusion_matrix(test_y, t3_pred, labels, title =\"Confusion matrix, task 3\")\n",
    "plt.show()"
   ]
  },
  {
   "cell_type": "markdown",
   "metadata": {},
   "source": [
    "As we know from task 1.2, our classes are very imbalanced. Therefor it is very important to inspect the errors of the two models.\n",
    "\n",
    "First of all, the two models tend to produce the same type of errors. In general, both models finds it difficult to classify *hate speech*. But when it comes to classifying *offensive speech* both models are doing a remarkable job.  In fact we see **the model from task two** and **the model from task three** respectively classifying 89% and 90% of the *offensive speech* documents correct. In addition, **the model from task two** is able to predict 96% of the *offensive speech* documents correctly.\n",
    "\n",
    "However, I find one main differences between the errors produced. If we look at how good the models are at predicting incidents of *hate speech*. We see that **the model from task two** is slightly better at classifying *hate speech*, as it 46% of documents classified as *hate speech* are correct. Though the model only predicted 23% of the *hate speech* documents correctly. On the contrary, we see **the model from task three** predicting 41% of the *hate speech* documents correctly. This might be attributable to the fact, that the model is more prone to predict a document as an incidence of *hate speech*, hence it predicts over twice as many documents to be *hate speech*. Which you could discuss to be preferable, since you might prioritize to flag as many *hate speech* incidents as possible.\n"
   ]
  },
  {
   "cell_type": "markdown",
   "metadata": {
    "hideCode": false,
    "hidePrompt": false
   },
   "source": [
    "## <font color='red'>Assessment 4</font>: Assess Error Analysis (20 pts) \n",
    "\n",
    "We will mark the description along the following dimensions: \n",
    "\n",
    "* Clarity (5pts: very clear, 0pts: we can't figure out what you did)\n",
    "* Substance (15pts: good explanation of model errors and differences between the two performances.)"
   ]
  },
  {
   "cell_type": "markdown",
   "metadata": {
    "hideCode": false,
    "hidePrompt": false
   },
   "source": [
    "## <font color='blue'>Task 5</font>: Describe your Approaches\n",
    "\n",
    "Enter a maximum 500 words description of the motivation behind your models (refer back to Tasks 2 and 3), their architecture, and the way you trained and tuned them. In particular, focus on the strengths and weaknesses each type of model has."
   ]
  },
  {
   "cell_type": "markdown",
   "metadata": {},
   "source": [
    "*In order to classify documents as hate speech, offensive speech or neither, I have played around with both different models and sets of feature representations.*\n",
    "\n",
    "#### Task 2\n",
    "The first step was to perform basic pre-processing, including removing punctuations, whitespaces, stop words etc. While performing different pre-processing steps, I started testing different models in order to see how they each would respond to the diverse input data. The results are listed in table 1. "
   ]
  },
  {
   "cell_type": "markdown",
   "metadata": {},
   "source": [
    "                                    Table 1\n",
    "***\n",
    "| Model | Train Accc. | Dev Acc. | Filtering | Stop words | Stemming |\n",
    "|-------|-------------|----------|-----------|------------|----------|\n",
    "| LR    |    91,21 %  |  86,83 % |    x      |     x      |          |\n",
    "| LR    |    90,6  %  |  85,41 % |    x      |            |     x    |\n",
    "| LR    |    90,89 %  |  84,07 % |    x      |     x      |     x    |\n",
    "| SVC   |    94,92 %  |  86,6  % |    x      |     x      |          |\n",
    "| SVC   |    94,58 %  |  86,12 % |    x      |            |     x    |\n",
    "| SVC   |    94,2  %  |  85,9  % |    x      |     x      |     x    |\n",
    "| NB    |    83,78 %  |  78,56 % |    x      |     x      |          |\n",
    "| NB    |    82,7  %  |  77,38 % |    x      |            |     x    |\n",
    "| NB    |    82,57 %  |  76,94 % |    x      |     x      |     x    |\n",
    "| RF    |    88,35 %  |  85,38 % |    x      |     x      |          |\n",
    "| RF    |    88,54 %  |  85,86 % |    x      |            |     x    |\n",
    "| RF    |    87,86 %  |  84,62 % |    x      |     x      |     x    |"
   ]
  },
  {
   "cell_type": "markdown",
   "metadata": {},
   "source": [
    "After experimenting with several different models; `Naive Bayes`, `Random Forrest`, `Support Vector Machine` and `Logistic Regression`. I choosed to follow Occam's razor principle, since our input data don't contain any categorical values and l1 or l2 regularization can be used to avoid overfitting. Continuing with our best model `Logistic Regression`, I went on to transform the pre-processed text into numerical feature vectors and testing three different sets of feature representations:\n",
    "- Length of document only\n",
    "- Unigram term frequncies (count)\n",
    "- Bigram term frequencies (count)\n",
    "\n",
    "I started out in the simplest way, by counting the number of tokens for each document. But this approach didn't produce a good accuracy. As we saw in task 1.1, the average number of tokens in a document for each class don't differs much. Instead I tested a bag-of-word model approach, by counting the term frequencies of both unigrams and bigrams. Together with testing different sets of feature representations, I tuned the hyperparameters using `sklearn.grid_search.GridSearchCV` on the training set based on cross-validation. Based on the development accuracy I ended up building a `Logistic Regression` using *l2* regularization with a regularization strength at *1,6* and a *stochastic average gradient* algorithm to minimize the loss function."
   ]
  },
  {
   "cell_type": "markdown",
   "metadata": {},
   "source": [
    "                                  Table 2\n",
    "***\n",
    "| Feat. Repr.  | Train Accc. | Dev Acc. |   C   | Regularization | Learning rate |\n",
    "|--------------|-------------|----------|-------|----------------|---------------|\n",
    "| BOW Unigram  |    91,86 %  |  87,16 % |  1,6  |       L2       |      sag      |\n",
    "| BOW Bigram   |    91,89 %  |  87,08 % |  1,6  |       L2       |      sag      |\n",
    "| No of tokens |    81,78 %  |  75,23 % |  0,6  |       L2       |      sag      |\n"
   ]
  },
  {
   "cell_type": "markdown",
   "metadata": {},
   "source": [
    "#### Task 3\n",
    "In task 3 I instead tested the `Logistic Regression` model on three different distributional feature representations:\n",
    "- TF-IDF\n",
    "- BERT using both CLS & SEP token\n",
    "- BERT using only CLS token\n",
    "\n",
    "Even though I now consider the rareness of a term with TF-IDF, the model doesn't produce a better accuracy. Neither am I able to produce a better accuracy using the vector representation found by the BERT model. This is perhaps due to the different use of language in the training input. As we saw in task 1.5 our training data holds a larger amount of slang words and text abbreviations. Based on the development accuracy I again end up building a `Logistic Regression` using *l2* regularization with a regularization strength at *1,6* and a *stochastic average gradient* algorithm to minimize the loss function."
   ]
  },
  {
   "cell_type": "markdown",
   "metadata": {},
   "source": [
    "                                  Table 3\n",
    "***\n",
    "| Feat. Repr.    | Train Accc. | Dev Acc. |   C   | Regularization | Learning rate |\n",
    "|----------------|-------------|----------|-------|----------------|---------------|\n",
    "| TF-IDF         |    91,62 %  |  85,45 % |  1,6  |       L2       |      sag      |\n",
    "| BERT (CLS,SEP) |    85,33 %  |  81,08 % |  0,6  |       L2       |      sag      |\n",
    "| BERT (CLS)     |    86,15 %  |  81,04 % |  0,6  |       L2       |      sag      |"
   ]
  },
  {
   "cell_type": "markdown",
   "metadata": {},
   "source": [
    "Overall, `Logistic Regression` is easy to implement and fast to train and don't do well with categorical variables, which is not set to be a problem in this project. It is also very good for features that are expected to be linear. In addition, it could propose a disadvantage to this classication problem, as there might be patterns that non-linear models could catch. Another disadvantage to the logistic regression is that does not perform well on too many features. Though, this observation haven't been made in this project."
   ]
  },
  {
   "cell_type": "markdown",
   "metadata": {
    "hideCode": false,
    "hidePrompt": false
   },
   "source": [
    "## <font color='red'>Assessment 5</font>: Assess Description (30 pts) \n",
    "\n",
    "We will mark the description along the following dimensions: \n",
    "\n",
    "* Clarity (10pts: very clear, 0pts: we can't figure out what you did)\n",
    "* Creativity (10pts: we could not have come up with this, 0pts: Use the unigram model from the lecture notes)\n",
    "* Substance (10pts: implemented well motivated hatespeech detection model, 0pts: Use the unigram model from the lecture notes)"
   ]
  },
  {
   "cell_type": "markdown",
   "metadata": {
    "hideCode": false,
    "hidePrompt": false
   },
   "source": [
    "The above solution is marked with **\n",
    "<!-- ASSESSMENT 1: START_POINTS -->\n",
    "0\n",
    "<!-- ASSESSMENT 1: END_POINTS --> points**. "
   ]
  }
 ],
 "metadata": {
  "hide_code_all_hidden": false,
  "kernelspec": {
   "display_name": "Python 3",
   "language": "python",
   "name": "python3"
  },
  "language_info": {
   "codemirror_mode": {
    "name": "ipython",
    "version": 3
   },
   "file_extension": ".py",
   "mimetype": "text/x-python",
   "name": "python",
   "nbconvert_exporter": "python",
   "pygments_lexer": "ipython3",
   "version": "3.7.4"
  }
 },
 "nbformat": 4,
 "nbformat_minor": 1
}
